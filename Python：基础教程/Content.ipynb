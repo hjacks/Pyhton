{
 "cells": [
  {
   "cell_type": "markdown",
   "metadata": {},
   "source": [
    "# 字符串"
   ]
  },
  {
   "cell_type": "markdown",
   "metadata": {},
   "source": [
    "## 1字符串格式化"
   ]
  },
  {
   "cell_type": "code",
   "execution_count": 3,
   "metadata": {},
   "outputs": [
    {
     "name": "stdout",
     "output_type": "stream",
     "text": [
      "Hello,World,Hot enough for ya?\n",
      "Price for eggs:$42\n",
      "Haxadecimal price of eggs:$2a\n"
     ]
    }
   ],
   "source": [
    "formats='Hello,%s,%s enough for ya?'\n",
    "values=('World','Hot')\n",
    "print(formats % values)\n",
    "print('Price for eggs:$%d' %42)\n",
    "print('Haxadecimal price of eggs:$%x'%42)"
   ]
  },
  {
   "cell_type": "code",
   "execution_count": 4,
   "metadata": {},
   "outputs": [
    {
     "name": "stdout",
     "output_type": "stream",
     "text": [
      "Pi:3.141593\n",
      "  3.141593\n",
      "      3.14\n",
      "3.14\n",
      "hello\n",
      "hell\n",
      "0000003.14\n",
      "3.14      \n",
      "   10\n",
      "  -10\n",
      "  +10\n",
      "  -10\n"
     ]
    }
   ],
   "source": [
    "from math import pi\n",
    "print('Pi:%f'%pi)\n",
    "print('%10f'%pi)\n",
    "print('%10.2f'%pi)\n",
    "print('%.2f'%pi)\n",
    "print('%.5s'%'hello world!')\n",
    "print('%.*s'%(4,'hello world'))\n",
    "print('%010.2f'%pi)\n",
    "print('%-10.2f'%pi)\n",
    "print('% 5d'%10)\n",
    "print('% 5d'%-10)\n",
    "print('%+5d'%10)\n",
    "print('%+5d'%-10)"
   ]
  },
  {
   "cell_type": "markdown",
   "metadata": {},
   "source": [
    "## 2字符串方法"
   ]
  },
  {
   "cell_type": "markdown",
   "metadata": {},
   "source": [
    "**1.find**\n",
    "返回子串所在位置的最左端索引，没有找到返回-1"
   ]
  },
  {
   "cell_type": "code",
   "execution_count": 5,
   "metadata": {},
   "outputs": [
    {
     "name": "stdout",
     "output_type": "stream",
     "text": [
      "0\n",
      "16\n"
     ]
    }
   ],
   "source": [
    "title='hello world!I\"m fine'\n",
    "print(title.find('hello'))\n",
    "print(title.find('fine'))"
   ]
  },
  {
   "cell_type": "markdown",
   "metadata": {},
   "source": [
    "该方法还接受参数表示起始点和结束点"
   ]
  },
  {
   "cell_type": "code",
   "execution_count": 6,
   "metadata": {},
   "outputs": [
    {
     "name": "stdout",
     "output_type": "stream",
     "text": [
      "7\n"
     ]
    }
   ],
   "source": [
    "print(title.find('o',5,9))"
   ]
  },
  {
   "cell_type": "markdown",
   "metadata": {},
   "source": [
    "**2.join**"
   ]
  },
  {
   "cell_type": "code",
   "execution_count": 7,
   "metadata": {},
   "outputs": [
    {
     "name": "stdout",
     "output_type": "stream",
     "text": [
      "1+2+3\n"
     ]
    }
   ],
   "source": [
    "seq=['1','2','3']\n",
    "print('+'.join(seq))"
   ]
  },
  {
   "cell_type": "markdown",
   "metadata": {},
   "source": [
    "**3.lower**"
   ]
  },
  {
   "cell_type": "code",
   "execution_count": 8,
   "metadata": {},
   "outputs": [
    {
     "name": "stdout",
     "output_type": "stream",
     "text": [
      "heffh\n"
     ]
    }
   ],
   "source": [
    "print('HEFFH'.lower())"
   ]
  },
  {
   "cell_type": "markdown",
   "metadata": {},
   "source": [
    "**4.replace**\n",
    "替换所有匹配项"
   ]
  },
  {
   "cell_type": "code",
   "execution_count": 9,
   "metadata": {},
   "outputs": [
    {
     "name": "stdout",
     "output_type": "stream",
     "text": [
      "1bcs11c\n"
     ]
    }
   ],
   "source": [
    "print('abcsaac'.replace('a','1'))"
   ]
  },
  {
   "cell_type": "markdown",
   "metadata": {},
   "source": [
    "**5.split**"
   ]
  },
  {
   "cell_type": "code",
   "execution_count": 11,
   "metadata": {},
   "outputs": [
    {
     "name": "stdout",
     "output_type": "stream",
     "text": [
      "['1', '2', '3', '4', '5', '6']\n"
     ]
    }
   ],
   "source": [
    "print('1+2+3+4+5+6'.split('+'))"
   ]
  },
  {
   "cell_type": "markdown",
   "metadata": {},
   "source": [
    "**6.strip**"
   ]
  },
  {
   "cell_type": "code",
   "execution_count": 12,
   "metadata": {},
   "outputs": [
    {
     "name": "stdout",
     "output_type": "stream",
     "text": [
      "sdfa\n"
     ]
    }
   ],
   "source": [
    "print('    sdfa    '.strip())"
   ]
  },
  {
   "cell_type": "markdown",
   "metadata": {},
   "source": [
    "**7.translate**\n",
    "只处理单个字符"
   ]
  },
  {
   "cell_type": "markdown",
   "metadata": {},
   "source": [
    "# 字典"
   ]
  },
  {
   "cell_type": "markdown",
   "metadata": {},
   "source": [
    "**1.创建字典和使用字典**"
   ]
  },
  {
   "cell_type": "code",
   "execution_count": 13,
   "metadata": {},
   "outputs": [
    {
     "name": "stdout",
     "output_type": "stream",
     "text": [
      "{'name': 'ccc', 'age': 24}\n",
      "{'a': 1, 'b': 2, 'c': 3}\n",
      "{'name': 'xu', 'age': 42}\n"
     ]
    }
   ],
   "source": [
    "items=[('name','ccc'),('age',24)]\n",
    "d=dict(items)\n",
    "print(d)\n",
    "phonebook={'a':1,'b':2,'c':3}\n",
    "print(phonebook)\n",
    "d=dict(name='xu',age=42)\n",
    "print(d)"
   ]
  },
  {
   "cell_type": "markdown",
   "metadata": {},
   "source": [
    "**2.字典方法**"
   ]
  },
  {
   "cell_type": "code",
   "execution_count": 14,
   "metadata": {},
   "outputs": [
    {
     "name": "stdout",
     "output_type": "stream",
     "text": [
      "{'name': 'cuaoo', 'age': 42}\n",
      "None\n",
      "{}\n",
      "{'value': 1}\n",
      "{'value': 1}\n",
      "{'value': 1}\n",
      "{}\n"
     ]
    }
   ],
   "source": [
    "d={}\n",
    "d['name']='cuaoo'\n",
    "d['age']=42\n",
    "print(d)\n",
    "a=d.clear()\n",
    "print(a)\n",
    "print(d)\n",
    "#考虑下面两种方法\n",
    "x={}\n",
    "y=x\n",
    "x['value']=1\n",
    "print(y)\n",
    "x={}\n",
    "print(y)\n",
    "\n",
    "a={}\n",
    "b=a\n",
    "a['value']=1\n",
    "print(b)\n",
    "a.clear()\n",
    "print(b)"
   ]
  },
  {
   "cell_type": "markdown",
   "metadata": {},
   "source": [
    "**copy**"
   ]
  },
  {
   "cell_type": "code",
   "execution_count": 15,
   "metadata": {},
   "outputs": [
    {
     "name": "stdout",
     "output_type": "stream",
     "text": [
      "{'username': 'admin', 'machine': ['bza', 'zoo']}\n",
      "{'username': 'lli', 'machine': ['bza', 'zoo']}\n"
     ]
    }
   ],
   "source": [
    "x={'username':'admin','machine':['foo','bza','zoo']}\n",
    "y=x.copy()\n",
    "y['username']='lli'\n",
    "y['machine'].remove('foo')\n",
    "print(x)\n",
    "print(y)"
   ]
  },
  {
   "cell_type": "markdown",
   "metadata": {},
   "source": [
    "副本中替换某值时，原本不受影响，但是修改了某个值（原地修改，不是替换），原本会受到影响，避免这个问题可以使用deepcopy"
   ]
  },
  {
   "cell_type": "code",
   "execution_count": 16,
   "metadata": {},
   "outputs": [
    {
     "name": "stdout",
     "output_type": "stream",
     "text": [
      "{'names': ['Tom', 'Jerry', 'Mary']}\n",
      "{'names': ['Tom', 'Jerry']}\n"
     ]
    }
   ],
   "source": [
    "from copy import deepcopy\n",
    "d={}\n",
    "d['names']=['Tom','Jerry']\n",
    "c=d.copy()\n",
    "dc=deepcopy(d)\n",
    "d['names'].append('Mary')\n",
    "print(c)\n",
    "print(dc)"
   ]
  },
  {
   "cell_type": "markdown",
   "metadata": {},
   "source": [
    "**fromkeys**\n",
    "使用给定的键建立字典，键对应的值默认空值"
   ]
  },
  {
   "cell_type": "code",
   "execution_count": 17,
   "metadata": {},
   "outputs": [
    {
     "name": "stdout",
     "output_type": "stream",
     "text": [
      "{'name': None, 'age': None}\n",
      "{'name': 'NA', 'age': 'NA'}\n"
     ]
    }
   ],
   "source": [
    "a={}.fromkeys(['name','age'])\n",
    "print(a)\n",
    "#也可自己提供默认值\n",
    "a=dict.fromkeys(['name','age'],'NA')\n",
    "print(a)"
   ]
  },
  {
   "cell_type": "markdown",
   "metadata": {},
   "source": [
    "**get**\n",
    "当查询字典不存在的键时会报错，使用get就不会,还可自己添加默认值"
   ]
  },
  {
   "cell_type": "code",
   "execution_count": 18,
   "metadata": {},
   "outputs": [
    {
     "name": "stdout",
     "output_type": "stream",
     "text": [
      "None\n",
      "NA\n"
     ]
    }
   ],
   "source": [
    "d={}\n",
    "print(d.get('name'))\n",
    "print(d.get('name','NA'))"
   ]
  },
  {
   "cell_type": "markdown",
   "metadata": {},
   "source": [
    "**items**\n",
    "将所有字典项以迭代器形式返回（键-值）"
   ]
  },
  {
   "cell_type": "code",
   "execution_count": 20,
   "metadata": {},
   "outputs": [
    {
     "name": "stdout",
     "output_type": "stream",
     "text": [
      "dict_items([('name', 'TOM'), ('age', 42), ('sex', 'male')])\n",
      "[('name', 'TOM'), ('age', 42), ('sex', 'male')]\n"
     ]
    }
   ],
   "source": [
    "d={'name':'TOM','age':42,'sex':'male'}\n",
    "print(d.items())\n",
    "print(list(d.items()))"
   ]
  },
  {
   "cell_type": "markdown",
   "metadata": {},
   "source": [
    "**keys和iterkeys**"
   ]
  },
  {
   "cell_type": "markdown",
   "metadata": {},
   "source": [
    "**pop**\n",
    "获得给定键的值，并在原字典中删除"
   ]
  },
  {
   "cell_type": "code",
   "execution_count": 21,
   "metadata": {},
   "outputs": [
    {
     "name": "stdout",
     "output_type": "stream",
     "text": [
      "{'b': 2, 'c': 3}\n",
      "1\n"
     ]
    }
   ],
   "source": [
    "x={'a':1,'b':2,'c':3}\n",
    "y=x.pop('a')\n",
    "print(x)\n",
    "print(y)"
   ]
  },
  {
   "cell_type": "markdown",
   "metadata": {},
   "source": [
    "**popitem**\n",
    "随机弹出字典的项"
   ]
  },
  {
   "cell_type": "markdown",
   "metadata": {},
   "source": [
    "**setdefault**\n",
    "键不存在时，返回默认值，并更新字典，键存在时，返回对应的值"
   ]
  },
  {
   "cell_type": "markdown",
   "metadata": {},
   "source": [
    "**update**\n",
    "=用一个字典项更新另一个字典"
   ]
  },
  {
   "cell_type": "code",
   "execution_count": 22,
   "metadata": {},
   "outputs": [
    {
     "name": "stdout",
     "output_type": "stream",
     "text": [
      "{'a': 123, 'b': 2}\n"
     ]
    }
   ],
   "source": [
    "x={'a':1,'b':2}\n",
    "y={'a':123}\n",
    "x.update(y)\n",
    "print(x)"
   ]
  },
  {
   "cell_type": "markdown",
   "metadata": {},
   "source": [
    "**values和itervalues**"
   ]
  },
  {
   "cell_type": "markdown",
   "metadata": {},
   "source": [
    "# 列表"
   ]
  },
  {
   "cell_type": "markdown",
   "metadata": {},
   "source": [
    "**1 list函数**"
   ]
  },
  {
   "cell_type": "code",
   "execution_count": 23,
   "metadata": {},
   "outputs": [
    {
     "name": "stdout",
     "output_type": "stream",
     "text": [
      "['h', 'e', 'l', 'l', 'o']\n"
     ]
    }
   ],
   "source": [
    "a=list('hello')\n",
    "print(a)"
   ]
  },
  {
   "cell_type": "markdown",
   "metadata": {},
   "source": [
    "**2 基本操作**"
   ]
  },
  {
   "cell_type": "code",
   "execution_count": 24,
   "metadata": {},
   "outputs": [
    {
     "name": "stdout",
     "output_type": "stream",
     "text": [
      "['h', 'e', 'l', 'o']\n"
     ]
    }
   ],
   "source": [
    "del a[2]\n",
    "print(a)"
   ]
  },
  {
   "cell_type": "code",
   "execution_count": 25,
   "metadata": {},
   "outputs": [
    {
     "name": "stdout",
     "output_type": "stream",
     "text": [
      "[1, 4, 3]\n"
     ]
    }
   ],
   "source": [
    "x=[1,2,3]\n",
    "x[1]=4\n",
    "print(x)"
   ]
  },
  {
   "cell_type": "code",
   "execution_count": 27,
   "metadata": {},
   "outputs": [
    {
     "name": "stdout",
     "output_type": "stream",
     "text": [
      "['P', 'e', 'a', 'r']\n",
      "[1, 2, 3, 4, 5]\n"
     ]
    }
   ],
   "source": [
    "#分片赋值\n",
    "b=list('Perl')\n",
    "b[2:]='ar'\n",
    "print(b)\n",
    "numbers=[1,5]\n",
    "numbers[1:1]=[2,3,4]\n",
    "print(numbers)"
   ]
  },
  {
   "cell_type": "markdown",
   "metadata": {},
   "source": [
    "**3列表方法**"
   ]
  },
  {
   "cell_type": "code",
   "execution_count": 28,
   "metadata": {},
   "outputs": [
    {
     "name": "stdout",
     "output_type": "stream",
     "text": [
      "[1, 2, 3, 4]\n"
     ]
    }
   ],
   "source": [
    "#1.append\n",
    "c=[1,2,3]\n",
    "c.append(4)\n",
    "print(c)"
   ]
  },
  {
   "cell_type": "code",
   "execution_count": 29,
   "metadata": {},
   "outputs": [
    {
     "name": "stdout",
     "output_type": "stream",
     "text": [
      "4\n"
     ]
    }
   ],
   "source": [
    "#2.count\n",
    "lis=[1,2,2,3,2,4,5,6,7,2]\n",
    "print(lis.count(2))"
   ]
  },
  {
   "cell_type": "code",
   "execution_count": 30,
   "metadata": {},
   "outputs": [
    {
     "name": "stdout",
     "output_type": "stream",
     "text": [
      "[1, 2, 3, 4, 5, 6]\n",
      "[1, 2, 3, 4, 4, 5, 6]\n",
      "[1, 2, 3, 4]\n"
     ]
    }
   ],
   "source": [
    "#3.extend\n",
    "a=[1,2,3]\n",
    "b=[4,5,6]\n",
    "a.extend(b)\n",
    "print(a)\n",
    "print(c+b)\n",
    "print(c)"
   ]
  },
  {
   "cell_type": "code",
   "execution_count": 31,
   "metadata": {},
   "outputs": [
    {
     "name": "stdout",
     "output_type": "stream",
     "text": [
      "4\n"
     ]
    }
   ],
   "source": [
    "#4.index\n",
    "a=[1,2,3,4,5,6,7,8]\n",
    "print(a.index(5))"
   ]
  },
  {
   "cell_type": "code",
   "execution_count": 32,
   "metadata": {},
   "outputs": [
    {
     "name": "stdout",
     "output_type": "stream",
     "text": [
      "[1, 2, 3, 'four', 4, 5, 6, 7, 8]\n",
      "[1, 2, 3, 'four', 'five', 4, 5, 6, 7, 8]\n"
     ]
    }
   ],
   "source": [
    "#5.insert\n",
    "a.insert(3,'four')\n",
    "print(a)\n",
    "a[4:4]=['five']\n",
    "print(a)"
   ]
  },
  {
   "cell_type": "code",
   "execution_count": 33,
   "metadata": {},
   "outputs": [
    {
     "name": "stdout",
     "output_type": "stream",
     "text": [
      "3\n",
      "[1, 2]\n"
     ]
    }
   ],
   "source": [
    "#6.pop\n",
    "a=[1,2,3]\n",
    "b=a.pop()\n",
    "print(b)\n",
    "print(a)"
   ]
  },
  {
   "cell_type": "code",
   "execution_count": 34,
   "metadata": {},
   "outputs": [
    {
     "name": "stdout",
     "output_type": "stream",
     "text": [
      "['to', 'or', 'not', 'to', 'be']\n"
     ]
    }
   ],
   "source": [
    "#7.remve(第一个匹配）\n",
    "x=['to','be','or','not','to','be']\n",
    "x.remove('be')\n",
    "print(x)"
   ]
  },
  {
   "cell_type": "code",
   "execution_count": 35,
   "metadata": {},
   "outputs": [
    {
     "name": "stdout",
     "output_type": "stream",
     "text": [
      "[3, 2, 1]\n"
     ]
    }
   ],
   "source": [
    "#8.reverse\n",
    "x=[1,2,3]\n",
    "x.reverse()\n",
    "print(x)"
   ]
  },
  {
   "cell_type": "code",
   "execution_count": 36,
   "metadata": {},
   "outputs": [
    {
     "name": "stdout",
     "output_type": "stream",
     "text": [
      "[1, 2, 3, 4, 5, 7, 8, 9]\n",
      "None\n",
      "[4, 1, 3, 2, 9, 7, 8, 6]\n",
      "[1, 2, 3, 4, 6, 7, 8, 9]\n",
      "['h', 'n', 'o', 'p', 't', 'y']\n"
     ]
    }
   ],
   "source": [
    "#9.sort(修改原数组并返回空值）\n",
    "x=[4,2,5,3,8,7,1,9]\n",
    "x.sort()\n",
    "print(x)\n",
    "y=x.sort()\n",
    "print(y)\n",
    "d=[4,1,3,2,9,7,8,6]\n",
    "b=sorted(d)#sorted返回修改的值，原值不变\n",
    "print(d)\n",
    "print(b)\n",
    "print(sorted('python'))"
   ]
  },
  {
   "cell_type": "code",
   "execution_count": 37,
   "metadata": {},
   "outputs": [
    {
     "name": "stdout",
     "output_type": "stream",
     "text": [
      "['jeer', 'xutao', 'xuleie', 'wangzhi']\n",
      "[9, 8, 7, 6, 5, 4, 3, 2, 1]\n"
     ]
    }
   ],
   "source": [
    "#10.高级排序\n",
    "# print(cmp(32,22))\n",
    "# print(cmp(22,32))\n",
    "# print(cmp(22,22))  python3用operator模块代替\n",
    "x=['xutao','xuleie','wangzhi','jeer']\n",
    "x.sort(key=len)\n",
    "print(x)\n",
    "x=[9,5,1,7,3,8,2,6,4]\n",
    "x.sort(reverse=True)\n",
    "print(x)"
   ]
  },
  {
   "cell_type": "code",
   "execution_count": 38,
   "metadata": {},
   "outputs": [
    {
     "name": "stdout",
     "output_type": "stream",
     "text": [
      "('h', 'e', 'l', 'l', 'o')\n"
     ]
    }
   ],
   "source": [
    "#tuple函数\n",
    "x=tuple('hello')\n",
    "print(x)"
   ]
  },
  {
   "cell_type": "markdown",
   "metadata": {},
   "source": [
    "# 函数"
   ]
  },
  {
   "cell_type": "markdown",
   "metadata": {},
   "source": [
    "### 1.创建函数"
   ]
  },
  {
   "cell_type": "code",
   "execution_count": 39,
   "metadata": {},
   "outputs": [
    {
     "name": "stdout",
     "output_type": "stream",
     "text": [
      "False\n",
      "True\n",
      "hello,xu!\n",
      "[0, 1, 1, 2, 3, 5, 8, 13, 21, 34]\n"
     ]
    }
   ],
   "source": [
    "#callable函数可以判断函数是否调用\n",
    "import math\n",
    "x=1\n",
    "y=math.sqrt\n",
    "print(callable(x))\n",
    "print(callable(y))\n",
    "\n",
    "def hello(name):\n",
    "    print('hello,'+name+'!')\n",
    "hello('xu')\n",
    "\n",
    "def fib(nbr):\n",
    "    result=[0,1]\n",
    "    for i in range(nbr-2):\n",
    "        result.append(result[-2]+result[-1])\n",
    "    print(result)\n",
    "fib(10)"
   ]
  },
  {
   "cell_type": "markdown",
   "metadata": {},
   "source": [
    "**1.1记录函数**\n",
    "在函数开头写上字符串，会作为函数一部分进行存储，称为文档字符串，可用\n",
    "属性__doc__访问"
   ]
  },
  {
   "cell_type": "code",
   "execution_count": 40,
   "metadata": {},
   "outputs": [
    {
     "name": "stdout",
     "output_type": "stream",
     "text": [
      "4\n",
      "计算x的平方\n",
      "Help on function square in module __main__:\n",
      "\n",
      "square(x)\n",
      "    计算x的平方\n",
      "\n"
     ]
    }
   ],
   "source": [
    "def square(x):\n",
    "    '计算x的平方'\n",
    "    return x*x\n",
    "print(square(2))\n",
    "print(square.__doc__)"
   ]
  },
  {
   "cell_type": "code",
   "execution_count": 41,
   "metadata": {},
   "outputs": [
    {
     "name": "stdout",
     "output_type": "stream",
     "text": [
      "Help on function square in module __main__:\n",
      "\n",
      "square(x)\n",
      "    计算x的平方\n",
      "\n"
     ]
    }
   ],
   "source": [
    "help(square)"
   ]
  },
  {
   "cell_type": "markdown",
   "metadata": {},
   "source": [
    "**1.2 并非真正函数的函数**"
   ]
  },
  {
   "cell_type": "code",
   "execution_count": 42,
   "metadata": {},
   "outputs": [
    {
     "name": "stdout",
     "output_type": "stream",
     "text": [
      "This is printed\n"
     ]
    }
   ],
   "source": [
    "def test():\n",
    "    print('This is printed')\n",
    "    return\n",
    "    print('This is not')\n",
    "test()\n",
    "#这里的return只起到结束函数的作用"
   ]
  },
  {
   "cell_type": "markdown",
   "metadata": {},
   "source": [
    "### 2.参数"
   ]
  },
  {
   "cell_type": "markdown",
   "metadata": {},
   "source": [
    "**2.2能改变参数吗**"
   ]
  },
  {
   "cell_type": "code",
   "execution_count": 46,
   "metadata": {},
   "outputs": [
    {
     "data": {
      "text/plain": [
       "'Mr. Li'"
      ]
     },
     "execution_count": 46,
     "metadata": {},
     "output_type": "execute_result"
    }
   ],
   "source": [
    "def try_to_change(n):\n",
    "    n='Mr. xu'\n",
    "name='Mr. Li'\n",
    "try_to_change(name)\n",
    "name"
   ]
  },
  {
   "cell_type": "markdown",
   "metadata": {},
   "source": [
    "在函数内name获得新值，但没有影响全局变量\n",
    "工作方式如下\n",
    "name='Mr. Li'\n",
    "n=name\n",
    "n='Mr. xu'\n",
    "name\n",
    "当n变时，name不变"
   ]
  },
  {
   "cell_type": "code",
   "execution_count": 44,
   "metadata": {},
   "outputs": [
    {
     "data": {
      "text/plain": [
       "'Mr. Li'"
      ]
     },
     "execution_count": 44,
     "metadata": {},
     "output_type": "execute_result"
    }
   ],
   "source": [
    "name='Mr. Li'\n",
    "n=name\n",
    "n='Mr. xu'\n",
    "name"
   ]
  },
  {
   "cell_type": "code",
   "execution_count": 47,
   "metadata": {},
   "outputs": [
    {
     "data": {
      "text/plain": [
       "['Mr.Xu', 'Mr.Xiao']"
      ]
     },
     "execution_count": 47,
     "metadata": {},
     "output_type": "execute_result"
    }
   ],
   "source": [
    "def change(n):\n",
    "    n[0]='Mr.Xu'\n",
    "name=['Mr.Li','Mr.Xiao']\n",
    "change(name)\n",
    "name"
   ]
  },
  {
   "cell_type": "markdown",
   "metadata": {},
   "source": [
    "两个变量引用同一列表，所以发生改变，避免这种情况，可以拷贝表"
   ]
  },
  {
   "cell_type": "code",
   "execution_count": 48,
   "metadata": {},
   "outputs": [
    {
     "name": "stdout",
     "output_type": "stream",
     "text": [
      "[1, 2, 3]\n",
      "[1, 2, 3]\n",
      "True\n",
      "False\n",
      "['Mr.Li', 'Mr.Xiao']\n"
     ]
    }
   ],
   "source": [
    "x=[1,2,3]\n",
    "y=x[:]\n",
    "print(x)\n",
    "print(y)\n",
    "print(y==x)\n",
    "print( y is x)\n",
    "name=['Mr.Li','Mr.Xiao']\n",
    "change(name[:])\n",
    "print(name)"
   ]
  },
  {
   "cell_type": "markdown",
   "metadata": {},
   "source": [
    "**2.2.1为什么修改参数**"
   ]
  },
  {
   "cell_type": "code",
   "execution_count": 49,
   "metadata": {},
   "outputs": [
    {
     "name": "stdout",
     "output_type": "stream",
     "text": [
      "{'first': {}, 'middle': {}, 'last': {}}\n",
      "['Magnus Lie Hetland']\n",
      "xu xian tt\n"
     ]
    }
   ],
   "source": [
    "def init(data):\n",
    "    data['first']={}\n",
    "    data['middle']={}\n",
    "    data['last']={}\n",
    "storage={}\n",
    "init(storage)\n",
    "print(storage)\n",
    "\n",
    "def lookup(data,label,name):\n",
    "    return data[label].get(name)\n",
    "me='Magnus Lie Hetland'\n",
    "storage['first']['Maguns']=[me]\n",
    "storage['middle']['Lie']=[me]\n",
    "storage['last']['Hetland']=[me]\n",
    "print(lookup(storage,'middle','Lie'))\n",
    "def store(data,full_name):\n",
    "    names=full_name.split()\n",
    "    if len(names)==2:\n",
    "        names.insert(1,' ')\n",
    "    labels=['first','middle','last']\n",
    "    for label,name in zip(labels,names):\n",
    "        people=lookup(data,label,name)\n",
    "        if people:\n",
    "            people.append(full_name)\n",
    "        else:\n",
    "            data[label][name]=full_name\n",
    "\n",
    "MyNames={}\n",
    "init(MyNames)\n",
    "store(MyNames,'xu xian tt')\n",
    "print(lookup(MyNames,'middle','xian'))"
   ]
  },
  {
   "cell_type": "markdown",
   "metadata": {},
   "source": [
    "**2.2.2若我的参数不可变了**\n",
    "若真想改变参数，可以将值放在列表中"
   ]
  },
  {
   "cell_type": "code",
   "execution_count": 50,
   "metadata": {},
   "outputs": [
    {
     "name": "stdout",
     "output_type": "stream",
     "text": [
      "[11]\n"
     ]
    }
   ],
   "source": [
    "def inc(x):\n",
    "    x[0]=x[0]+1\n",
    "\n",
    "foo=[10]\n",
    "inc(foo)\n",
    "print(foo)"
   ]
  },
  {
   "cell_type": "markdown",
   "metadata": {},
   "source": [
    "**2.3关键字参数和默认值**"
   ]
  },
  {
   "cell_type": "code",
   "execution_count": 51,
   "metadata": {},
   "outputs": [
    {
     "name": "stdout",
     "output_type": "stream",
     "text": [
      "hello,world!\n",
      "hello,world!\n",
      "greeting,world!\n",
      "greeting,universe!\n",
      "hello,tom!\n"
     ]
    }
   ],
   "source": [
    "def hello(greeting,name):\n",
    "    print('%s,%s!'%(greeting,name))\n",
    "hello(greeting='hello',name='world')\n",
    "def hello_2(greeting='hello',name='world'):\n",
    "    print('%s,%s!' % (greeting, name))\n",
    "hello_2()\n",
    "hello_2('greeting')\n",
    "hello_2('greeting','universe')\n",
    "hello_2(name='tom')"
   ]
  },
  {
   "cell_type": "markdown",
   "metadata": {},
   "source": [
    "**4.3可变参数**"
   ]
  },
  {
   "cell_type": "code",
   "execution_count": 52,
   "metadata": {},
   "outputs": [
    {
     "name": "stdout",
     "output_type": "stream",
     "text": [
      "('xu',)\n",
      "('xu', 'wang', 'li')\n",
      "{'x': 1, 'y': 2, 'z': 3}\n",
      "a = 1 b = 2 c = 3 args = () kw = {}\n",
      "a = 1 b = 2 c = 3 args = (4, 5, 6) kw = {}\n",
      "a = 1 b = 2 c = 3 args = (4, 5, 6) kw = {'x': 1, 'y': 2}\n"
     ]
    }
   ],
   "source": [
    "def print_parm(*par):\n",
    "    print(par)\n",
    "print_parm('xu')\n",
    "print_parm('xu','wang','li')\n",
    "def print_parm1(**par):\n",
    "    print(par)\n",
    "print_parm1(x=1,y=2,z=3)\n",
    "def f1(a, b, c=0, *args, **kw):\n",
    "    print('a =', a, 'b =', b, 'c =', c, 'args =', args, 'kw =', kw)\n",
    "\n",
    "f1(1,2,3)\n",
    "f1(1,2,3,4,5,6)\n",
    "f1(1,2,3,4,5,6,x=1,y=2)"
   ]
  },
  {
   "cell_type": "markdown",
   "metadata": {},
   "source": [
    "**4.5反转过程**"
   ]
  },
  {
   "cell_type": "code",
   "execution_count": 53,
   "metadata": {},
   "outputs": [
    {
     "name": "stdout",
     "output_type": "stream",
     "text": [
      "3\n",
      "dongxin is 23 years old\n",
      "dongxin is 23 years old\n"
     ]
    }
   ],
   "source": [
    "def add(x,y):\n",
    "    print(x+y)\n",
    "arg=(1,2)\n",
    "add(*arg)\n",
    "\n",
    "def with_star(**kw):\n",
    "    print(kw['name'],'is',kw['age'],'years old')\n",
    "def without_star(kw):\n",
    "    print(kw['name'], 'is', kw['age'], 'years old')\n",
    "args={'name':'dongxin','age':23}\n",
    "with_star(**args)\n",
    "without_star(args)"
   ]
  },
  {
   "cell_type": "markdown",
   "metadata": {},
   "source": [
    "**4.6练习使用参数**"
   ]
  },
  {
   "cell_type": "code",
   "execution_count": 54,
   "metadata": {},
   "outputs": [
    {
     "name": "stdout",
     "output_type": "stream",
     "text": [
      "Once upon a time,there was a king called Mr.Grubm.\n",
      "Once upon a time,there was a Language called python.\n",
      "8\n",
      "1024\n",
      "3125\n",
      "[0, 1, 2, 3, 4, 5, 6, 7, 8, 9]\n",
      "[1, 2, 3, 4]\n",
      "[3, 7, 11, 15]\n",
      "Recieve redundant parameters: (5, 6)\n",
      "81\n"
     ]
    }
   ],
   "source": [
    "def story(**kw):\n",
    "    return 'Once upon a time,there was a %(job)s called %(name)s.'%kw\n",
    "def power(x,y,*args):\n",
    "    if args:\n",
    "        print( 'Recieve redundant parameters:',args)\n",
    "    return pow(x,y)\n",
    "def interval(start,stop=None,step=1):\n",
    "    'Imitates range() for step > 0'\n",
    "    if stop is None:\n",
    "        start,stop=0,start\n",
    "    result=[]\n",
    "    i=start\n",
    "    while i<stop:\n",
    "        result.append(i)\n",
    "        i+=step\n",
    "    return result\n",
    "print(story(job='king',name='Mr.Grubm'))\n",
    "params={'job':'Language','name':'python'}\n",
    "print(story(**params))\n",
    "print(pow(2,3))\n",
    "print(pow(4,5))\n",
    "par=(5,)*2\n",
    "print(pow(*par))\n",
    "print(interval(10))\n",
    "print(interval(1,5))\n",
    "print(interval(3,18,4))\n",
    "print(power(*interval(3,7)))"
   ]
  },
  {
   "cell_type": "markdown",
   "metadata": {},
   "source": [
    "### 5.作用域"
   ]
  },
  {
   "cell_type": "code",
   "execution_count": 56,
   "metadata": {},
   "outputs": [
    {
     "name": "stdout",
     "output_type": "stream",
     "text": [
      "1\n",
      "2\n",
      "2\n",
      "xfagxxc\n",
      "2\n"
     ]
    }
   ],
   "source": [
    "x=1\n",
    "scope=vars()\n",
    "print(scope['x'])\n",
    "scope['x']+=1\n",
    "print(x)\n",
    "\n",
    "def output(x):\n",
    "    print(x)\n",
    "\n",
    "x=1\n",
    "y=2\n",
    "output(y)\n",
    "def combine(x):\n",
    "    print(x+y)\n",
    "y='xxc'\n",
    "combine('xfag')\n",
    "\n",
    "x=1\n",
    "def change_global():\n",
    "    global x\n",
    "    x=x+1\n",
    "change_global()\n",
    "print(x)"
   ]
  },
  {
   "cell_type": "markdown",
   "metadata": {},
   "source": [
    "### 6.递归"
   ]
  },
  {
   "cell_type": "markdown",
   "metadata": {},
   "source": [
    "**6.1.阶乘与幂**\n",
    "可以使用循环写阶乘于幂"
   ]
  },
  {
   "cell_type": "code",
   "execution_count": 57,
   "metadata": {},
   "outputs": [
    {
     "name": "stdout",
     "output_type": "stream",
     "text": [
      "3628800\n",
      "64\n"
     ]
    }
   ],
   "source": [
    "def factorial(n):\n",
    "    result=n\n",
    "    for i in range(1,n):\n",
    "        result*=i\n",
    "    return  result\n",
    "\n",
    "def power(x,n):\n",
    "    result=1\n",
    "    for i in range(1,n):\n",
    "        result*=x\n",
    "    return x\n",
    "\n",
    "#使用递归写阶乘于幂\n",
    "def factorial2(n):\n",
    "    if n==1:\n",
    "        return 1\n",
    "    else:\n",
    "        return n*factorial(n-1)\n",
    "def power2(x,n):\n",
    "    if n==1:\n",
    "        return x\n",
    "    else:\n",
    "        return x*pow(x,n-1)\n",
    "\n",
    "print(factorial2(10))\n",
    "print(power2(4,3))"
   ]
  },
  {
   "cell_type": "markdown",
   "metadata": {},
   "source": [
    "**6.2二元查找**"
   ]
  },
  {
   "cell_type": "code",
   "execution_count": 58,
   "metadata": {
    "collapsed": true
   },
   "outputs": [],
   "source": [
    "def search(sequence,num,lower,upper):\n",
    "    if upper==lower:\n",
    "        return upper\n",
    "    else:\n",
    "        middle=(upper+lower)//2\n",
    "        if num>sequence[middle]:\n",
    "            return search(sequence,num,middle+1,upper)\n",
    "        else:\n",
    "            return search(sequence,num,lower,middle)"
   ]
  },
  {
   "cell_type": "markdown",
   "metadata": {},
   "source": [
    "# 类"
   ]
  },
  {
   "cell_type": "markdown",
   "metadata": {},
   "source": [
    "### 1.类--一种对象，所有对象都属于某个类，称为类的实例"
   ]
  },
  {
   "cell_type": "markdown",
   "metadata": {},
   "source": [
    "###  2.创建一个类"
   ]
  },
  {
   "cell_type": "code",
   "execution_count": 59,
   "metadata": {},
   "outputs": [
    {
     "name": "stdout",
     "output_type": "stream",
     "text": [
      "Hello,I\"m xutao.\n",
      "Hello,I\"m wangzhi.\n",
      "xutao\n",
      "Hello,I\"m xulei.\n"
     ]
    }
   ],
   "source": [
    "metaclass_ =type #确定使用新式类\n",
    "class Person:\n",
    "    def setname(self,name): # self是对于对象自身的引用\n",
    "        self.name=name\n",
    "    def getname(self):\n",
    "        return self.name\n",
    "    def greet(self):\n",
    "        print('Hello,I\"m %s.'%self.name)\n",
    "\n",
    "foo=Person()\n",
    "bar=Person()\n",
    "foo.setname('xutao')\n",
    "bar.setname('wangzhi')\n",
    "foo.greet()\n",
    "bar.greet()\n",
    "\n",
    "# 特性可以在外部访问\n",
    "print(foo.name)\n",
    "bar.name='xulei'\n",
    "bar.greet()"
   ]
  },
  {
   "cell_type": "markdown",
   "metadata": {},
   "source": [
    "### 3.特性，函数和方法"
   ]
  },
  {
   "cell_type": "markdown",
   "metadata": {},
   "source": [
    "self参数正是函数和方法的区别。方法（绑定方法）将它们的第一个参数绑定到实例上，因此这个参数可以不必提供。所以可以将特性绑定到一个o普通函数上，这样就不会有特殊的self参数了"
   ]
  },
  {
   "cell_type": "code",
   "execution_count": 60,
   "metadata": {},
   "outputs": [
    {
     "name": "stdout",
     "output_type": "stream",
     "text": [
      "I have a self\n",
      "I don't have ...\n"
     ]
    }
   ],
   "source": [
    "class Class:\n",
    "    def method(self):\n",
    "        print(\"I have a self\")\n",
    "def function():\n",
    "    print(\"I don't have ...\")\n",
    "instance=Class()\n",
    "instance.method()\n",
    "instance.method=function\n",
    "instance.method()"
   ]
  },
  {
   "cell_type": "markdown",
   "metadata": {},
   "source": [
    "注意，self参数并不取决于调用方法的方式，目前使用的是实例调用方法，可以随意同一个方法的其他变量"
   ]
  },
  {
   "cell_type": "code",
   "execution_count": 61,
   "metadata": {},
   "outputs": [
    {
     "name": "stdout",
     "output_type": "stream",
     "text": [
      "Squwaak\n",
      "Squwaak\n"
     ]
    }
   ],
   "source": [
    "class Bird:\n",
    "    song='Squwaak'\n",
    "    def sing(self):\n",
    "        print(self.song)\n",
    "bird=Bird()\n",
    "bird.sing()\n",
    "birdsong=bird.sing\n",
    "birdsong()"
   ]
  },
  {
   "cell_type": "markdown",
   "metadata": {},
   "source": [
    "为了让方法和特性私有（外部无法访问），只需在它的名字前加上双下划线即可"
   ]
  },
  {
   "cell_type": "code",
   "execution_count": 63,
   "metadata": {
    "collapsed": true
   },
   "outputs": [],
   "source": [
    "class Secretive:\n",
    "    def __inaccessible(self):\n",
    "        print(\"Bet you can't see me...\")\n",
    "    def accessible(self):\n",
    "        print(\"The secrect is ...\")\n",
    "        self.__inaccessible()"
   ]
  },
  {
   "cell_type": "markdown",
   "metadata": {},
   "source": [
    "现在__inaccessible外部无法访问，在内部可以"
   ]
  },
  {
   "cell_type": "code",
   "execution_count": 64,
   "metadata": {
    "collapsed": true
   },
   "outputs": [],
   "source": [
    "s=Secretive()"
   ]
  },
  {
   "cell_type": "code",
   "execution_count": 65,
   "metadata": {},
   "outputs": [
    {
     "ename": "AttributeError",
     "evalue": "'Secretive' object has no attribute '__inaccessible'",
     "output_type": "error",
     "traceback": [
      "\u001b[1;31m---------------------------------------------------------------------------\u001b[0m",
      "\u001b[1;31mAttributeError\u001b[0m                            Traceback (most recent call last)",
      "\u001b[1;32m<ipython-input-65-13232f401269>\u001b[0m in \u001b[0;36m<module>\u001b[1;34m()\u001b[0m\n\u001b[1;32m----> 1\u001b[1;33m \u001b[0ms\u001b[0m\u001b[1;33m.\u001b[0m\u001b[0m__inaccessible\u001b[0m\u001b[1;33m(\u001b[0m\u001b[1;33m)\u001b[0m\u001b[1;33m\u001b[0m\u001b[0m\n\u001b[0m",
      "\u001b[1;31mAttributeError\u001b[0m: 'Secretive' object has no attribute '__inaccessible'"
     ]
    }
   ],
   "source": [
    "s.__inaccessible()"
   ]
  },
  {
   "cell_type": "code",
   "execution_count": 66,
   "metadata": {},
   "outputs": [
    {
     "name": "stdout",
     "output_type": "stream",
     "text": [
      "The secrect is ...\n",
      "Bet you can't see me...\n"
     ]
    }
   ],
   "source": [
    "s.accessible()"
   ]
  },
  {
   "cell_type": "markdown",
   "metadata": {},
   "source": [
    "类的内部定义中，所有双下滑线都被翻译成前面加上单下划线和类名的形式"
   ]
  },
  {
   "cell_type": "code",
   "execution_count": 69,
   "metadata": {},
   "outputs": [
    {
     "name": "stdout",
     "output_type": "stream",
     "text": [
      "Bet you can't see me...\n"
     ]
    }
   ],
   "source": [
    "s._Secretive__inaccessible()"
   ]
  },
  {
   "cell_type": "markdown",
   "metadata": {},
   "source": [
    "### 4.类的命名空间"
   ]
  },
  {
   "cell_type": "markdown",
   "metadata": {},
   "source": [
    "类命名时，所有位于class语句中的代码都在特殊的命名空间中执行--类命名空间，该空间可由类内所有成员访问"
   ]
  },
  {
   "cell_type": "code",
   "execution_count": 70,
   "metadata": {},
   "outputs": [
    {
     "name": "stdout",
     "output_type": "stream",
     "text": [
      "1\n",
      "2\n",
      "2\n",
      "two\n",
      "2\n"
     ]
    }
   ],
   "source": [
    "class memberCounter:\n",
    "    members=0\n",
    "    def init(self):\n",
    "        memberCounter.members+=1\n",
    "\n",
    "\n",
    "m1=memberCounter()\n",
    "m1.init()\n",
    "print(m1.members)\n",
    "m2=memberCounter()\n",
    "m2.init()\n",
    "print(m2.members)\n",
    "print(m1.members)\n",
    "m1.members='two'\n",
    "print(m1.members)\n",
    "print(m2.members)"
   ]
  },
  {
   "cell_type": "markdown",
   "metadata": {},
   "source": [
    "### 5 指定超类"
   ]
  },
  {
   "cell_type": "code",
   "execution_count": 71,
   "metadata": {},
   "outputs": [
    {
     "name": "stdout",
     "output_type": "stream",
     "text": [
      "[1, 2, 3]\n",
      "['EGG', 'THU']\n"
     ]
    }
   ],
   "source": [
    "class Filter:\n",
    "    def init(self):\n",
    "        self.blocked=[]\n",
    "    def filt(self,sequence):\n",
    "        return [x for x in sequence if x not in self.blocked]\n",
    "\n",
    "class SPAMFilter(Filter): #SPAMFilter是Filter的子类\n",
    "    def init(self):  #重写init方法\n",
    "        self.blocked=['SPAM']\n",
    "\n",
    "f=Filter()\n",
    "f.init()\n",
    "print(f.filt([1,2,3]))\n",
    "\n",
    "s=SPAMFilter()\n",
    "s.init()\n",
    "print(s.filt(['SPAM','SPAM','EGG','THU']))"
   ]
  },
  {
   "cell_type": "markdown",
   "metadata": {},
   "source": [
    "不能直接调用filt，得先调用init\n",
    "注意 \n",
    "1. 重写了init定义，\n",
    "2. 继承了filt函数"
   ]
  },
  {
   "cell_type": "markdown",
   "metadata": {},
   "source": [
    "### 6 调查继承"
   ]
  },
  {
   "cell_type": "markdown",
   "metadata": {},
   "source": [
    "用issubclass函数看一个类是否是另一个的子类"
   ]
  },
  {
   "cell_type": "code",
   "execution_count": 72,
   "metadata": {},
   "outputs": [
    {
     "name": "stdout",
     "output_type": "stream",
     "text": [
      "True\n",
      "False\n"
     ]
    }
   ],
   "source": [
    "print(issubclass(SPAMFilter,Filter))\n",
    "print(issubclass(Filter,SPAMFilter))"
   ]
  },
  {
   "cell_type": "markdown",
   "metadata": {},
   "source": [
    "若已知类的基类(们)，可直接使用特殊属性__base__"
   ]
  },
  {
   "cell_type": "code",
   "execution_count": 74,
   "metadata": {},
   "outputs": [
    {
     "name": "stdout",
     "output_type": "stream",
     "text": [
      "(<class '__main__.Filter'>,)\n",
      "(<class 'object'>,)\n"
     ]
    }
   ],
   "source": [
    "print(SPAMFilter.__bases__)\n",
    "print(Filter.__bases__)"
   ]
  },
  {
   "cell_type": "markdown",
   "metadata": {},
   "source": [
    "使用isinstance检查一个对象是否是一个类的实例"
   ]
  },
  {
   "cell_type": "code",
   "execution_count": 75,
   "metadata": {},
   "outputs": [
    {
     "name": "stdout",
     "output_type": "stream",
     "text": [
      "True\n",
      "True\n",
      "False\n"
     ]
    }
   ],
   "source": [
    "print(isinstance(s,SPAMFilter))\n",
    "print(isinstance(f,Filter))\n",
    "print(isinstance(s,str))"
   ]
  },
  {
   "cell_type": "markdown",
   "metadata": {},
   "source": [
    "可用__class__查看一个对象属于哪个类"
   ]
  },
  {
   "cell_type": "code",
   "execution_count": 77,
   "metadata": {},
   "outputs": [
    {
     "name": "stdout",
     "output_type": "stream",
     "text": [
      "<class '__main__.SPAMFilter'>\n",
      "<class '__main__.Filter'>\n"
     ]
    }
   ],
   "source": [
    "print(s.__class__)\n",
    "print(f.__class__)"
   ]
  },
  {
   "cell_type": "markdown",
   "metadata": {},
   "source": [
    "### 7 多个超类"
   ]
  },
  {
   "cell_type": "code",
   "execution_count": 78,
   "metadata": {},
   "outputs": [
    {
     "name": "stdout",
     "output_type": "stream",
     "text": [
      "hi,my value is  17\n"
     ]
    }
   ],
   "source": [
    "class Calculator:\n",
    "    def calculate(self,expression):\n",
    "        self.value=eval(expression)\n",
    "\n",
    "class Talker:\n",
    "    def talker(self):\n",
    "        print('hi,my value is ',self.value)\n",
    "\n",
    "class TalkerCalculator(Talker,Calculator):\n",
    "    pass\n",
    "\n",
    "tc=TalkerCalculator()\n",
    "tc.calculate('1+4*4')\n",
    "tc.talker()"
   ]
  },
  {
   "cell_type": "markdown",
   "metadata": {},
   "source": [
    "子类从所有超类继承所有方法，称为多重继承，除非非常熟悉，否则尽量避免使用多重继承。注意超类的顺序，先继承得超类中方法会重写后继承的超类方法"
   ]
  },
  {
   "cell_type": "markdown",
   "metadata": {},
   "source": [
    "### 8 接口和内省"
   ]
  },
  {
   "cell_type": "markdown",
   "metadata": {},
   "source": [
    "处理多态时，只需关心接口（协议）即可--公开的特性和方法python中，不用显示指定对象必须包含哪些方法才能作为参数接收可检查方法是否存在"
   ]
  },
  {
   "cell_type": "code",
   "execution_count": 79,
   "metadata": {},
   "outputs": [
    {
     "name": "stdout",
     "output_type": "stream",
     "text": [
      "True\n",
      "False\n"
     ]
    }
   ],
   "source": [
    "print(hasattr(tc,'talker'))\n",
    "print(hasattr(tc,'bav'))"
   ]
  },
  {
   "cell_type": "markdown",
   "metadata": {},
   "source": [
    "还可检查特性是否可调用"
   ]
  },
  {
   "cell_type": "markdown",
   "metadata": {},
   "source": [
    "getattr用来获得对象特性，并提供默认值\n",
    "setattr正好相反"
   ]
  },
  {
   "cell_type": "code",
   "execution_count": 81,
   "metadata": {
    "collapsed": true
   },
   "outputs": [],
   "source": [
    "setattr(tc,'name','xuxiaobai')"
   ]
  },
  {
   "cell_type": "code",
   "execution_count": 82,
   "metadata": {},
   "outputs": [
    {
     "name": "stdout",
     "output_type": "stream",
     "text": [
      "xuxiaobai\n"
     ]
    }
   ],
   "source": [
    "print(tc.name)"
   ]
  },
  {
   "cell_type": "markdown",
   "metadata": {},
   "source": [
    "## 关于对象的思考\n",
    "1. 将属于一类的对象放在一起\n",
    "2. 不要让对象过于亲密\n",
    "3. 小心继承，尤其是多重继承\n",
    "4. 简单就好"
   ]
  },
  {
   "cell_type": "markdown",
   "metadata": {},
   "source": [
    "# 文件和模式"
   ]
  },
  {
   "cell_type": "markdown",
   "metadata": {},
   "source": [
    "## 1.打开文件"
   ]
  },
  {
   "cell_type": "markdown",
   "metadata": {},
   "source": [
    "open(name[,module[,buffering]])"
   ]
  },
  {
   "cell_type": "code",
   "execution_count": 83,
   "metadata": {},
   "outputs": [
    {
     "name": "stdout",
     "output_type": "stream",
     "text": [
      "q\n"
     ]
    }
   ],
   "source": [
    "f=open('txt.txt','r')\n",
    "print(f.read(1))"
   ]
  },
  {
   "cell_type": "markdown",
   "metadata": {},
   "source": [
    "#### 1.1模式"
   ]
  },
  {
   "cell_type": "markdown",
   "metadata": {},
   "source": [
    "+ r------读模式\n",
    "+ w------写模式\n",
    "+ a------追加模式\n",
    "+ b------二进制模式（可添加到其他模式中使用）\n",
    "+ +------读写模式（可添加到其他模式中使用）"
   ]
  },
  {
   "cell_type": "markdown",
   "metadata": {},
   "source": [
    "## 2.基本文件方法"
   ]
  },
  {
   "cell_type": "markdown",
   "metadata": {},
   "source": [
    "#### 2.1.读和写"
   ]
  },
  {
   "cell_type": "code",
   "execution_count": 84,
   "metadata": {},
   "outputs": [
    {
     "name": "stdout",
     "output_type": "stream",
     "text": [
      "hell\n",
      "o,world!\n"
     ]
    }
   ],
   "source": [
    "f=open('somefile.txt','w')\n",
    "f.write('hello,')\n",
    "f.write('world!')\n",
    "f.close()\n",
    "f=open('somefile.txt','r')\n",
    "#数字代表读多少字符，第二次读完剩下的\n",
    "print(f.read(4))\n",
    "print(f.read())"
   ]
  },
  {
   "cell_type": "markdown",
   "metadata": {},
   "source": [
    "#### 2.2.管式输出"
   ]
  },
  {
   "cell_type": "markdown",
   "metadata": {},
   "source": [
    "```\n",
    " import sys\n",
    " text=sys.stdin.read()\n",
    " words=text.split()\n",
    " wordcount=len(words)\n",
    " print('wordcount:',wordcount)\n",
    "```"
   ]
  },
  {
   "cell_type": "markdown",
   "metadata": {},
   "source": [
    "#### 2.3.读写行"
   ]
  },
  {
   "cell_type": "markdown",
   "metadata": {},
   "source": [
    "+ file.readline:读取单独一行(直到换行符的出现，包括这个换行符)，不使用\n",
    "参数（读取完整一行）或使用完整参数作为读取的字符的最大值\n",
    "+ writellines:传给它一个字符串列表，他会把所有字符串写入文件。"
   ]
  },
  {
   "cell_type": "markdown",
   "metadata": {},
   "source": [
    "#### 2.4.关闭文件"
   ]
  },
  {
   "cell_type": "markdown",
   "metadata": {},
   "source": [
    "```\n",
    "open your file here\n",
    "try:\n",
    "    write data to your file\n",
    "finally:\n",
    "    file.close()\n",
    "\n",
    "with open('somefile.txt') as somefile:\n",
    "   do_something(some_file)\n",
    "   ```"
   ]
  },
  {
   "cell_type": "markdown",
   "metadata": {},
   "source": [
    "### 2.5.使用基本文件方法"
   ]
  },
  {
   "cell_type": "code",
   "execution_count": 86,
   "metadata": {},
   "outputs": [
    {
     "name": "stdout",
     "output_type": "stream",
     "text": [
      "Welcome\n",
      " to \n"
     ]
    }
   ],
   "source": [
    "f=open('somefile1.txt')\n",
    "print(f.read(7))\n",
    "print(f.read(4))\n",
    "f.close()"
   ]
  },
  {
   "cell_type": "code",
   "execution_count": 92,
   "metadata": {},
   "outputs": [
    {
     "name": "stdout",
     "output_type": "stream",
     "text": [
      "Welcome to this file\n",
      "There is nothing here except\n",
      "This stupid harku\n"
     ]
    }
   ],
   "source": [
    "f=open('somefile1.txt')\n",
    "print(f.read())\n",
    "f.close()"
   ]
  },
  {
   "cell_type": "code",
   "execution_count": 91,
   "metadata": {},
   "outputs": [
    {
     "name": "stdout",
     "output_type": "stream",
     "text": [
      "['Welcome to this file\\n', 'There is nothing here except\\n', 'This stupid harku']\n"
     ]
    }
   ],
   "source": [
    "f=open('somefile1.txt')\n",
    "print(f.readlines())\n",
    "f.close()"
   ]
  },
  {
   "cell_type": "code",
   "execution_count": 88,
   "metadata": {},
   "outputs": [
    {
     "name": "stdout",
     "output_type": "stream",
     "text": [
      "['Welcome to this file\\n',\n",
      " 'There is nothing here except\\n',\n",
      " 'This stupid harku']\n"
     ]
    }
   ],
   "source": [
    "import pprint\n",
    "pprint.pprint(open('somefile1.txt').readlines())\n",
    "f.close()"
   ]
  },
  {
   "cell_type": "code",
   "execution_count": 89,
   "metadata": {},
   "outputs": [
    {
     "name": "stdout",
     "output_type": "stream",
     "text": [
      "['this \\n', 'is not a\\n', 'harku']\n"
     ]
    }
   ],
   "source": [
    "f=open('somefile2.txt')\n",
    "lines=f.readlines()\n",
    "print(lines)\n",
    "f.close()"
   ]
  },
  {
   "cell_type": "code",
   "execution_count": 90,
   "metadata": {},
   "outputs": [
    {
     "name": "stdout",
     "output_type": "stream",
     "text": [
      "this \n",
      "is not a\n",
      "harku\n"
     ]
    }
   ],
   "source": [
    "lines[1]='is not a\\n'\n",
    "f=open('somefile2.txt','w')\n",
    "f.writelines(lines)\n",
    "f.close()\n",
    "f=open('somefile2.txt')\n",
    "print(f.read())\n",
    "f.close()"
   ]
  },
  {
   "cell_type": "code",
   "execution_count": 94,
   "metadata": {},
   "outputs": [
    {
     "name": "stdout",
     "output_type": "stream",
     "text": [
      "this \n",
      "\n",
      "is not a\n",
      "\n",
      "harku\n"
     ]
    }
   ],
   "source": [
    "f=open('somefile2.txt')\n",
    "a=f.readline()\n",
    "b=f.readline()\n",
    "c=f.readline()\n",
    "print(a)\n",
    "print(b)\n",
    "print(c)\n",
    "f.close()"
   ]
  },
  {
   "cell_type": "markdown",
   "metadata": {},
   "source": [
    "## 3.对文件内容进行迭代"
   ]
  },
  {
   "cell_type": "markdown",
   "metadata": {},
   "source": [
    "process函数,用来表示每个字符或每行的处理过程"
   ]
  },
  {
   "cell_type": "code",
   "execution_count": 95,
   "metadata": {
    "collapsed": true
   },
   "outputs": [],
   "source": [
    "def process(string):\n",
    "    print('Processing:',string)"
   ]
  },
  {
   "cell_type": "markdown",
   "metadata": {},
   "source": [
    "### 3.1.按字节处理"
   ]
  },
  {
   "cell_type": "code",
   "execution_count": 97,
   "metadata": {},
   "outputs": [
    {
     "name": "stdout",
     "output_type": "stream",
     "text": [
      "Processing: h\n",
      "Processing: e\n",
      "Processing: l\n",
      "Processing: l\n",
      "Processing: o\n",
      "Processing: ,\n",
      "Processing: w\n",
      "Processing: o\n",
      "Processing: r\n",
      "Processing: l\n",
      "Processing: d\n",
      "Processing: !\n"
     ]
    }
   ],
   "source": [
    "f=open('somefile.txt')\n",
    "char=f.read(1)\n",
    "while char:\n",
    "    process(char)\n",
    "    char=f.read(1)\n",
    "f.close()"
   ]
  },
  {
   "cell_type": "markdown",
   "metadata": {},
   "source": [
    "用不同方式写循环"
   ]
  },
  {
   "cell_type": "code",
   "execution_count": 98,
   "metadata": {},
   "outputs": [
    {
     "name": "stdout",
     "output_type": "stream",
     "text": [
      "Processing: h\n",
      "Processing: e\n",
      "Processing: l\n",
      "Processing: l\n",
      "Processing: o\n",
      "Processing: ,\n",
      "Processing: w\n",
      "Processing: o\n",
      "Processing: r\n",
      "Processing: l\n",
      "Processing: d\n",
      "Processing: !\n"
     ]
    }
   ],
   "source": [
    "f=open('somefile.txt')\n",
    "while True:\n",
    "    char=f.read(1)\n",
    "    if not char:\n",
    "        break\n",
    "    process(char)\n",
    "f.close()"
   ]
  },
  {
   "cell_type": "markdown",
   "metadata": {},
   "source": [
    "### 3.3.读取所有内容"
   ]
  },
  {
   "cell_type": "code",
   "execution_count": 99,
   "metadata": {},
   "outputs": [
    {
     "name": "stdout",
     "output_type": "stream",
     "text": [
      "Processing: t\n",
      "Processing: h\n",
      "Processing: i\n",
      "Processing: s\n",
      "Processing:  \n",
      "Processing: \n",
      "\n",
      "Processing: i\n",
      "Processing: s\n",
      "Processing:  \n",
      "Processing: n\n",
      "Processing: o\n",
      "Processing: t\n",
      "Processing:  \n",
      "Processing: a\n",
      "Processing: \n",
      "\n",
      "Processing: h\n",
      "Processing: a\n",
      "Processing: r\n",
      "Processing: k\n",
      "Processing: u\n"
     ]
    }
   ],
   "source": [
    "#用read迭代所有内容\n",
    "f=open('somefile2.txt')\n",
    "for char in f.read():\n",
    "    process(char)\n",
    "f.close()"
   ]
  },
  {
   "cell_type": "code",
   "execution_count": 100,
   "metadata": {},
   "outputs": [
    {
     "name": "stdout",
     "output_type": "stream",
     "text": [
      "Processing: Welcome to this file\n",
      "\n",
      "Processing: There is nothing here except\n",
      "\n",
      "Processing: This stupid harku\n"
     ]
    }
   ],
   "source": [
    "#用readlines迭代行\n",
    "f=open('somefile1.txt')\n",
    "for line in f.readlines():\n",
    "    process(line)\n",
    "f.close()"
   ]
  },
  {
   "cell_type": "markdown",
   "metadata": {},
   "source": [
    "###  3.4.使用fileinput实现懒惰行迭代"
   ]
  },
  {
   "cell_type": "code",
   "execution_count": 101,
   "metadata": {},
   "outputs": [
    {
     "name": "stdout",
     "output_type": "stream",
     "text": [
      "Processing: Welcome to this file\n",
      "\n",
      "Processing: There is nothing here except\n",
      "\n",
      "Processing: This stupid harku\n"
     ]
    }
   ],
   "source": [
    "import fileinput\n",
    "for line in fileinput.input('somefile1.txt'):\n",
    "    process(line)"
   ]
  },
  {
   "cell_type": "markdown",
   "metadata": {},
   "source": [
    "### 3.5.文件迭代器"
   ]
  },
  {
   "cell_type": "code",
   "execution_count": 102,
   "metadata": {},
   "outputs": [
    {
     "name": "stdout",
     "output_type": "stream",
     "text": [
      "Processing: this \n",
      "\n",
      "Processing: is not a\n",
      "\n",
      "Processing: harku\n"
     ]
    }
   ],
   "source": [
    "#迭代文件\n",
    "f=open('somefile2.txt')\n",
    "for line in f:\n",
    "    process(line)\n",
    "f.close()"
   ]
  },
  {
   "cell_type": "code",
   "execution_count": 103,
   "metadata": {},
   "outputs": [
    {
     "name": "stdout",
     "output_type": "stream",
     "text": [
      "Processing: this \n",
      "\n",
      "Processing: is not a\n",
      "\n",
      "Processing: harku\n"
     ]
    }
   ],
   "source": [
    "#对文件进行迭代，而不使用变量存储文件对象\n",
    "for line in open('somefile2.txt'):\n",
    "    process(line)\n",
    "f.close()"
   ]
  },
  {
   "cell_type": "markdown",
   "metadata": {},
   "source": [
    "迭代标准输入中的所有行"
   ]
  },
  {
   "cell_type": "markdown",
   "metadata": {},
   "source": [
    "```\n",
    "import  sys\n",
    "\n",
    "for line in sys.stdin:\n",
    "\n",
    "process(line)```"
   ]
  },
  {
   "cell_type": "code",
   "execution_count": 104,
   "metadata": {},
   "outputs": [
    {
     "name": "stdout",
     "output_type": "stream",
     "text": [
      "['first line\\n', 'second line\\n', 'third line\\n']\n",
      "first line\n",
      "\n",
      "second line\n",
      "\n",
      "third line\n",
      "\n"
     ]
    }
   ],
   "source": [
    "f=open('somefile3.txt','w')\n",
    "f.write('first line\\n')\n",
    "f.write('second line\\n')\n",
    "f.write('third line\\n')\n",
    "f.close()\n",
    "lines=list(open('somefile3.txt'))\n",
    "print(lines)\n",
    "a,b,c=open('somefile3.txt')\n",
    "print(a)\n",
    "print(b)\n",
    "print(c)"
   ]
  },
  {
   "cell_type": "markdown",
   "metadata": {},
   "source": [
    "# 模块"
   ]
  },
  {
   "cell_type": "code",
   "execution_count": 105,
   "metadata": {},
   "outputs": [
    {
     "name": "stdout",
     "output_type": "stream",
     "text": [
      "hello,world!\n"
     ]
    }
   ],
   "source": [
    "import sys\n",
    "\n",
    "sys.path.append('C:/Users/Administrator/Desktop')\n",
    "import hello\n",
    "\n",
    "hello.hello()"
   ]
  },
  {
   "cell_type": "markdown",
   "metadata": {},
   "source": [
    "在主程序中，*__name__*的值是*__main__*，在导入的模块中是模块名"
   ]
  },
  {
   "cell_type": "code",
   "execution_count": 106,
   "metadata": {},
   "outputs": [
    {
     "name": "stdout",
     "output_type": "stream",
     "text": [
      "__main__\n",
      "hello\n"
     ]
    }
   ],
   "source": [
    "print(__name__)\n",
    "print(hello.__name__)"
   ]
  },
  {
   "cell_type": "code",
   "execution_count": 107,
   "metadata": {},
   "outputs": [
    {
     "name": "stdout",
     "output_type": "stream",
     "text": [
      "This is test demo\n"
     ]
    }
   ],
   "source": [
    "def hello4():\n",
    "    print('hhhh')\n",
    "\n",
    "\n",
    "def test():\n",
    "    print('This is test demo')\n",
    "\n",
    "\n",
    "if __name__ == '__main__': test()"
   ]
  },
  {
   "cell_type": "markdown",
   "metadata": {},
   "source": [
    "查看模块的存放地址"
   ]
  },
  {
   "cell_type": "code",
   "execution_count": 108,
   "metadata": {},
   "outputs": [
    {
     "name": "stdout",
     "output_type": "stream",
     "text": [
      "['',\n",
      " 'D:\\\\Anaconda3\\\\python36.zip',\n",
      " 'D:\\\\Anaconda3\\\\DLLs',\n",
      " 'D:\\\\Anaconda3\\\\lib',\n",
      " 'D:\\\\Anaconda3',\n",
      " 'D:\\\\Anaconda3\\\\lib\\\\site-packages',\n",
      " 'D:\\\\Anaconda3\\\\lib\\\\site-packages\\\\Sphinx-1.5.6-py3.6.egg',\n",
      " 'D:\\\\Anaconda3\\\\lib\\\\site-packages\\\\win32',\n",
      " 'D:\\\\Anaconda3\\\\lib\\\\site-packages\\\\win32\\\\lib',\n",
      " 'D:\\\\Anaconda3\\\\lib\\\\site-packages\\\\Pythonwin',\n",
      " 'D:\\\\Anaconda3\\\\lib\\\\site-packages\\\\setuptools-27.2.0-py3.6.egg',\n",
      " 'D:\\\\Anaconda3\\\\lib\\\\site-packages\\\\IPython\\\\extensions',\n",
      " 'C:\\\\Users\\\\Administrator\\\\.ipython',\n",
      " 'C:/Users/Administrator/Desktop']\n"
     ]
    }
   ],
   "source": [
    "import pprint\n",
    "\n",
    "pprint.pprint(sys.path)"
   ]
  },
  {
   "cell_type": "markdown",
   "metadata": {},
   "source": [
    "### 2.1 模块中有什么"
   ]
  },
  {
   "cell_type": "markdown",
   "metadata": {},
   "source": [
    "1 使用dir"
   ]
  },
  {
   "cell_type": "code",
   "execution_count": 109,
   "metadata": {},
   "outputs": [
    {
     "name": "stdout",
     "output_type": "stream",
     "text": [
      "['Error', '__all__', '__builtins__', '__cached__', '__doc__', '__file__', '__loader__', '__name__', '__package__', '__spec__', '_copy_dispatch', '_copy_immutable', '_deepcopy_atomic', '_deepcopy_dict', '_deepcopy_dispatch', '_deepcopy_list', '_deepcopy_method', '_deepcopy_tuple', '_keep_alive', '_reconstruct', 'copy', 'deepcopy', 'dispatch_table', 'error']\n",
      "['Error', 'copy', 'deepcopy', 'dispatch_table', 'error']\n"
     ]
    }
   ],
   "source": [
    "import copy\n",
    "\n",
    "print(dir(copy))\n",
    "print([n for n in dir(copy) if not n.startswith('_')])"
   ]
  },
  {
   "cell_type": "markdown",
   "metadata": {},
   "source": [
    "2 all变量"
   ]
  },
  {
   "cell_type": "code",
   "execution_count": 110,
   "metadata": {},
   "outputs": [
    {
     "name": "stdout",
     "output_type": "stream",
     "text": [
      "['Error', 'copy', 'deepcopy']\n"
     ]
    }
   ],
   "source": [
    "print(copy.__all__)"
   ]
  },
  {
   "cell_type": "markdown",
   "metadata": {},
   "source": [
    "用 from copy import * 代码，就只能使用all中的3个函数，使用其他的就得显示引入"
   ]
  },
  {
   "cell_type": "markdown",
   "metadata": {},
   "source": [
    "### 2.2 使用help"
   ]
  },
  {
   "cell_type": "code",
   "execution_count": 111,
   "metadata": {},
   "outputs": [
    {
     "name": "stdout",
     "output_type": "stream",
     "text": [
      "Help on function copy in module copy:\n",
      "\n",
      "copy(x)\n",
      "    Shallow copy operation on arbitrary Python objects.\n",
      "    \n",
      "    See the module's __doc__ string for more info.\n",
      "\n"
     ]
    }
   ],
   "source": [
    "help(copy.copy)"
   ]
  },
  {
   "cell_type": "markdown",
   "metadata": {},
   "source": [
    "### 2.3 文档"
   ]
  },
  {
   "cell_type": "code",
   "execution_count": 112,
   "metadata": {},
   "outputs": [
    {
     "name": "stdout",
     "output_type": "stream",
     "text": [
      "range(stop) -> range object\n",
      "range(start, stop[, step]) -> range object\n",
      "\n",
      "Return an object that produces a sequence of integers from start (inclusive)\n",
      "to stop (exclusive) by step.  range(i, j) produces i, i+1, i+2, ..., j-1.\n",
      "start defaults to 0, and stop is omitted!  range(4) produces 0, 1, 2, 3.\n",
      "These are exactly the valid indices for a list of 4 elements.\n",
      "When step is given, it specifies the increment (or decrement).\n"
     ]
    }
   ],
   "source": [
    "print(range.__doc__)"
   ]
  },
  {
   "cell_type": "markdown",
   "metadata": {},
   "source": [
    "### 2.4 阅读源代码"
   ]
  },
  {
   "cell_type": "code",
   "execution_count": 113,
   "metadata": {},
   "outputs": [
    {
     "name": "stdout",
     "output_type": "stream",
     "text": [
      "D:\\Anaconda3\\lib\\copy.py\n"
     ]
    }
   ],
   "source": [
    "print(copy.__file__)  # 得到copy模块源代码地址"
   ]
  },
  {
   "cell_type": "markdown",
   "metadata": {},
   "source": [
    "## 3 标准库"
   ]
  },
  {
   "cell_type": "markdown",
   "metadata": {},
   "source": [
    "### 3.1 sys"
   ]
  },
  {
   "cell_type": "markdown",
   "metadata": {},
   "source": [
    "sys中一些重要函数和变量\n",
    "+ argv           命令行参数，包括脚本名称\n",
    "+ exit([arg])    退出当前程序，可选参数为给定的返回值或错误信息\n",
    "- modules        映射模块名字到载入模块的字典\n",
    "- path           查找模块所在目录的目录名列表\n",
    "- platform       类似sunos5或win32的平台标识符\n",
    "- stdin          标准输入流----一个类文件对象\n",
    "- stdout         标准输出流----一个类文件对象\n",
    "- stderr         标准错误流----一个类文件对象"
   ]
  },
  {
   "cell_type": "markdown",
   "metadata": {},
   "source": [
    "反序打印命令行参数"
   ]
  },
  {
   "cell_type": "code",
   "execution_count": 116,
   "metadata": {},
   "outputs": [
    {
     "name": "stdout",
     "output_type": "stream",
     "text": [
      "C:\\Users\\Administrator\\AppData\\Roaming\\jupyter\\runtime\\kernel-48f6eb3f-894b-4bc5-a7bf-d4c5c5dcd981.json -f\n"
     ]
    }
   ],
   "source": [
    "import sys\n",
    "arg = sys.argv[1:]\n",
    "arg.reverse()\n",
    "print(' '.join(arg))"
   ]
  },
  {
   "cell_type": "markdown",
   "metadata": {},
   "source": [
    "### 3.2 os"
   ]
  },
  {
   "cell_type": "markdown",
   "metadata": {},
   "source": [
    "os中一些重要函数和变量\n",
    "+ environ         对于环境变量进行映射\n",
    "- system(command) 在子shell中执行操作系统命令\n",
    "- sep             路径中的分隔符\n",
    "- pathsep         分隔路径的分隔符\n",
    "- linesep         行分隔符（\\n,\\r,\\r\\n）\n",
    "- urandom(n)      返回n字节的加密强随机数据"
   ]
  },
  {
   "cell_type": "markdown",
   "metadata": {},
   "source": [
    "### 3.3 fileinput"
   ]
  },
  {
   "cell_type": "markdown",
   "metadata": {},
   "source": [
    "- input([files[,inplace[,backup]]])   #便于遍历多个输入流的行\n",
    "- filename          返回当前文件的名称\n",
    "- lineno            返回当前（累计）的行数\n",
    "- isfristline       查询当前行是否是文件的第一行\n",
    "- isstdin           检测最后一行是否来自sys.stdin\n",
    "- nextfile          关闭当前文件，移动到下一个文件\n",
    "- close             关闭序列"
   ]
  },
  {
   "cell_type": "markdown",
   "metadata": {},
   "source": [
    "### 3.4集合，堆和双端序列"
   ]
  },
  {
   "cell_type": "markdown",
   "metadata": {},
   "source": [
    "###### 1.集合(set)"
   ]
  },
  {
   "cell_type": "code",
   "execution_count": 118,
   "metadata": {},
   "outputs": [
    {
     "name": "stdout",
     "output_type": "stream",
     "text": [
      "{0, 1, 2, 3, 4, 5, 6, 7, 8, 9}\n",
      "{1, 2, 3, 4, 5}\n",
      "{'foo', 'dde', 'nad'}\n",
      "{1, 2, 3, 4}\n",
      "{1, 2, 3, 4}\n",
      "True\n",
      "True\n",
      "False\n",
      "False\n",
      "{2, 3}\n",
      "{2, 3}\n",
      "{1}\n",
      "{1, 4}\n",
      "{1, 4}\n",
      "{1, 2, 3}\n",
      "False\n"
     ]
    }
   ],
   "source": [
    "print(set(range(10)))\n",
    "# 检查成员资格，因此忽略重复值\n",
    "print(set([1, 2, 3, 4, 5, 1, 2, 3, 4, 5]))\n",
    "# 和字典一样，顺序随意\n",
    "print(set(['foo', 'nad', 'dde']))\n",
    "a = set([1, 2, 3])\n",
    "b = set([2, 3, 4])\n",
    "print(a.union(b))\n",
    "print(a | b)\n",
    "c = a & b\n",
    "print(c.issubset(a))\n",
    "print(c <= a)\n",
    "print(c.issuperset(a))\n",
    "print(c > a)\n",
    "print(a.intersection(b))\n",
    "print(a & b)\n",
    "print(a.difference(b))\n",
    "print(a.symmetric_difference(b))\n",
    "print(a ^ b)\n",
    "print(a.copy())\n",
    "print(a.copy() is a)"
   ]
  },
  {
   "cell_type": "markdown",
   "metadata": {},
   "source": [
    "集合可变，不能做字典的键，集合本身只能包含不可变的值，故集合不能包含集合，但实际上集合的集合\n",
    " 很常见，所以可以用frozenset类型，用于代表不可变集合"
   ]
  },
  {
   "cell_type": "code",
   "execution_count": 119,
   "metadata": {
    "collapsed": true
   },
   "outputs": [],
   "source": [
    "a = set()\n",
    "b = set()"
   ]
  },
  {
   "cell_type": "code",
   "execution_count": 120,
   "metadata": {},
   "outputs": [
    {
     "ename": "TypeError",
     "evalue": "unhashable type: 'set'",
     "output_type": "error",
     "traceback": [
      "\u001b[1;31m---------------------------------------------------------------------------\u001b[0m",
      "\u001b[1;31mTypeError\u001b[0m                                 Traceback (most recent call last)",
      "\u001b[1;32m<ipython-input-120-a1cb1b03d031>\u001b[0m in \u001b[0;36m<module>\u001b[1;34m()\u001b[0m\n\u001b[1;32m----> 1\u001b[1;33m \u001b[0ma\u001b[0m\u001b[1;33m.\u001b[0m\u001b[0madd\u001b[0m\u001b[1;33m(\u001b[0m\u001b[0mb\u001b[0m\u001b[1;33m)\u001b[0m\u001b[1;33m\u001b[0m\u001b[0m\n\u001b[0m",
      "\u001b[1;31mTypeError\u001b[0m: unhashable type: 'set'"
     ]
    }
   ],
   "source": [
    "a.add(b)"
   ]
  },
  {
   "cell_type": "code",
   "execution_count": 121,
   "metadata": {},
   "outputs": [
    {
     "name": "stdout",
     "output_type": "stream",
     "text": [
      "{frozenset()}\n"
     ]
    }
   ],
   "source": [
    "a.add(frozenset(b))\n",
    "print(a)"
   ]
  },
  {
   "cell_type": "markdown",
   "metadata": {},
   "source": [
    "###### 2.堆（heap)"
   ]
  },
  {
   "cell_type": "markdown",
   "metadata": {},
   "source": [
    "python没有独立的堆模型，只有一个包含一些堆操作函数的模块--heapq\n",
    "heapq模块常用函数\n",
    "- heappush(heap,x)          将x入堆\n",
    "- heappop(heap)             将堆中最小元素弹出\n",
    "- heapify(heap)             将heap属性强制应用到任意一个列表\n",
    "- heapreplace(heap,x)       将堆中最小元素弹出，同时将x入堆\n",
    "- nlargest(n,iter)          返回iter中第n大元素\n",
    "- nsamllest(n,iter)         返回iter中第n小元素"
   ]
  },
  {
   "cell_type": "code",
   "execution_count": 124,
   "metadata": {},
   "outputs": [
    {
     "name": "stdout",
     "output_type": "stream",
     "text": [
      "[6, 3, 9, 1, 4, 0, 7, 5, 8, 2]\n",
      "[0, 2, 1, 5, 3, 9, 7, 6, 8, 4]\n",
      "[0, 0.5, 1, 5, 2, 9, 7, 6, 8, 4, 3]\n",
      "0\n",
      "0.5\n",
      "[1, 2, 4, 5, 3, 9, 7, 6, 8]\n"
     ]
    }
   ],
   "source": [
    "from heapq import  *\n",
    "from random import  shuffle\n",
    "data=list(range(10))\n",
    "shuffle(data)\n",
    "print(data)\n",
    "heap=[]\n",
    "for n in data:\n",
    "    heappush(heap,n)\n",
    "print(heap)\n",
    "heappush(heap,0.5)\n",
    "print(heap)\n",
    "x=heappop(heap)\n",
    "print(x)\n",
    "y=heappop(heap)\n",
    "print(y)\n",
    "print(heap)"
   ]
  },
  {
   "cell_type": "markdown",
   "metadata": {},
   "source": [
    "heapify用任何列表作为参数，并转换为合理的堆"
   ]
  },
  {
   "cell_type": "code",
   "execution_count": 125,
   "metadata": {},
   "outputs": [
    {
     "name": "stdout",
     "output_type": "stream",
     "text": [
      "[0, 1, 2, 5, 6, 4, 3, 9, 7, 8]\n",
      "[0.2, 1, 2, 5, 6, 4, 3, 9, 7, 8]\n"
     ]
    }
   ],
   "source": [
    "heap=[8,6,3,7,1,4,2,9,5,0]\n",
    "heapify(heap)\n",
    "print(heap)\n",
    "heapreplace(heap,0.2)\n",
    "print(heap)"
   ]
  },
  {
   "cell_type": "markdown",
   "metadata": {},
   "source": [
    "##### 3.双端队列"
   ]
  },
  {
   "cell_type": "code",
   "execution_count": 126,
   "metadata": {},
   "outputs": [
    {
     "name": "stdout",
     "output_type": "stream",
     "text": [
      "deque([0, 1, 2, 3, 4])\n",
      "deque([6, 0, 1, 2, 3, 4, 5])\n",
      "5 6\n",
      "deque([0, 1, 2, 3, 4])\n"
     ]
    }
   ],
   "source": [
    "from collections import  deque\n",
    "q=deque(range(5))\n",
    "print(q)\n",
    "q.append(5)\n",
    "q.appendleft(6)\n",
    "print(q)\n",
    "x=q.pop()\n",
    "y=q.popleft()\n",
    "print(x,y)\n",
    "print(q)"
   ]
  },
  {
   "cell_type": "markdown",
   "metadata": {},
   "source": [
    "rotate，左移或右移"
   ]
  },
  {
   "cell_type": "code",
   "execution_count": 127,
   "metadata": {},
   "outputs": [
    {
     "name": "stdout",
     "output_type": "stream",
     "text": [
      "deque([4, 0, 1, 2, 3])\n",
      "deque([2, 3, 4, 0, 1])\n",
      "deque([3, 4, 0, 1, 2])\n"
     ]
    }
   ],
   "source": [
    "q.rotate()\n",
    "print(q)\n",
    "q.rotate(2)\n",
    "print(q)\n",
    "q.rotate(-1)\n",
    "print(q)"
   ]
  },
  {
   "cell_type": "markdown",
   "metadata": {},
   "source": [
    "###### 3.5.time"
   ]
  },
  {
   "cell_type": "markdown",
   "metadata": {},
   "source": [
    "日期可以用实数或者是包含有9个整数的元组表示"
   ]
  },
  {
   "cell_type": "markdown",
   "metadata": {},
   "source": [
    "python日期元组各字段意义\n",
    "- 索引      字段       值\n",
    "- 0         年        2017,2016等\n",
    "- 1         月        1-12\n",
    "- 2         日        1-31\n",
    "- 3         时        0-23\n",
    "- 4         分        0-59\n",
    "- 5         秒        0-61\n",
    "- 6         周几        0-6\n",
    "- 7         儒令日     1-366\n",
    "- 8         夏令时     0，-1,1"
   ]
  },
  {
   "cell_type": "markdown",
   "metadata": {},
   "source": [
    "ime模块重要函数\n",
    "- asctime([tuple])        将时间元组转换为字符串\n",
    "- localtime([secs])       将秒数转换为日期元组，以当地时间为准\n",
    "- mktime(tuple)           将时间元组转换为当地时间\n",
    "- sleep(secs)             休眠secs秒\n",
    "- strptime(string[,format]) 将字符串解析为时间元组\n",
    "- time()              "
   ]
  },
  {
   "cell_type": "markdown",
   "metadata": {},
   "source": [
    "###### 3.6.random模块"
   ]
  },
  {
   "cell_type": "markdown",
   "metadata": {},
   "source": [
    "重要函数\n",
    "- random()              返回0<=n<1之间的实数，其中0<n<=1\n",
    "- getrandbits(n)        以长整数形式返回n个随机位\n",
    "- uniform(a,b)          返回随机整数n，其中a<=n<b\n",
    "- randrange([start],stop,[step]) 返回range(start,stop,step)中的随机数\n",
    "- choice(seq)           返回序列seq的任意元素\n",
    "- shuffle(seq[,random])   原地随机排序seq,并返回空值\n",
    "- sample(seq,n)            从序列中返回n个随机且独立的值"
   ]
  },
  {
   "cell_type": "code",
   "execution_count": 129,
   "metadata": {},
   "outputs": [
    {
     "name": "stdout",
     "output_type": "stream",
     "text": [
      "0.7544249922242564\n",
      "29\n",
      "7.2732699728565\n",
      "3\n",
      "4\n",
      "[2, 4, 5, 3, 1, 6]\n",
      "[1, 3, 6]\n"
     ]
    }
   ],
   "source": [
    "import random\n",
    "print(random.random())\n",
    "print(random.getrandbits(5))\n",
    "print(random.uniform(4,9))\n",
    "print(random.randrange(1,10,2))\n",
    "print(random.choice([1,2,3,4,5,6,7,8]))\n",
    "a=[1,2,3,4,5,6]\n",
    "random.shuffle(a)\n",
    "print(a)\n",
    "print(random.sample([1,2,3,4,5,6],3))"
   ]
  },
  {
   "cell_type": "code",
   "execution_count": 130,
   "metadata": {},
   "outputs": [
    {
     "name": "stdout",
     "output_type": "stream",
     "text": [
      "Mon Jul 21 00:30:28 2008\n"
     ]
    }
   ],
   "source": [
    "from time import  *\n",
    "from random import  *\n",
    "date1=(2008,1,1,0,0,0,-1,-1,-1)\n",
    "time1=mktime(date1)\n",
    "date2=(2009,1,1,0,0,0,-1,-1,-1)\n",
    "time2=mktime(date2)\n",
    "random_time=uniform(time1,time2)\n",
    "print(asctime(localtime(random_time)))"
   ]
  },
  {
   "cell_type": "markdown",
   "metadata": {},
   "source": [
    "#### 3.7.shelve"
   ]
  },
  {
   "cell_type": "code",
   "execution_count": 131,
   "metadata": {},
   "outputs": [
    {
     "name": "stdout",
     "output_type": "stream",
     "text": [
      "['a', 'b', 'c']\n"
     ]
    }
   ],
   "source": [
    "import shelve\n",
    "s=shelve.open('test.dat')\n",
    "s['x']=['a','b','c']\n",
    "s['x'].append('d')\n",
    "print(s['x'])"
   ]
  },
  {
   "cell_type": "markdown",
   "metadata": {},
   "source": [
    "d不见了，可以解释为：当你在shelf对象中查找元素时，这个对象会根据已存储的对象进行重新构建，当你\n",
    "当你将某个元素赋给某个键时，它就被存储了，上述过程执行的操作如下：\n",
    "1. 列表['a','b','c']被存储在x键下\n",
    "2. 获得存储表示，并根据它创建新的列表，而d被添加到这个副本中。修改的版本还没存储\n",
    "3. 最终，再次获得原始版本，没有d"
   ]
  },
  {
   "cell_type": "markdown",
   "metadata": {},
   "source": [
    "可以这么解决"
   ]
  },
  {
   "cell_type": "code",
   "execution_count": 132,
   "metadata": {},
   "outputs": [
    {
     "name": "stdout",
     "output_type": "stream",
     "text": [
      "['a', 'b', 'c', 'd']\n"
     ]
    }
   ],
   "source": [
    "temp=s['x']\n",
    "temp.append('d')\n",
    "s['x']=temp\n",
    "print(s['x'])"
   ]
  },
  {
   "cell_type": "markdown",
   "metadata": {},
   "source": [
    "或"
   ]
  },
  {
   "cell_type": "code",
   "execution_count": 133,
   "metadata": {},
   "outputs": [
    {
     "name": "stdout",
     "output_type": "stream",
     "text": [
      "['a', 'b', 'c', 'e']\n"
     ]
    }
   ],
   "source": [
    "s=shelve.open('test.dat',writeback=True)\n",
    "s['x']=['a','b','c']\n",
    "s['x'].append('e')\n",
    "print(s['x'])"
   ]
  },
  {
   "cell_type": "markdown",
   "metadata": {},
   "source": [
    "###### 3.8.re模块"
   ]
  },
  {
   "cell_type": "markdown",
   "metadata": {},
   "source": [
    "1.什么是正则表达式"
   ]
  },
  {
   "cell_type": "markdown",
   "metadata": {},
   "source": [
    "- 通配符"
   ]
  },
  {
   "cell_type": "markdown",
   "metadata": {
    "collapsed": true
   },
   "source": [
    "点号可以匹配任意一个字符"
   ]
  },
  {
   "cell_type": "markdown",
   "metadata": {},
   "source": [
    "- 对特殊字符进行转义"
   ]
  },
  {
   "cell_type": "markdown",
   "metadata": {},
   "source": [
    "反斜线"
   ]
  },
  {
   "cell_type": "markdown",
   "metadata": {},
   "source": [
    "- 字符集"
   ]
  },
  {
   "cell_type": "markdown",
   "metadata": {},
   "source": [
    "[a-zA-Z0-9]可以匹配任意大小写英文字母和数字，反转字符集可以用^表示,[^0-9]表示不匹配任意数字"
   ]
  },
  {
   "cell_type": "markdown",
   "metadata": {},
   "source": [
    "- 选择符和子模式"
   ]
  },
  {
   "cell_type": "markdown",
   "metadata": {},
   "source": [
    "管道符号： |  表示或者的意思，例如'python|perl)'可以匹配python或perl；有时候只需要对模式的一部分使用运算符，可以用()括起来表示子模式，例如前例可以写成'p(ython|erl)'"
   ]
  },
  {
   "cell_type": "markdown",
   "metadata": {},
   "source": [
    "- 可选项和重复子模式"
   ]
  },
  {
   "cell_type": "markdown",
   "metadata": {},
   "source": [
    "在子模式后面加上？或者*或者+或者{m,n}就变成了可选项，表示子模式出现0次或一次，0次或多次，一次或多次，至少m次至多n次"
   ]
  },
  {
   "cell_type": "markdown",
   "metadata": {},
   "source": [
    "- 字符串开始和结尾"
   ]
  },
  {
   "cell_type": "markdown",
   "metadata": {},
   "source": [
    "只在字符串开头匹配用^,只在字符串结尾匹配用$"
   ]
  },
  {
   "cell_type": "markdown",
   "metadata": {},
   "source": [
    "2,re模块的内容"
   ]
  },
  {
   "cell_type": "markdown",
   "metadata": {},
   "source": [
    "re模块的一些重要函数：\n",
    "- compile(pattern[,flags])            根据包含正则表达式的字符串创建模式对象\n",
    "- search(pattern,string[,flags])      在字符串中寻找模式\n",
    "- match(pattern,string[,flags])       在字符串开始处匹配模式\n",
    "- split(pattern,string[, maxsplit=0]) 根据模式的匹配项分隔字符串\n",
    "- findall(pattern,string)             列出字符串中模式的所以匹配项\n",
    "- sub(pat,peal,string[,count=0])      将字符串中所有pat匹配项用peal替换\n",
    "- escape(string)                      将字符串中所有特殊正则表达式转义"
   ]
  },
  {
   "cell_type": "markdown",
   "metadata": {},
   "source": [
    "匹配模式必须用''包起来"
   ]
  },
  {
   "cell_type": "code",
   "execution_count": 1,
   "metadata": {},
   "outputs": [
    {
     "name": "stdout",
     "output_type": "stream",
     "text": [
      "<_sre.SRE_Match object; span=(0, 1), match='p'>\n",
      "None\n"
     ]
    }
   ],
   "source": [
    "import re\n",
    "print(re.match('p','python'))\n",
    "print(re.match('p','ython'))"
   ]
  },
  {
   "cell_type": "code",
   "execution_count": 5,
   "metadata": {},
   "outputs": [
    {
     "data": {
      "text/plain": [
       "['alpha', 'beta', 'gamma   gelta']"
      ]
     },
     "execution_count": 5,
     "metadata": {},
     "output_type": "execute_result"
    }
   ],
   "source": [
    "some_text='alpha,beta,,,gamma   gelta'\n",
    "re.split('[,]+',some_text)"
   ]
  },
  {
   "cell_type": "markdown",
   "metadata": {},
   "source": [
    "如果模式中包含小括号，那么括起来的字符组会散布在分割后的字符串之间"
   ]
  },
  {
   "cell_type": "code",
   "execution_count": 6,
   "metadata": {},
   "outputs": [
    {
     "data": {
      "text/plain": [
       "['f', 'o', 'bar']"
      ]
     },
     "execution_count": 6,
     "metadata": {},
     "output_type": "execute_result"
    }
   ],
   "source": [
    "re.split('o(o)','foobar')"
   ]
  },
  {
   "cell_type": "code",
   "execution_count": 7,
   "metadata": {},
   "outputs": [
    {
     "data": {
      "text/plain": [
       "['alpha', 'beta', 'gamma   gelta']"
      ]
     },
     "execution_count": 7,
     "metadata": {},
     "output_type": "execute_result"
    }
   ],
   "source": [
    "re.split('[,]+',some_text,maxsplit=2)"
   ]
  },
  {
   "cell_type": "code",
   "execution_count": 8,
   "metadata": {},
   "outputs": [
    {
     "data": {
      "text/plain": [
       "['alpha', 'beta,,,gamma   gelta']"
      ]
     },
     "execution_count": 8,
     "metadata": {},
     "output_type": "execute_result"
    }
   ],
   "source": [
    "re.split('[,]+',some_text,maxsplit=1)"
   ]
  },
  {
   "cell_type": "markdown",
   "metadata": {},
   "source": [
    "maxsplit表示最多分隔的部分"
   ]
  },
  {
   "cell_type": "code",
   "execution_count": 11,
   "metadata": {},
   "outputs": [
    {
     "data": {
      "text/plain": [
       "['Hm', 'er', 'are', 'you', 'sure', 'he', 'said', 'sounding', 'insecure']"
      ]
     },
     "execution_count": 11,
     "metadata": {},
     "output_type": "execute_result"
    }
   ],
   "source": [
    "pat='[a-zA-z]+'\n",
    "text='\"Hm...er---are you sure?\"he said,sounding insecure.'\n",
    "re.findall(pat,text)"
   ]
  },
  {
   "cell_type": "code",
   "execution_count": 13,
   "metadata": {},
   "outputs": [
    {
     "data": {
      "text/plain": [
       "['\"', '...', '---', '?\"', ',', '.']"
      ]
     },
     "execution_count": 13,
     "metadata": {},
     "output_type": "execute_result"
    }
   ],
   "source": [
    "pat='[.?\"\\-,]+'\n",
    "re.findall(pat,text)"
   ]
  },
  {
   "cell_type": "markdown",
   "metadata": {},
   "source": [
    "字符-被转义了，不会被解释为字符范围的一部分（a-z）"
   ]
  },
  {
   "cell_type": "code",
   "execution_count": 15,
   "metadata": {},
   "outputs": [
    {
     "data": {
      "text/plain": [
       "' Dear Mr xu...'"
      ]
     },
     "execution_count": 15,
     "metadata": {},
     "output_type": "execute_result"
    }
   ],
   "source": [
    "pat='{name}'\n",
    "text=' Dear {name}...'\n",
    "re.sub(pat,'Mr xu',text)"
   ]
  },
  {
   "cell_type": "markdown",
   "metadata": {},
   "source": [
    "re.escape将字符串中所有可能被解释为正则运算符的表达式进行转义"
   ]
  },
  {
   "cell_type": "code",
   "execution_count": 17,
   "metadata": {},
   "outputs": [
    {
     "data": {
      "text/plain": [
       "'www\\\\.pythob\\\\.ord'"
      ]
     },
     "execution_count": 17,
     "metadata": {},
     "output_type": "execute_result"
    }
   ],
   "source": [
    "re.escape('www.pythob.ord')"
   ]
  },
  {
   "cell_type": "code",
   "execution_count": 19,
   "metadata": {},
   "outputs": [
    {
     "data": {
      "text/plain": [
       "'But\\\\ where\\\\ is\\\\ ambulity\\\\?'"
      ]
     },
     "execution_count": 19,
     "metadata": {},
     "output_type": "execute_result"
    }
   ],
   "source": [
    "re.escape('But where is ambulity?')"
   ]
  },
  {
   "cell_type": "markdown",
   "metadata": {},
   "source": [
    "3.匹配对象和组"
   ]
  },
  {
   "cell_type": "markdown",
   "metadata": {},
   "source": [
    "组就是放在圆括号内的子模式，组的序号取决于它左边的括号数，组0就是整个模式。"
   ]
  },
  {
   "cell_type": "markdown",
   "metadata": {},
   "source": [
    "比如下面模式中：'There (was a (wee)  (cooper)) who (lived in Fyfe)'\n",
    "- 组0：There was a wee cooper who lived in Fyfe\n",
    "- 组1：was a wee cooper\n",
    "- 组2: wee\n",
    "- 组3：cooper\n",
    "- 组4：lived in Fyfe"
   ]
  },
  {
   "cell_type": "markdown",
   "metadata": {},
   "source": [
    "re匹配对象的重要方法\n",
    "- group([group1,...])      获取给定子模式（组）的匹配项\n",
    "- start([group])           返回给定组的匹配项的开始位置\n",
    "- end([group])             返回给定组的匹配项的结束位置\n",
    "- end([group])             返回一个组的开始和结束位置"
   ]
  },
  {
   "cell_type": "markdown",
   "metadata": {},
   "source": [
    "group方法返回与给定组匹配的(子)字符串,若没有给出组号，则默认为0，若给定一个组号，会返回单个字符串。否则会将给定组数的字符串作为元组返回。"
   ]
  },
  {
   "cell_type": "code",
   "execution_count": 20,
   "metadata": {
    "collapsed": true
   },
   "outputs": [],
   "source": [
    "m=re.match(r'www\\.(.*)\\..{3}','www.python.org')"
   ]
  },
  {
   "cell_type": "code",
   "execution_count": 21,
   "metadata": {},
   "outputs": [
    {
     "data": {
      "text/plain": [
       "'python'"
      ]
     },
     "execution_count": 21,
     "metadata": {},
     "output_type": "execute_result"
    }
   ],
   "source": [
    "m.group(1)"
   ]
  },
  {
   "cell_type": "code",
   "execution_count": 22,
   "metadata": {},
   "outputs": [
    {
     "data": {
      "text/plain": [
       "'www.python.org'"
      ]
     },
     "execution_count": 22,
     "metadata": {},
     "output_type": "execute_result"
    }
   ],
   "source": [
    "m.group()"
   ]
  },
  {
   "cell_type": "code",
   "execution_count": 24,
   "metadata": {},
   "outputs": [
    {
     "data": {
      "text/plain": [
       "4"
      ]
     },
     "execution_count": 24,
     "metadata": {},
     "output_type": "execute_result"
    }
   ],
   "source": [
    "m.start(1)"
   ]
  },
  {
   "cell_type": "code",
   "execution_count": 25,
   "metadata": {},
   "outputs": [
    {
     "data": {
      "text/plain": [
       "10"
      ]
     },
     "execution_count": 25,
     "metadata": {},
     "output_type": "execute_result"
    }
   ],
   "source": [
    "m.end(1)"
   ]
  },
  {
   "cell_type": "code",
   "execution_count": 27,
   "metadata": {},
   "outputs": [
    {
     "data": {
      "text/plain": [
       "(4, 10)"
      ]
     },
     "execution_count": 27,
     "metadata": {},
     "output_type": "execute_result"
    }
   ],
   "source": [
    "m.span(1)"
   ]
  },
  {
   "cell_type": "markdown",
   "metadata": {},
   "source": [
    "4,作为替换的组号和函数"
   ]
  },
  {
   "cell_type": "raw",
   "metadata": {},
   "source": [
    "re.sub可以在替换中使用组号，例如把'*something*'用'<em>something</em>替换，可以这么做"
   ]
  },
  {
   "cell_type": "code",
   "execution_count": 33,
   "metadata": {},
   "outputs": [
    {
     "data": {
      "text/plain": [
       "'hello,<em>\\\\l</em>!'"
      ]
     },
     "execution_count": 33,
     "metadata": {},
     "output_type": "execute_result"
    }
   ],
   "source": [
    "pattern=r'\\*([^\\*]+)\\*'\n",
    "re.sub(pattern,r'<em>\\l</em>','hello,*world*!')"
   ]
  },
  {
   "cell_type": "markdown",
   "metadata": {},
   "source": [
    "5.找出Email的发送人"
   ]
  },
  {
   "cell_type": "markdown",
   "metadata": {},
   "source": [
    "相关代码\n",
    "```\n",
    "#find_sender.py\n",
    "import fileinput,re\n",
    "pat=re.compile('From:(.*)<.+?>$')\n",
    "for line in fileinput.input():\n",
    "    m=re.match(line)\n",
    "    if m:\n",
    "        print(m.group(1))\n",
    " ```"
   ]
  },
  {
   "cell_type": "markdown",
   "metadata": {},
   "source": [
    "- 用compile函数处理了正则表达式，让处理过程更有效率\n",
    "- 将取出的子模式放在圆括号中作为组\n",
    "- 使用费贪婪模式对邮件地址进行匹配\n",
    "- 使用美元符号表明匹配整行\n",
    "- 使用if语句确保在从特定组中取出内容前，的确进行了匹配"
   ]
  },
  {
   "cell_type": "markdown",
   "metadata": {},
   "source": [
    "接下来找到头部信息的所有Email地址\n",
    "```\n",
    "import fileinput,re\n",
    "address=set()\n",
    "for line in fileinput.input():\n",
    "    for address in pat.findall(line):\n",
    "        address.add(address)\n",
    "    for address in sorted(address):\n",
    "        print(address)\n",
    "```"
   ]
  },
  {
   "cell_type": "markdown",
   "metadata": {},
   "source": [
    "6.模版系统示例"
   ]
  },
  {
   "cell_type": "code",
   "execution_count": null,
   "metadata": {
    "collapsed": true
   },
   "outputs": [],
   "source": []
  }
 ],
 "metadata": {
  "kernelspec": {
   "display_name": "Python 3",
   "language": "python",
   "name": "python3"
  },
  "language_info": {
   "codemirror_mode": {
    "name": "ipython",
    "version": 3
   },
   "file_extension": ".py",
   "mimetype": "text/x-python",
   "name": "python",
   "nbconvert_exporter": "python",
   "pygments_lexer": "ipython3",
   "version": "3.6.1"
  }
 },
 "nbformat": 4,
 "nbformat_minor": 2
}
