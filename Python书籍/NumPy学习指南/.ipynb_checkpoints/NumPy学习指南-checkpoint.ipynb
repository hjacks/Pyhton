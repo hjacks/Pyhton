{
 "cells": [
  {
   "cell_type": "markdown",
   "metadata": {},
   "source": [
    "# 第二章 NumPy基础"
   ]
  },
  {
   "cell_type": "markdown",
   "metadata": {},
   "source": [
    "## 2.1 NumPy数组对象"
   ]
  },
  {
   "cell_type": "markdown",
   "metadata": {},
   "source": [
    "NumPy中的ndarray是一个多维数组对象，该对象由两部分组成：\n",
    "+ 实际的数据；\n",
    "+ 描述这些数据的元数据。"
   ]
  },
  {
   "cell_type": "markdown",
   "metadata": {},
   "source": [
    "NumPy数组一般是同质的（但有一种特殊的数组类型例外，它是异质的），即数组中的所有\n",
    "元素类型必须是一致的。这样有一个好处：如果我们知道数组中的元素均为同一类型，该数组所\n",
    "需的存储空间就很容易确定下来。"
   ]
  },
  {
   "cell_type": "markdown",
   "metadata": {
    "collapsed": true
   },
   "source": [
    " NumPy数组的下标也是从0开始的。"
   ]
  },
  {
   "cell_type": "code",
   "execution_count": 372,
   "metadata": {
    "collapsed": true
   },
   "outputs": [],
   "source": [
    "import numpy as np"
   ]
  },
  {
   "cell_type": "code",
   "execution_count": 373,
   "metadata": {
    "collapsed": true
   },
   "outputs": [],
   "source": [
    "a=np.arange(5)"
   ]
  },
  {
   "cell_type": "code",
   "execution_count": 374,
   "metadata": {},
   "outputs": [
    {
     "data": {
      "text/plain": [
       "dtype('int32')"
      ]
     },
     "execution_count": 374,
     "metadata": {},
     "output_type": "execute_result"
    }
   ],
   "source": [
    "a.dtype"
   ]
  },
  {
   "cell_type": "code",
   "execution_count": 375,
   "metadata": {},
   "outputs": [
    {
     "data": {
      "text/plain": [
       "array([0, 1, 2, 3, 4])"
      ]
     },
     "execution_count": 375,
     "metadata": {},
     "output_type": "execute_result"
    }
   ],
   "source": [
    "a"
   ]
  },
  {
   "cell_type": "code",
   "execution_count": 376,
   "metadata": {},
   "outputs": [
    {
     "data": {
      "text/plain": [
       "(5,)"
      ]
     },
     "execution_count": 376,
     "metadata": {},
     "output_type": "execute_result"
    }
   ],
   "source": [
    "a.shape"
   ]
  },
  {
   "cell_type": "markdown",
   "metadata": {},
   "source": [
    "## 2.2 动手实践：创建多维数组"
   ]
  },
  {
   "cell_type": "code",
   "execution_count": 377,
   "metadata": {
    "collapsed": true
   },
   "outputs": [],
   "source": [
    "m=np.array([np.arange(2),np.arange(2)])"
   ]
  },
  {
   "cell_type": "code",
   "execution_count": 378,
   "metadata": {},
   "outputs": [
    {
     "data": {
      "text/plain": [
       "array([[0, 1],\n",
       "       [0, 1]])"
      ]
     },
     "execution_count": 378,
     "metadata": {},
     "output_type": "execute_result"
    }
   ],
   "source": [
    "m"
   ]
  },
  {
   "cell_type": "code",
   "execution_count": 379,
   "metadata": {},
   "outputs": [
    {
     "data": {
      "text/plain": [
       "(2, 2)"
      ]
     },
     "execution_count": 379,
     "metadata": {},
     "output_type": "execute_result"
    }
   ],
   "source": [
    "m.shape"
   ]
  },
  {
   "cell_type": "code",
   "execution_count": 380,
   "metadata": {
    "collapsed": true
   },
   "outputs": [],
   "source": [
    "a=np.array([[1,2],[3,4]])"
   ]
  },
  {
   "cell_type": "markdown",
   "metadata": {},
   "source": [
    "### 2.2.1 选取数组元素"
   ]
  },
  {
   "cell_type": "code",
   "execution_count": 381,
   "metadata": {},
   "outputs": [
    {
     "data": {
      "text/plain": [
       "array([[1, 2],\n",
       "       [3, 4]])"
      ]
     },
     "execution_count": 381,
     "metadata": {},
     "output_type": "execute_result"
    }
   ],
   "source": [
    "a"
   ]
  },
  {
   "cell_type": "code",
   "execution_count": 382,
   "metadata": {},
   "outputs": [
    {
     "data": {
      "text/plain": [
       "1"
      ]
     },
     "execution_count": 382,
     "metadata": {},
     "output_type": "execute_result"
    }
   ],
   "source": [
    "a[0,0]"
   ]
  },
  {
   "cell_type": "code",
   "execution_count": 383,
   "metadata": {},
   "outputs": [
    {
     "data": {
      "text/plain": [
       "4"
      ]
     },
     "execution_count": 383,
     "metadata": {},
     "output_type": "execute_result"
    }
   ],
   "source": [
    "a[1,1]"
   ]
  },
  {
   "cell_type": "markdown",
   "metadata": {},
   "source": [
    "### 2.2.2 NumPy数据类型"
   ]
  },
  {
   "cell_type": "markdown",
   "metadata": {},
   "source": [
    "类型|描述\n",
    ":----|:----\n",
    "bool|用一位存储的布尔类型（值为TRUE或FALSE）\n",
    "inti |由所在平台决定其精度的整数（一般为int32或int64）\n",
    "int8 |整数，范围为128至127\n",
    "int16 |整数，范围为32 768至32 767\n",
    "int32 |整数，范围为231至231 1\n",
    "int64 |整数，范围为263至263 1\n",
    "uint8 |无符号整数，范围为0至255\n",
    "uint16 |无符号整数，范围为0至65 535\n",
    "uint32 |无符号整数，范围为0至2321\n",
    "uint64 |无符号整数，范围为0至2641\n",
    "float16 |半精度浮点数（16位）：其中用1位表示正负号， 5位表示指数， 10位表示尾数\n",
    "float32| 单精度浮点数（32位）：其中用1位表示正负号， 8位表示指数， 23位表示尾数\n",
    "float64或float |双精度浮点数（64位）：其中用1位表示正负号， 11位表示指数， 52位表示尾数\n",
    "complex64 |复数，分别用两个32位浮点数表示实部和虚部\n",
    "complex128或complex |复数，分别用两个64位浮点数表示实部和虚部"
   ]
  },
  {
   "cell_type": "code",
   "execution_count": 384,
   "metadata": {
    "collapsed": true
   },
   "outputs": [],
   "source": [
    "from numpy import *"
   ]
  },
  {
   "cell_type": "code",
   "execution_count": 385,
   "metadata": {},
   "outputs": [
    {
     "data": {
      "text/plain": [
       "64.0"
      ]
     },
     "execution_count": 385,
     "metadata": {},
     "output_type": "execute_result"
    }
   ],
   "source": [
    "float(64)"
   ]
  },
  {
   "cell_type": "code",
   "execution_count": 386,
   "metadata": {},
   "outputs": [
    {
     "data": {
      "text/plain": [
       "42"
      ]
     },
     "execution_count": 386,
     "metadata": {},
     "output_type": "execute_result"
    }
   ],
   "source": [
    "int8(42.1)"
   ]
  },
  {
   "cell_type": "code",
   "execution_count": 387,
   "metadata": {},
   "outputs": [
    {
     "data": {
      "text/plain": [
       "True"
      ]
     },
     "execution_count": 387,
     "metadata": {},
     "output_type": "execute_result"
    }
   ],
   "source": [
    "bool(42)"
   ]
  },
  {
   "cell_type": "code",
   "execution_count": 388,
   "metadata": {},
   "outputs": [
    {
     "data": {
      "text/plain": [
       "True"
      ]
     },
     "execution_count": 388,
     "metadata": {},
     "output_type": "execute_result"
    }
   ],
   "source": [
    "bool(56.4)"
   ]
  },
  {
   "cell_type": "code",
   "execution_count": 389,
   "metadata": {},
   "outputs": [
    {
     "data": {
      "text/plain": [
       "1.0"
      ]
     },
     "execution_count": 389,
     "metadata": {},
     "output_type": "execute_result"
    }
   ],
   "source": [
    "float(True)"
   ]
  },
  {
   "cell_type": "code",
   "execution_count": 390,
   "metadata": {},
   "outputs": [
    {
     "data": {
      "text/plain": [
       "0.0"
      ]
     },
     "execution_count": 390,
     "metadata": {},
     "output_type": "execute_result"
    }
   ],
   "source": [
    "float(False)"
   ]
  },
  {
   "cell_type": "code",
   "execution_count": 391,
   "metadata": {},
   "outputs": [
    {
     "data": {
      "text/plain": [
       "False"
      ]
     },
     "execution_count": 391,
     "metadata": {},
     "output_type": "execute_result"
    }
   ],
   "source": [
    "bool(0)"
   ]
  },
  {
   "cell_type": "code",
   "execution_count": 392,
   "metadata": {},
   "outputs": [
    {
     "data": {
      "text/plain": [
       "array([0, 1, 2, 3, 4, 5, 6], dtype=uint16)"
      ]
     },
     "execution_count": 392,
     "metadata": {},
     "output_type": "execute_result"
    }
   ],
   "source": [
    "arange(7,dtype=uint16)"
   ]
  },
  {
   "cell_type": "markdown",
   "metadata": {},
   "source": [
    "复数是不能转换为整数的,复数也不能转换为浮点数,不过，浮点数却可以转换为复数."
   ]
  },
  {
   "cell_type": "code",
   "execution_count": 393,
   "metadata": {},
   "outputs": [
    {
     "data": {
      "text/plain": [
       "(1+0j)"
      ]
     },
     "execution_count": 393,
     "metadata": {},
     "output_type": "execute_result"
    }
   ],
   "source": [
    "complex(1.0)"
   ]
  },
  {
   "cell_type": "markdown",
   "metadata": {},
   "source": [
    "### 2.2.3 数据类型对象"
   ]
  },
  {
   "cell_type": "markdown",
   "metadata": {},
   "source": [
    "数据类型对象可以给出单个数组元素在\n",
    "内存中占用的字节数，即dtype类的itemsize属性："
   ]
  },
  {
   "cell_type": "code",
   "execution_count": 394,
   "metadata": {},
   "outputs": [
    {
     "data": {
      "text/plain": [
       "4"
      ]
     },
     "execution_count": 394,
     "metadata": {},
     "output_type": "execute_result"
    }
   ],
   "source": [
    "a.dtype.itemsize"
   ]
  },
  {
   "cell_type": "markdown",
   "metadata": {},
   "source": [
    "### 2.2.4 字符编码"
   ]
  },
  {
   "cell_type": "markdown",
   "metadata": {},
   "source": [
    "NumPy可以使用字符编码来表示数据类型，这是为了兼容NumPy的前身Numeric。**不推荐**\n",
    "使用字符编码，但有时会用到。读者应该优先使用dtype\n",
    "对象来表示数据类型，而不是这些字符编码。"
   ]
  },
  {
   "cell_type": "markdown",
   "metadata": {},
   "source": [
    "数据类型|字符编码\n",
    ":-----|:-----\n",
    "整数 |i\n",
    "无符号整数 |u\n",
    "单精度浮点数 |f\n",
    "双精度浮点数 |d\n",
    "布尔值 |b\n",
    "复数| D\n",
    "字符串 |S\n",
    "unicode字符串 |U\n",
    "void （空）| V"
   ]
  },
  {
   "cell_type": "code",
   "execution_count": 395,
   "metadata": {},
   "outputs": [
    {
     "data": {
      "text/plain": [
       "array([ 0.,  1.,  2.,  3.,  4.,  5.,  6.], dtype=float32)"
      ]
     },
     "execution_count": 395,
     "metadata": {},
     "output_type": "execute_result"
    }
   ],
   "source": [
    "arange(7,dtype='f')"
   ]
  },
  {
   "cell_type": "code",
   "execution_count": 396,
   "metadata": {},
   "outputs": [
    {
     "data": {
      "text/plain": [
       "array([ 0.+0.j,  1.+0.j,  2.+0.j,  3.+0.j,  4.+0.j,  5.+0.j,  6.+0.j])"
      ]
     },
     "execution_count": 396,
     "metadata": {},
     "output_type": "execute_result"
    }
   ],
   "source": [
    "arange(7,dtype='D')"
   ]
  },
  {
   "cell_type": "markdown",
   "metadata": {},
   "source": [
    "### 2.2.5 自定义数据类型\n"
   ]
  },
  {
   "cell_type": "markdown",
   "metadata": {},
   "source": [
    "我们有很多种自定义数据类型的方法，以浮点型为例。"
   ]
  },
  {
   "cell_type": "markdown",
   "metadata": {},
   "source": [
    "可以使用Python中的浮点数类型："
   ]
  },
  {
   "cell_type": "code",
   "execution_count": 397,
   "metadata": {},
   "outputs": [
    {
     "data": {
      "text/plain": [
       "dtype('float64')"
      ]
     },
     "execution_count": 397,
     "metadata": {},
     "output_type": "execute_result"
    }
   ],
   "source": [
    "dtype(float)"
   ]
  },
  {
   "cell_type": "markdown",
   "metadata": {},
   "source": [
    "可以使用字符编码来指定单精度浮点数类型："
   ]
  },
  {
   "cell_type": "code",
   "execution_count": 398,
   "metadata": {},
   "outputs": [
    {
     "data": {
      "text/plain": [
       "dtype('float32')"
      ]
     },
     "execution_count": 398,
     "metadata": {},
     "output_type": "execute_result"
    }
   ],
   "source": [
    "dtype('f')"
   ]
  },
  {
   "cell_type": "markdown",
   "metadata": {},
   "source": [
    "可以使用字符编码来指定双精度浮点数类型："
   ]
  },
  {
   "cell_type": "code",
   "execution_count": 399,
   "metadata": {},
   "outputs": [
    {
     "data": {
      "text/plain": [
       "dtype('float64')"
      ]
     },
     "execution_count": 399,
     "metadata": {},
     "output_type": "execute_result"
    }
   ],
   "source": [
    "dtype('d')"
   ]
  },
  {
   "cell_type": "markdown",
   "metadata": {},
   "source": [
    "还可以将两个字符作为参数传给数据类型的构造函数。此时，第一个字符表示数据类型，\n",
    "第二个字符表示该类型在内存中占用的字节数（2、 4、 8分别代表精度为16、 32、 64位的\n",
    "浮点数）："
   ]
  },
  {
   "cell_type": "code",
   "execution_count": 400,
   "metadata": {},
   "outputs": [
    {
     "data": {
      "text/plain": [
       "dtype('float64')"
      ]
     },
     "execution_count": 400,
     "metadata": {},
     "output_type": "execute_result"
    }
   ],
   "source": [
    "dtype('f8')"
   ]
  },
  {
   "cell_type": "markdown",
   "metadata": {},
   "source": [
    "完整的NumPy数据类型列表可以在sctypeDict.keys()中找到："
   ]
  },
  {
   "cell_type": "code",
   "execution_count": 401,
   "metadata": {},
   "outputs": [
    {
     "data": {
      "text/plain": [
       "dict_keys(['?', 0, 'byte', 'b', 1, 'ubyte', 'B', 2, 'short', 'h', 3, 'ushort', 'H', 4, 'i', 5, 'uint', 'I', 6, 'intp', 'p', 9, 'uintp', 'P', 10, 'long', 'l', 7, 'L', 8, 'longlong', 'q', 'ulonglong', 'Q', 'half', 'e', 23, 'f', 11, 'double', 'd', 12, 'longdouble', 'g', 13, 'cfloat', 'F', 14, 'cdouble', 'D', 15, 'clongdouble', 'G', 16, 'O', 17, 'S', 18, 'unicode', 'U', 19, 'void', 'V', 20, 'M', 21, 'm', 22, 'bool8', 'Bool', 'b1', 'float16', 'Float16', 'f2', 'float32', 'Float32', 'f4', 'float64', 'Float64', 'f8', 'complex64', 'Complex32', 'c8', 'complex128', 'Complex64', 'c16', 'object0', 'Object0', 'bytes0', 'Bytes0', 'str0', 'Str0', 'void0', 'Void0', 'datetime64', 'Datetime64', 'M8', 'timedelta64', 'Timedelta64', 'm8', 'int32', 'uint32', 'Int32', 'UInt32', 'i4', 'u4', 'int64', 'uint64', 'Int64', 'UInt64', 'i8', 'u8', 'int16', 'uint16', 'Int16', 'UInt16', 'i2', 'u2', 'int8', 'uint8', 'Int8', 'UInt8', 'i1', 'u1', 'complex_', 'int0', 'uint0', 'single', 'csingle', 'singlecomplex', 'float_', 'intc', 'uintc', 'int_', 'longfloat', 'clongfloat', 'longcomplex', 'bool_', 'unicode_', 'object_', 'bytes_', 'str_', 'string_', 'int', 'float', 'complex', 'bool', 'object', 'str', 'bytes', 'a'])"
      ]
     },
     "execution_count": 401,
     "metadata": {},
     "output_type": "execute_result"
    }
   ],
   "source": [
    "sctypeDict.keys()"
   ]
  },
  {
   "cell_type": "markdown",
   "metadata": {},
   "source": [
    "### 2.2.6 dtype类的属性"
   ]
  },
  {
   "cell_type": "code",
   "execution_count": 402,
   "metadata": {},
   "outputs": [
    {
     "name": "stderr",
     "output_type": "stream",
     "text": [
      "D:\\Anaconda3\\lib\\site-packages\\ipykernel_launcher.py:1: DeprecationWarning: Numeric-style type codes are deprecated and will result in an error in the future.\n",
      "  \"\"\"Entry point for launching an IPython kernel.\n"
     ]
    }
   ],
   "source": [
    "t=dtype('Float64')"
   ]
  },
  {
   "cell_type": "markdown",
   "metadata": {},
   "source": [
    "我们可以获取数据类型的字符编码："
   ]
  },
  {
   "cell_type": "code",
   "execution_count": 403,
   "metadata": {},
   "outputs": [
    {
     "data": {
      "text/plain": [
       "'d'"
      ]
     },
     "execution_count": 403,
     "metadata": {},
     "output_type": "execute_result"
    }
   ],
   "source": [
    "t.char"
   ]
  },
  {
   "cell_type": "markdown",
   "metadata": {},
   "source": [
    "type属性对应于数组元素的数据类型："
   ]
  },
  {
   "cell_type": "code",
   "execution_count": 404,
   "metadata": {},
   "outputs": [
    {
     "data": {
      "text/plain": [
       "numpy.float64"
      ]
     },
     "execution_count": 404,
     "metadata": {},
     "output_type": "execute_result"
    }
   ],
   "source": [
    "t.type"
   ]
  },
  {
   "cell_type": "markdown",
   "metadata": {},
   "source": [
    "str属性可以给出数据类型的字符串表示，该字符串的首个字符表示字节序（endianness），\n",
    "后面如果还有字符的话，将是一个字符编码，接着一个数字表示每个数组元素存储所需的字节数。这里，字节序是指位长为32或64的字（word）存储的顺序，包括大端序（big-endian）和小端序\n",
    "（little-endian）。大端序是将最高位字节存储在最低的内存地址处，用>表示；与之相反，小端序\n",
    "是将最低位字节存储在最低的内存地址处，用<表示：\n",
    "In: t.str"
   ]
  },
  {
   "cell_type": "code",
   "execution_count": 405,
   "metadata": {},
   "outputs": [
    {
     "data": {
      "text/plain": [
       "'<f8'"
      ]
     },
     "execution_count": 405,
     "metadata": {},
     "output_type": "execute_result"
    }
   ],
   "source": [
    "t.str"
   ]
  },
  {
   "cell_type": "markdown",
   "metadata": {},
   "source": [
    "## 2.3 动手实践：创建自定义数据类型"
   ]
  },
  {
   "cell_type": "markdown",
   "metadata": {},
   "source": [
    "自定义数据类型是一种异构数据类型，可以当做用来记录电子表格或数据库中一行数据的结\n",
    "构。"
   ]
  },
  {
   "cell_type": "markdown",
   "metadata": {},
   "source": [
    "(1) 创建数据类型："
   ]
  },
  {
   "cell_type": "code",
   "execution_count": 406,
   "metadata": {
    "collapsed": true
   },
   "outputs": [],
   "source": [
    "t=dtype([('name',str_,40),('numitems',int32),('price',float32)])"
   ]
  },
  {
   "cell_type": "code",
   "execution_count": 407,
   "metadata": {},
   "outputs": [
    {
     "data": {
      "text/plain": [
       "dtype([('name', '<U40'), ('numitems', '<i4'), ('price', '<f4')])"
      ]
     },
     "execution_count": 407,
     "metadata": {},
     "output_type": "execute_result"
    }
   ],
   "source": [
    "t"
   ]
  },
  {
   "cell_type": "markdown",
   "metadata": {},
   "source": [
    "(2) 查看数据类型（也可以查看某一字段的数据类型） :"
   ]
  },
  {
   "cell_type": "code",
   "execution_count": 408,
   "metadata": {},
   "outputs": [
    {
     "data": {
      "text/plain": [
       "dtype('<U40')"
      ]
     },
     "execution_count": 408,
     "metadata": {},
     "output_type": "execute_result"
    }
   ],
   "source": [
    "t['name']"
   ]
  },
  {
   "cell_type": "markdown",
   "metadata": {},
   "source": [
    "在用array函数创建数组时，如果没有在参数中指定数据类型，将默认为浮点数类型。而现\n",
    "在，我们想要创建自定义数据类型的数组，就必须在参数中指定数据类型，否则将触发TypeError\n",
    "错误："
   ]
  },
  {
   "cell_type": "code",
   "execution_count": 409,
   "metadata": {
    "collapsed": true
   },
   "outputs": [],
   "source": [
    "itemz=array([('Meaning of life DVD',42,3.14),('Butter',13,2.34)],dtype=t)"
   ]
  },
  {
   "cell_type": "code",
   "execution_count": 410,
   "metadata": {},
   "outputs": [
    {
     "data": {
      "text/plain": [
       "('Butter', 13,  2.33999991)"
      ]
     },
     "execution_count": 410,
     "metadata": {},
     "output_type": "execute_result"
    }
   ],
   "source": [
    "itemz[1]"
   ]
  },
  {
   "cell_type": "markdown",
   "metadata": {},
   "source": [
    "## 2.4 一维数组的索引和切片"
   ]
  },
  {
   "cell_type": "code",
   "execution_count": 411,
   "metadata": {
    "collapsed": true
   },
   "outputs": [],
   "source": [
    "a=arange(9)"
   ]
  },
  {
   "cell_type": "code",
   "execution_count": 412,
   "metadata": {},
   "outputs": [
    {
     "data": {
      "text/plain": [
       "array([3, 4, 5, 6])"
      ]
     },
     "execution_count": 412,
     "metadata": {},
     "output_type": "execute_result"
    }
   ],
   "source": [
    "a[3:7]"
   ]
  },
  {
   "cell_type": "code",
   "execution_count": 413,
   "metadata": {},
   "outputs": [
    {
     "data": {
      "text/plain": [
       "array([0, 2, 4, 6])"
      ]
     },
     "execution_count": 413,
     "metadata": {},
     "output_type": "execute_result"
    }
   ],
   "source": [
    "a[:7:2]"
   ]
  },
  {
   "cell_type": "code",
   "execution_count": 414,
   "metadata": {},
   "outputs": [
    {
     "data": {
      "text/plain": [
       "array([8, 7, 6, 5, 4, 3, 2, 1, 0])"
      ]
     },
     "execution_count": 414,
     "metadata": {},
     "output_type": "execute_result"
    }
   ],
   "source": [
    "a[::-1]"
   ]
  },
  {
   "cell_type": "markdown",
   "metadata": {},
   "source": [
    "## 2.5 动手实践：多维数组的切片和索引"
   ]
  },
  {
   "cell_type": "code",
   "execution_count": 415,
   "metadata": {
    "collapsed": true
   },
   "outputs": [],
   "source": [
    "b=arange(24).reshape(2,3,4)"
   ]
  },
  {
   "cell_type": "code",
   "execution_count": 416,
   "metadata": {},
   "outputs": [
    {
     "data": {
      "text/plain": [
       "(2, 3, 4)"
      ]
     },
     "execution_count": 416,
     "metadata": {},
     "output_type": "execute_result"
    }
   ],
   "source": [
    "b.shape"
   ]
  },
  {
   "cell_type": "code",
   "execution_count": 417,
   "metadata": {},
   "outputs": [
    {
     "data": {
      "text/plain": [
       "array([[[ 0,  1,  2,  3],\n",
       "        [ 4,  5,  6,  7],\n",
       "        [ 8,  9, 10, 11]],\n",
       "\n",
       "       [[12, 13, 14, 15],\n",
       "        [16, 17, 18, 19],\n",
       "        [20, 21, 22, 23]]])"
      ]
     },
     "execution_count": 417,
     "metadata": {},
     "output_type": "execute_result"
    }
   ],
   "source": [
    "b"
   ]
  },
  {
   "cell_type": "code",
   "execution_count": 418,
   "metadata": {},
   "outputs": [
    {
     "data": {
      "text/plain": [
       "0"
      ]
     },
     "execution_count": 418,
     "metadata": {},
     "output_type": "execute_result"
    }
   ],
   "source": [
    "b[0,0,0]"
   ]
  },
  {
   "cell_type": "code",
   "execution_count": 419,
   "metadata": {},
   "outputs": [
    {
     "data": {
      "text/plain": [
       "array([ 0, 12])"
      ]
     },
     "execution_count": 419,
     "metadata": {},
     "output_type": "execute_result"
    }
   ],
   "source": [
    "b[:,0,0]"
   ]
  },
  {
   "cell_type": "code",
   "execution_count": 420,
   "metadata": {},
   "outputs": [
    {
     "data": {
      "text/plain": [
       "array([[ 0,  1,  2,  3],\n",
       "       [ 4,  5,  6,  7],\n",
       "       [ 8,  9, 10, 11]])"
      ]
     },
     "execution_count": 420,
     "metadata": {},
     "output_type": "execute_result"
    }
   ],
   "source": [
    "b[0]"
   ]
  },
  {
   "cell_type": "code",
   "execution_count": 421,
   "metadata": {},
   "outputs": [
    {
     "data": {
      "text/plain": [
       "array([[ 0,  1,  2,  3],\n",
       "       [ 4,  5,  6,  7],\n",
       "       [ 8,  9, 10, 11]])"
      ]
     },
     "execution_count": 421,
     "metadata": {},
     "output_type": "execute_result"
    }
   ],
   "source": [
    "b[0,:,:]"
   ]
  },
  {
   "cell_type": "markdown",
   "metadata": {},
   "source": [
    "多个冒号可以用一个省略号（...）来代替，因此上面的代码等价于："
   ]
  },
  {
   "cell_type": "code",
   "execution_count": 422,
   "metadata": {},
   "outputs": [
    {
     "data": {
      "text/plain": [
       "array([[ 0,  1,  2,  3],\n",
       "       [ 4,  5,  6,  7],\n",
       "       [ 8,  9, 10, 11]])"
      ]
     },
     "execution_count": 422,
     "metadata": {},
     "output_type": "execute_result"
    }
   ],
   "source": [
    "b[0,...]"
   ]
  },
  {
   "cell_type": "code",
   "execution_count": 423,
   "metadata": {},
   "outputs": [
    {
     "data": {
      "text/plain": [
       "array([4, 5, 6, 7])"
      ]
     },
     "execution_count": 423,
     "metadata": {},
     "output_type": "execute_result"
    }
   ],
   "source": [
    "b[0,1]"
   ]
  },
  {
   "cell_type": "code",
   "execution_count": 424,
   "metadata": {},
   "outputs": [
    {
     "data": {
      "text/plain": [
       "array([4, 6])"
      ]
     },
     "execution_count": 424,
     "metadata": {},
     "output_type": "execute_result"
    }
   ],
   "source": [
    "b[0,1,::2]"
   ]
  },
  {
   "cell_type": "code",
   "execution_count": 425,
   "metadata": {},
   "outputs": [
    {
     "data": {
      "text/plain": [
       "array([[ 1,  5,  9],\n",
       "       [13, 17, 21]])"
      ]
     },
     "execution_count": 425,
     "metadata": {},
     "output_type": "execute_result"
    }
   ],
   "source": [
    "b[...,1]"
   ]
  },
  {
   "cell_type": "code",
   "execution_count": 426,
   "metadata": {},
   "outputs": [
    {
     "data": {
      "text/plain": [
       "array([[ 4,  5,  6,  7],\n",
       "       [16, 17, 18, 19]])"
      ]
     },
     "execution_count": 426,
     "metadata": {},
     "output_type": "execute_result"
    }
   ],
   "source": [
    "b[:,1]"
   ]
  },
  {
   "cell_type": "code",
   "execution_count": 427,
   "metadata": {},
   "outputs": [
    {
     "data": {
      "text/plain": [
       "array([1, 5, 9])"
      ]
     },
     "execution_count": 427,
     "metadata": {},
     "output_type": "execute_result"
    }
   ],
   "source": [
    "b[0,:,1]"
   ]
  },
  {
   "cell_type": "code",
   "execution_count": 428,
   "metadata": {},
   "outputs": [
    {
     "data": {
      "text/plain": [
       "array([ 3,  7, 11])"
      ]
     },
     "execution_count": 428,
     "metadata": {},
     "output_type": "execute_result"
    }
   ],
   "source": [
    "b[0,:,-1]"
   ]
  },
  {
   "cell_type": "code",
   "execution_count": 429,
   "metadata": {},
   "outputs": [
    {
     "data": {
      "text/plain": [
       "array([11,  7,  3])"
      ]
     },
     "execution_count": 429,
     "metadata": {},
     "output_type": "execute_result"
    }
   ],
   "source": [
    "b[0,::-1,-1]"
   ]
  },
  {
   "cell_type": "code",
   "execution_count": 430,
   "metadata": {},
   "outputs": [
    {
     "data": {
      "text/plain": [
       "array([ 3, 11])"
      ]
     },
     "execution_count": 430,
     "metadata": {},
     "output_type": "execute_result"
    }
   ],
   "source": [
    "b[0,::2,-1]"
   ]
  },
  {
   "cell_type": "code",
   "execution_count": 431,
   "metadata": {},
   "outputs": [
    {
     "data": {
      "text/plain": [
       "array([[[12, 13, 14, 15],\n",
       "        [16, 17, 18, 19],\n",
       "        [20, 21, 22, 23]],\n",
       "\n",
       "       [[ 0,  1,  2,  3],\n",
       "        [ 4,  5,  6,  7],\n",
       "        [ 8,  9, 10, 11]]])"
      ]
     },
     "execution_count": 431,
     "metadata": {},
     "output_type": "execute_result"
    }
   ],
   "source": [
    "b[::-1]"
   ]
  },
  {
   "cell_type": "markdown",
   "metadata": {},
   "source": [
    "## 2.6 动手实践：改变数组的维度"
   ]
  },
  {
   "cell_type": "markdown",
   "metadata": {},
   "source": [
    "#### (1) ravel 我们可以用ravel函数完成展平的操作："
   ]
  },
  {
   "cell_type": "code",
   "execution_count": 432,
   "metadata": {},
   "outputs": [
    {
     "data": {
      "text/plain": [
       "array([[[ 0,  1,  2,  3],\n",
       "        [ 4,  5,  6,  7],\n",
       "        [ 8,  9, 10, 11]],\n",
       "\n",
       "       [[12, 13, 14, 15],\n",
       "        [16, 17, 18, 19],\n",
       "        [20, 21, 22, 23]]])"
      ]
     },
     "execution_count": 432,
     "metadata": {},
     "output_type": "execute_result"
    }
   ],
   "source": [
    "b"
   ]
  },
  {
   "cell_type": "code",
   "execution_count": 433,
   "metadata": {},
   "outputs": [
    {
     "data": {
      "text/plain": [
       "array([ 0,  1,  2,  3,  4,  5,  6,  7,  8,  9, 10, 11, 12, 13, 14, 15, 16,\n",
       "       17, 18, 19, 20, 21, 22, 23])"
      ]
     },
     "execution_count": 433,
     "metadata": {},
     "output_type": "execute_result"
    }
   ],
   "source": [
    "b.ravel()"
   ]
  },
  {
   "cell_type": "code",
   "execution_count": 434,
   "metadata": {},
   "outputs": [
    {
     "data": {
      "text/plain": [
       "array([[[ 0,  1,  2,  3],\n",
       "        [ 4,  5,  6,  7],\n",
       "        [ 8,  9, 10, 11]],\n",
       "\n",
       "       [[12, 13, 14, 15],\n",
       "        [16, 17, 18, 19],\n",
       "        [20, 21, 22, 23]]])"
      ]
     },
     "execution_count": 434,
     "metadata": {},
     "output_type": "execute_result"
    }
   ],
   "source": [
    "b"
   ]
  },
  {
   "cell_type": "markdown",
   "metadata": {},
   "source": [
    "### (2) flatten 这个函数恰如其名， flatten就是展平的意思，与ravel函数的功能相同。不过，flatten函数会请求分配内存来保存结果，而ravel函数只是返回数组的一个视图（view）："
   ]
  },
  {
   "cell_type": "code",
   "execution_count": 435,
   "metadata": {},
   "outputs": [
    {
     "data": {
      "text/plain": [
       "array([ 0,  1,  2,  3,  4,  5,  6,  7,  8,  9, 10, 11, 12, 13, 14, 15, 16,\n",
       "       17, 18, 19, 20, 21, 22, 23])"
      ]
     },
     "execution_count": 435,
     "metadata": {},
     "output_type": "execute_result"
    }
   ],
   "source": [
    "b.flatten()"
   ]
  },
  {
   "cell_type": "code",
   "execution_count": 436,
   "metadata": {},
   "outputs": [
    {
     "data": {
      "text/plain": [
       "array([[[ 0,  1,  2,  3],\n",
       "        [ 4,  5,  6,  7],\n",
       "        [ 8,  9, 10, 11]],\n",
       "\n",
       "       [[12, 13, 14, 15],\n",
       "        [16, 17, 18, 19],\n",
       "        [20, 21, 22, 23]]])"
      ]
     },
     "execution_count": 436,
     "metadata": {},
     "output_type": "execute_result"
    }
   ],
   "source": [
    "b"
   ]
  },
  {
   "cell_type": "markdown",
   "metadata": {},
   "source": [
    "### (3) 用元组设置维度 除了可以使用reshape函数，我们也可以直接用一个正整数元组来设置数组的维度，"
   ]
  },
  {
   "cell_type": "code",
   "execution_count": 437,
   "metadata": {
    "collapsed": true
   },
   "outputs": [],
   "source": [
    "b.shape=(6,4)"
   ]
  },
  {
   "cell_type": "code",
   "execution_count": 438,
   "metadata": {},
   "outputs": [
    {
     "data": {
      "text/plain": [
       "array([[ 0,  1,  2,  3],\n",
       "       [ 4,  5,  6,  7],\n",
       "       [ 8,  9, 10, 11],\n",
       "       [12, 13, 14, 15],\n",
       "       [16, 17, 18, 19],\n",
       "       [20, 21, 22, 23]])"
      ]
     },
     "execution_count": 438,
     "metadata": {},
     "output_type": "execute_result"
    }
   ],
   "source": [
    "b"
   ]
  },
  {
   "cell_type": "markdown",
   "metadata": {},
   "source": [
    "### (4) transpose 在线性代数中， 转置矩阵是很常见的操作。"
   ]
  },
  {
   "cell_type": "code",
   "execution_count": 439,
   "metadata": {},
   "outputs": [
    {
     "data": {
      "text/plain": [
       "array([[ 0,  4,  8, 12, 16, 20],\n",
       "       [ 1,  5,  9, 13, 17, 21],\n",
       "       [ 2,  6, 10, 14, 18, 22],\n",
       "       [ 3,  7, 11, 15, 19, 23]])"
      ]
     },
     "execution_count": 439,
     "metadata": {},
     "output_type": "execute_result"
    }
   ],
   "source": [
    "b.transpose()"
   ]
  },
  {
   "cell_type": "markdown",
   "metadata": {},
   "source": [
    "### (5) resize resize和reshape函数的功能一样，但resize会直接修改所操作的数组："
   ]
  },
  {
   "cell_type": "code",
   "execution_count": 440,
   "metadata": {
    "collapsed": true
   },
   "outputs": [],
   "source": [
    "b.resize((2,12))"
   ]
  },
  {
   "cell_type": "code",
   "execution_count": 441,
   "metadata": {},
   "outputs": [
    {
     "data": {
      "text/plain": [
       "array([[ 0,  1,  2,  3,  4,  5,  6,  7,  8,  9, 10, 11],\n",
       "       [12, 13, 14, 15, 16, 17, 18, 19, 20, 21, 22, 23]])"
      ]
     },
     "execution_count": 441,
     "metadata": {},
     "output_type": "execute_result"
    }
   ],
   "source": [
    "b"
   ]
  },
  {
   "cell_type": "markdown",
   "metadata": {},
   "source": [
    "## 2.7 数组的组合"
   ]
  },
  {
   "cell_type": "markdown",
   "metadata": {},
   "source": [
    "NumPy数组有水平组合、垂直组合和深度组合等多种组合方式，我们将使用vstack、\n",
    "dstack、 hstack、 column_stack、 row_stack以及concatenate函数来完成数组的组合。"
   ]
  },
  {
   "cell_type": "markdown",
   "metadata": {},
   "source": [
    "## 2.8 动手实践：组合数组"
   ]
  },
  {
   "cell_type": "code",
   "execution_count": 442,
   "metadata": {
    "collapsed": true
   },
   "outputs": [],
   "source": [
    "a=arange(9).reshape(3,3)"
   ]
  },
  {
   "cell_type": "code",
   "execution_count": 443,
   "metadata": {},
   "outputs": [
    {
     "data": {
      "text/plain": [
       "array([[0, 1, 2],\n",
       "       [3, 4, 5],\n",
       "       [6, 7, 8]])"
      ]
     },
     "execution_count": 443,
     "metadata": {},
     "output_type": "execute_result"
    }
   ],
   "source": [
    "a"
   ]
  },
  {
   "cell_type": "code",
   "execution_count": 444,
   "metadata": {
    "collapsed": true
   },
   "outputs": [],
   "source": [
    "b=2*a"
   ]
  },
  {
   "cell_type": "code",
   "execution_count": 445,
   "metadata": {},
   "outputs": [
    {
     "data": {
      "text/plain": [
       "array([[ 0,  2,  4],\n",
       "       [ 6,  8, 10],\n",
       "       [12, 14, 16]])"
      ]
     },
     "execution_count": 445,
     "metadata": {},
     "output_type": "execute_result"
    }
   ],
   "source": [
    "b"
   ]
  },
  {
   "cell_type": "markdown",
   "metadata": {},
   "source": [
    "### (1) 水平组合。将ndarray对象构成的元组作为参数，传给hstack函数。"
   ]
  },
  {
   "cell_type": "code",
   "execution_count": 446,
   "metadata": {},
   "outputs": [
    {
     "data": {
      "text/plain": [
       "array([[ 0,  1,  2,  0,  2,  4],\n",
       "       [ 3,  4,  5,  6,  8, 10],\n",
       "       [ 6,  7,  8, 12, 14, 16]])"
      ]
     },
     "execution_count": 446,
     "metadata": {},
     "output_type": "execute_result"
    }
   ],
   "source": [
    "hstack((a,b))"
   ]
  },
  {
   "cell_type": "markdown",
   "metadata": {},
   "source": [
    "我们也可以用concatenate函数来实现同样的效果"
   ]
  },
  {
   "cell_type": "code",
   "execution_count": 447,
   "metadata": {},
   "outputs": [
    {
     "data": {
      "text/plain": [
       "array([[ 0,  1,  2,  0,  2,  4],\n",
       "       [ 3,  4,  5,  6,  8, 10],\n",
       "       [ 6,  7,  8, 12, 14, 16]])"
      ]
     },
     "execution_count": 447,
     "metadata": {},
     "output_type": "execute_result"
    }
   ],
   "source": [
    "concatenate((a,b),axis=1)"
   ]
  },
  {
   "attachments": {
    "_auto_0": {
     "image/png": "[encoded data removed]"
    }
   },
   "cell_type": "markdown",
   "metadata": {},
   "source": [
    "![_auto_0](attachment:_auto_0)"
   ]
  },
  {
   "cell_type": "markdown",
   "metadata": {},
   "source": [
    "### (2) 垂直组合 垂直组合同样需要构造一个元组作为参数，只不过这次的函数变成了vstack。"
   ]
  },
  {
   "cell_type": "code",
   "execution_count": 448,
   "metadata": {},
   "outputs": [
    {
     "data": {
      "text/plain": [
       "array([[ 0,  1,  2],\n",
       "       [ 3,  4,  5],\n",
       "       [ 6,  7,  8],\n",
       "       [ 0,  2,  4],\n",
       "       [ 6,  8, 10],\n",
       "       [12, 14, 16]])"
      ]
     },
     "execution_count": 448,
     "metadata": {},
     "output_type": "execute_result"
    }
   ],
   "source": [
    "vstack((a,b))"
   ]
  },
  {
   "cell_type": "markdown",
   "metadata": {},
   "source": [
    "同样，我们将concatenate函数的axis参数设置为0即可实现同样的效果。这也是axis参\n",
    "数的默认值："
   ]
  },
  {
   "cell_type": "code",
   "execution_count": 449,
   "metadata": {},
   "outputs": [
    {
     "data": {
      "text/plain": [
       "array([[ 0,  1,  2],\n",
       "       [ 3,  4,  5],\n",
       "       [ 6,  7,  8],\n",
       "       [ 0,  2,  4],\n",
       "       [ 6,  8, 10],\n",
       "       [12, 14, 16]])"
      ]
     },
     "execution_count": 449,
     "metadata": {},
     "output_type": "execute_result"
    }
   ],
   "source": [
    "concatenate((a,b),axis=0)"
   ]
  },
  {
   "cell_type": "markdown",
   "metadata": {},
   "source": [
    "### (3) 深度组合 将相同的元组作为参数传给dstack函数，即可完成数组的深度组合。"
   ]
  },
  {
   "cell_type": "markdown",
   "metadata": {},
   "source": [
    "深度组合，就是将一系列数组沿着纵轴（深度）方向进行层叠组合。举个例子，有若干张二维平\n",
    "面内的图像点阵数据，我们可以将这些图像数据沿纵轴方向层叠在一起，这就形象地解释了什么\n",
    "是深度组合。"
   ]
  },
  {
   "cell_type": "code",
   "execution_count": 450,
   "metadata": {},
   "outputs": [
    {
     "data": {
      "text/plain": [
       "array([[[ 0,  0],\n",
       "        [ 1,  2],\n",
       "        [ 2,  4]],\n",
       "\n",
       "       [[ 3,  6],\n",
       "        [ 4,  8],\n",
       "        [ 5, 10]],\n",
       "\n",
       "       [[ 6, 12],\n",
       "        [ 7, 14],\n",
       "        [ 8, 16]]])"
      ]
     },
     "execution_count": 450,
     "metadata": {},
     "output_type": "execute_result"
    }
   ],
   "source": [
    "dstack((a,b))"
   ]
  },
  {
   "cell_type": "markdown",
   "metadata": {},
   "source": [
    "### (4) 列组合 column_stack函数对于一维数组将按列方向进行组合"
   ]
  },
  {
   "cell_type": "code",
   "execution_count": 451,
   "metadata": {
    "collapsed": true
   },
   "outputs": [],
   "source": [
    "oned=arange(2)"
   ]
  },
  {
   "cell_type": "code",
   "execution_count": 452,
   "metadata": {},
   "outputs": [
    {
     "data": {
      "text/plain": [
       "array([0, 1])"
      ]
     },
     "execution_count": 452,
     "metadata": {},
     "output_type": "execute_result"
    }
   ],
   "source": [
    "oned"
   ]
  },
  {
   "cell_type": "code",
   "execution_count": 453,
   "metadata": {
    "collapsed": true
   },
   "outputs": [],
   "source": [
    "twice_oned=2*oned"
   ]
  },
  {
   "cell_type": "code",
   "execution_count": 454,
   "metadata": {},
   "outputs": [
    {
     "data": {
      "text/plain": [
       "array([0, 2])"
      ]
     },
     "execution_count": 454,
     "metadata": {},
     "output_type": "execute_result"
    }
   ],
   "source": [
    "twice_oned"
   ]
  },
  {
   "cell_type": "code",
   "execution_count": 455,
   "metadata": {},
   "outputs": [
    {
     "data": {
      "text/plain": [
       "array([0, 2])"
      ]
     },
     "execution_count": 455,
     "metadata": {},
     "output_type": "execute_result"
    }
   ],
   "source": [
    "array([0,2])"
   ]
  },
  {
   "cell_type": "code",
   "execution_count": 456,
   "metadata": {},
   "outputs": [
    {
     "data": {
      "text/plain": [
       "array([[0, 0],\n",
       "       [1, 2]])"
      ]
     },
     "execution_count": 456,
     "metadata": {},
     "output_type": "execute_result"
    }
   ],
   "source": [
    "column_stack((oned,twice_oned))"
   ]
  },
  {
   "cell_type": "markdown",
   "metadata": {},
   "source": [
    "而对于二维数组， column_stack与hstack的效果是相同的："
   ]
  },
  {
   "cell_type": "code",
   "execution_count": 457,
   "metadata": {},
   "outputs": [
    {
     "data": {
      "text/plain": [
       "array([[ 0,  1,  2,  0,  2,  4],\n",
       "       [ 3,  4,  5,  6,  8, 10],\n",
       "       [ 6,  7,  8, 12, 14, 16]])"
      ]
     },
     "execution_count": 457,
     "metadata": {},
     "output_type": "execute_result"
    }
   ],
   "source": [
    "column_stack((a,b))"
   ]
  },
  {
   "cell_type": "code",
   "execution_count": 458,
   "metadata": {},
   "outputs": [
    {
     "data": {
      "text/plain": [
       "array([[ True,  True,  True,  True,  True,  True],\n",
       "       [ True,  True,  True,  True,  True,  True],\n",
       "       [ True,  True,  True,  True,  True,  True]], dtype=bool)"
      ]
     },
     "execution_count": 458,
     "metadata": {},
     "output_type": "execute_result"
    }
   ],
   "source": [
    "column_stack((a,b))==hstack((a,b))"
   ]
  },
  {
   "cell_type": "markdown",
   "metadata": {},
   "source": [
    "### (5) 行组合 就是row_stack。对于两个一维数组，将直接层叠起来组合成一个二维数组。"
   ]
  },
  {
   "cell_type": "code",
   "execution_count": 459,
   "metadata": {},
   "outputs": [
    {
     "data": {
      "text/plain": [
       "array([[0, 1],\n",
       "       [0, 2]])"
      ]
     },
     "execution_count": 459,
     "metadata": {},
     "output_type": "execute_result"
    }
   ],
   "source": [
    "row_stack((oned,twice_oned))"
   ]
  },
  {
   "cell_type": "code",
   "execution_count": 460,
   "metadata": {},
   "outputs": [
    {
     "data": {
      "text/plain": [
       "array([[ 0,  1,  2],\n",
       "       [ 3,  4,  5],\n",
       "       [ 6,  7,  8],\n",
       "       [ 0,  2,  4],\n",
       "       [ 6,  8, 10],\n",
       "       [12, 14, 16]])"
      ]
     },
     "execution_count": 460,
     "metadata": {},
     "output_type": "execute_result"
    }
   ],
   "source": [
    "row_stack((a,b))"
   ]
  },
  {
   "cell_type": "code",
   "execution_count": 461,
   "metadata": {},
   "outputs": [
    {
     "data": {
      "text/plain": [
       "array([[ True,  True,  True],\n",
       "       [ True,  True,  True],\n",
       "       [ True,  True,  True],\n",
       "       [ True,  True,  True],\n",
       "       [ True,  True,  True],\n",
       "       [ True,  True,  True]], dtype=bool)"
      ]
     },
     "execution_count": 461,
     "metadata": {},
     "output_type": "execute_result"
    }
   ],
   "source": [
    "row_stack((a,b))==vstack((a,b))"
   ]
  },
  {
   "cell_type": "markdown",
   "metadata": {},
   "source": [
    "## 2.9 数组的分割"
   ]
  },
  {
   "cell_type": "markdown",
   "metadata": {},
   "source": [
    "NumPy数组可以进行水平、垂直或深度分割，相关的函数有hsplit、 vsplit、 dsplit和\n",
    "split。我们可以将数组分割成相同大小的子数组，也可以指定原数组中需要分割的位置。"
   ]
  },
  {
   "cell_type": "markdown",
   "metadata": {},
   "source": [
    "## 2.10 动手实践：分割数组"
   ]
  },
  {
   "cell_type": "markdown",
   "metadata": {},
   "source": [
    "## (1) 水平分割 下面的代码将把数组沿着水平方向分割为3个相同大小的子数组："
   ]
  },
  {
   "cell_type": "code",
   "execution_count": 462,
   "metadata": {},
   "outputs": [
    {
     "data": {
      "text/plain": [
       "array([[0, 1, 2],\n",
       "       [3, 4, 5],\n",
       "       [6, 7, 8]])"
      ]
     },
     "execution_count": 462,
     "metadata": {},
     "output_type": "execute_result"
    }
   ],
   "source": [
    "a"
   ]
  },
  {
   "cell_type": "code",
   "execution_count": 463,
   "metadata": {},
   "outputs": [
    {
     "data": {
      "text/plain": [
       "[array([[0],\n",
       "        [3],\n",
       "        [6]]), array([[1],\n",
       "        [4],\n",
       "        [7]]), array([[2],\n",
       "        [5],\n",
       "        [8]])]"
      ]
     },
     "execution_count": 463,
     "metadata": {},
     "output_type": "execute_result"
    }
   ],
   "source": [
    "hsplit(a,3)"
   ]
  },
  {
   "cell_type": "code",
   "execution_count": 464,
   "metadata": {},
   "outputs": [
    {
     "data": {
      "text/plain": [
       "[array([[0],\n",
       "        [3],\n",
       "        [6]]), array([[1],\n",
       "        [4],\n",
       "        [7]]), array([[2],\n",
       "        [5],\n",
       "        [8]])]"
      ]
     },
     "execution_count": 464,
     "metadata": {},
     "output_type": "execute_result"
    }
   ],
   "source": [
    "split(a,3,axis=1)"
   ]
  },
  {
   "cell_type": "markdown",
   "metadata": {},
   "source": [
    "## (2) 垂直分割 vsplit函数将把数组沿着垂直方向分割："
   ]
  },
  {
   "cell_type": "code",
   "execution_count": 465,
   "metadata": {},
   "outputs": [
    {
     "data": {
      "text/plain": [
       "[array([[0, 1, 2]]), array([[3, 4, 5]]), array([[6, 7, 8]])]"
      ]
     },
     "execution_count": 465,
     "metadata": {},
     "output_type": "execute_result"
    }
   ],
   "source": [
    "vsplit(a,3)"
   ]
  },
  {
   "cell_type": "code",
   "execution_count": 466,
   "metadata": {},
   "outputs": [
    {
     "data": {
      "text/plain": [
       "[array([[0, 1, 2]]), array([[3, 4, 5]]), array([[6, 7, 8]])]"
      ]
     },
     "execution_count": 466,
     "metadata": {},
     "output_type": "execute_result"
    }
   ],
   "source": [
    "split(a,3,axis=0)"
   ]
  },
  {
   "cell_type": "markdown",
   "metadata": {},
   "source": [
    "### (3) 深度分割 不出所料， dsplit函数将按深度方向分割数组。"
   ]
  },
  {
   "cell_type": "code",
   "execution_count": 467,
   "metadata": {
    "collapsed": true
   },
   "outputs": [],
   "source": [
    "c=arange(27).reshape(3,3,3)"
   ]
  },
  {
   "cell_type": "code",
   "execution_count": 468,
   "metadata": {},
   "outputs": [
    {
     "data": {
      "text/plain": [
       "array([[[ 0,  1,  2],\n",
       "        [ 3,  4,  5],\n",
       "        [ 6,  7,  8]],\n",
       "\n",
       "       [[ 9, 10, 11],\n",
       "        [12, 13, 14],\n",
       "        [15, 16, 17]],\n",
       "\n",
       "       [[18, 19, 20],\n",
       "        [21, 22, 23],\n",
       "        [24, 25, 26]]])"
      ]
     },
     "execution_count": 468,
     "metadata": {},
     "output_type": "execute_result"
    }
   ],
   "source": [
    "c"
   ]
  },
  {
   "cell_type": "code",
   "execution_count": 469,
   "metadata": {},
   "outputs": [
    {
     "data": {
      "text/plain": [
       "[array([[[ 0],\n",
       "         [ 3],\n",
       "         [ 6]],\n",
       " \n",
       "        [[ 9],\n",
       "         [12],\n",
       "         [15]],\n",
       " \n",
       "        [[18],\n",
       "         [21],\n",
       "         [24]]]), array([[[ 1],\n",
       "         [ 4],\n",
       "         [ 7]],\n",
       " \n",
       "        [[10],\n",
       "         [13],\n",
       "         [16]],\n",
       " \n",
       "        [[19],\n",
       "         [22],\n",
       "         [25]]]), array([[[ 2],\n",
       "         [ 5],\n",
       "         [ 8]],\n",
       " \n",
       "        [[11],\n",
       "         [14],\n",
       "         [17]],\n",
       " \n",
       "        [[20],\n",
       "         [23],\n",
       "         [26]]])]"
      ]
     },
     "execution_count": 469,
     "metadata": {},
     "output_type": "execute_result"
    }
   ],
   "source": [
    "dsplit(c,3)"
   ]
  },
  {
   "cell_type": "markdown",
   "metadata": {},
   "source": [
    "## 2.11 数组的属性"
   ]
  },
  {
   "cell_type": "markdown",
   "metadata": {},
   "source": [
    "ndim属性，给出数组的维数，或数组轴的个数："
   ]
  },
  {
   "cell_type": "code",
   "execution_count": 470,
   "metadata": {},
   "outputs": [
    {
     "data": {
      "text/plain": [
       "array([[ 0,  2,  4],\n",
       "       [ 6,  8, 10],\n",
       "       [12, 14, 16]])"
      ]
     },
     "execution_count": 470,
     "metadata": {},
     "output_type": "execute_result"
    }
   ],
   "source": [
    "b"
   ]
  },
  {
   "cell_type": "code",
   "execution_count": 471,
   "metadata": {},
   "outputs": [
    {
     "data": {
      "text/plain": [
       "2"
      ]
     },
     "execution_count": 471,
     "metadata": {},
     "output_type": "execute_result"
    }
   ],
   "source": [
    "b.ndim"
   ]
  },
  {
   "cell_type": "markdown",
   "metadata": {},
   "source": [
    "size属性，给出数组元素的总个数"
   ]
  },
  {
   "cell_type": "code",
   "execution_count": 472,
   "metadata": {},
   "outputs": [
    {
     "data": {
      "text/plain": [
       "9"
      ]
     },
     "execution_count": 472,
     "metadata": {},
     "output_type": "execute_result"
    }
   ],
   "source": [
    "b.size"
   ]
  },
  {
   "cell_type": "markdown",
   "metadata": {},
   "source": [
    "itemsize属性，给出数组中的元素在内存中所占的字节数："
   ]
  },
  {
   "cell_type": "code",
   "execution_count": 473,
   "metadata": {},
   "outputs": [
    {
     "data": {
      "text/plain": [
       "4"
      ]
     },
     "execution_count": 473,
     "metadata": {},
     "output_type": "execute_result"
    }
   ],
   "source": [
    "b.itemsize"
   ]
  },
  {
   "cell_type": "markdown",
   "metadata": {},
   "source": [
    "如果你想知道整个数组所占的存储空间，可以用nbytes属性来查看。这个属性的值其实\n",
    "就是itemsize和size属性值的乘积："
   ]
  },
  {
   "cell_type": "code",
   "execution_count": 474,
   "metadata": {},
   "outputs": [
    {
     "data": {
      "text/plain": [
       "36"
      ]
     },
     "execution_count": 474,
     "metadata": {},
     "output_type": "execute_result"
    }
   ],
   "source": [
    "b.nbytes"
   ]
  },
  {
   "cell_type": "code",
   "execution_count": 475,
   "metadata": {},
   "outputs": [
    {
     "data": {
      "text/plain": [
       "36"
      ]
     },
     "execution_count": 475,
     "metadata": {},
     "output_type": "execute_result"
    }
   ],
   "source": [
    "b.size*b.itemsize"
   ]
  },
  {
   "cell_type": "markdown",
   "metadata": {},
   "source": [
    " T属性的效果和transpose函数一样"
   ]
  },
  {
   "cell_type": "code",
   "execution_count": 476,
   "metadata": {
    "collapsed": true
   },
   "outputs": [],
   "source": [
    "b=arange(24).reshape(6,4)"
   ]
  },
  {
   "cell_type": "code",
   "execution_count": 477,
   "metadata": {},
   "outputs": [
    {
     "data": {
      "text/plain": [
       "array([[ 0,  1,  2,  3],\n",
       "       [ 4,  5,  6,  7],\n",
       "       [ 8,  9, 10, 11],\n",
       "       [12, 13, 14, 15],\n",
       "       [16, 17, 18, 19],\n",
       "       [20, 21, 22, 23]])"
      ]
     },
     "execution_count": 477,
     "metadata": {},
     "output_type": "execute_result"
    }
   ],
   "source": [
    "b"
   ]
  },
  {
   "cell_type": "code",
   "execution_count": 478,
   "metadata": {},
   "outputs": [
    {
     "data": {
      "text/plain": [
       "array([[ 0,  4,  8, 12, 16, 20],\n",
       "       [ 1,  5,  9, 13, 17, 21],\n",
       "       [ 2,  6, 10, 14, 18, 22],\n",
       "       [ 3,  7, 11, 15, 19, 23]])"
      ]
     },
     "execution_count": 478,
     "metadata": {},
     "output_type": "execute_result"
    }
   ],
   "source": [
    "b.T"
   ]
  },
  {
   "cell_type": "markdown",
   "metadata": {},
   "source": [
    "对于一维数组，其T属性就是原数组："
   ]
  },
  {
   "cell_type": "code",
   "execution_count": 479,
   "metadata": {
    "collapsed": true
   },
   "outputs": [],
   "source": [
    "b=arange(9)"
   ]
  },
  {
   "cell_type": "code",
   "execution_count": 480,
   "metadata": {},
   "outputs": [
    {
     "data": {
      "text/plain": [
       "array([0, 1, 2, 3, 4, 5, 6, 7, 8])"
      ]
     },
     "execution_count": 480,
     "metadata": {},
     "output_type": "execute_result"
    }
   ],
   "source": [
    "b.T"
   ]
  },
  {
   "cell_type": "markdown",
   "metadata": {},
   "source": [
    "在NumPy中，复数的虚部是用j表示的。例如，我们可以创建一个由复数构成的数组："
   ]
  },
  {
   "cell_type": "code",
   "execution_count": 481,
   "metadata": {
    "collapsed": true
   },
   "outputs": [],
   "source": [
    "b=array([1.j+1,2.j+3])"
   ]
  },
  {
   "cell_type": "code",
   "execution_count": 482,
   "metadata": {},
   "outputs": [
    {
     "data": {
      "text/plain": [
       "array([ 1.+1.j,  3.+2.j])"
      ]
     },
     "execution_count": 482,
     "metadata": {},
     "output_type": "execute_result"
    }
   ],
   "source": [
    "b"
   ]
  },
  {
   "cell_type": "markdown",
   "metadata": {},
   "source": [
    "real属性，给出复数数组的实部。如果数组中只包含实数元素，则其real属性将输出原\n",
    "数组："
   ]
  },
  {
   "cell_type": "code",
   "execution_count": 483,
   "metadata": {},
   "outputs": [
    {
     "data": {
      "text/plain": [
       "array([ 1.,  3.])"
      ]
     },
     "execution_count": 483,
     "metadata": {},
     "output_type": "execute_result"
    }
   ],
   "source": [
    "b.real"
   ]
  },
  {
   "cell_type": "markdown",
   "metadata": {},
   "source": [
    "imag属性，给出复数数组的虚部："
   ]
  },
  {
   "cell_type": "code",
   "execution_count": 484,
   "metadata": {},
   "outputs": [
    {
     "data": {
      "text/plain": [
       "array([ 1.,  2.])"
      ]
     },
     "execution_count": 484,
     "metadata": {},
     "output_type": "execute_result"
    }
   ],
   "source": [
    "b.imag"
   ]
  },
  {
   "cell_type": "markdown",
   "metadata": {},
   "source": [
    "如果数组中包含复数元素，则其数据类型自动变为复数型："
   ]
  },
  {
   "cell_type": "code",
   "execution_count": 485,
   "metadata": {},
   "outputs": [
    {
     "data": {
      "text/plain": [
       "dtype('complex128')"
      ]
     },
     "execution_count": 485,
     "metadata": {},
     "output_type": "execute_result"
    }
   ],
   "source": [
    "b.dtype"
   ]
  },
  {
   "cell_type": "code",
   "execution_count": 486,
   "metadata": {},
   "outputs": [
    {
     "data": {
      "text/plain": [
       "'<c16'"
      ]
     },
     "execution_count": 486,
     "metadata": {},
     "output_type": "execute_result"
    }
   ],
   "source": [
    "b.dtype.str"
   ]
  },
  {
   "cell_type": "markdown",
   "metadata": {},
   "source": [
    "flat属性将返回一个numpy.flatiter对象， 这是获得flatiter对象的唯一方式——我\n",
    "们无法访问flatiter的构造函数。这个所谓的“扁平迭代器”可以让我们像遍历一维数\n",
    "组一样去遍历任意的多维数组"
   ]
  },
  {
   "cell_type": "code",
   "execution_count": 487,
   "metadata": {
    "collapsed": true
   },
   "outputs": [],
   "source": [
    "b=arange(4).reshape(2,2)"
   ]
  },
  {
   "cell_type": "code",
   "execution_count": 488,
   "metadata": {},
   "outputs": [
    {
     "data": {
      "text/plain": [
       "array([[0, 1],\n",
       "       [2, 3]])"
      ]
     },
     "execution_count": 488,
     "metadata": {},
     "output_type": "execute_result"
    }
   ],
   "source": [
    "b"
   ]
  },
  {
   "cell_type": "code",
   "execution_count": 489,
   "metadata": {
    "collapsed": true
   },
   "outputs": [],
   "source": [
    "f=b.flat"
   ]
  },
  {
   "cell_type": "code",
   "execution_count": 490,
   "metadata": {},
   "outputs": [
    {
     "data": {
      "text/plain": [
       "<numpy.flatiter at 0x46e4310>"
      ]
     },
     "execution_count": 490,
     "metadata": {},
     "output_type": "execute_result"
    }
   ],
   "source": [
    "f"
   ]
  },
  {
   "cell_type": "code",
   "execution_count": 491,
   "metadata": {},
   "outputs": [
    {
     "name": "stdout",
     "output_type": "stream",
     "text": [
      "0\n",
      "1\n",
      "2\n",
      "3\n"
     ]
    }
   ],
   "source": [
    "for item in f:\n",
    "    print(item)"
   ]
  },
  {
   "cell_type": "code",
   "execution_count": 492,
   "metadata": {},
   "outputs": [
    {
     "data": {
      "text/plain": [
       "2"
      ]
     },
     "execution_count": 492,
     "metadata": {},
     "output_type": "execute_result"
    }
   ],
   "source": [
    "b.flat[2]"
   ]
  },
  {
   "cell_type": "code",
   "execution_count": 493,
   "metadata": {},
   "outputs": [
    {
     "data": {
      "text/plain": [
       "array([1, 3])"
      ]
     },
     "execution_count": 493,
     "metadata": {},
     "output_type": "execute_result"
    }
   ],
   "source": [
    "b.flat[[1,3]]"
   ]
  },
  {
   "cell_type": "markdown",
   "metadata": {},
   "source": [
    "flat属性是一个可赋值的属性。对flat属性赋值将导致整个数组的元素都被覆盖："
   ]
  },
  {
   "cell_type": "code",
   "execution_count": 494,
   "metadata": {
    "collapsed": true
   },
   "outputs": [],
   "source": [
    "b.flat=7"
   ]
  },
  {
   "cell_type": "code",
   "execution_count": 495,
   "metadata": {},
   "outputs": [
    {
     "data": {
      "text/plain": [
       "array([[7, 7],\n",
       "       [7, 7]])"
      ]
     },
     "execution_count": 495,
     "metadata": {},
     "output_type": "execute_result"
    }
   ],
   "source": [
    "b"
   ]
  },
  {
   "cell_type": "code",
   "execution_count": 496,
   "metadata": {
    "collapsed": true
   },
   "outputs": [],
   "source": [
    "b.flat[[1,3]]=1"
   ]
  },
  {
   "cell_type": "code",
   "execution_count": 497,
   "metadata": {},
   "outputs": [
    {
     "data": {
      "text/plain": [
       "array([[7, 1],\n",
       "       [7, 1]])"
      ]
     },
     "execution_count": 497,
     "metadata": {},
     "output_type": "execute_result"
    }
   ],
   "source": [
    "b"
   ]
  },
  {
   "attachments": {
    "_auto_0": {
     "image/png": "[encoded data removed]"
    }
   },
   "cell_type": "markdown",
   "metadata": {},
   "source": [
    "![_auto_0](attachment:_auto_0)"
   ]
  },
  {
   "cell_type": "markdown",
   "metadata": {},
   "source": [
    "## 2.12 动手实践：数组的转换"
   ]
  },
  {
   "cell_type": "markdown",
   "metadata": {},
   "source": [
    "我们可以使用tolist函数将NumPy数组转换成Python列表。"
   ]
  },
  {
   "cell_type": "markdown",
   "metadata": {},
   "source": [
    "#### (1) 转换成列表："
   ]
  },
  {
   "cell_type": "code",
   "execution_count": 498,
   "metadata": {},
   "outputs": [
    {
     "data": {
      "text/plain": [
       "array([[7, 1],\n",
       "       [7, 1]])"
      ]
     },
     "execution_count": 498,
     "metadata": {},
     "output_type": "execute_result"
    }
   ],
   "source": [
    "b"
   ]
  },
  {
   "cell_type": "code",
   "execution_count": 499,
   "metadata": {},
   "outputs": [
    {
     "data": {
      "text/plain": [
       "[[7, 1], [7, 1]]"
      ]
     },
     "execution_count": 499,
     "metadata": {},
     "output_type": "execute_result"
    }
   ],
   "source": [
    "b.tolist()"
   ]
  },
  {
   "cell_type": "markdown",
   "metadata": {},
   "source": [
    "#### (2) astype函数可以在转换数组时指定数据类型："
   ]
  },
  {
   "cell_type": "code",
   "execution_count": 500,
   "metadata": {},
   "outputs": [
    {
     "data": {
      "text/plain": [
       "array([[ 7.,  1.],\n",
       "       [ 7.,  1.]])"
      ]
     },
     "execution_count": 500,
     "metadata": {},
     "output_type": "execute_result"
    }
   ],
   "source": [
    "b.astype(float)"
   ]
  },
  {
   "cell_type": "markdown",
   "metadata": {},
   "source": [
    "## 2.13 本章小结"
   ]
  },
  {
   "cell_type": "markdown",
   "metadata": {},
   "source": [
    "+ 数据类型和NumPy数组。对于数组而言，有很多属性可以用来描述数组，数据类型就是其中之一。在NumPy中，数组的数据类型是用对象来完善表示的。\n",
    "+ 类似于Python列表， NumPy数组也可以方便地进行切片和索引操作。在多维数组上， NumPy有明显的优势。\n",
    "+ 涉及改变数组维度的操作有很多种——组合、调整、设置维度和分割等。在这一章中，对很多改变数组维度的实用函数进行了说明。这样的处理。"
   ]
  },
  {
   "cell_type": "markdown",
   "metadata": {},
   "source": [
    "# 第三章 常用函数"
   ]
  },
  {
   "cell_type": "markdown",
   "metadata": {},
   "source": [
    "## 3.1 文件读写"
   ]
  },
  {
   "cell_type": "markdown",
   "metadata": {},
   "source": [
    "首先，我们来学习使用NumPy读写文件。通常情况下，数据是以文件形式存储的。学会读写\n",
    "文件是深入学习NumPy的基础。"
   ]
  },
  {
   "cell_type": "markdown",
   "metadata": {},
   "source": [
    "## 3.2 动手实践：读写文件"
   ]
  },
  {
   "cell_type": "markdown",
   "metadata": {},
   "source": [
    "作为文件读写示例，我们创建一个单位矩阵并将其存储到文件中，并按照如下步骤完成。"
   ]
  },
  {
   "cell_type": "markdown",
   "metadata": {},
   "source": [
    "### (1) 单位矩阵，即主对角线上的元素均为1，其余元素均为0的正方形矩阵。在NumPy中可以用eye函数创建一个这样的二维数组，我们只需要给定一个参数，用于指定矩阵中1的元素个数。"
   ]
  },
  {
   "cell_type": "code",
   "execution_count": 501,
   "metadata": {
    "collapsed": true
   },
   "outputs": [],
   "source": [
    "i2=eye(2)"
   ]
  },
  {
   "cell_type": "code",
   "execution_count": 502,
   "metadata": {},
   "outputs": [
    {
     "name": "stdout",
     "output_type": "stream",
     "text": [
      "[[ 1.  0.]\n",
      " [ 0.  1.]]\n"
     ]
    }
   ],
   "source": [
    "print(i2)"
   ]
  },
  {
   "cell_type": "code",
   "execution_count": 503,
   "metadata": {},
   "outputs": [
    {
     "data": {
      "text/plain": [
       "array([[ 1.,  0.],\n",
       "       [ 0.,  1.]])"
      ]
     },
     "execution_count": 503,
     "metadata": {},
     "output_type": "execute_result"
    }
   ],
   "source": [
    "i2"
   ]
  },
  {
   "cell_type": "markdown",
   "metadata": {},
   "source": [
    "### (2) 使用savetxt函数将数据存储到文件中，当然我们需要指定文件名以及要保存的数组。"
   ]
  },
  {
   "cell_type": "code",
   "execution_count": 504,
   "metadata": {
    "collapsed": true
   },
   "outputs": [],
   "source": [
    "savetxt('eye.txt',i2)"
   ]
  },
  {
   "cell_type": "markdown",
   "metadata": {},
   "source": [
    "## 3.3 CSV 文件"
   ]
  },
  {
   "cell_type": "markdown",
   "metadata": {},
   "source": [
    "CSV（Comma-Separated Value，逗号分隔值）格式是一种常见的文件格式。通常，数据库的\n",
    "转存文件就是CSV格式的，文件中的各个字段对应于数据库表中的列。众所周知，电子表格软件\n",
    "（如Microsoft Excel）可以处理CSV文件。"
   ]
  },
  {
   "cell_type": "markdown",
   "metadata": {},
   "source": [
    "## 3.4 动手实践：读入 CSV 文件"
   ]
  },
  {
   "cell_type": "markdown",
   "metadata": {},
   "source": [
    "NumPy中的loadtxt函数可以方便地读取CSV\n",
    "文件，自动切分字段，并将数据载入NumPy数组。"
   ]
  },
  {
   "cell_type": "code",
   "execution_count": 505,
   "metadata": {
    "collapsed": true
   },
   "outputs": [],
   "source": [
    "c,v=loadtxt('data.csv',delimiter=',',usecols=(6,7),unpack=True)"
   ]
  },
  {
   "cell_type": "code",
   "execution_count": 506,
   "metadata": {},
   "outputs": [
    {
     "data": {
      "text/plain": [
       "array([ 336.1,  339.4,  338.5,  345.6,  341.2,  340.6,  341.8,  340.6,\n",
       "        340.5,  346.7,  349.2,  345.3,  345.7,  342.7,  348.2,  343.4,\n",
       "        345.5,  341.4,  341.9,  349.9,  346.6,  344.5,  340.2,  343.2,\n",
       "        348.2,  342.2])"
      ]
     },
     "execution_count": 506,
     "metadata": {},
     "output_type": "execute_result"
    }
   ],
   "source": [
    "c"
   ]
  },
  {
   "cell_type": "code",
   "execution_count": 507,
   "metadata": {},
   "outputs": [
    {
     "data": {
      "text/plain": [
       "array([ 21144800.,  22236900.,  22145600.,  21118120.,  20025600.,\n",
       "        23412500.,  22289500.,  21300120.,  24312300.,  21322100.,\n",
       "        21366000.,  21334000.,  21267000.,  21364300.,  22345000.,\n",
       "        23466000.,  25666000.,  24356000.,  28566000.,  29766000.,\n",
       "        22366000.,  21466000.,  24666000.,  28466000.,  22366000.,\n",
       "        24566000.])"
      ]
     },
     "execution_count": 507,
     "metadata": {},
     "output_type": "execute_result"
    }
   ],
   "source": [
    "v"
   ]
  },
  {
   "cell_type": "markdown",
   "metadata": {},
   "source": [
    "## 3.5 成交量加权平均价格（VWAP）"
   ]
  },
  {
   "cell_type": "markdown",
   "metadata": {},
   "source": [
    "VWAP（Volume-Weighted Average Price，成交量加权平均价格）是一个非常重要的经济学量，\n",
    "它代表着金融资产的“平均”价格。某个价格的成交量越高，该价格所占的权重就越大。 VWAP\n",
    "就是以成交量为权重计算出来的加权平均值，常用于算法交易。"
   ]
  },
  {
   "cell_type": "markdown",
   "metadata": {},
   "source": [
    "## 3.6 动手实践：计算成交量加权平均价格"
   ]
  },
  {
   "cell_type": "markdown",
   "metadata": {},
   "source": [
    "(1) 将数据读入数组。\n",
    "(2) 计算VWAP。"
   ]
  },
  {
   "cell_type": "code",
   "execution_count": 508,
   "metadata": {},
   "outputs": [
    {
     "name": "stdout",
     "output_type": "stream",
     "text": [
      "VMAP= 343.465555481\n"
     ]
    }
   ],
   "source": [
    "c,v=loadtxt('data.csv',delimiter=',',usecols=(6,7),unpack=True)\n",
    "vwap=average(c,weights=v)\n",
    "print('VMAP=',vwap)"
   ]
  },
  {
   "cell_type": "markdown",
   "metadata": {},
   "source": [
    "### 3.6.1 算术平均值函数"
   ]
  },
  {
   "cell_type": "code",
   "execution_count": 509,
   "metadata": {},
   "outputs": [
    {
     "name": "stdout",
     "output_type": "stream",
     "text": [
      "mean= 343.426923077\n"
     ]
    }
   ],
   "source": [
    "print(\"mean=\",mean(c))"
   ]
  },
  {
   "cell_type": "markdown",
   "metadata": {},
   "source": [
    "### 3.6.2 时间加权平均价格"
   ]
  },
  {
   "cell_type": "markdown",
   "metadata": {},
   "source": [
    "在经济学中， TWAP（Time-Weighted Average Price，时间加权平均价格）是另一种“平均”\n",
    "价格的指标。基本的思想就是最近的价格重要性大一些，所以我们应该对近期的价格给以较高的权重。\n",
    "最简单的方法就是用arange函数创建一个从0开始依次增长的自然数序列，自然数的个数即为收\n",
    "盘价的个数。当然，这并不一定是正确的计算TWAP的方式。"
   ]
  },
  {
   "cell_type": "code",
   "execution_count": 510,
   "metadata": {
    "collapsed": true
   },
   "outputs": [],
   "source": [
    "t=arange(len(c))"
   ]
  },
  {
   "cell_type": "code",
   "execution_count": 511,
   "metadata": {},
   "outputs": [
    {
     "name": "stdout",
     "output_type": "stream",
     "text": [
      "twap= 344.339384615\n"
     ]
    }
   ],
   "source": [
    "print(\"twap=\",np.average(c,weights=t))"
   ]
  },
  {
   "cell_type": "markdown",
   "metadata": {},
   "source": [
    "## 3.7 取值范围"
   ]
  },
  {
   "cell_type": "code",
   "execution_count": 512,
   "metadata": {
    "collapsed": true
   },
   "outputs": [],
   "source": [
    "h,l=loadtxt('data.csv',delimiter=',',usecols=(4,5),unpack=True)"
   ]
  },
  {
   "cell_type": "code",
   "execution_count": 513,
   "metadata": {},
   "outputs": [
    {
     "name": "stdout",
     "output_type": "stream",
     "text": [
      "height= 359.0\n"
     ]
    }
   ],
   "source": [
    "print(\"height=\",max(h))"
   ]
  },
  {
   "cell_type": "code",
   "execution_count": 514,
   "metadata": {},
   "outputs": [
    {
     "name": "stdout",
     "output_type": "stream",
     "text": [
      "lowest= 331.8\n"
     ]
    }
   ],
   "source": [
    "print(\"lowest=\",min(l))"
   ]
  },
  {
   "cell_type": "markdown",
   "metadata": {},
   "source": [
    "NumPy中有一个ptp函数可以计算数组的取值范围。该函数返回的是数组元素的最大值\n",
    "和最小值之间的差值。也就是说，返回值等于max(array) - min(array)。调用ptp函数："
   ]
  },
  {
   "cell_type": "code",
   "execution_count": 515,
   "metadata": {},
   "outputs": [
    {
     "name": "stdout",
     "output_type": "stream",
     "text": [
      "Spread high price 14.6\n"
     ]
    }
   ],
   "source": [
    "print(\"Spread high price\",ptp(h))"
   ]
  },
  {
   "cell_type": "code",
   "execution_count": 516,
   "metadata": {},
   "outputs": [
    {
     "name": "stdout",
     "output_type": "stream",
     "text": [
      "Spread low price 8.0\n"
     ]
    }
   ],
   "source": [
    "print(\"Spread low price\",ptp(l))"
   ]
  },
  {
   "cell_type": "markdown",
   "metadata": {},
   "source": [
    "## 3.9 统计分析"
   ]
  },
  {
   "cell_type": "markdown",
   "metadata": {},
   "source": [
    "算数平均值和加权平均值都是在数值分布中寻找中心点的方法。然而，它们对于异常值（outlier）\n",
    "既不鲁棒也不敏感。举例来说，如果我们有一个高达100万美元的收盘价，这将影响到我们的计\n",
    "算结果。"
   ]
  },
  {
   "cell_type": "markdown",
   "metadata": {},
   "source": [
    "## 3.10 动手实践：简单统计分析"
   ]
  },
  {
   "cell_type": "markdown",
   "metadata": {},
   "source": [
    "我们可以用一些阈值来除去异常值，但其实有更好的方法，那就是中位数。将各个变量值按\n",
    "大小顺序排列起来，形成一个数列，居于数列中间位置的那个数即为中位数。"
   ]
  },
  {
   "cell_type": "code",
   "execution_count": 517,
   "metadata": {
    "collapsed": true
   },
   "outputs": [],
   "source": [
    "c=loadtxt('data.csv',delimiter=',',usecols=(6,),unpack=True)"
   ]
  },
  {
   "cell_type": "code",
   "execution_count": 518,
   "metadata": {},
   "outputs": [
    {
     "name": "stdout",
     "output_type": "stream",
     "text": [
      "median= 342.95\n"
     ]
    }
   ],
   "source": [
    "print(\"median=\",median(c))"
   ]
  },
  {
   "cell_type": "markdown",
   "metadata": {},
   "source": [
    "调用msort函数，将获得排序后的数组，并输出\n",
    "结果。"
   ]
  },
  {
   "cell_type": "code",
   "execution_count": 519,
   "metadata": {},
   "outputs": [
    {
     "name": "stdout",
     "output_type": "stream",
     "text": [
      "sorted= [ 336.1  338.5  339.4  340.2  340.5  340.6  340.6  341.2  341.4  341.8\n",
      "  341.9  342.2  342.7  343.2  343.4  344.5  345.3  345.5  345.6  345.7\n",
      "  346.6  346.7  348.2  348.2  349.2  349.9]\n"
     ]
    }
   ],
   "source": [
    "print(\"sorted=\",msort(c))"
   ]
  },
  {
   "cell_type": "code",
   "execution_count": 520,
   "metadata": {},
   "outputs": [
    {
     "name": "stdout",
     "output_type": "stream",
     "text": [
      "variance= 11.757352071\n"
     ]
    }
   ],
   "source": [
    "print(\"variance=\",var(c))# 方差"
   ]
  },
  {
   "cell_type": "code",
   "execution_count": 521,
   "metadata": {},
   "outputs": [
    {
     "name": "stdout",
     "output_type": "stream",
     "text": [
      "variance from definition= 11.757352071\n"
     ]
    }
   ],
   "source": [
    "print(\"variance from definition=\",mean((c-c.mean())**2))"
   ]
  },
  {
   "cell_type": "markdown",
   "metadata": {},
   "source": [
    "## 3.11 股票收益率"
   ]
  },
  {
   "cell_type": "markdown",
   "metadata": {},
   "source": [
    "在学术文献中，收盘价的分析常常是基于股票收益率和对数收益率的。简单收益率是指相邻\n",
    "两个价格之间的变化率，而对数收益率是指所有价格取对数后两两之间的差值。"
   ]
  },
  {
   "cell_type": "markdown",
   "metadata": {},
   "source": [
    "## 3.12 动手实践：分析股票收益率"
   ]
  },
  {
   "cell_type": "markdown",
   "metadata": {},
   "source": [
    "(1) 首先，我们来计算简单收益率。 NumPy中的diff函数可以返回一个由相邻数组元素的差\n",
    "值构成的数组。这有点类似于微积分中的微分。为了计算收益率，我们还需要用差值除以前一天\n",
    "的价格。不过这里要注意， diff返回的数组比收盘价数组少一个元素。"
   ]
  },
  {
   "cell_type": "code",
   "execution_count": 522,
   "metadata": {
    "collapsed": true
   },
   "outputs": [],
   "source": [
    "arr=loadtxt('data.csv',delimiter=',',usecols=(6),unpack=True)"
   ]
  },
  {
   "cell_type": "code",
   "execution_count": 523,
   "metadata": {
    "collapsed": true
   },
   "outputs": [],
   "source": [
    "returns=diff(arr)/arr[:-1]"
   ]
  },
  {
   "cell_type": "code",
   "execution_count": 524,
   "metadata": {},
   "outputs": [
    {
     "data": {
      "text/plain": [
       "array([ 0.00981851, -0.00265174,  0.02097489, -0.01273148, -0.0017585 ,\n",
       "        0.00352319, -0.00351083, -0.0002936 ,  0.01820852,  0.00721085,\n",
       "       -0.01116838,  0.00115841, -0.00867804,  0.01604902, -0.01378518,\n",
       "        0.00611532, -0.01186686,  0.00146456,  0.02339865, -0.00943127,\n",
       "       -0.00605886, -0.01248186,  0.00881834,  0.01456876, -0.01723148])"
      ]
     },
     "execution_count": 524,
     "metadata": {},
     "output_type": "execute_result"
    }
   ],
   "source": [
    "returns"
   ]
  },
  {
   "cell_type": "code",
   "execution_count": 525,
   "metadata": {},
   "outputs": [
    {
     "name": "stdout",
     "output_type": "stream",
     "text": [
      "Standard deviation= 0.011570153063\n"
     ]
    }
   ],
   "source": [
    "print(\"Standard deviation=\",np.std(returns))#标准差"
   ]
  },
  {
   "cell_type": "markdown",
   "metadata": {},
   "source": [
    "对数收益率计算起来甚至更简单一些。我们先用log函数得到每一个收盘价的对数，再\n",
    "对结果使用diff函数即可"
   ]
  },
  {
   "cell_type": "code",
   "execution_count": 526,
   "metadata": {
    "collapsed": true
   },
   "outputs": [],
   "source": [
    "logreturns=diff(log(c))"
   ]
  },
  {
   "cell_type": "markdown",
   "metadata": {},
   "source": [
    "**where函数可以根据指定的条件返回所有满足条件的数\n",
    "组元素的索引值。**"
   ]
  },
  {
   "cell_type": "code",
   "execution_count": 527,
   "metadata": {
    "collapsed": true
   },
   "outputs": [],
   "source": [
    "posretindices=np.where(returns>0)"
   ]
  },
  {
   "cell_type": "code",
   "execution_count": 528,
   "metadata": {},
   "outputs": [
    {
     "name": "stdout",
     "output_type": "stream",
     "text": [
      "Indices with positive returns (array([ 0,  2,  5,  8,  9, 11, 13, 15, 17, 18, 22, 23], dtype=int64),)\n"
     ]
    }
   ],
   "source": [
    "print(\"Indices with positive returns\",posretindices)"
   ]
  },
  {
   "cell_type": "markdown",
   "metadata": {},
   "source": [
    "(4) 在投资学中，波动率（volatility）是对价格变动的一种度量。历史波动率可以根据历史价\n",
    "格数据计算得出。计算历史波动率（如年波动率或月波动率）时，需要用到对数收益率。年波动\n",
    "率等于对数收益率的标准差除以其均值，再除以交易日倒数的平方根，通常交易日取252天。"
   ]
  },
  {
   "cell_type": "code",
   "execution_count": 529,
   "metadata": {
    "collapsed": true
   },
   "outputs": [],
   "source": [
    "annual_vol=np.std(logreturns)/np.mean(logreturns)"
   ]
  },
  {
   "cell_type": "code",
   "execution_count": 530,
   "metadata": {
    "collapsed": true
   },
   "outputs": [],
   "source": [
    "annual_vol=annual_vol/np.sqrt(1./252.)"
   ]
  },
  {
   "cell_type": "code",
   "execution_count": 531,
   "metadata": {},
   "outputs": [
    {
     "name": "stdout",
     "output_type": "stream",
     "text": [
      "254.6152755\n"
     ]
    }
   ],
   "source": [
    "print(annual_vol)"
   ]
  },
  {
   "cell_type": "markdown",
   "metadata": {
    "collapsed": true
   },
   "source": [
    "## 3.14 动手实践：分析日期数据"
   ]
  },
  {
   "cell_type": "markdown",
   "metadata": {},
   "source": [
    "**dates,close=np.loadtxt('data.csv',delimiter=',',usecols=(1,6),unpack=True)**\n",
    "\n",
    "ValueError                                Traceback (most recent call last)\n",
    "<ipython-input-538-7b6d7befbd03> in <module>()\n",
    "----> 1 dates,close=np.loadtxt('data.csv',delimiter=',',usecols=(1,6),unpack=True)\n",
    "\n",
    "D:\\Anaconda3\\lib\\site-packages\\numpy\\lib\\npyio.py in loadtxt(fname, dtype, comments, delimiter, converters, skiprows, usecols, unpack, ndmin)\n",
    "   1022 \n",
    "   1023             # Convert each value according to its column and store\n",
    "-> 1024             items = [conv(val) for (conv, val) in zip(converters, vals)]\n",
    "   1025             # Then pack it according to the dtype's nesting\n",
    "   1026             items = pack_items(items, packing)\n",
    "\n",
    "D:\\Anaconda3\\lib\\site-packages\\numpy\\lib\\npyio.py in <listcomp>(.0)\n",
    "   1022 \n",
    "   1023             # Convert each value according to its column and store\n",
    "-> 1024             items = [conv(val) for (conv, val) in zip(converters, vals)]\n",
    "   1025             # Then pack it according to the dtype's nesting\n",
    "   1026             items = pack_items(items, packing)\n",
    "\n",
    "D:\\Anaconda3\\lib\\site-packages\\numpy\\lib\\npyio.py in floatconv(x)\n",
    "    723         if b'0x' in x:\n",
    "    724             return float.fromhex(asstr(x))\n",
    "--> 725         return float(x)\n",
    "    726 \n",
    "    727     typ = dtype.type\n",
    "\n",
    "ValueError: could not convert string to float: b'28-01-2011'"
   ]
  },
  {
   "cell_type": "markdown",
   "metadata": {},
   "source": [
    "显然， NumPy尝试把日期转换成浮点数。我们需要做的是显式地告诉NumPy怎样来转换\n",
    "日期，而这需要用到loadtxt函数中的一个特定的参数。这个参数就是converters，它是一本\n",
    "数据列和转换函数之间进行映射的字典。"
   ]
  },
  {
   "cell_type": "markdown",
   "metadata": {},
   "source": [
    "为此，我们必须写出转换函数："
   ]
  },
  {
   "cell_type": "code",
   "execution_count": 532,
   "metadata": {
    "collapsed": true
   },
   "outputs": [],
   "source": [
    "# 星期一 0\n",
    "# 星期二 1\n",
    "# 星期三 2\n",
    "# 星期四 3\n",
    "# 星期五 4\n",
    "# 星期六 5\n",
    "# 星期日 6\n",
    "import datetime\n",
    "def datestr2num(s):\n",
    "    return datetime.datetime.strptime(s.decode('ascii'),\"%d-%m-%Y\").date().weekday()"
   ]
  },
  {
   "cell_type": "markdown",
   "metadata": {},
   "source": [
    "我们将日期作为字符串传给datestr2num函数，如“28-01-2011”。这个字符串首先会按照\n",
    "指定的形式\"%d-%m-%Y\"转换成一个datetime对象。补充一点，这是由Python标准库提供的功能，\n",
    "与NumPy无关。随后， datetime对象被转换为date对象。最后，调用weekday方法返回一个数\n",
    "字。如同你在注释中看到的，这个数字可以是0到6的整数， 0代表星期一， 6代表星期天。当然，\n",
    "具体的数字并不重要，只是用作标识。"
   ]
  },
  {
   "cell_type": "code",
   "execution_count": 533,
   "metadata": {
    "collapsed": true
   },
   "outputs": [],
   "source": [
    "dates,close=np.loadtxt('data.csv',delimiter=',',usecols=(1,6),\n",
    "                       converters={1:datestr2num},unpack=True)"
   ]
  },
  {
   "cell_type": "code",
   "execution_count": 534,
   "metadata": {},
   "outputs": [
    {
     "name": "stdout",
     "output_type": "stream",
     "text": [
      "dates= [ 4.  0.  1.  2.  3.  4.  0.  1.  2.  3.  4.  0.  1.  2.  3.  4.  0.  1.\n",
      "  2.  3.  4.  0.  1.  2.  3.  4.]\n"
     ]
    }
   ],
   "source": [
    "print('dates=',dates)"
   ]
  },
  {
   "cell_type": "markdown",
   "metadata": {},
   "source": [
    "我们来创建一个包含5个元素的数组，分别代表一周的5个工作日。数组元素将初始化为0"
   ]
  },
  {
   "cell_type": "code",
   "execution_count": 535,
   "metadata": {
    "collapsed": true
   },
   "outputs": [],
   "source": [
    "averages=np.zeros(5)"
   ]
  },
  {
   "cell_type": "markdown",
   "metadata": {},
   "source": [
    "where函数会根据指定的条件返回所有满足条件的数组元素的索引值。\n",
    "take函数可以按照这些索引值从数组中取出相应的元素。我们将用take函数来获取各个工作日\n",
    "的收盘价。在下面的循环体中，我们将遍历0到4的日期标识，或者说是遍历星期一到星期五，然\n",
    "后用where函数得到各工作日的索引值并存储在indices数组中。在用take函数获取这些索引值\n",
    "相应的元素值。最后，我们对每个工作日计算出平均值存放在averages数组中。"
   ]
  },
  {
   "cell_type": "code",
   "execution_count": 536,
   "metadata": {},
   "outputs": [
    {
     "name": "stdout",
     "output_type": "stream",
     "text": [
      "Day 0 prices [[ 339.4  341.8  345.3  345.5  344.5]] Average 343.3\n",
      "Day 1 prices [[ 338.5  340.6  345.7  341.4  340.2]] Average 341.28\n",
      "Day 2 prices [[ 345.6  340.5  342.7  341.9  343.2]] Average 342.78\n",
      "Day 3 prices [[ 341.2  346.7  348.2  349.9  348.2]] Average 346.84\n",
      "Day 4 prices [[ 336.1  340.6  349.2  343.4  346.6  342.2]] Average 343.016666667\n"
     ]
    }
   ],
   "source": [
    "for i in range(5):\n",
    "    indices=np.where(dates==i)\n",
    "    prices=np.take(close,indices)\n",
    "    avg=np.mean(prices)\n",
    "    print(\"Day\",i,\"prices\",prices,\"Average\",avg)\n",
    "    averages[i]=avg"
   ]
  },
  {
   "cell_type": "markdown",
   "metadata": {},
   "source": [
    "如果你愿意，还可以找出哪个工作日的平均收盘价是最高的，哪个是最低的。这很容易\n",
    "做到，用max和min函数即可，代码如下："
   ]
  },
  {
   "cell_type": "code",
   "execution_count": 537,
   "metadata": {},
   "outputs": [
    {
     "name": "stdout",
     "output_type": "stream",
     "text": [
      "Highest average 346.84\n",
      "Top day of the week 3\n",
      "Lowest average 341.28\n",
      "Bottom day of the week 1\n"
     ]
    }
   ],
   "source": [
    "top=np.max(averages)\n",
    "print(\"Highest average\",top)\n",
    "print(\"Top day of the week\",np.argmax(averages))\n",
    "bottom=np.min(averages)\n",
    "print(\"Lowest average\",bottom)\n",
    "print(\"Bottom day of the week\",np.argmin(averages))"
   ]
  },
  {
   "cell_type": "markdown",
   "metadata": {},
   "source": [
    "## 3.15 周汇总"
   ]
  },
  {
   "cell_type": "markdown",
   "metadata": {},
   "source": [
    "## 3.16 动手实践：汇总数据"
   ]
  },
  {
   "cell_type": "code",
   "execution_count": 538,
   "metadata": {
    "collapsed": true
   },
   "outputs": [],
   "source": [
    "close=close[:16]"
   ]
  },
  {
   "cell_type": "code",
   "execution_count": 539,
   "metadata": {
    "collapsed": true
   },
   "outputs": [],
   "source": [
    "dates=dates[:16]"
   ]
  },
  {
   "cell_type": "markdown",
   "metadata": {},
   "source": [
    "首先我们来找到示例数据中的第一个星期一回忆一下，在Python中星期一对应的编码\n",
    "是0，这可以作为where函数的条件。接着，我们要取出数组中的首个元素，其索引值为0。但where\n",
    "函数返回的结果是一个多维数组，因此要用ravel函数将其展平。"
   ]
  },
  {
   "cell_type": "code",
   "execution_count": 540,
   "metadata": {},
   "outputs": [
    {
     "name": "stdout",
     "output_type": "stream",
     "text": [
      "The first Monday index is 1\n"
     ]
    }
   ],
   "source": [
    "first_monday=np.ravel(np.where(dates==0))[0]\n",
    "print(\"The first Monday index is\",first_monday)"
   ]
  },
  {
   "cell_type": "code",
   "execution_count": 541,
   "metadata": {},
   "outputs": [
    {
     "data": {
      "text/plain": [
       "(array([ 1,  6, 11], dtype=int64),)"
      ]
     },
     "execution_count": 541,
     "metadata": {},
     "output_type": "execute_result"
    }
   ],
   "source": [
    "np.where(dates==0)"
   ]
  },
  {
   "cell_type": "code",
   "execution_count": 542,
   "metadata": {},
   "outputs": [
    {
     "data": {
      "text/plain": [
       "array([ 4.,  0.,  1.,  2.,  3.,  4.,  0.,  1.,  2.,  3.,  4.,  0.,  1.,\n",
       "        2.,  3.,  4.])"
      ]
     },
     "execution_count": 542,
     "metadata": {},
     "output_type": "execute_result"
    }
   ],
   "source": [
    "dates"
   ]
  },
  {
   "cell_type": "markdown",
   "metadata": {},
   "source": [
    "下面要做的是找到示例数据的最后一个星期五，方法和找第一个星期一类似。星期五相\n",
    "对应的编码是4。此外，我们用1作为索引值来定位数组的最后一个元素。"
   ]
  },
  {
   "cell_type": "code",
   "execution_count": 543,
   "metadata": {
    "collapsed": true
   },
   "outputs": [],
   "source": [
    "last_friday=np.ravel(np.where(dates==4))[-1]"
   ]
  },
  {
   "cell_type": "code",
   "execution_count": 544,
   "metadata": {},
   "outputs": [
    {
     "name": "stdout",
     "output_type": "stream",
     "text": [
      "The last Friday index is 15\n"
     ]
    }
   ],
   "source": [
    "print(\"The last Friday index is\",last_friday)"
   ]
  },
  {
   "cell_type": "markdown",
   "metadata": {},
   "source": [
    "接下来创建一个数组，用于存储三周内每一天的索引值。"
   ]
  },
  {
   "cell_type": "code",
   "execution_count": 545,
   "metadata": {},
   "outputs": [
    {
     "name": "stdout",
     "output_type": "stream",
     "text": [
      "Week indices intital: [ 1  2  3  4  5  6  7  8  9 10 11 12 13 14 15]\n"
     ]
    }
   ],
   "source": [
    "weeks_indices=np.arange(first_monday,last_friday+1)\n",
    "print(\"Week indices intital:\",weeks_indices)"
   ]
  },
  {
   "cell_type": "markdown",
   "metadata": {},
   "source": [
    "按照每个子数组5个元素，用split函数切分数组："
   ]
  },
  {
   "cell_type": "code",
   "execution_count": 546,
   "metadata": {
    "collapsed": true
   },
   "outputs": [],
   "source": [
    "weeks_indices=np.split(weeks_indices,3)"
   ]
  },
  {
   "cell_type": "code",
   "execution_count": 547,
   "metadata": {},
   "outputs": [
    {
     "name": "stdout",
     "output_type": "stream",
     "text": [
      "Weeks indices after split [array([1, 2, 3, 4, 5], dtype=int64), array([ 6,  7,  8,  9, 10], dtype=int64), array([11, 12, 13, 14, 15], dtype=int64)]\n"
     ]
    }
   ],
   "source": [
    "print (\"Weeks indices after split\", weeks_indices)"
   ]
  },
  {
   "cell_type": "markdown",
   "metadata": {},
   "source": [
    " 在NumPy中，数组的维度也被称作轴。现在我们来熟悉一下apply_along_axis函数。\n",
    "这个函数会调用另外一个由我们给出的函数，作用于每一个数组元素上。目前我们的数组中有3\n",
    "个元素，分别对应于示例数据中的3个星期，元素中的索引值对应于示例数据中的1天。在调用\n",
    "apply_along_axis时提供我们自定义的函数名summarize，并指定要作用的轴或维度的编号\n",
    "（如取1）、目标数组以及可变数量的summarize函数的参数。"
   ]
  },
  {
   "cell_type": "code",
   "execution_count": 548,
   "metadata": {
    "collapsed": true
   },
   "outputs": [],
   "source": [
    "def summarize(a,o,h,l,c):\n",
    "    monday_open=o[a[0]]\n",
    "    week_high=np.max(np.take(h,a))\n",
    "    week_low=np.min(np.take(l,a))\n",
    "    friday_close=c[a[-1]]\n",
    "    return (\"AAPL\",monday_open,week_high,week_low,friday_close)"
   ]
  },
  {
   "cell_type": "code",
   "execution_count": 549,
   "metadata": {
    "collapsed": true
   },
   "outputs": [],
   "source": [
    "open,high,low,close=np.loadtxt('data.csv',delimiter=',',usecols=(3,4,5,6),unpack=True)"
   ]
  },
  {
   "cell_type": "code",
   "execution_count": 550,
   "metadata": {},
   "outputs": [
    {
     "name": "stdout",
     "output_type": "stream",
     "text": [
      "Week summary: [['AAPL' '345.2' '353.1' '332.3' '340.6']\n",
      " ['AAPL' '344.6' '351.2' '333.4' '349.2']\n",
      " ['AAPL' '342.7' '356.7' '331.8' '343.4']]\n"
     ]
    }
   ],
   "source": [
    "weekssummary=np.apply_along_axis(summarize,1,weeks_indices,open,high,low,close)\n",
    "print(\"Week summary:\",weekssummary)"
   ]
  },
  {
   "cell_type": "code",
   "execution_count": 551,
   "metadata": {
    "collapsed": true
   },
   "outputs": [],
   "source": [
    "np.savetxt(\"weekssummary.csv\",weekssummary,delimiter=\",\",fmt='%s')"
   ]
  },
  {
   "cell_type": "markdown",
   "metadata": {},
   "source": [
    "## 3.17 真实波动幅度均值（ATR）"
   ]
  },
  {
   "cell_type": "markdown",
   "metadata": {},
   "source": [
    "ATR（Average True Range，真实波动幅度均值）是一个用来衡量股价波动性的技术指标。\n",
    "ATR的计算并不是重点，只是作为演示几个NumPy函数的例子，包括maximum函数。"
   ]
  },
  {
   "cell_type": "markdown",
   "metadata": {},
   "source": [
    "## 3.18 动手实践：计算真实波动幅度均值"
   ]
  },
  {
   "cell_type": "markdown",
   "metadata": {},
   "source": [
    "ATR是基于N个交易日的最高价和最低价进行计算的，通常取最近20个交易日。"
   ]
  },
  {
   "cell_type": "code",
   "execution_count": 552,
   "metadata": {
    "collapsed": true
   },
   "outputs": [],
   "source": [
    "h=high[-20:]\n",
    "l=low[-20:]"
   ]
  },
  {
   "cell_type": "markdown",
   "metadata": {},
   "source": [
    "我们还需要知道前一个交易日的收盘价。"
   ]
  },
  {
   "cell_type": "code",
   "execution_count": 553,
   "metadata": {
    "collapsed": true
   },
   "outputs": [],
   "source": [
    "previousclose=c[-21:-1]"
   ]
  },
  {
   "cell_type": "markdown",
   "metadata": {},
   "source": [
    "对于每一个交易日，计算以下各项:\n",
    "+  h – l 当日股价范围，即当日最高价和最低价之差。\n",
    "+ h – previousclose 当日最高价和前一个交易日收盘价之差。\n",
    "+ previousclose – l 前一个交易日收盘价和当日最低价之差。"
   ]
  },
  {
   "cell_type": "markdown",
   "metadata": {},
   "source": [
    "max函数返回数组中的最大值。基于上面计算的3个数值，我们来计算所谓的真实波动幅\n",
    "度，也就是这三者的最大值。现在我们想在一组数组之间按照元素挑选最大值——也就是在所有\n",
    "的数组中第一个元素的最大值、第二个元素的最大值等。为此，需要用NumPy中的**maximum函数**，\n",
    "而不是max函数。"
   ]
  },
  {
   "cell_type": "code",
   "execution_count": 554,
   "metadata": {
    "collapsed": true
   },
   "outputs": [],
   "source": [
    "truerange=np.maximum(h-l,h-previousclose,previousclose-1)"
   ]
  },
  {
   "cell_type": "code",
   "execution_count": 555,
   "metadata": {
    "collapsed": true
   },
   "outputs": [],
   "source": [
    "atr=np.zeros(20)"
   ]
  },
  {
   "cell_type": "code",
   "execution_count": 556,
   "metadata": {
    "collapsed": true
   },
   "outputs": [],
   "source": [
    "atr[0]=np.mean(truerange)"
   ]
  },
  {
   "cell_type": "code",
   "execution_count": 557,
   "metadata": {
    "collapsed": true
   },
   "outputs": [],
   "source": [
    "for i in range(1,20):\n",
    "    atr[i]=(20-1)*atr[i-1]+truerange[i]\n",
    "    atr[i]/=20"
   ]
  },
  {
   "cell_type": "code",
   "execution_count": 558,
   "metadata": {},
   "outputs": [
    {
     "name": "stdout",
     "output_type": "stream",
     "text": [
      "ATR: [ 18.365       18.08175     17.8976625   17.60277938  17.29264041\n",
      "  17.44800839  17.62060797  17.49957757  17.70959869  17.96911876\n",
      "  18.42566282  18.27437968  18.43066069  18.52912766  18.36267128\n",
      "  18.13453771  18.30281083  18.32267028  18.65653677  18.94870993]\n"
     ]
    }
   ],
   "source": [
    "print(\"ATR:\",atr)"
   ]
  },
  {
   "cell_type": "markdown",
   "metadata": {},
   "source": [
    "## 3.19 简单移动平均线"
   ]
  },
  {
   "cell_type": "markdown",
   "metadata": {},
   "source": [
    "简单移动平均线（simple moving average）通常用于分析时间序列上的数据。为了计算它，\n",
    "我们需要定义一个N个周期的移动窗口，在我们的例子中即N个交易日。我们按照时间序列滑动\n",
    "这个窗口，并计算窗口内数据的均值。"
   ]
  },
  {
   "cell_type": "markdown",
   "metadata": {},
   "source": [
    "## 3.20 动手实践：计算简单移动平均线"
   ]
  },
  {
   "cell_type": "markdown",
   "metadata": {},
   "source": [
    "移动平均线只需要少量的循环和均值函数即可计算得出，但使用NumPy还有更优的选\n",
    "择——convolve函数。简单移动平均线只不过是计算与等权重的指示函数的卷积，当然，也可\n",
    "以是不等权重的。"
   ]
  },
  {
   "cell_type": "markdown",
   "metadata": {},
   "source": [
    "使用ones函数创建一个长度为N的元素均初始化为1的数组，然后对整个数组除以N，即\n",
    "可得到权重。如下所示："
   ]
  },
  {
   "cell_type": "code",
   "execution_count": 559,
   "metadata": {},
   "outputs": [
    {
     "name": "stdout",
     "output_type": "stream",
     "text": [
      "Weights [ 0.2  0.2  0.2  0.2  0.2]\n"
     ]
    }
   ],
   "source": [
    "N=5\n",
    "weights=np.ones(N)/N\n",
    "print(\"Weights\",weights)"
   ]
  },
  {
   "cell_type": "markdown",
   "metadata": {},
   "source": [
    "使用这些权重值，调用convolve函数："
   ]
  },
  {
   "cell_type": "code",
   "execution_count": 560,
   "metadata": {
    "collapsed": true
   },
   "outputs": [],
   "source": [
    "c=np.loadtxt('data.csv',delimiter=',',usecols=(6,),unpack=True)\n",
    "sma=np.convolve(weights,c)[N-1:-N+1]"
   ]
  },
  {
   "cell_type": "code",
   "execution_count": 561,
   "metadata": {},
   "outputs": [
    {
     "data": {
      "text/plain": [
       "array([ 336.1,  339.4,  338.5,  345.6,  341.2,  340.6,  341.8,  340.6,\n",
       "        340.5,  346.7,  349.2,  345.3,  345.7,  342.7,  348.2,  343.4,\n",
       "        345.5,  341.4,  341.9,  349.9,  346.6,  344.5,  340.2,  343.2,\n",
       "        348.2,  342.2])"
      ]
     },
     "execution_count": 561,
     "metadata": {},
     "output_type": "execute_result"
    }
   ],
   "source": [
    "c"
   ]
  },
  {
   "cell_type": "code",
   "execution_count": 562,
   "metadata": {},
   "outputs": [
    {
     "data": {
      "text/plain": [
       "array([ 340.16,  341.06,  341.54,  341.96,  340.94,  342.04,  343.76,\n",
       "        344.46,  345.48,  345.92,  346.22,  345.06,  345.1 ,  344.24,\n",
       "        344.08,  344.42,  345.06,  344.86,  344.62,  344.88,  344.54,\n",
       "        343.66])"
      ]
     },
     "execution_count": 562,
     "metadata": {},
     "output_type": "execute_result"
    }
   ],
   "source": [
    "sma"
   ]
  },
  {
   "cell_type": "markdown",
   "metadata": {},
   "source": [
    "我们从convolve函数返回的数组中，取出中间的长度为N的部分(即两者做卷积运算时完全重叠的区域)。下面的代码将创建\n",
    "一个存储时间值的数组，并使用Matplotlib进行绘图。"
   ]
  },
  {
   "cell_type": "code",
   "execution_count": 563,
   "metadata": {},
   "outputs": [
    {
     "data": {
      "image/png": "[encoded data removed]",
      "text/plain": [
       "<matplotlib.figure.Figure at 0x9cd37b8>"
      ]
     },
     "metadata": {},
     "output_type": "display_data"
    },
    {
     "data": {
      "image/png": "[encoded data removed]",
      "text/plain": [
       "<matplotlib.figure.Figure at 0xba89d30>"
      ]
     },
     "metadata": {},
     "output_type": "display_data"
    }
   ],
   "source": [
    "import matplotlib.pyplot as plt\n",
    "c=np.loadtxt('data.csv',delimiter=',',usecols=(6,),unpack=True)\n",
    "sma=np.convolve(weights,c)[N-1:-N+1]\n",
    "t=np.arange(N-1,len(c))\n",
    "plt.plot(t,c[N-1:],lw=1.0)\n",
    "plt.plot(t,sma,lw=2.0)\n",
    "plt.show()"
   ]
  },
  {
   "cell_type": "markdown",
   "metadata": {},
   "source": [
    "## 3.21 指数移动平均线"
   ]
  },
  {
   "cell_type": "markdown",
   "metadata": {},
   "source": [
    "除了简单移动平均线，指数移动平均线（exponential moving average）也是一种流行的技术\n",
    "指标。指数移动平均线使用的权重是指数衰减的。对历史上的数据点赋予的权重以指数速度减小，\n",
    "但永远不会到达0。"
   ]
  },
  {
   "cell_type": "markdown",
   "metadata": {},
   "source": [
    "## 3.22 动手实践：计算指数移动平均线"
   ]
  },
  {
   "cell_type": "markdown",
   "metadata": {},
   "source": [
    "给定一个数组， exp函数可以计算出每个数组元素的指数。"
   ]
  },
  {
   "cell_type": "code",
   "execution_count": 564,
   "metadata": {},
   "outputs": [
    {
     "name": "stdout",
     "output_type": "stream",
     "text": [
      "Exp [  1.           2.71828183   7.3890561   20.08553692  54.59815003]\n"
     ]
    }
   ],
   "source": [
    "x=np.arange(5)\n",
    "print(\"Exp\",np.exp(x))"
   ]
  },
  {
   "cell_type": "markdown",
   "metadata": {},
   "source": [
    "linspace函数需要一个起始值和一个终止值参数，以及可选的元素个数的参数，它将返回\n",
    "一个元素值在指定的范围内均匀分布的数组。"
   ]
  },
  {
   "cell_type": "code",
   "execution_count": 565,
   "metadata": {},
   "outputs": [
    {
     "name": "stdout",
     "output_type": "stream",
     "text": [
      "Linspace [-1.   -0.75 -0.5  -0.25  0.  ]\n"
     ]
    }
   ],
   "source": [
    "print(\"Linspace\",np.linspace(-1,0,5))"
   ]
  },
  {
   "cell_type": "markdown",
   "metadata": {},
   "source": [
    "下面我们来对示例数据计算指数移动平均线"
   ]
  },
  {
   "cell_type": "markdown",
   "metadata": {},
   "source": [
    "还是回到权重的计算——这次使用exp和linspace函数。"
   ]
  },
  {
   "cell_type": "code",
   "execution_count": 566,
   "metadata": {
    "collapsed": true
   },
   "outputs": [],
   "source": [
    "N=5\n",
    "weights=np.exp(np.linspace(-1.,0.,N))"
   ]
  },
  {
   "cell_type": "markdown",
   "metadata": {},
   "source": [
    "对权重值做归一化处理。我们将用到ndarray对象的sum方法。"
   ]
  },
  {
   "cell_type": "code",
   "execution_count": 567,
   "metadata": {
    "collapsed": true
   },
   "outputs": [],
   "source": [
    "weights/=weights.sum()"
   ]
  },
  {
   "cell_type": "code",
   "execution_count": 568,
   "metadata": {},
   "outputs": [
    {
     "data": {
      "text/plain": [
       "array([ 0.11405072,  0.14644403,  0.18803785,  0.24144538,  0.31002201])"
      ]
     },
     "execution_count": 568,
     "metadata": {},
     "output_type": "execute_result"
    }
   ],
   "source": [
    "weights"
   ]
  },
  {
   "cell_type": "markdown",
   "metadata": {},
   "source": [
    "接下来就很容易了，我们只需要使用在简单移动平均线一节中学习到的convolve函数即\n",
    "可。同样，我们还是将结果绘制出来。"
   ]
  },
  {
   "cell_type": "code",
   "execution_count": 569,
   "metadata": {},
   "outputs": [
    {
     "data": {
      "image/png": "[encoded data removed]",
      "text/plain": [
       "<matplotlib.figure.Figure at 0xbb08b00>"
      ]
     },
     "metadata": {},
     "output_type": "display_data"
    }
   ],
   "source": [
    "c=np.loadtxt('data.csv',delimiter=',',usecols=(6,),unpack=True)\n",
    "ema=np.convolve(weights,c)[N-1:-N+1]\n",
    "t = np.arange(N - 1, len(c))\n",
    "plt.plot(t,c[N-1:],lw=1.0)\n",
    "plt.plot(t,ema,lw=2.0)\n",
    "plt.show()"
   ]
  },
  {
   "cell_type": "markdown",
   "metadata": {},
   "source": [
    "## 3.23 布林带"
   ]
  },
  {
   "cell_type": "markdown",
   "metadata": {},
   "source": [
    "布林带（Bollinger band）又是一种技术指标。是的，股票市场的确有成千上万种技术指标。\n",
    "布林带是以发明者约翰·布林格（John Bollinger）的名字命名的，用以刻画价格波动的区间。布\n",
    "林带的基本型态是由三条轨道线组成的带状通道（中轨和上、下轨各一条）。"
   ]
  },
  {
   "cell_type": "markdown",
   "metadata": {},
   "source": [
    "+ 中轨 简单移动平均线。\n",
    "+ 上轨 比简单移动平均线高两倍标准差的距离。这里的标准差是指计算简单移动平均线所用数据的标准差。\n",
    "+ 下轨 比简单移动平均线低两倍标准差的距离。"
   ]
  },
  {
   "cell_type": "markdown",
   "metadata": {},
   "source": [
    "## 3.24 动手实践：绘制布林带"
   ]
  },
  {
   "cell_type": "markdown",
   "metadata": {},
   "source": [
    "接下来的例子将介绍NumPy中的fill函数。 fill函数可以将数组元素\n",
    "的值全部设置为一个指定的标量值，它的执行速度比使用array.flat = scalar或者用循环遍\n",
    "历数组赋值的方法更快。按照如下步骤绘制布林带。"
   ]
  },
  {
   "cell_type": "markdown",
   "metadata": {},
   "source": [
    "(1) 我们已经有一个名为sma的数组，包含了简单移动平均线的数据。因此，我们首先要遍\n",
    "历和这些值有关的数据子集。数据子集构建完成后，计算其标准差。注意，从某种意义上来说，\n",
    "我们必须去计算每一个数据点与相应平均值之间的差值。如果不使用NumPy，我们只能遍历所有\n",
    "的数据点并逐一减去相应的平均值。幸运的是， NumPy中的fill函数可以构建元素值完全相同\n",
    "的数组。这可以让我们省去一层循环，当然也就省去了这个循环内作差的步骤。"
   ]
  },
  {
   "cell_type": "code",
   "execution_count": 570,
   "metadata": {},
   "outputs": [
    {
     "data": {
      "image/png": "[encoded data removed]",
      "text/plain": [
       "<matplotlib.figure.Figure at 0x97dd940>"
      ]
     },
     "metadata": {},
     "output_type": "display_data"
    }
   ],
   "source": [
    "deviation=[]\n",
    "c=np.loadtxt('data.csv',delimiter=',',usecols=(6,),unpack=True)\n",
    "C=len(c)\n",
    "for i in range(N-1,C):\n",
    "    if i+N<C:\n",
    "        dev=c[i:i+N]\n",
    "    else:\n",
    "        dev=c[-N:]\n",
    "\n",
    "    averages=np.zeros(N)\n",
    "    averages.fill(sma[i-N-1])\n",
    "    dev=dev-averages\n",
    "    dev=dev**2\n",
    "    dev=np.sqrt(np.mean(dev))\n",
    "    deviation.append(dev)\n",
    "\n",
    "deviation=2*np.array(deviation)\n",
    "upperBB=sma+deviation\n",
    "lowerBB=sma-deviation\n",
    "\n",
    "t=np.arange(N-1,C)\n",
    "plt.plot(t,c[N-1:],lw=1.0)\n",
    "plt.plot(t,sma,lw=2.0)\n",
    "plt.plot(t,upperBB,lw=3.0)\n",
    "plt.plot(t,lowerBB,lw=4.0)\n",
    "plt.show()"
   ]
  },
  {
   "cell_type": "markdown",
   "metadata": {},
   "source": [
    "## 3.25 线性模型"
   ]
  },
  {
   "cell_type": "markdown",
   "metadata": {},
   "source": [
    "NumPy的linalg包是专门用于线性代数计算的。\n",
    "下面的工作基于一个假设，就是一个价格可以根据N个之前的价格利用线性模型计算得出。"
   ]
  },
  {
   "cell_type": "markdown",
   "metadata": {},
   "source": [
    "## 3.26 动手实践：用线性模型预测价格"
   ]
  },
  {
   "cell_type": "markdown",
   "metadata": {},
   "source": [
    "我们姑且假设，一个股价可以用之前股价的线性组合表示出来，也就是说，这个股价等于之\n",
    "前的股价与各自的系数相乘后再做加和的结果，这些系数是需要我们来确定的。用线性代数的术\n",
    "语来讲，这就是解一个最小二乘法的问题。"
   ]
  },
  {
   "cell_type": "markdown",
   "metadata": {},
   "source": [
    "(1) 首先，获取一个包含N个股价的向量b。"
   ]
  },
  {
   "cell_type": "code",
   "execution_count": 571,
   "metadata": {},
   "outputs": [
    {
     "name": "stdout",
     "output_type": "stream",
     "text": [
      "b [ 342.2  348.2  343.2  340.2  344.5]\n"
     ]
    }
   ],
   "source": [
    "b=c[-N:]\n",
    "b=b[::-1]\n",
    "print(\"b\",b)"
   ]
  },
  {
   "cell_type": "markdown",
   "metadata": {},
   "source": [
    "(2) 第二步，初始化一个N×N的二维数组A，元素全部为0。"
   ]
  },
  {
   "cell_type": "code",
   "execution_count": 572,
   "metadata": {},
   "outputs": [
    {
     "name": "stdout",
     "output_type": "stream",
     "text": [
      "Zeros N by N [[ 0.  0.  0.  0.  0.]\n",
      " [ 0.  0.  0.  0.  0.]\n",
      " [ 0.  0.  0.  0.  0.]\n",
      " [ 0.  0.  0.  0.  0.]\n",
      " [ 0.  0.  0.  0.  0.]]\n"
     ]
    }
   ],
   "source": [
    "A=np.zeros((N,N),float)\n",
    "print(\"Zeros N by N\",A)"
   ]
  },
  {
   "cell_type": "markdown",
   "metadata": {},
   "source": [
    "(3) 第三步，用b向量中的N个股价值填充数组A。"
   ]
  },
  {
   "cell_type": "code",
   "execution_count": 573,
   "metadata": {},
   "outputs": [
    {
     "name": "stdout",
     "output_type": "stream",
     "text": [
      "A [[ 346.6  344.5  340.2  343.2  348.2]\n",
      " [ 349.9  346.6  344.5  340.2  343.2]\n",
      " [ 341.9  349.9  346.6  344.5  340.2]\n",
      " [ 341.4  341.9  349.9  346.6  344.5]\n",
      " [ 345.5  341.4  341.9  349.9  346.6]]\n"
     ]
    }
   ],
   "source": [
    "for i in range(N):\n",
    "    A[i,]=c[-N-1-i:-1-i]\n",
    "print(\"A\",A)"
   ]
  },
  {
   "cell_type": "markdown",
   "metadata": {},
   "source": [
    "(4) 我们的目标是确定线性模型中的那些系数，以解决最小平方和的问题。我们使用linalg\n",
    "包中的lstsq函数来完成这个任务。"
   ]
  },
  {
   "cell_type": "code",
   "execution_count": 574,
   "metadata": {
    "collapsed": true
   },
   "outputs": [],
   "source": [
    "import numpy as np"
   ]
  },
  {
   "cell_type": "code",
   "execution_count": 575,
   "metadata": {
    "collapsed": true
   },
   "outputs": [],
   "source": [
    "(x,residuals,rank,s) = np.linalg.lstsq(A,b)"
   ]
  },
  {
   "cell_type": "code",
   "execution_count": 576,
   "metadata": {},
   "outputs": [
    {
     "data": {
      "text/plain": [
       "array([ 1.1228438 ,  0.07900747,  0.03111128,  0.40323595, -0.64092582])"
      ]
     },
     "execution_count": 576,
     "metadata": {},
     "output_type": "execute_result"
    }
   ],
   "source": [
    "x # 系数向量"
   ]
  },
  {
   "cell_type": "code",
   "execution_count": 577,
   "metadata": {},
   "outputs": [
    {
     "data": {
      "text/plain": [
       "array([], dtype=float64)"
      ]
     },
     "execution_count": 577,
     "metadata": {},
     "output_type": "execute_result"
    }
   ],
   "source": [
    "residuals # 残差数组"
   ]
  },
  {
   "cell_type": "code",
   "execution_count": 578,
   "metadata": {},
   "outputs": [
    {
     "data": {
      "text/plain": [
       "5"
      ]
     },
     "execution_count": 578,
     "metadata": {},
     "output_type": "execute_result"
    }
   ],
   "source": [
    "rank # A的秩"
   ]
  },
  {
   "cell_type": "code",
   "execution_count": 579,
   "metadata": {},
   "outputs": [
    {
     "data": {
      "text/plain": [
       "array([ 1723.96051418,    10.49921322,    10.06443054,     5.13942985,\n",
       "           3.14413299])"
      ]
     },
     "execution_count": 579,
     "metadata": {},
     "output_type": "execute_result"
    }
   ],
   "source": [
    "s # A的奇异值"
   ]
  },
  {
   "cell_type": "markdown",
   "metadata": {},
   "source": [
    "5) 一旦得到了线性模型中的系数，我们就可以预测下一次的股价了。使用NumPy中的dot\n",
    "函数计算系数向量与最近N个价格构成的向量的点积（dot product）。"
   ]
  },
  {
   "cell_type": "code",
   "execution_count": 580,
   "metadata": {},
   "outputs": [
    {
     "name": "stdout",
     "output_type": "stream",
     "text": [
      "338.80686647\n"
     ]
    }
   ],
   "source": [
    "print(np.dot(b,x))"
   ]
  },
  {
   "cell_type": "markdown",
   "metadata": {},
   "source": [
    "## 3.27 趋势线"
   ]
  },
  {
   "cell_type": "markdown",
   "metadata": {},
   "source": [
    "趋势线，是根据股价走势图上很多所谓的枢轴点绘成的曲线。顾名思义，趋势线描绘的是价\n",
    "格变化的趋势。过去的股民们在纸上用手绘制趋势线，而现在我们可以让计算机来帮助我们作图。"
   ]
  },
  {
   "cell_type": "markdown",
   "metadata": {},
   "source": [
    "## 3.28 动手实践：绘制趋势线"
   ]
  },
  {
   "cell_type": "markdown",
   "metadata": {},
   "source": [
    "(1) 首先，我们需要确定枢轴点的位置。这里，我们假设它们等于最高价、最低价和收盘价\n",
    "的算术平均值。"
   ]
  },
  {
   "cell_type": "code",
   "execution_count": 581,
   "metadata": {
    "collapsed": true
   },
   "outputs": [],
   "source": [
    "h,l,c=np.loadtxt('data.csv',delimiter=',',usecols=(4,5,6),unpack=True)"
   ]
  },
  {
   "cell_type": "code",
   "execution_count": 582,
   "metadata": {
    "collapsed": true
   },
   "outputs": [],
   "source": [
    "pivots=(h+l+c)/3"
   ]
  },
  {
   "cell_type": "code",
   "execution_count": 583,
   "metadata": {},
   "outputs": [
    {
     "name": "stdout",
     "output_type": "stream",
     "text": [
      "Pivots: [ 338.01        341.4         342.06666667  346.03333333  342.7\n",
      "  340.53333333  341.36666667  340.03333333  341.9         343.7\n",
      "  346.73333333  343.1         344.06666667  345.5         345.56666667\n",
      "  344.63333333  345.46666667  342.6         343.16666667  346.96666667\n",
      "  345.66666667  344.83333333  341.76666667  344.43333333  346.\n",
      "  344.83333333]\n"
     ]
    }
   ],
   "source": [
    "print(\"Pivots:\",pivots)"
   ]
  },
  {
   "cell_type": "markdown",
   "metadata": {},
   "source": [
    "从这些枢轴点出发，我们可以推导出所谓的阻力位和支撑位。阻力位是指股价上升时遇到阻\n",
    "力，在转跌前的最高价格；支撑位是指股价下跌时遇到支撑，在反弹前的最低价格。需要提醒的\n",
    "是，阻力位和支撑位并非客观存在，它们只是一个估计量。基于这些估计量，我们就可以绘制出\n",
    "阻力位和支撑位的趋势线。我们定义当日股价区间为最高价与最低价之差。"
   ]
  },
  {
   "cell_type": "markdown",
   "metadata": {},
   "source": [
    "(2) 定义一个函数用直线y= at + b来拟合数据，该函数应返回系数a和b。这里需要再次用\n",
    "到linalg包中的lstsq函数。将直线方程重写为y = Ax的形式，其中A = [t 1]， x = [a b]。\n",
    "使用ones_like和vstack函数来构造数组A。"
   ]
  },
  {
   "cell_type": "code",
   "execution_count": 584,
   "metadata": {
    "collapsed": true
   },
   "outputs": [],
   "source": [
    "def fit_line(t,y):\n",
    "    A=np.vstack([t,np.ones_like(t)]).T\n",
    "    return np.linalg.lstsq(A,y)[0]"
   ]
  },
  {
   "cell_type": "markdown",
   "metadata": {},
   "source": [
    "(3) 假设支撑位在枢轴点下方一个当日股价区间的位置，而阻力位在枢轴点上方一个当日股\n",
    "价区间的位置，据此拟合支撑位和阻力位的趋势线。"
   ]
  },
  {
   "cell_type": "code",
   "execution_count": 585,
   "metadata": {
    "collapsed": true
   },
   "outputs": [],
   "source": [
    "t=np.arange(len(c))\n",
    "sa,sb=fit_line(t,pivots-(h-1))\n",
    "ra,rb=fit_line(t,pivots+(h-1))\n",
    "support=sa*t+sb\n",
    "resistance=ra*t+rb"
   ]
  },
  {
   "cell_type": "markdown",
   "metadata": {},
   "source": [
    "(4) 到这里我们已经获得了绘制趋势线所需要的全部数据。但是，我们最好检查一下有多少\n",
    "个数据点落在支撑位和阻力位之间。显然，如果只有一小部分数据在这两条趋势线之间，这样的\n",
    "设定就没有意义。设置一个判断数据点是否位于趋势线之间的条件，作为where函数的参数。"
   ]
  },
  {
   "cell_type": "code",
   "execution_count": 586,
   "metadata": {},
   "outputs": [
    {
     "name": "stdout",
     "output_type": "stream",
     "text": [
      "Condition [ True  True  True  True  True  True  True  True  True  True  True  True\n",
      "  True  True  True  True  True  True  True  True  True  True  True  True\n",
      "  True  True]\n"
     ]
    }
   ],
   "source": [
    "condition=(c>support)&(c<resistance)\n",
    "print(\"Condition\",condition)\n",
    "between_bands=np.where(condition)"
   ]
  },
  {
   "cell_type": "code",
   "execution_count": 587,
   "metadata": {},
   "outputs": [
    {
     "name": "stdout",
     "output_type": "stream",
     "text": [
      "[-5.75239316 -5.91781197 -6.08323077 -6.24864957 -6.41406838 -6.57948718\n",
      " -6.74490598 -6.91032479 -7.07574359 -7.24116239 -7.4065812  -7.572\n",
      " -7.7374188  -7.90283761 -8.06825641 -8.23367521 -8.39909402 -8.56451282\n",
      " -8.72993162 -8.89535043 -9.06076923 -9.22618803 -9.39160684 -9.55702564\n",
      " -9.72244444 -9.88786325]\n"
     ]
    }
   ],
   "source": [
    "print(support[between_bands])"
   ]
  },
  {
   "cell_type": "code",
   "execution_count": 588,
   "metadata": {},
   "outputs": [
    {
     "name": "stdout",
     "output_type": "stream",
     "text": [
      "[ 336.1  339.4  338.5  345.6  341.2  340.6  341.8  340.6  340.5  346.7\n",
      "  349.2  345.3  345.7  342.7  348.2  343.4  345.5  341.4  341.9  349.9\n",
      "  346.6  344.5  340.2  343.2  348.2  342.2]\n"
     ]
    }
   ],
   "source": [
    "print(c[between_bands])"
   ]
  },
  {
   "cell_type": "code",
   "execution_count": 589,
   "metadata": {},
   "outputs": [
    {
     "name": "stdout",
     "output_type": "stream",
     "text": [
      "[ 688.78777778  689.2831453   689.77851282  690.27388034  690.76924786\n",
      "  691.26461538  691.75998291  692.25535043  692.75071795  693.24608547\n",
      "  693.74145299  694.23682051  694.73218803  695.22755556  695.72292308\n",
      "  696.2182906   696.71365812  697.20902564  697.70439316  698.19976068\n",
      "  698.69512821  699.19049573  699.68586325  700.18123077  700.67659829\n",
      "  701.17196581]\n"
     ]
    }
   ],
   "source": [
    "print(resistance[between_bands])"
   ]
  },
  {
   "cell_type": "markdown",
   "metadata": {},
   "source": [
    "注意，where函数返回的是一个秩为2的数组，因此在使用len函数之前需要调用ravel函数。"
   ]
  },
  {
   "cell_type": "code",
   "execution_count": 590,
   "metadata": {},
   "outputs": [
    {
     "data": {
      "text/plain": [
       "(array([ 0,  1,  2,  3,  4,  5,  6,  7,  8,  9, 10, 11, 12, 13, 14, 15, 16,\n",
       "        17, 18, 19, 20, 21, 22, 23, 24, 25], dtype=int64),)"
      ]
     },
     "execution_count": 590,
     "metadata": {},
     "output_type": "execute_result"
    }
   ],
   "source": [
    "between_bands"
   ]
  },
  {
   "cell_type": "code",
   "execution_count": 591,
   "metadata": {
    "collapsed": true
   },
   "outputs": [],
   "source": [
    "between_bands=len(np.ravel(between_bands))"
   ]
  },
  {
   "cell_type": "code",
   "execution_count": 592,
   "metadata": {},
   "outputs": [
    {
     "name": "stdout",
     "output_type": "stream",
     "text": [
      "Number points between bands 26\n"
     ]
    }
   ],
   "source": [
    "print(\"Number points between bands\",between_bands)"
   ]
  },
  {
   "cell_type": "code",
   "execution_count": 593,
   "metadata": {},
   "outputs": [
    {
     "name": "stdout",
     "output_type": "stream",
     "text": [
      "Ratio between bands 1.0\n"
     ]
    }
   ],
   "source": [
    "print(\"Ratio between bands\",float(between_bands)/len(c))"
   ]
  },
  {
   "cell_type": "markdown",
   "metadata": {},
   "source": [
    "我们还得到了一个额外的奖励：一个新的预测模型。我们可以用这个模型来预测下一个交易\n",
    "日的阻力位和支撑位。"
   ]
  },
  {
   "cell_type": "code",
   "execution_count": 594,
   "metadata": {},
   "outputs": [
    {
     "name": "stdout",
     "output_type": "stream",
     "text": [
      "Tomorrows support -10.0532820513\n"
     ]
    }
   ],
   "source": [
    "print(\"Tomorrows support\",sa*(t[-1]+1)+sb)"
   ]
  },
  {
   "cell_type": "code",
   "execution_count": 595,
   "metadata": {},
   "outputs": [
    {
     "name": "stdout",
     "output_type": "stream",
     "text": [
      "Tomorrows resistance 701.667333333\n"
     ]
    }
   ],
   "source": [
    "print(\"Tomorrows resistance\",ra*(t[-1]+1)+rb)"
   ]
  },
  {
   "cell_type": "markdown",
   "metadata": {},
   "source": [
    "此外，还有另外一种计算支撑位和阻力位之间数据点个数的方法：使用[]和intersect1d\n",
    "函数。在[]操作符里面定义选取条件，然后用intersect1d函数计算两者相交的结果。"
   ]
  },
  {
   "cell_type": "code",
   "execution_count": 596,
   "metadata": {},
   "outputs": [
    {
     "name": "stdout",
     "output_type": "stream",
     "text": [
      "Number of points between bands 2nd approach 24\n"
     ]
    }
   ],
   "source": [
    "a1=c[c>support]\n",
    "a2=c[c<resistance]\n",
    "print(\"Number of points between bands 2nd approach\",len(np.intersect1d(a1,a2)))"
   ]
  },
  {
   "cell_type": "code",
   "execution_count": 597,
   "metadata": {},
   "outputs": [
    {
     "data": {
      "image/png": "[encoded data removed]",
      "text/plain": [
       "<matplotlib.figure.Figure at 0x981c080>"
      ]
     },
     "metadata": {},
     "output_type": "display_data"
    }
   ],
   "source": [
    "plt.plot(t,c)\n",
    "plt.plot(t,support)\n",
    "plt.plot(t,resistance)\n",
    "plt.show()"
   ]
  },
  {
   "cell_type": "markdown",
   "metadata": {},
   "source": [
    "## 3.29 ndarray 对象的方法"
   ]
  },
  {
   "cell_type": "markdown",
   "metadata": {},
   "source": [
    "NumPy中的ndarray类定义了许多方法，可以在数组对象上直接调用。通常情况下，这些方\n",
    "法会返回一个数组。你可能已经注意到了，很多NumPy函数都有对应的相同的名字和功能的\n",
    "ndarray对象。这主要是由NumPy发展过程中的历史原因造成的。"
   ]
  },
  {
   "cell_type": "markdown",
   "metadata": {},
   "source": [
    "## 3.30 动手实践：数组的修剪和压缩"
   ]
  },
  {
   "cell_type": "markdown",
   "metadata": {},
   "source": [
    "(1) clip方法返回一个修剪过的数组，也就是将所有比给定最大值还大的元素全部设为给定\n",
    "的最大值，而所有比给定最小值还小的元素全部设为给定的最小值。例如，设定范围1到2对0到4\n",
    "的整数数组进行修剪："
   ]
  },
  {
   "cell_type": "code",
   "execution_count": 598,
   "metadata": {},
   "outputs": [
    {
     "name": "stdout",
     "output_type": "stream",
     "text": [
      "a= [ 0  1  2  3  4  5  6  7  8  9 10 11 12 13 14 15 16 17 18 19]\n",
      "Clipped [ 5  5  5  5  5  5  6  7  8  9 10 11 12 13 14 15 15 15 15 15]\n"
     ]
    }
   ],
   "source": [
    "a=np.arange(20)\n",
    "print(\"a=\",a)\n",
    "print(\"Clipped\",a.clip(5,15))"
   ]
  },
  {
   "cell_type": "markdown",
   "metadata": {},
   "source": [
    "(2) compress方法返回一个根据给定条件筛选后的数组。"
   ]
  },
  {
   "cell_type": "code",
   "execution_count": 599,
   "metadata": {},
   "outputs": [
    {
     "name": "stdout",
     "output_type": "stream",
     "text": [
      "[0 1 2 3 4 5 6 7 8]\n",
      "Compressed [3 4 5 6 7 8]\n",
      "[3 4 5 6 7 8]\n"
     ]
    }
   ],
   "source": [
    "a=np.arange(9)\n",
    "print(a)\n",
    "print(\"Compressed\",a.compress(a>2))\n",
    "print(a[a>2])"
   ]
  },
  {
   "cell_type": "markdown",
   "metadata": {},
   "source": [
    "## 3.32 动手实践：计算阶乘"
   ]
  },
  {
   "cell_type": "markdown",
   "metadata": {},
   "source": [
    "ndarray类有一个prod方法，可以计算数组中所有元素的乘积。按如下步骤计算阶乘。"
   ]
  },
  {
   "cell_type": "markdown",
   "metadata": {},
   "source": [
    "(1) 计算8的阶乘。为此，先生成一个1~8的整数数组，并调用prod方法。"
   ]
  },
  {
   "cell_type": "code",
   "execution_count": 600,
   "metadata": {},
   "outputs": [
    {
     "name": "stdout",
     "output_type": "stream",
     "text": [
      "b= [1 2 3 4 5 6 7 8]\n",
      "Factorial 40320\n"
     ]
    }
   ],
   "source": [
    "b=np.arange(1,9)\n",
    "print(\"b=\",b)\n",
    "print(\"Factorial\",b.prod())"
   ]
  },
  {
   "cell_type": "markdown",
   "metadata": {},
   "source": [
    "(2) 没问题！调用cumprod方法，计算数组元素的累积乘积。"
   ]
  },
  {
   "cell_type": "code",
   "execution_count": 601,
   "metadata": {},
   "outputs": [
    {
     "name": "stdout",
     "output_type": "stream",
     "text": [
      "Factorials [    1     2     6    24   120   720  5040 40320]\n"
     ]
    }
   ],
   "source": [
    "print(\"Factorials\",b.cumprod())"
   ]
  },
  {
   "cell_type": "markdown",
   "metadata": {},
   "source": [
    "# 第4章 便捷函数"
   ]
  },
  {
   "cell_type": "markdown",
   "metadata": {},
   "source": [
    "## 4.1 相关性"
   ]
  },
  {
   "cell_type": "markdown",
   "metadata": {},
   "source": [
    "## 4.2 动手实践：股票相关性分析"
   ]
  },
  {
   "cell_type": "code",
   "execution_count": 602,
   "metadata": {
    "collapsed": true
   },
   "outputs": [],
   "source": [
    "ali=np.loadtxt('alibaba.csv',delimiter=',',usecols=(6,),unpack=True)\n",
    "jd=np.loadtxt('JD.csv',delimiter=',',usecols=(6,),unpack=True)"
   ]
  },
  {
   "cell_type": "code",
   "execution_count": 603,
   "metadata": {
    "collapsed": true
   },
   "outputs": [],
   "source": [
    "ali_returns=np.diff(ali)/ali[:-1]\n",
    "jd_returns=np.diff(jd)/jd[:-1]"
   ]
  },
  {
   "cell_type": "markdown",
   "metadata": {},
   "source": [
    "(2) 协方差描述的是两个变量共同变化的趋势，其实就是归一化前的相关系数。使用cov函\n",
    "数计算股票收益率的协方差矩阵"
   ]
  },
  {
   "cell_type": "code",
   "execution_count": 604,
   "metadata": {},
   "outputs": [
    {
     "name": "stdout",
     "output_type": "stream",
     "text": [
      "Covariance [[ 0.00040343  0.00016953]\n",
      " [ 0.00016953  0.00041534]]\n"
     ]
    }
   ],
   "source": [
    "covariance=np.cov(ali_returns,jd_returns)\n",
    "print (\"Covariance\",covariance)"
   ]
  },
  {
   "cell_type": "markdown",
   "metadata": {},
   "source": [
    "(3) 使用diagonal函数查看对角线上的元素："
   ]
  },
  {
   "cell_type": "code",
   "execution_count": 605,
   "metadata": {},
   "outputs": [
    {
     "name": "stdout",
     "output_type": "stream",
     "text": [
      "Covariance diagonal [ 0.00040343  0.00041534]\n"
     ]
    }
   ],
   "source": [
    "print(\"Covariance diagonal\",covariance.diagonal())"
   ]
  },
  {
   "cell_type": "markdown",
   "metadata": {},
   "source": [
    "(4) 使用trace函数计算矩阵的迹，即对角线上元素之和："
   ]
  },
  {
   "cell_type": "code",
   "execution_count": 606,
   "metadata": {},
   "outputs": [
    {
     "name": "stdout",
     "output_type": "stream",
     "text": [
      "Covariance trace 0.000818773159374\n"
     ]
    }
   ],
   "source": [
    "print(\"Covariance trace\",covariance.trace())"
   ]
  },
  {
   "attachments": {
    "_auto_0": {
     "image/png": "[encoded data removed]"
    }
   },
   "cell_type": "markdown",
   "metadata": {},
   "source": [
    "(5) 两个向量的相关系数被定义为协方差除以各自标准差的乘积。计算向量a和b的相关系数\n",
    "的公式如下。![_auto_0](attachment:_auto_0)"
   ]
  },
  {
   "cell_type": "code",
   "execution_count": 607,
   "metadata": {},
   "outputs": [
    {
     "name": "stdout",
     "output_type": "stream",
     "text": [
      "[[ 1.03484141  0.43486188]\n",
      " [ 0.43486188  1.06538064]]\n"
     ]
    }
   ],
   "source": [
    "print(covariance/(ali_returns.std()*jd_returns.std()))"
   ]
  },
  {
   "cell_type": "markdown",
   "metadata": {},
   "source": [
    "(6) 我们将用相关系数来度量这两只股票的相关程度。相关系数的取值范围在-1到1之间。\n",
    "根据定义，一组数值与自身的相关系数等于1。这是严格线性关系的理想值，实际上如果得到稍\n",
    "小一些的值，我们仍然会很高兴。使用corrcoef函数计算相关系数（或者更精确地，相关系数\n",
    "矩阵）："
   ]
  },
  {
   "cell_type": "code",
   "execution_count": 608,
   "metadata": {},
   "outputs": [
    {
     "name": "stdout",
     "output_type": "stream",
     "text": [
      "Correlation coefficient [[ 1.          0.41415417]\n",
      " [ 0.41415417  1.        ]]\n"
     ]
    }
   ],
   "source": [
    "print(\"Correlation coefficient\",np.corrcoef(ali_returns,jd_returns))"
   ]
  },
  {
   "cell_type": "markdown",
   "metadata": {},
   "source": [
    "对角线上的元素即BHP和VALE与自身的相关系数，因此均为1，很可能并非真的经过计算得\n",
    "出。相关系数矩阵是关于对角线对称的，因此另外两个元素的值相等，"
   ]
  },
  {
   "cell_type": "markdown",
   "metadata": {},
   "source": [
    "(7) 另外一个要点是判断两只股票的价格走势是否同步。如果它们的差值偏离了平均差值2\n",
    "倍于标准差的距离，则认为这两只股票走势不同步。\n",
    "若判断为不同步，我们可以进行股票交易，等待它们重新回到同步的状态。计算这两只股票\n",
    "收盘价的差值，以判断是否同步："
   ]
  },
  {
   "cell_type": "code",
   "execution_count": 609,
   "metadata": {
    "collapsed": true
   },
   "outputs": [],
   "source": [
    "difference=ali-jd"
   ]
  },
  {
   "cell_type": "code",
   "execution_count": 610,
   "metadata": {
    "collapsed": true
   },
   "outputs": [],
   "source": [
    "avg=np.mean(difference)"
   ]
  },
  {
   "cell_type": "code",
   "execution_count": 611,
   "metadata": {
    "collapsed": true
   },
   "outputs": [],
   "source": [
    "dev=np.std(difference)"
   ]
  },
  {
   "cell_type": "code",
   "execution_count": 612,
   "metadata": {},
   "outputs": [
    {
     "name": "stdout",
     "output_type": "stream",
     "text": [
      "Out of sync: False\n"
     ]
    }
   ],
   "source": [
    "print(\"Out of sync:\",np.abs(difference[-1]-avg)>2*dev)"
   ]
  },
  {
   "cell_type": "code",
   "execution_count": 613,
   "metadata": {},
   "outputs": [
    {
     "data": {
      "image/png": "[encoded data removed]",
      "text/plain": [
       "<matplotlib.figure.Figure at 0x90b62b0>"
      ]
     },
     "metadata": {},
     "output_type": "display_data"
    }
   ],
   "source": [
    "t = np.arange(len(jd_returns))\n",
    "plt.plot(t,jd_returns*4, lw=1)\n",
    "plt.plot(t, ali_returns, lw=2)\n",
    "plt.show()"
   ]
  },
  {
   "cell_type": "markdown",
   "metadata": {},
   "source": [
    "## 4.3 多项式"
   ]
  },
  {
   "cell_type": "markdown",
   "metadata": {},
   "source": [
    "## 4.4 动手实践：多项式拟合"
   ]
  },
  {
   "cell_type": "markdown",
   "metadata": {},
   "source": [
    "NumPy中的ployfit函数可以用多项式去拟合一系列数据点，无论这些数据点是否来自连续函数都适用。"
   ]
  },
  {
   "cell_type": "markdown",
   "metadata": {},
   "source": [
    "(1) 我们继续使用ali和jd的股票价格数据。用一个三次多项式去拟合两只股票收盘价的\n",
    "差价："
   ]
  },
  {
   "cell_type": "code",
   "execution_count": 614,
   "metadata": {},
   "outputs": [
    {
     "name": "stdout",
     "output_type": "stream",
     "text": [
      "Polynomial fit [  1.46406283e-02  -3.85673720e-01   1.15263388e+00   2.32772134e+01]\n"
     ]
    }
   ],
   "source": [
    "ali=np.loadtxt('alibaba.csv',delimiter=',',usecols=(6,),unpack=True)\n",
    "jd=np.loadtxt('JD.csv',delimiter=',',usecols=(6,),unpack=True)\n",
    "t=np.arange(len(ali))\n",
    "poly=np.polyfit(t,ali-jd*4,int(3))\n",
    "print(\"Polynomial fit\",poly)\n",
    "\n",
    "# 拟合的结果为（在这个例子中是一个三次多项式）："
   ]
  },
  {
   "cell_type": "markdown",
   "metadata": {},
   "source": [
    "(2) 上面看到的那些数字就是多项式的系数。用我们刚刚得到的多项式对象以及polyval函\n",
    "数，就可以推断下一个值："
   ]
  },
  {
   "cell_type": "code",
   "execution_count": 615,
   "metadata": {},
   "outputs": [
    {
     "name": "stdout",
     "output_type": "stream",
     "text": [
      "Next value 17.8624880383\n"
     ]
    }
   ],
   "source": [
    "print(\"Next value\",np.polyval(poly,t[-1]+1))"
   ]
  },
  {
   "cell_type": "markdown",
   "metadata": {},
   "source": [
    "(3)在极限情况下，差值可以在某个\n",
    "点为0。使用roots函数找出我们拟合的多项式函数什么时候到达0值："
   ]
  },
  {
   "cell_type": "code",
   "execution_count": 616,
   "metadata": {},
   "outputs": [
    {
     "name": "stdout",
     "output_type": "stream",
     "text": [
      "Roots [ 16.12442571+3.03279516j  16.12442571-3.03279516j  -5.90614854+0.j        ]\n"
     ]
    }
   ],
   "source": [
    "print(\"Roots\",np.roots(poly))"
   ]
  },
  {
   "cell_type": "markdown",
   "metadata": {},
   "source": [
    "(4) 我们在微积分课程中还学习过求极值的知识——极值可能是函数的最大值或最小值。\n",
    "记住微积分中的结论，这些极值点位于函数的导数为0的位置。使用polyder函数对多项式函\n",
    "数求导："
   ]
  },
  {
   "cell_type": "code",
   "execution_count": 617,
   "metadata": {},
   "outputs": [
    {
     "name": "stdout",
     "output_type": "stream",
     "text": [
      "Derivative [ 0.04392188 -0.77134744  1.15263388]\n"
     ]
    }
   ],
   "source": [
    "der=np.polyder(poly)\n",
    "print(\"Derivative\",der)"
   ]
  },
  {
   "cell_type": "markdown",
   "metadata": {},
   "source": [
    "(5) 求出导数函数的根，即找出原多项式函数的极值点："
   ]
  },
  {
   "cell_type": "code",
   "execution_count": 618,
   "metadata": {},
   "outputs": [
    {
     "name": "stdout",
     "output_type": "stream",
     "text": [
      "Extremas [ 15.91261933   1.64918259]\n"
     ]
    }
   ],
   "source": [
    "print(\"Extremas\",np.roots(der))"
   ]
  },
  {
   "cell_type": "code",
   "execution_count": 619,
   "metadata": {
    "collapsed": true
   },
   "outputs": [],
   "source": [
    "vals=np.polyval(poly,t)"
   ]
  },
  {
   "cell_type": "code",
   "execution_count": 620,
   "metadata": {},
   "outputs": [
    {
     "data": {
      "text/plain": [
       "array([ 23.27721344,  24.05881423,  24.15691135,  23.65934857,\n",
       "        22.65396966,  21.22861838,  19.47113852,  17.46937383,\n",
       "        15.31116809,  13.08436506,  10.87680852,   8.77634224,\n",
       "         6.87080998,   5.24805551,   3.99592261,   3.20225504,\n",
       "         2.95489658,   3.34169099,   4.45048204,   6.3691135 ,\n",
       "         9.18542914,  12.98727273])"
      ]
     },
     "execution_count": 620,
     "metadata": {},
     "output_type": "execute_result"
    }
   ],
   "source": [
    "vals"
   ]
  },
  {
   "cell_type": "markdown",
   "metadata": {},
   "source": [
    "(6) 现在，使用argmax和argmin找出最大值点和最小值点："
   ]
  },
  {
   "cell_type": "code",
   "execution_count": 621,
   "metadata": {},
   "outputs": [
    {
     "name": "stdout",
     "output_type": "stream",
     "text": [
      "2\n"
     ]
    }
   ],
   "source": [
    "print(np.argmax(vals))"
   ]
  },
  {
   "cell_type": "code",
   "execution_count": 622,
   "metadata": {},
   "outputs": [
    {
     "name": "stdout",
     "output_type": "stream",
     "text": [
      "16\n"
     ]
    }
   ],
   "source": [
    "print(np.argmin(vals))"
   ]
  },
  {
   "cell_type": "markdown",
   "metadata": {},
   "source": [
    "与上一步中的结果不完全一致，不过回到第1步可以看到， t是用arange函数定义的。"
   ]
  },
  {
   "cell_type": "markdown",
   "metadata": {},
   "source": [
    "(7) 绘制源数据和拟合函数如下："
   ]
  },
  {
   "cell_type": "code",
   "execution_count": 623,
   "metadata": {},
   "outputs": [
    {
     "data": {
      "image/png": "[encoded data removed]",
      "text/plain": [
       "<matplotlib.figure.Figure at 0x9113048>"
      ]
     },
     "metadata": {},
     "output_type": "display_data"
    }
   ],
   "source": [
    "plt.plot(t,ali-jd*4)\n",
    "plt.plot(t,vals)\n",
    "plt.show()"
   ]
  },
  {
   "cell_type": "markdown",
   "metadata": {},
   "source": [
    "## 4.5 净额成交量"
   ]
  },
  {
   "cell_type": "markdown",
   "metadata": {},
   "source": [
    "成交量（volume）是投资中一个非常重要的变量，它可以表示价格波动的大小。 OBV\n",
    "（On-Balance Volume，净额成交量或叫能量潮指标）是最简单的股价指标之一，它可以由当日收\n",
    "盘价、前一天的收盘价以及当日成交量计算得出。这里我们以前一日为基期计算当日的OBV值（可\n",
    "以认为基期的OBV值为0）。若当日收盘价高于前一日收盘价，则本日OBV等于基期OBV加上当日成交量。若当日收盘价低于前一日收盘价，则本日OBV等于基期OBV减去当日成交量。若当\n",
    "日收盘价相比前一日没有变化，则当日成交量以0计算。"
   ]
  },
  {
   "cell_type": "markdown",
   "metadata": {},
   "source": [
    "## 4.6 动手实践：计算 OBV"
   ]
  },
  {
   "cell_type": "markdown",
   "metadata": {},
   "source": [
    "换言之，我们需要在成交量前面乘上一个由收盘价变化决定的正负号。在本节教程中，我们\n",
    "将学习该问题的两种解决方法，一种是使用NumPy中的sign函数，另一种是使用NumPy的\n",
    "piecewise函数。"
   ]
  },
  {
   "cell_type": "markdown",
   "metadata": {},
   "source": [
    "(1) 把ali数据分别加载到收盘价和成交量的数组中："
   ]
  },
  {
   "cell_type": "code",
   "execution_count": 624,
   "metadata": {
    "collapsed": true
   },
   "outputs": [],
   "source": [
    "c,v=np.loadtxt('alibaba.csv',delimiter=',',usecols=(6,7),unpack=True)"
   ]
  },
  {
   "cell_type": "markdown",
   "metadata": {},
   "source": [
    "为了判断计算中成交量前的正负号，我们先使用diff函数计算收盘价的变化量。 diff函数可以\n",
    "计算数组中两个连续元素的差值，并返回一个由这些差值组成的数组："
   ]
  },
  {
   "cell_type": "code",
   "execution_count": 625,
   "metadata": {
    "collapsed": true
   },
   "outputs": [],
   "source": [
    "change=np.diff(c)"
   ]
  },
  {
   "cell_type": "code",
   "execution_count": 626,
   "metadata": {},
   "outputs": [
    {
     "name": "stdout",
     "output_type": "stream",
     "text": [
      "Change [ -5.03  -0.62   4.27   0.94   3.55   1.57  -4.55   1.93  -4.92   1.8\n",
      "  -0.18  -2.09   1.36   2.68   0.97  -4.06   0.74  -0.67   1.13  10.22\n",
      "   0.35]\n"
     ]
    }
   ],
   "source": [
    "print(\"Change\",change)"
   ]
  },
  {
   "cell_type": "code",
   "execution_count": 627,
   "metadata": {
    "collapsed": true
   },
   "outputs": [],
   "source": [
    "signs=np.sign(change)"
   ]
  },
  {
   "cell_type": "code",
   "execution_count": 628,
   "metadata": {},
   "outputs": [
    {
     "name": "stdout",
     "output_type": "stream",
     "text": [
      "Signs [-1. -1.  1.  1.  1.  1. -1.  1. -1.  1. -1. -1.  1.  1.  1. -1.  1. -1.\n",
      "  1.  1.  1.]\n"
     ]
    }
   ],
   "source": [
    "print(\"Signs\",signs)"
   ]
  },
  {
   "cell_type": "markdown",
   "metadata": {},
   "source": [
    "另外，我们也可以使用piecewise函数来获取数组元素的正负。顾名思义， piecewise①函\n",
    "数可以分段给定取值。使用合适的返回值和对应的条件调用该函数："
   ]
  },
  {
   "cell_type": "code",
   "execution_count": 629,
   "metadata": {},
   "outputs": [
    {
     "name": "stdout",
     "output_type": "stream",
     "text": [
      "Pieces [-1. -1.  1.  1.  1.  1. -1.  1. -1.  1. -1. -1.  1.  1.  1. -1.  1. -1.\n",
      "  1.  1.  1.]\n"
     ]
    }
   ],
   "source": [
    "pieces=np.piecewise(change,[change<0,change>0],[-1,1])\n",
    "print(\"Pieces\",pieces)"
   ]
  },
  {
   "cell_type": "code",
   "execution_count": 630,
   "metadata": {},
   "outputs": [
    {
     "name": "stdout",
     "output_type": "stream",
     "text": [
      "Array equal? True\n"
     ]
    }
   ],
   "source": [
    "print(\"Array equal?\",np.array_equal(signs,pieces))"
   ]
  },
  {
   "cell_type": "markdown",
   "metadata": {},
   "source": [
    "(3) OBV值的计算依赖于前一日的收盘价，所以在我们的例子中无法计算首日的OBV值："
   ]
  },
  {
   "cell_type": "code",
   "execution_count": 631,
   "metadata": {},
   "outputs": [
    {
     "name": "stdout",
     "output_type": "stream",
     "text": [
      "On balance volume [-35900000. -31600000.  23900000.  15700000.  23500000.  15600000.\n",
      " -22600000.  18600000. -32800000.  41300000. -17000000. -23900000.\n",
      "  17100000.  14800000.  12500000. -12900000.  10100000.  -9490000.\n",
      "   9690000.  29900000.  20100000.]\n"
     ]
    }
   ],
   "source": [
    "print(\"On balance volume\",v[1:]*signs)"
   ]
  },
  {
   "cell_type": "markdown",
   "metadata": {},
   "source": [
    "## 4.7 交易过程模拟"
   ]
  },
  {
   "cell_type": "markdown",
   "metadata": {},
   "source": [
    "我们将使用NumPy来模拟一个交易日，当然，这不会造成真正的资金损失。\n",
    "许多人喜欢抄底，也就是等股价下跌后才买入。类似的还有当股价比当日开盘价下跌一小部分（比\n",
    "如0.1%）时买入。"
   ]
  },
  {
   "cell_type": "markdown",
   "metadata": {},
   "source": [
    "## 4.8 动手实践：避免使用循环"
   ]
  },
  {
   "cell_type": "markdown",
   "metadata": {},
   "source": [
    "使用vectorize函数可以减少你的程序中使用循环的次数。我们将用它来计算单个交易日\n",
    "的利润。"
   ]
  },
  {
   "cell_type": "markdown",
   "metadata": {},
   "source": [
    "(1) 首先，读入数据："
   ]
  },
  {
   "cell_type": "code",
   "execution_count": 632,
   "metadata": {
    "collapsed": true
   },
   "outputs": [],
   "source": [
    "o,h,l,c=np.loadtxt('alibaba.csv',delimiter=',',usecols=(3,4,5,6),unpack=True)"
   ]
  },
  {
   "cell_type": "markdown",
   "metadata": {},
   "source": [
    "(2) NumPy中的vectorize函数相当于Python中的map函数。调用vectorize函数并给定\n",
    "calc_profit函数作为参数，尽管我们还没有编写这个函数："
   ]
  },
  {
   "cell_type": "code",
   "execution_count": 633,
   "metadata": {
    "collapsed": true
   },
   "outputs": [],
   "source": [
    "def calc_profit(open,high,low,close):\n",
    "    # 以比开盘价稍低的价格买入\n",
    "    buy=open*float(0.999)\n",
    "    # daily range\n",
    "    if low<buy<high:\n",
    "        return (close-buy)/buy\n",
    "    else:\n",
    "        return 0\n",
    "    print(\"Profits\",profits)\n",
    "func=np.vectorize(calc_profit)   "
   ]
  },
  {
   "cell_type": "code",
   "execution_count": 634,
   "metadata": {},
   "outputs": [
    {
     "name": "stdout",
     "output_type": "stream",
     "text": [
      "Profits [-0.00276839 -0.0420443   0.02328854  0.03032325  0.00336294  0.001001\n",
      "  0.00155963 -0.01733194  0.00945743 -0.00686314  0.00482228 -0.00605072\n",
      " -0.00301534  0.00595386  0.          0.00356271 -0.01230362  0.00495179\n",
      " -0.00327975  0.00768286  0.04214192 -0.00543126]\n"
     ]
    }
   ],
   "source": [
    "profits=func(o,h,l,c)\n",
    "print(\"Profits\",profits)"
   ]
  },
  {
   "cell_type": "markdown",
   "metadata": {},
   "source": [
    "(5) 在所有交易日中有1个零利润日，即没有利润也没有损失。我们选择非零利润的交易日\n",
    "并计算平均值："
   ]
  },
  {
   "cell_type": "code",
   "execution_count": 635,
   "metadata": {},
   "outputs": [
    {
     "name": "stdout",
     "output_type": "stream",
     "text": [
      "Number of trades 21 95.45 %\n"
     ]
    }
   ],
   "source": [
    "real_trades=profits[profits!=0]\n",
    "print(\"Number of trades\",len(real_trades),round(100.0*len(real_trades)/len(c),2),'%')"
   ]
  },
  {
   "cell_type": "code",
   "execution_count": 636,
   "metadata": {},
   "outputs": [
    {
     "name": "stdout",
     "output_type": "stream",
     "text": [
      "Average profit/loss % 0.19\n"
     ]
    }
   ],
   "source": [
    "print(\"Average profit/loss %\",round(np.mean(real_trades)*100,2))"
   ]
  },
  {
   "cell_type": "markdown",
   "metadata": {},
   "source": [
    "(6) 乐观的人们对于正盈利的交易更感兴趣。选择正盈利的交易日并计算平均利润："
   ]
  },
  {
   "cell_type": "code",
   "execution_count": 637,
   "metadata": {},
   "outputs": [
    {
     "name": "stdout",
     "output_type": "stream",
     "text": [
      "Number of winning trades 12 54.55 %\n",
      "Average profit % 1.15\n"
     ]
    }
   ],
   "source": [
    "winning_trades=profits[profits>0]\n",
    "print(\"Number of winning trades\",len(winning_trades),\n",
    "      round(100.0*len(winning_trades)/len(c), 2),'%')\n",
    "print(\"Average profit %\",round(np.mean(winning_trades)*100,2))"
   ]
  },
  {
   "cell_type": "code",
   "execution_count": 638,
   "metadata": {},
   "outputs": [
    {
     "name": "stdout",
     "output_type": "stream",
     "text": [
      "Number of losing trades 9 40.91 %\n",
      "Average profit % -1.1\n"
     ]
    }
   ],
   "source": [
    "losing_trades=profits[profits<0]\n",
    "print(\"Number of losing trades\",len(losing_trades),\n",
    "      round(100.0*len(losing_trades)/len(c), 2),'%')\n",
    "print(\"Average profit %\",round(np.mean(losing_trades)*100,2))"
   ]
  },
  {
   "cell_type": "markdown",
   "metadata": {},
   "source": [
    "## 4.9 数据平滑"
   ]
  },
  {
   "cell_type": "markdown",
   "metadata": {},
   "source": [
    "噪声数据往往很难处理，因此我们通常需要对其进行平滑处理。除了用计算移动平均线的方\n",
    "法，我们还可以使用NumPy中的一个函数来平滑数据。\n",
    "hanning函数是一个加权余弦的窗函数。在后面的章节中，我们还将更为详细地介绍其他窗\n",
    "函数。"
   ]
  },
  {
   "cell_type": "markdown",
   "metadata": {},
   "source": [
    "## 4.10 动手实践：使用 hanning 函数平滑数据"
   ]
  },
  {
   "cell_type": "markdown",
   "metadata": {},
   "source": [
    "我们将使用hanning函数平滑股票收益率的数组，步骤如下。"
   ]
  },
  {
   "cell_type": "markdown",
   "metadata": {},
   "source": [
    "(1) 调用hanning函数计算权重，生成一个长度为N的窗口（在这个示例中N取8）"
   ]
  },
  {
   "cell_type": "code",
   "execution_count": 639,
   "metadata": {},
   "outputs": [
    {
     "name": "stdout",
     "output_type": "stream",
     "text": [
      "Weights [ 0.          0.1882551   0.61126047  0.95048443  0.95048443  0.61126047\n",
      "  0.1882551   0.        ]\n"
     ]
    }
   ],
   "source": [
    "N=int(8)\n",
    "weights=np.hanning(N)\n",
    "print(\"Weights\",weights)"
   ]
  },
  {
   "cell_type": "markdown",
   "metadata": {},
   "source": [
    "(2) 使用convolve函数计算BHP和VALE的股票收益率，以归一化处理后的weights作为参数："
   ]
  },
  {
   "cell_type": "code",
   "execution_count": 640,
   "metadata": {
    "collapsed": true
   },
   "outputs": [],
   "source": [
    "jd=np.loadtxt(\"JD.csv\",delimiter=',',usecols=(6,),unpack=True)\n",
    "jd_returns=np.diff(jd)/jd[:-1]\n",
    "smooth_jd=np.convolve(weights/weights.sum(),jd_returns)[N-1:-N+1]\n",
    "ali=np.loadtxt(\"alibaba.csv\",delimiter=',',usecols=(6,),unpack=True)\n",
    "ali_returns=np.diff(ali)/ali[:-1]\n",
    "smooth_ali=np.convolve(weights/weights.sum(),ali_returns)[N-1:-N+1]"
   ]
  },
  {
   "cell_type": "markdown",
   "metadata": {},
   "source": [
    "(3) 用Matplotlib绘图："
   ]
  },
  {
   "cell_type": "code",
   "execution_count": 641,
   "metadata": {},
   "outputs": [
    {
     "data": {
      "image/png": "[encoded data removed]",
      "text/plain": [
       "<matplotlib.figure.Figure at 0x9179da0>"
      ]
     },
     "metadata": {},
     "output_type": "display_data"
    }
   ],
   "source": [
    "t=np.arange(N-1,len(jd_returns))\n",
    "plt.plot(t,jd_returns[N-1:],lw=1.0)\n",
    "plt.plot(t,smooth_jd,lw=2.0)\n",
    "plt.plot(t,ali_returns[N-1:],lw=1.0)\n",
    "plt.plot(t,smooth_ali,lw=2.0)\n",
    "plt.show()"
   ]
  },
  {
   "cell_type": "markdown",
   "metadata": {},
   "source": [
    "图中的细线为股票收益率，粗线为平滑处理后的结果。如你所见，图中的折线有交叉。这些\n",
    "交叉点很重要，因为它们可能就是股价趋势的转折点，至少可以表明JD和ALI之间的股价关\n",
    "系发生了变化。这些转折点可能会经常出现，我们可以利用它们预测未来的股价走势。"
   ]
  },
  {
   "cell_type": "markdown",
   "metadata": {},
   "source": [
    "(4) 使用多项式拟合平滑后的数据："
   ]
  },
  {
   "cell_type": "code",
   "execution_count": 642,
   "metadata": {
    "collapsed": true
   },
   "outputs": [],
   "source": [
    "K=int(8)\n",
    "t=np.arange(N-1,len(jd_returns))\n",
    "poly_jd=np.polyfit(t,smooth_jd,K)\n",
    "poly_ali=np.polyfit(t,smooth_ali,K)"
   ]
  },
  {
   "cell_type": "markdown",
   "metadata": {},
   "source": [
    "(5) 现在，我们需要解出上面的两个多项式何时取值相等，即在哪些地方存在交叉点。这等\n",
    "价于先对两个多项式函数作差，然后对所得的多项式函数求根。使用polysub函数对多项式作差:"
   ]
  },
  {
   "cell_type": "code",
   "execution_count": 643,
   "metadata": {},
   "outputs": [
    {
     "name": "stdout",
     "output_type": "stream",
     "text": [
      "Intersection points [ 21.99419192+0.j          19.71704985+0.j          18.11175682+0.j\n",
      "  15.89212451+0.j          11.30938115+3.31115366j  11.30938115-3.31115366j\n",
      "   7.87654961+0.j           6.81529051+0.j        ]\n"
     ]
    }
   ],
   "source": [
    "poly_sub=np.polysub(poly_jd,poly_ali)\n",
    "xpoints=np.roots(poly_sub)\n",
    "print(\"Intersection points\",xpoints)"
   ]
  },
  {
   "cell_type": "markdown",
   "metadata": {},
   "source": [
    "(6) 得到的结果为复数，这不利于我们后续处理，除非时间也有实部和虚部。因此，这里需\n",
    "要用isreal函数来判断数组元素是否为实数："
   ]
  },
  {
   "cell_type": "code",
   "execution_count": 644,
   "metadata": {},
   "outputs": [
    {
     "name": "stdout",
     "output_type": "stream",
     "text": [
      "Real number? [ True  True  True  True False False  True  True]\n"
     ]
    }
   ],
   "source": [
    "reals=np.isreal(xpoints)\n",
    "print(\"Real number?\",reals)"
   ]
  },
  {
   "cell_type": "markdown",
   "metadata": {},
   "source": [
    "可以看到有一部分数据为实数，因此我们用select函数选出它们。 select函数可以根据一\n",
    "组给定的条件，从一组元素中挑选出符合条件的元素并返回数组："
   ]
  },
  {
   "cell_type": "code",
   "execution_count": 645,
   "metadata": {},
   "outputs": [
    {
     "name": "stdout",
     "output_type": "stream",
     "text": [
      "Real intersection points [ 21.99419192  19.71704985  18.11175682  15.89212451   0.           0.\n",
      "   7.87654961   6.81529051]\n"
     ]
    }
   ],
   "source": [
    "xpoints=np.select([reals],[xpoints])\n",
    "xpoints=xpoints.real\n",
    "#上面两种方法一样\n",
    "print(\"Real intersection points\",xpoints)"
   ]
  },
  {
   "cell_type": "markdown",
   "metadata": {},
   "source": [
    "(7) 我们需要去掉其中为0的元素。 trim_zeros函数可以去掉一维数组中开头和末尾为0的\n",
    "元素："
   ]
  },
  {
   "cell_type": "code",
   "execution_count": 646,
   "metadata": {},
   "outputs": [
    {
     "name": "stdout",
     "output_type": "stream",
     "text": [
      "Sans Os [ 21.99419192  19.71704985  18.11175682  15.89212451   0.           0.\n",
      "   7.87654961   6.81529051]\n"
     ]
    }
   ],
   "source": [
    "print(\"Sans Os\",np.trim_zeros(xpoints))"
   ]
  },
  {
   "cell_type": "code",
   "execution_count": 647,
   "metadata": {},
   "outputs": [
    {
     "name": "stdout",
     "output_type": "stream",
     "text": [
      "Sans Os [ 21.99419192  19.71704985  18.11175682  15.89212451   7.87654961\n",
      "   6.81529051]\n"
     ]
    }
   ],
   "source": [
    "print(\"Sans Os\",xpoints[xpoints!=0])"
   ]
  },
  {
   "cell_type": "markdown",
   "metadata": {},
   "source": [
    "# 第5章 矩阵和通用函数"
   ]
  },
  {
   "cell_type": "markdown",
   "metadata": {},
   "source": [
    "## 5.1 矩阵"
   ]
  },
  {
   "cell_type": "markdown",
   "metadata": {},
   "source": [
    "在NumPy中，矩阵是ndarray的子类，可以由专用的字符串格式来创建。与数学概念中的矩\n",
    "阵一样， NumPy中的矩阵也是二维的。如你所料，矩阵的乘法运算和NumPy中的普通乘法运算不\n",
    "同。幂运算当然也不一样。我们可以使用mat、 matrix以及bmat函数来创建矩阵。"
   ]
  },
  {
   "cell_type": "markdown",
   "metadata": {},
   "source": [
    "## 5.2 动手实践：创建矩阵"
   ]
  },
  {
   "cell_type": "markdown",
   "metadata": {},
   "source": [
    "mat函数创建矩阵时，若输入已为matrix或ndarray对象，则不会为它们创建副本。 因此，调\n",
    "用mat函数和调用matrix(data, copy=False)等价。 我们还将展示矩阵转置和矩阵求逆的方法。"
   ]
  },
  {
   "cell_type": "markdown",
   "metadata": {},
   "source": [
    "(1) 在创建矩阵的专用字符串中，矩阵的行与行之间用分号隔开，行内的元素之间用空格隔\n",
    "开。使用如下的字符串调用mat函数创建矩阵："
   ]
  },
  {
   "cell_type": "code",
   "execution_count": 648,
   "metadata": {},
   "outputs": [
    {
     "name": "stdout",
     "output_type": "stream",
     "text": [
      "Creation from string [[1 2 3]\n",
      " [4 5 6]\n",
      " [7 8 9]]\n"
     ]
    }
   ],
   "source": [
    "A=np.mat('1 2 3;4 5 6;7 8 9')\n",
    "print(\"Creation from string\",A)"
   ]
  },
  {
   "cell_type": "markdown",
   "metadata": {},
   "source": [
    "(2) 用T属性获取转置矩阵："
   ]
  },
  {
   "cell_type": "code",
   "execution_count": 649,
   "metadata": {},
   "outputs": [
    {
     "name": "stdout",
     "output_type": "stream",
     "text": [
      "transpose A [[1 4 7]\n",
      " [2 5 8]\n",
      " [3 6 9]]\n"
     ]
    }
   ],
   "source": [
    "print(\"transpose A\",A.T)"
   ]
  },
  {
   "cell_type": "markdown",
   "metadata": {},
   "source": [
    "(3) 用I属性获取逆矩阵："
   ]
  },
  {
   "cell_type": "code",
   "execution_count": 650,
   "metadata": {},
   "outputs": [
    {
     "name": "stdout",
     "output_type": "stream",
     "text": [
      "Inverse A [[  3.15251974e+15  -6.30503948e+15   3.15251974e+15]\n",
      " [ -6.30503948e+15   1.26100790e+16  -6.30503948e+15]\n",
      " [  3.15251974e+15  -6.30503948e+15   3.15251974e+15]]\n"
     ]
    }
   ],
   "source": [
    "print(\"Inverse A\",A.I)"
   ]
  },
  {
   "cell_type": "markdown",
   "metadata": {},
   "source": [
    "(4) 除了使用字符串创建矩阵以外，我们还可以使用NumPy数组进行创建："
   ]
  },
  {
   "cell_type": "code",
   "execution_count": 651,
   "metadata": {},
   "outputs": [
    {
     "name": "stdout",
     "output_type": "stream",
     "text": [
      "Creation from array [[0 1 2]\n",
      " [3 4 5]\n",
      " [6 7 8]]\n"
     ]
    }
   ],
   "source": [
    "print(\"Creation from array\",np.mat(np.arange(9).reshape(3,3)))"
   ]
  },
  {
   "cell_type": "markdown",
   "metadata": {},
   "source": [
    "## 5.3 从已有矩阵创建新矩阵"
   ]
  },
  {
   "cell_type": "markdown",
   "metadata": {},
   "source": [
    "有些时候，我们希望利用一些已有的较小的矩阵来创建一个新的大矩阵。这可以用bmat函\n",
    "数来实现。这里的b表示“分块”， bmat即分块矩阵（block matrix）。"
   ]
  },
  {
   "cell_type": "markdown",
   "metadata": {},
   "source": [
    "## 5.4 动手实践：从已有矩阵创建新矩阵"
   ]
  },
  {
   "cell_type": "markdown",
   "metadata": {},
   "source": [
    "(1) 首先，创建一个2×2的单位矩阵："
   ]
  },
  {
   "cell_type": "code",
   "execution_count": 652,
   "metadata": {
    "collapsed": true
   },
   "outputs": [],
   "source": [
    "A=np.eye(2)"
   ]
  },
  {
   "cell_type": "code",
   "execution_count": 653,
   "metadata": {},
   "outputs": [
    {
     "name": "stdout",
     "output_type": "stream",
     "text": [
      "A [[ 1.  0.]\n",
      " [ 0.  1.]]\n"
     ]
    }
   ],
   "source": [
    "print(\"A\",A)"
   ]
  },
  {
   "cell_type": "code",
   "execution_count": 654,
   "metadata": {
    "collapsed": true
   },
   "outputs": [],
   "source": [
    "B=A*2"
   ]
  },
  {
   "cell_type": "code",
   "execution_count": 655,
   "metadata": {},
   "outputs": [
    {
     "name": "stdout",
     "output_type": "stream",
     "text": [
      "B [[ 2.  0.]\n",
      " [ 0.  2.]]\n"
     ]
    }
   ],
   "source": [
    "print(\"B\",B)"
   ]
  },
  {
   "cell_type": "markdown",
   "metadata": {},
   "source": [
    "(2) 使用字符串创建复合矩阵，该字符串的格式与mat函数中一致，只是在这里你可以用矩\n",
    "阵变量名代替数字："
   ]
  },
  {
   "cell_type": "code",
   "execution_count": 656,
   "metadata": {},
   "outputs": [
    {
     "name": "stdout",
     "output_type": "stream",
     "text": [
      "Compound matrix\n",
      " [[ 1.  0.  2.  0.]\n",
      " [ 0.  1.  0.  2.]\n",
      " [ 2.  0.  1.  0.]\n",
      " [ 0.  2.  0.  1.]]\n"
     ]
    }
   ],
   "source": [
    "print(\"Compound matrix\\n\",np.bmat(\"A B;B A\"))"
   ]
  },
  {
   "cell_type": "markdown",
   "metadata": {},
   "source": [
    "## 5.5 通用函数"
   ]
  },
  {
   "cell_type": "markdown",
   "metadata": {},
   "source": [
    "通用函数的输入是一组标量，输出也是一组标量，它们通常可以对应于基本数学运算，如加、\n",
    "减、乘、除等。"
   ]
  },
  {
   "cell_type": "markdown",
   "metadata": {
    "collapsed": true
   },
   "source": [
    "## 5.6 动手实践：创建通用函数"
   ]
  },
  {
   "cell_type": "markdown",
   "metadata": {},
   "source": [
    "我们可以使用NumPy中的frompyfunc函数， 通过一个Python函数来创建通用函数，步骤如下。"
   ]
  },
  {
   "cell_type": "markdown",
   "metadata": {},
   "source": [
    "(1) 定义一个回答宇宙、生命及万物的终极问题的Python函数"
   ]
  },
  {
   "cell_type": "code",
   "execution_count": 657,
   "metadata": {
    "collapsed": true
   },
   "outputs": [],
   "source": [
    "def ultimate_answer(a):\n",
    "    result = np.zeros_like(a)\n",
    "    result.flat=42\n",
    "    return result"
   ]
  },
  {
   "cell_type": "markdown",
   "metadata": {},
   "source": [
    " 使用frompyfunc创建通用函数。指定输入参数的个数为1，随后的1为输出参数的个数："
   ]
  },
  {
   "cell_type": "code",
   "execution_count": 658,
   "metadata": {},
   "outputs": [
    {
     "name": "stdout",
     "output_type": "stream",
     "text": [
      "The answer [array(42) array(42) array(42) array(42)]\n"
     ]
    }
   ],
   "source": [
    "ufunc = np.frompyfunc(ultimate_answer,1,1)\n",
    "print(\"The answer\",ufunc(np.arange(4)))"
   ]
  },
  {
   "cell_type": "code",
   "execution_count": 659,
   "metadata": {},
   "outputs": [
    {
     "name": "stdout",
     "output_type": "stream",
     "text": [
      "The answer [[array(42) array(42)]\n",
      " [array(42) array(42)]]\n"
     ]
    }
   ],
   "source": [
    "print(\"The answer\",ufunc(np.arange(4).reshape(2,2)))"
   ]
  },
  {
   "cell_type": "markdown",
   "metadata": {},
   "source": [
    "## 5.7 通用函数的方法"
   ]
  },
  {
   "cell_type": "markdown",
   "metadata": {},
   "source": [
    "其实通用函数并非真正的函数，而是能够表示函数的对象。通用函数有四个方法，不过这些方法只对输入两个参数、输出一个参数的ufunc对象有效，\n",
    "例如add函数。其他不符合条件的ufunc对象调用这些方法时将抛出ValueError异常。因此只能\n",
    "在二元通用函数上调用这些方法。以下将逐一介绍这4个方法：\n",
    "+ reduce\n",
    "+ accumulate\n",
    "+ reduceat\n",
    "+ outer"
   ]
  },
  {
   "cell_type": "markdown",
   "metadata": {},
   "source": [
    "## 5.8 动手实践：在 add 上调用通用函数的方法"
   ]
  },
  {
   "cell_type": "markdown",
   "metadata": {},
   "source": [
    "我们将在add函数上分别调用4个方法。"
   ]
  },
  {
   "cell_type": "markdown",
   "metadata": {},
   "source": [
    "(1) 沿着指定的轴，在连续的数组元素之间递归调用通用函数，即可得到输入数组的规约\n",
    "（reduce）计算结果。对于add函数，其对数组的reduce计算结果等价于对数组元素求和。调用\n",
    "reduce方法："
   ]
  },
  {
   "cell_type": "code",
   "execution_count": 660,
   "metadata": {},
   "outputs": [
    {
     "name": "stdout",
     "output_type": "stream",
     "text": [
      "Reduce 36\n"
     ]
    }
   ],
   "source": [
    "a = np.arange(9)\n",
    "print(\"Reduce\",np.add.reduce(a))"
   ]
  },
  {
   "cell_type": "markdown",
   "metadata": {},
   "source": [
    "(2) accumulate方法同样可以递归作用于输入数组。但是与reduce方法不同的是，它将存\n",
    "储运算的中间结果并返回。因此在add函数上调用accumulate方法，等价于直接调用cumsum函\n",
    "数。在add函数上调用accumulate方法："
   ]
  },
  {
   "cell_type": "code",
   "execution_count": 661,
   "metadata": {},
   "outputs": [
    {
     "name": "stdout",
     "output_type": "stream",
     "text": [
      "Accumulate [ 0  1  3  6 10 15 21 28 36]\n"
     ]
    }
   ],
   "source": [
    "print(\"Accumulate\",np.add.accumulate(a))"
   ]
  },
  {
   "cell_type": "markdown",
   "metadata": {},
   "source": [
    "(3) reduceat方法解释起来有点复杂，我们先运行一次，再一步一步来看它的算法。\n",
    "reduceat方法需要输入一个数组以及一个索引值列表作为参数。"
   ]
  },
  {
   "cell_type": "code",
   "execution_count": 662,
   "metadata": {},
   "outputs": [
    {
     "name": "stdout",
     "output_type": "stream",
     "text": [
      "Reduceat [10  5 20 15]\n"
     ]
    }
   ],
   "source": [
    "print(\"Reduceat\",np.add.reduceat(a,[0,5,2,7]))"
   ]
  },
  {
   "cell_type": "markdown",
   "metadata": {},
   "source": [
    "第一步用到索引值列表中的0和5，实际上就是对数组中索引值在0到5之间的元素进行reduce\n",
    "操作。"
   ]
  },
  {
   "cell_type": "code",
   "execution_count": 663,
   "metadata": {},
   "outputs": [
    {
     "name": "stdout",
     "output_type": "stream",
     "text": [
      "Reduceat step I 10\n"
     ]
    }
   ],
   "source": [
    "print (\"Reduceat step I\", np.add.reduce(a[0:5]))"
   ]
  },
  {
   "cell_type": "markdown",
   "metadata": {},
   "source": [
    "第二步用到索引值5和2。由于2比5小，所以直接返回索引值为5的元素："
   ]
  },
  {
   "cell_type": "code",
   "execution_count": 664,
   "metadata": {},
   "outputs": [
    {
     "name": "stdout",
     "output_type": "stream",
     "text": [
      "Reduceat step II 5\n"
     ]
    }
   ],
   "source": [
    "print (\"Reduceat step II\", a[5])"
   ]
  },
  {
   "cell_type": "markdown",
   "metadata": {},
   "source": [
    "第三步用到索引值2和7。这一步是对索引值在2到7之间的数组元素进行reduce操作："
   ]
  },
  {
   "cell_type": "markdown",
   "metadata": {},
   "source": [
    "print \"Reduceat step III\", np.add.reduce(a[2:7])"
   ]
  },
  {
   "cell_type": "markdown",
   "metadata": {},
   "source": [
    "第四步用到索引值7。这一步是对索引值从7开始直到数组末端的元素进行reduce操作："
   ]
  },
  {
   "cell_type": "code",
   "execution_count": 665,
   "metadata": {},
   "outputs": [
    {
     "name": "stdout",
     "output_type": "stream",
     "text": [
      "Reduceat step IV 15\n"
     ]
    }
   ],
   "source": [
    "print (\"Reduceat step IV\", np.add.reduce(a[7:]))"
   ]
  },
  {
   "cell_type": "markdown",
   "metadata": {},
   "source": [
    "(4) outer方法返回一个数组，它的秩（rank）等于两个输入数组的秩的和。它会作用于两个\n",
    "输入数组之间存在的所有元素对。在add函数上调用outer方法："
   ]
  },
  {
   "cell_type": "code",
   "execution_count": 666,
   "metadata": {},
   "outputs": [
    {
     "name": "stdout",
     "output_type": "stream",
     "text": [
      "Outer [[ 0  1  2  3  4  5  6  7  8]\n",
      " [ 1  2  3  4  5  6  7  8  9]\n",
      " [ 2  3  4  5  6  7  8  9 10]]\n"
     ]
    }
   ],
   "source": [
    "print(\"Outer\",np.add.outer(np.arange(3),a))"
   ]
  },
  {
   "cell_type": "markdown",
   "metadata": {},
   "source": [
    "## 5.9 算术运算"
   ]
  },
  {
   "cell_type": "markdown",
   "metadata": {},
   "source": [
    "在NumPy中，基本算术运算符+、 -和*隐式关联着通用函数add、 subtract和multiply。\n",
    "也就是说，当你对NumPy数组使用这些算术运算符时，对应的通用函数将自动被调用。除法包含\n",
    "的过程则较为复杂 ，在数组的除法运算中涉及三个通用函数 divide、 true_divide和\n",
    "floor_division，以及两个对应的运算符/和//"
   ]
  },
  {
   "cell_type": "markdown",
   "metadata": {},
   "source": [
    "## 5.10 动手实践：数组的除法运算"
   ]
  },
  {
   "cell_type": "markdown",
   "metadata": {},
   "source": [
    "(1) divide函数在整数和浮点数除法中均只保留整数部分："
   ]
  },
  {
   "cell_type": "code",
   "execution_count": 667,
   "metadata": {},
   "outputs": [
    {
     "name": "stdout",
     "output_type": "stream",
     "text": [
      "Divide [ 2.          3.          1.66666667] [ 0.5         0.33333333  0.6       ]\n"
     ]
    }
   ],
   "source": [
    "a=np.array([2,6,5])\n",
    "b=np.array([1,2,3])\n",
    "print(\"Divide\",np.divide(a,b),np.divide(b,a))"
   ]
  },
  {
   "cell_type": "markdown",
   "metadata": {},
   "source": [
    "(2) true_divide函数与数学中的除法定义更为接近，即返回除法的浮点数结果而不作截断："
   ]
  },
  {
   "cell_type": "code",
   "execution_count": 668,
   "metadata": {},
   "outputs": [
    {
     "name": "stdout",
     "output_type": "stream",
     "text": [
      "Divide [ 2.          3.          1.66666667] [ 0.5         0.33333333  0.6       ]\n"
     ]
    }
   ],
   "source": [
    "print(\"Divide\",np.true_divide(a,b),np.true_divide(b,a))"
   ]
  },
  {
   "cell_type": "markdown",
   "metadata": {},
   "source": [
    "(3) floor_divide函数总是返回整数结果，相当于先调用divide函数再调用floor函数。\n",
    "floor函数将对浮点数进行向下取整并返回整数："
   ]
  },
  {
   "cell_type": "code",
   "execution_count": 669,
   "metadata": {},
   "outputs": [
    {
     "name": "stdout",
     "output_type": "stream",
     "text": [
      "Divide [2 3 1] [0 0 0]\n"
     ]
    }
   ],
   "source": [
    "print(\"Divide\",np.floor_divide(a,b),np.floor_divide(b,a))"
   ]
  },
  {
   "cell_type": "code",
   "execution_count": 670,
   "metadata": {},
   "outputs": [
    {
     "name": "stdout",
     "output_type": "stream",
     "text": [
      "/ operator [ 2.          3.          1.66666667] [ 0.5         0.33333333  0.6       ]\n"
     ]
    }
   ],
   "source": [
    "print(\"/ operator\",a/b,b/a)"
   ]
  },
  {
   "cell_type": "code",
   "execution_count": 671,
   "metadata": {},
   "outputs": [
    {
     "name": "stdout",
     "output_type": "stream",
     "text": [
      "// operator [2 3 1] [0 0 0]\n"
     ]
    }
   ],
   "source": [
    "print(\"// operator\",a//b,b//a)"
   ]
  },
  {
   "cell_type": "markdown",
   "metadata": {},
   "source": [
    "## 5.11 模运算"
   ]
  },
  {
   "cell_type": "markdown",
   "metadata": {},
   "source": [
    "计算模数或者余数，可以使用NumPy中的mod、 remainder和fmod函数。当然，也可以使\n",
    "用%运算符。这些函数的主要差异在于处理负数的方式。 fmod函数在这方面异于其他函数。"
   ]
  },
  {
   "cell_type": "markdown",
   "metadata": {},
   "source": [
    "## 5.12 动手实践：模运算"
   ]
  },
  {
   "cell_type": "markdown",
   "metadata": {},
   "source": [
    "(1) remainder函数逐个返回两个数组中元素相除后的余数。如果第二个数字为0，则直接\n",
    "返回0："
   ]
  },
  {
   "cell_type": "code",
   "execution_count": 672,
   "metadata": {},
   "outputs": [
    {
     "name": "stdout",
     "output_type": "stream",
     "text": [
      "Remaider [0 1 0 1 0 1 0 1]\n"
     ]
    }
   ],
   "source": [
    "a = np.arange(-4,4)\n",
    "print(\"Remaider\",np.remainder(a,2))"
   ]
  },
  {
   "cell_type": "markdown",
   "metadata": {},
   "source": [
    "(2) mod函数与remainder函数的功能完全一致："
   ]
  },
  {
   "cell_type": "code",
   "execution_count": 673,
   "metadata": {},
   "outputs": [
    {
     "name": "stdout",
     "output_type": "stream",
     "text": [
      "Mod [0 1 0 1 0 1 0 1]\n"
     ]
    }
   ],
   "source": [
    "print(\"Mod\",np.mod(a,2))"
   ]
  },
  {
   "cell_type": "markdown",
   "metadata": {},
   "source": [
    "(3) %操作符仅仅是remainder函数的简写："
   ]
  },
  {
   "cell_type": "code",
   "execution_count": 674,
   "metadata": {},
   "outputs": [
    {
     "name": "stdout",
     "output_type": "stream",
     "text": [
      "% [0 1 0 1 0 1 0 1]\n"
     ]
    }
   ],
   "source": [
    "print(\"%\",a % 2)"
   ]
  },
  {
   "cell_type": "markdown",
   "metadata": {},
   "source": [
    "(4) fmod函数处理负数的方式与remainder、 mod和%不同。所得余数的正负由被除数决定，\n",
    "与除数的正负无关："
   ]
  },
  {
   "cell_type": "code",
   "execution_count": 675,
   "metadata": {},
   "outputs": [
    {
     "name": "stdout",
     "output_type": "stream",
     "text": [
      "Fmod [ 0 -1  0 -1  0  1  0  1]\n"
     ]
    }
   ],
   "source": [
    "print(\"Fmod\",np.fmod(a,2))"
   ]
  },
  {
   "cell_type": "markdown",
   "metadata": {},
   "source": [
    "## 5.13 斐波那契数列\n",
    "斐波那契（Fibonacci）数列是基于递推关系生成的。直接用NumPy代码来解释递推关系是比\n",
    "较麻烦的，不过我们可以用矩阵的形式或者黄金分割公式来解释它。因此，我们将介绍matrix\n",
    "和rint函数。使用matrix函数创建矩阵， rint函数对浮点数取整，但结果仍为浮点数类型。"
   ]
  },
  {
   "cell_type": "markdown",
   "metadata": {},
   "source": [
    "## 5.14 动手实践：计算斐波那契数列\n",
    "斐波那契数列的递推关系可以用矩阵来表示。斐波那契数列的计算等价于矩阵的连乘。\n",
    "(1) 创建斐波那契矩阵："
   ]
  },
  {
   "cell_type": "code",
   "execution_count": 676,
   "metadata": {},
   "outputs": [
    {
     "data": {
      "text/plain": [
       "matrix([[1, 1],\n",
       "        [1, 0]])"
      ]
     },
     "execution_count": 676,
     "metadata": {},
     "output_type": "execute_result"
    }
   ],
   "source": [
    "np.matrix([[1,1],[1,0]])"
   ]
  },
  {
   "cell_type": "code",
   "execution_count": 677,
   "metadata": {},
   "outputs": [
    {
     "data": {
      "text/plain": [
       "matrix([[1, 1],\n",
       "        [1, 0]])"
      ]
     },
     "execution_count": 677,
     "metadata": {},
     "output_type": "execute_result"
    }
   ],
   "source": [
    "np.mat(\"1 1;1 0\")"
   ]
  },
  {
   "cell_type": "code",
   "execution_count": 678,
   "metadata": {
    "collapsed": true
   },
   "outputs": [],
   "source": [
    "F = np.matrix([[1,1],[1,0]])"
   ]
  },
  {
   "cell_type": "code",
   "execution_count": 679,
   "metadata": {},
   "outputs": [
    {
     "name": "stdout",
     "output_type": "stream",
     "text": [
      "F [[1 1]\n",
      " [1 0]]\n"
     ]
    }
   ],
   "source": [
    "print(\"F\",F)"
   ]
  },
  {
   "cell_type": "code",
   "execution_count": 680,
   "metadata": {},
   "outputs": [
    {
     "name": "stdout",
     "output_type": "stream",
     "text": [
      "8th Fibonacci 21\n"
     ]
    }
   ],
   "source": [
    "print (\"8th Fibonacci\", (F ** 7)[0, 0])"
   ]
  },
  {
   "cell_type": "markdown",
   "metadata": {
    "collapsed": true
   },
   "source": [
    "(3) 利用黄金分割公式或通常所说的比奈公式（Binet’ s Formula），加上取整函数，就可以直\n",
    "接计算斐波那契数。计算前8个斐波那契数："
   ]
  },
  {
   "cell_type": "code",
   "execution_count": 681,
   "metadata": {},
   "outputs": [
    {
     "name": "stdout",
     "output_type": "stream",
     "text": [
      "Fibonacci [  3.00000000e+00   1.10000000e+01   3.40000000e+01   1.10000000e+02\n",
      "   3.55000000e+02   1.14900000e+03   3.71700000e+03   1.20270000e+04]\n"
     ]
    }
   ],
   "source": [
    "n=np.arange(1,9)\n",
    "sqrt5=np.sqrt(5)\n",
    "phi = (1+sqrt5)\n",
    "fibonacci=np.rint((phi**n)-(-1/phi)/sqrt5)\n",
    "print (\"Fibonacci\",fibonacci)"
   ]
  },
  {
   "cell_type": "code",
   "execution_count": 682,
   "metadata": {},
   "outputs": [
    {
     "data": {
      "image/png": "[encoded data removed]",
      "text/plain": [
       "<matplotlib.figure.Figure at 0x912a390>"
      ]
     },
     "metadata": {},
     "output_type": "display_data"
    }
   ],
   "source": [
    "t=np.linspace(-np.pi,np.pi,201)\n",
    "x=np.sin(9*t+np.pi/2)\n",
    "y=np.sin(8*t)\n",
    "plt.plot(x,y)\n",
    "plt.show()"
   ]
  },
  {
   "cell_type": "markdown",
   "metadata": {},
   "source": [
    "## 5.17 方波\n",
    "方波也是一种可以在示波器上显示的波形。方波可以近似表示为多个正弦波的叠加。事实上，\n",
    "任意一个方波信号都可以用无穷傅里叶级数来表示。"
   ]
  },
  {
   "cell_type": "markdown",
   "metadata": {},
   "source": [
    "## 5.18 动手实践：绘制方波\n",
    "与前面的教程中一样，我们仍将以相同的方式初始化t和k。我们需要累加很多项级数，且\n",
    "级数越多结果越精确，这里取k=99以保证足够的精度。绘制方波的步骤如下。"
   ]
  },
  {
   "cell_type": "code",
   "execution_count": 683,
   "metadata": {},
   "outputs": [
    {
     "data": {
      "image/png": "[encoded data removed]",
      "text/plain": [
       "<matplotlib.figure.Figure at 0x9c99320>"
      ]
     },
     "metadata": {},
     "output_type": "display_data"
    }
   ],
   "source": [
    "t=np.linspace(-np.pi,np.pi,201)\n",
    "k=np.arange(1,float(99))\n",
    "k=2*k -1\n",
    "f=np.zeros_like(t)\n",
    "for i in range(len(t)):\n",
    "    f[i]=np.sum(np.sin(k*t[i])/k)\n",
    "f=(4/np.pi)*f\n",
    "plt.plot(t,f)\n",
    "plt.show()"
   ]
  },
  {
   "cell_type": "markdown",
   "metadata": {},
   "source": [
    "## 5.19 锯齿波和三角波\n",
    "在示波器上，锯齿波和三角波也是常见的波形。和方波类似，我们也可以将它们表示成无穷\n",
    "傅里叶级数。对锯齿波取绝对值即可得到三角波。"
   ]
  },
  {
   "cell_type": "code",
   "execution_count": 684,
   "metadata": {},
   "outputs": [
    {
     "data": {
      "image/png": "[encoded data removed]",
      "text/plain": [
       "<matplotlib.figure.Figure at 0x92674e0>"
      ]
     },
     "metadata": {},
     "output_type": "display_data"
    }
   ],
   "source": [
    "t = np.linspace(-np.pi, np.pi, 201)\n",
    "k = np.arange(1, float(99))\n",
    "f = np.zeros_like(t)\n",
    "for i in range(len(t)):\n",
    "    f[i] = np.sum(np.sin(2 * np.pi * k * t[i])/k)\n",
    "f = (-2 / np.pi) * f\n",
    "plt.plot(t,f,lw=1)\n",
    "plt.plot(t,np.abs(f),lw=2.0)\n",
    "plt.show()"
   ]
  },
  {
   "cell_type": "markdown",
   "metadata": {},
   "source": [
    "## 5.21 位操作函数和比较函数\n",
    "位操作函数可以在整数或整数数组的位上进行操作，它们都是通用函数。 ^、 &、 |、 <<、 >>\n",
    "等位操作符在NumPy中也有对应的部分， <、 >、 ==等比较运算符也是如此。有了这些操作符，\n",
    "你可以在代码中玩一些高级技巧以提升代码的性能。不过，它们会使代码变得难以理解，因此需\n",
    "谨慎使用。"
   ]
  },
  {
   "cell_type": "markdown",
   "metadata": {},
   "source": [
    "## 5.22 动手实践：玩转二进制位\n",
    "我们将学习三个小技巧——检查两个整数的符号是否一致，检查一个数是否为2的幂数，以\n",
    "及计算一个数被2的幂数整除后的余数。我们会分别展示两种方法，即使用位操作符和使用相应\n",
    "的NumPy函数。\n",
    "(1) 第一个小技巧需要用XOR或者^操作符。 XOR操作符又被称为不等运算符，因此当两个操\n",
    "作数的符号不一致时， XOR操作的结果为负数。在NumPy中， ^操作符对应于bitwise_xor函数，\n",
    "<操作符对应于less函数。"
   ]
  },
  {
   "cell_type": "code",
   "execution_count": 685,
   "metadata": {},
   "outputs": [
    {
     "name": "stdout",
     "output_type": "stream",
     "text": [
      "Sign difference? [ True  True  True  True  True  True  True  True  True False  True  True\n",
      "  True  True  True  True  True  True]\n",
      "Sign difference? [ True  True  True  True  True  True  True  True  True False  True  True\n",
      "  True  True  True  True  True  True]\n"
     ]
    }
   ],
   "source": [
    "x=np.arange(-9,9)\n",
    "y=-x\n",
    "print(\"Sign difference?\",(x^y)<0)\n",
    "print(\"Sign difference?\",np.less(np.bitwise_xor(x,y),0))"
   ]
  },
  {
   "cell_type": "markdown",
   "metadata": {},
   "source": [
    "(2) 在二进制数中， 2的幂数表示为一个1后面跟一串0的形式，例如10、 100、 1000等。而比\n",
    "2的幂数小1的数表示为一串二进制的1，例如11、 111、 1111（即十进制里的3、 7、 15）等。如\n",
    "果我们在2的幂数以及比它小1的数之间执行位与操作AND，那么应该得到0。在NumPy中， &操作\n",
    "符对应于bitwise_and函数， ==操作符对应于equal函数。"
   ]
  },
  {
   "cell_type": "code",
   "execution_count": 686,
   "metadata": {},
   "outputs": [
    {
     "name": "stdout",
     "output_type": "stream",
     "text": [
      "Power of 2?\n",
      " [-9 -8 -7 -6 -5 -4 -3 -2 -1  0  1  2  3  4  5  6  7  8] \n",
      " [False False False False False False False False False  True  True  True\n",
      " False  True False False False  True]\n",
      "Power of 2?\n",
      " [-9 -8 -7 -6 -5 -4 -3 -2 -1  0  1  2  3  4  5  6  7  8] \n",
      " [False False False False False False False False False  True  True  True\n",
      " False  True False False False  True]\n"
     ]
    }
   ],
   "source": [
    "print (\"Power of 2?\\n\", x, \"\\n\", (x & (x - 1)) == 0)\n",
    "print (\"Power of 2?\\n\", x, \"\\n\", np.equal(np.bitwise_and(x, (x - 1)), 0))"
   ]
  },
  {
   "cell_type": "markdown",
   "metadata": {},
   "source": [
    "(3) 计算余数的技巧实际上只在模为2的幂数（如4、 8、 16等）时有效。二进制的位左移一位，\n",
    "则数值翻倍。在前一个小技巧中我们看到，将2的幂数减去1可以得到一串1组成的二进制数，如\n",
    "11、 111、 1111等。这为我们提供了掩码（mask），与这样的掩码做位与操作AND即可得到以2\n",
    "的幂数作为模的余数。在NumPy中， <<操作符对应于left_shift函数。"
   ]
  },
  {
   "cell_type": "code",
   "execution_count": 687,
   "metadata": {},
   "outputs": [
    {
     "name": "stdout",
     "output_type": "stream",
     "text": [
      "Modulus 4\n",
      " [-9 -8 -7 -6 -5 -4 -3 -2 -1  0  1  2  3  4  5  6  7  8] \n",
      " [3 0 1 2 3 0 1 2 3 0 1 2 3 0 1 2 3 0]\n",
      "Modulus 4\n",
      " [-9 -8 -7 -6 -5 -4 -3 -2 -1  0  1  2  3  4  5  6  7  8] \n",
      " [3 0 1 2 3 0 1 2 3 0 1 2 3 0 1 2 3 0]\n"
     ]
    }
   ],
   "source": [
    "print (\"Modulus 4\\n\", x, \"\\n\", x & ((1 << 2) - 1))\n",
    "print (\"Modulus 4\\n\", x, \"\\n\", np.bitwise_and(x, np.left_shift(1, 2) - 1))"
   ]
  },
  {
   "cell_type": "markdown",
   "metadata": {},
   "source": [
    "# 第6章 深入学习NumPy模块"
   ]
  },
  {
   "cell_type": "markdown",
   "metadata": {},
   "source": [
    "## 6.1 线性代数\n",
    "线性代数是数学的一个重要分支。numpy.linalg模块包含线性代数的函数。使用这个模块，\n",
    "我们可以计算逆矩阵、求特征值、解线性方程组以及求解行列式等"
   ]
  },
  {
   "cell_type": "markdown",
   "metadata": {},
   "source": [
    "## 6.2 动手实践：计算逆矩阵\n",
    "在线性代数中，矩阵A与其逆矩阵A1相乘后会得到一个单位矩阵I。该定义可以写为A *A1 =I。\n",
    "numpy.linalg模块中的inv函数可以计算逆矩阵。我们按如下步骤来对矩阵求逆。\n",
    "\n",
    "(1) 与前面的教程中一样，我们将使用mat函数创建示例矩阵："
   ]
  },
  {
   "cell_type": "code",
   "execution_count": 688,
   "metadata": {
    "collapsed": true
   },
   "outputs": [],
   "source": [
    "A=np.mat(\"0 1 2;1 0 3;4 -3 8\")"
   ]
  },
  {
   "cell_type": "code",
   "execution_count": 689,
   "metadata": {},
   "outputs": [
    {
     "name": "stdout",
     "output_type": "stream",
     "text": [
      "A\n",
      " [[ 0  1  2]\n",
      " [ 1  0  3]\n",
      " [ 4 -3  8]]\n"
     ]
    }
   ],
   "source": [
    "print (\"A\\n\",A)"
   ]
  },
  {
   "cell_type": "code",
   "execution_count": 690,
   "metadata": {},
   "outputs": [
    {
     "name": "stdout",
     "output_type": "stream",
     "text": [
      "inverse of A\n",
      " [[-4.5  7.  -1.5]\n",
      " [-2.   4.  -1. ]\n",
      " [ 1.5 -2.   0.5]]\n"
     ]
    }
   ],
   "source": [
    "print(\"inverse of A\\n\",np.linalg.inv(A))"
   ]
  },
  {
   "cell_type": "code",
   "execution_count": 691,
   "metadata": {},
   "outputs": [
    {
     "name": "stdout",
     "output_type": "stream",
     "text": [
      "Check\n",
      " [[ 1.  0.  0.]\n",
      " [ 0.  1.  0.]\n",
      " [ 0.  0.  1.]]\n"
     ]
    }
   ],
   "source": [
    "print(\"Check\\n\",A*np.linalg.inv(A))"
   ]
  },
  {
   "cell_type": "markdown",
   "metadata": {},
   "source": [
    "## 6.3 求解线性方程组\n",
    "矩阵可以对向量进行线性变换，这对应于数学中的线性方程组。 numpy.linalg中的函数\n",
    "solve可以求解形如 Ax = b 的线性方程组，其中 A 为矩阵， b 为一维或二维的数组， x 是未知变\n",
    "量。我们将练习使用dot函数，用于计算两个浮点数数组的点积。"
   ]
  },
  {
   "cell_type": "code",
   "execution_count": 692,
   "metadata": {},
   "outputs": [
    {
     "name": "stdout",
     "output_type": "stream",
     "text": [
      "A\n",
      " [[ 1 -2  1]\n",
      " [ 0  2 -8]\n",
      " [-4  5  9]]\n",
      "b\n",
      " [ 0  8 -9]\n"
     ]
    }
   ],
   "source": [
    "A=np.mat(\"1 -2 1;0 2 -8;-4 5 9\")\n",
    "print(\"A\\n\",A)\n",
    "b=np.array([0,8,-9])\n",
    "print(\"b\\n\",b)"
   ]
  },
  {
   "cell_type": "markdown",
   "metadata": {},
   "source": [
    "调用solve函数求解线性方程组："
   ]
  },
  {
   "cell_type": "code",
   "execution_count": 693,
   "metadata": {},
   "outputs": [
    {
     "name": "stdout",
     "output_type": "stream",
     "text": [
      "Solution [ 29.  16.   3.]\n"
     ]
    }
   ],
   "source": [
    "x=np.linalg.solve(A,b)\n",
    "print(\"Solution\",x)"
   ]
  },
  {
   "cell_type": "code",
   "execution_count": 694,
   "metadata": {},
   "outputs": [
    {
     "name": "stdout",
     "output_type": "stream",
     "text": [
      "Solution [ 29.  16.   3.]\n"
     ]
    }
   ],
   "source": [
    "x=np.linalg.solve(A,b.T)\n",
    "print(\"Solution\",x)"
   ]
  },
  {
   "cell_type": "code",
   "execution_count": 695,
   "metadata": {},
   "outputs": [
    {
     "name": "stdout",
     "output_type": "stream",
     "text": [
      "Check\n",
      " [[ 0.  8. -9.]]\n"
     ]
    }
   ],
   "source": [
    "print(\"Check\\n\",np.dot(A,x))"
   ]
  },
  {
   "cell_type": "markdown",
   "metadata": {},
   "source": [
    "## 6.5 特征值和特征向量\n",
    "特征值（eigenvalue）即方程 Ax = ax 的根，是一个标量。其中， A 是一个二维矩阵， x 是一\n",
    "个一维向量。 特征向量（eigenvector）是关于特征值的向量。在numpy.linalg模块中， eigvals\n",
    "函数可以计算矩阵的特征值，而eig函数可以返回一个包含特征值和对应的特征向量的元组。"
   ]
  },
  {
   "cell_type": "code",
   "execution_count": 696,
   "metadata": {},
   "outputs": [
    {
     "name": "stdout",
     "output_type": "stream",
     "text": [
      "[[ 3 -2]\n",
      " [ 1  0]]\n"
     ]
    }
   ],
   "source": [
    "A=np.mat(\"3 -2;1 0\")\n",
    "print(A)"
   ]
  },
  {
   "cell_type": "code",
   "execution_count": 697,
   "metadata": {},
   "outputs": [
    {
     "name": "stdout",
     "output_type": "stream",
     "text": [
      "特征值 [ 2.  1.]\n"
     ]
    }
   ],
   "source": [
    "print(\"特征值\",np.linalg.eigvals(A))"
   ]
  },
  {
   "cell_type": "code",
   "execution_count": 698,
   "metadata": {},
   "outputs": [
    {
     "name": "stdout",
     "output_type": "stream",
     "text": [
      "特征值 [ 2.  1.]\n",
      "特征向量 [[ 0.89442719  0.70710678]\n",
      " [ 0.4472136   0.70710678]]\n"
     ]
    }
   ],
   "source": [
    "e,v=np.linalg.eig(A)\n",
    "print(\"特征值\",e)\n",
    "print(\"特征向量\",v)"
   ]
  },
  {
   "cell_type": "code",
   "execution_count": 699,
   "metadata": {},
   "outputs": [
    {
     "name": "stdout",
     "output_type": "stream",
     "text": [
      "left [[ 1.78885438]\n",
      " [ 0.89442719]]\n",
      "right [[ 1.78885438]\n",
      " [ 0.89442719]]\n",
      "left [[ 0.70710678]\n",
      " [ 0.70710678]]\n",
      "right [[ 0.70710678]\n",
      " [ 0.70710678]]\n"
     ]
    }
   ],
   "source": [
    "for i in range(len(e)):\n",
    "    print(\"left\",np.dot(A,v[:,i]))\n",
    "    print(\"right\",e[i]*v[:,i])"
   ]
  },
  {
   "attachments": {
    "_auto_0": {
     "image/png": "[encoded data removed]"
    }
   },
   "cell_type": "markdown",
   "metadata": {},
   "source": [
    "## 6.7 奇异值分解\n",
    "SVD（Singular Value Decomposition，奇异值分解）是一种因子分解运算，将一个矩阵分解\n",
    "为3个矩阵的乘积。奇异值分解是前面讨论过的特征值分解的一种推广。在numpy.linalg模块\n",
    "中的svd函数可以对矩阵进行奇异值分解。该函数返回3个矩阵——U、 Sigma和V，其中U和V是\n",
    "正交矩阵， Sigma包含输入矩阵的奇异值。\n",
    "星号表示厄米共轭（Hermitian conjugate）或共轭转置（conjugate transpose）。![_auto_0](attachment:_auto_0)"
   ]
  },
  {
   "cell_type": "code",
   "execution_count": 700,
   "metadata": {},
   "outputs": [
    {
     "name": "stdout",
     "output_type": "stream",
     "text": [
      "[[ 4 11 14]\n",
      " [ 8  7 -2]]\n"
     ]
    }
   ],
   "source": [
    "A=np.mat(\"4 11 14;8 7 -2\")\n",
    "print(A)"
   ]
  },
  {
   "cell_type": "code",
   "execution_count": 701,
   "metadata": {},
   "outputs": [
    {
     "name": "stdout",
     "output_type": "stream",
     "text": [
      "U\n",
      " [[-0.9486833  -0.31622777]\n",
      " [-0.31622777  0.9486833 ]]\n",
      "sigma\n",
      " [ 18.97366596   9.48683298]\n",
      "V [[-0.33333333 -0.66666667 -0.66666667]\n",
      " [ 0.66666667  0.33333333 -0.66666667]]\n"
     ]
    }
   ],
   "source": [
    "U,sigma,V=np.linalg.svd(A,full_matrices=False)\n",
    "print(\"U\\n\",U)\n",
    "print(\"sigma\\n\",sigma)\n",
    "print(\"V\",V)"
   ]
  },
  {
   "cell_type": "markdown",
   "metadata": {},
   "source": [
    "得到的结果包含等式中左右两端的两个正交矩阵U和V，以及中间的奇异值矩阵Sigma,不过，我们并没有真正得到中间的奇异值矩阵——得到的只是其对角线上的值，而非对\n",
    "角线上的值均为0。我们可以使用diag函数生成完整的奇异值矩阵。将分解出的3个矩阵相乘"
   ]
  },
  {
   "cell_type": "code",
   "execution_count": 702,
   "metadata": {},
   "outputs": [
    {
     "name": "stdout",
     "output_type": "stream",
     "text": [
      "Produce\n",
      " [[  4.  11.  14.]\n",
      " [  8.   7.  -2.]]\n"
     ]
    }
   ],
   "source": [
    "print(\"Produce\\n\",U*np.diag(sigma)*V)"
   ]
  },
  {
   "cell_type": "markdown",
   "metadata": {},
   "source": [
    "## 6.9 广义逆矩阵\n",
    "摩尔·彭罗斯广义逆矩阵（Moore-Penrose pseudoinverse）可以使用numpy.linalg模块中的\n",
    "pinv函数进行求解（广义逆矩阵的具体定义请访问http://en.wikipedia.org/wiki/Moore%E2%80%-\n",
    "93Penrose_pseudoinverse）。计算广义逆矩阵需要用到奇异值分解。 inv函数只接受方阵作为输入\n",
    "矩阵，而pinv函数则没有这个限制。"
   ]
  },
  {
   "cell_type": "code",
   "execution_count": 703,
   "metadata": {
    "collapsed": true
   },
   "outputs": [],
   "source": [
    "A=np.mat('4 11 14;8 7 -2')"
   ]
  },
  {
   "cell_type": "code",
   "execution_count": 704,
   "metadata": {},
   "outputs": [
    {
     "name": "stdout",
     "output_type": "stream",
     "text": [
      "[[ 4 11 14]\n",
      " [ 8  7 -2]]\n"
     ]
    }
   ],
   "source": [
    "print(A)"
   ]
  },
  {
   "cell_type": "code",
   "execution_count": 705,
   "metadata": {},
   "outputs": [
    {
     "name": "stdout",
     "output_type": "stream",
     "text": [
      "Pseudo inverse\n",
      " [[-0.00555556  0.07222222]\n",
      " [ 0.02222222  0.04444444]\n",
      " [ 0.05555556 -0.05555556]]\n"
     ]
    }
   ],
   "source": [
    "pseudoinv=np.linalg.pinv(A)\n",
    "print(\"Pseudo inverse\\n\",pseudoinv)"
   ]
  },
  {
   "cell_type": "code",
   "execution_count": 706,
   "metadata": {},
   "outputs": [
    {
     "name": "stdout",
     "output_type": "stream",
     "text": [
      "Check [[ 1.  0.]\n",
      " [ 0.  1.]]\n"
     ]
    }
   ],
   "source": [
    "print(\"Check\",A*pseudoinv)"
   ]
  },
  {
   "cell_type": "markdown",
   "metadata": {},
   "source": [
    "## 6.11 行列式\n",
    "行列式（determinant）是与方阵相关的一个标量值，在数学中得到广泛应用（更详细的介\n",
    "绍请访问http://en.wikipedia.org/wiki/Determinant）。对于一个n×n的实数矩阵，行列式描述的是\n",
    "一个线性变换对“有向体积”所造成的影响。行列式的值为正表示保持了空间的定向（顺时针\n",
    "或逆时针）， 为负则表示颠倒了空间的定向。 numpy.linalg模块中的det函数可以计算矩阵的\n",
    "行列式。"
   ]
  },
  {
   "cell_type": "code",
   "execution_count": 707,
   "metadata": {},
   "outputs": [
    {
     "name": "stdout",
     "output_type": "stream",
     "text": [
      "A\n",
      " [[3 4]\n",
      " [5 6]]\n"
     ]
    }
   ],
   "source": [
    "A=np.mat(\"3 4;5 6\")\n",
    "print(\"A\\n\",A)"
   ]
  },
  {
   "cell_type": "code",
   "execution_count": 708,
   "metadata": {},
   "outputs": [
    {
     "name": "stdout",
     "output_type": "stream",
     "text": [
      "Determinant -2.0\n"
     ]
    }
   ],
   "source": [
    "print(\"Determinant\",np.linalg.det(A))"
   ]
  },
  {
   "cell_type": "markdown",
   "metadata": {},
   "source": [
    "## 6.13 快速傅里叶变换\n",
    "FFT（Fast Fourier Transform，快速傅里叶变换）是一种高效的计算DFT（Discrete Fourier\n",
    "Transform，离散傅里叶变换）的算法。 FFT算法比根据定义直接计算更快，计算复杂度为\n",
    "O(NlogN) 。 DFT在信号处理、图像处理、求解偏微分方程等方面都有应用。在NumPy中，有一\n",
    "个名为fft的模块提供了快速傅里叶变换的功能。在这个模块中，许多函数都是成对存在的，也\n",
    "就是说许多函数存在对应的逆操作函数。例如， fft和ifft函数就是其中的一对。"
   ]
  },
  {
   "cell_type": "code",
   "execution_count": 709,
   "metadata": {
    "collapsed": true
   },
   "outputs": [],
   "source": [
    "x=np.linspace(0,2*pi,30)\n",
    "wave=np.cos(x)"
   ]
  },
  {
   "cell_type": "code",
   "execution_count": 710,
   "metadata": {},
   "outputs": [
    {
     "data": {
      "text/plain": [
       "array([ 1.        ,  0.97662056,  0.90757542,  0.79609307,  0.64738628,\n",
       "        0.46840844,  0.26752834,  0.05413891, -0.161782  , -0.37013816,\n",
       "       -0.56118707, -0.72599549, -0.85685718, -0.94765317, -0.99413796,\n",
       "       -0.99413796, -0.94765317, -0.85685718, -0.72599549, -0.56118707,\n",
       "       -0.37013816, -0.161782  ,  0.05413891,  0.26752834,  0.46840844,\n",
       "        0.64738628,  0.79609307,  0.90757542,  0.97662056,  1.        ])"
      ]
     },
     "execution_count": 710,
     "metadata": {},
     "output_type": "execute_result"
    }
   ],
   "source": [
    "wave"
   ]
  },
  {
   "cell_type": "markdown",
   "metadata": {},
   "source": [
    "(2) 使用fft函数对余弦波信号进行傅里叶变换"
   ]
  },
  {
   "cell_type": "code",
   "execution_count": 711,
   "metadata": {
    "collapsed": true
   },
   "outputs": [],
   "source": [
    "transformed=np.fft.fft(wave)"
   ]
  },
  {
   "cell_type": "code",
   "execution_count": 712,
   "metadata": {},
   "outputs": [
    {
     "name": "stdout",
     "output_type": "stream",
     "text": [
      "True\n"
     ]
    }
   ],
   "source": [
    "print(np.all(np.abs(np.fft.ifft(transformed)-wave)<10**-9))"
   ]
  },
  {
   "cell_type": "code",
   "execution_count": 713,
   "metadata": {},
   "outputs": [
    {
     "name": "stderr",
     "output_type": "stream",
     "text": [
      "D:\\Anaconda3\\lib\\site-packages\\numpy\\core\\numeric.py:531: ComplexWarning: Casting complex values to real discards the imaginary part\n",
      "  return array(a, dtype, copy=False, order=order)\n"
     ]
    },
    {
     "data": {
      "image/png": "[encoded data removed]",
      "text/plain": [
       "<matplotlib.figure.Figure at 0x9195128>"
      ]
     },
     "metadata": {},
     "output_type": "display_data"
    }
   ],
   "source": [
    "plt.plot(transformed)\n",
    "plt.show()"
   ]
  },
  {
   "cell_type": "markdown",
   "metadata": {},
   "source": [
    "## 6.17 随机数\n",
    "随机数在蒙特卡罗方法（Monto Carlo method）、随机积分等很多方面都有应用。真随机数的\n",
    "产生很困难，因此在实际应用中我们通常使用伪随机数。在大部分应用场景下，伪随机数已经足\n",
    "够随机，当然一些特殊应用除外。有关随机数的函数可以在NumPy的random模块中找到。随机\n",
    "数发生器的核心算法是基于马特赛特旋转演算法（Mersenne Twister algorithm）的。随机数可以\n",
    "从离散分布或连续分布中产生。分布函数有一个可选的参数size，用于指定需要产生的随机数\n",
    "的数量。该参数允许设置为一个整数或元组，生成的随机数将填满指定形状的数组。支持的离散\n",
    "分布包括几何分布、超几何分布和二项分布等。"
   ]
  },
  {
   "cell_type": "markdown",
   "metadata": {},
   "source": [
    "## 6.18 动手实践：硬币赌博游戏\n",
    "二项分布是n个独立重复的是/非试验中成功次数的离散概率分布，这些概率是固定不变的，\n",
    "与试验结果无关。\n",
    "设想你来到了一个17世纪的赌场，正在对一个硬币赌博游戏下8份赌注。每一轮抛9枚硬币，\n",
    "如果少于5枚硬币正面朝上，你将损失8份赌注中的1份；否则，你将赢得1份赌注。我们来模拟\n",
    "一下赌博的过程，初始资本为1000份赌注。为此，我们需要使用random模块中的binomial\n",
    "函数。\n",
    "为了理解binomial函数的用法，请完成如下步骤。\n",
    "(1) 初始化一个全0的数组来存放剩余资本。以参数10000调用binomial函数，意味着我们\n",
    "将在赌场中玩10 000轮硬币赌博游戏。"
   ]
  },
  {
   "cell_type": "markdown",
   "metadata": {},
   "source": [
    "(1) 初始化一个全0的数组来存放剩余资本。以参数10000调用binomial函数，意味着我们\n",
    "将在赌场中玩10 000轮硬币赌博游戏。"
   ]
  },
  {
   "cell_type": "code",
   "execution_count": 714,
   "metadata": {},
   "outputs": [],
   "source": [
    "cash=np.zeros(100)\n",
    "cash[0]=100\n",
    "outcome=np.random.binomial(9,0.5,size=len(cash))"
   ]
  },
  {
   "cell_type": "code",
   "execution_count": 715,
   "metadata": {},
   "outputs": [
    {
     "name": "stdout",
     "output_type": "stream",
     "text": [
      "1 7\n"
     ]
    }
   ],
   "source": [
    "for i in range(1,len(cash)):\n",
    "    if outcome[i]<5:\n",
    "        cash[i]=cash[i-1]-1\n",
    "    elif outcome[i]<10:\n",
    "        cash[i]=cash[i-1]+1\n",
    "    else:\n",
    "        raise AssertionError(\"Unexpected outcome \"+outcome)\n",
    "print(outcome.min(),outcome.max())"
   ]
  },
  {
   "cell_type": "code",
   "execution_count": 716,
   "metadata": {},
   "outputs": [
    {
     "data": {
      "image/png": "[encoded data removed]",
      "text/plain": [
       "<matplotlib.figure.Figure at 0xbd91198>"
      ]
     },
     "metadata": {},
     "output_type": "display_data"
    }
   ],
   "source": [
    "plt.plot(np.arange(len(cash)),cash)\n",
    "plt.show()"
   ]
  },
  {
   "cell_type": "markdown",
   "metadata": {},
   "source": [
    "## 6.19 超几何分布"
   ]
  },
  {
   "cell_type": "markdown",
   "metadata": {},
   "source": [
    "超几何分布（hypergeometric distribution）是一种离散概率分布，它描述的是一个罐子里有\n",
    "两种物件，无放回地从中抽取指定数量的物件后，抽出指定种类物件的数量。 NumPy random模\n",
    "块中的hypergeometric函数可以模拟这种分布。"
   ]
  },
  {
   "cell_type": "markdown",
   "metadata": {},
   "source": [
    "## 6.20 动手实践：模拟游戏秀节目\n",
    "设想有这样一个游戏秀节目，每当参赛者回答对一个问题，他们可以从一个罐子里摸出3个\n",
    "球并放回。罐子里有一个“倒霉球”，一旦这个球被摸出，参赛者会被扣去6分。而如果他们摸出\n",
    "的3个球全部来自其余的25个普通球，那么可以得到1分。因此，如果一共有100道问题被正确回\n",
    "答，得分情况会是怎样的呢？为了解决这个问题，请完成如下步骤。\n",
    "(1) 使用hypergeometric函数初始化游戏的结果矩阵。该函数的第一个参数为罐中普通球\n",
    "的数量，第二个参数为“倒霉球”的数量，第三个参数为每次采样（摸球）的数量。"
   ]
  },
  {
   "cell_type": "code",
   "execution_count": 717,
   "metadata": {
    "collapsed": true
   },
   "outputs": [],
   "source": [
    "points = np.zeros(100)\n",
    "outcomes = np.random.hypergeometric(25,1,3,size=len(points))"
   ]
  },
  {
   "cell_type": "code",
   "execution_count": 718,
   "metadata": {},
   "outputs": [
    {
     "data": {
      "image/png": "[encoded data removed]",
      "text/plain": [
       "<matplotlib.figure.Figure at 0x9167ac8>"
      ]
     },
     "metadata": {},
     "output_type": "display_data"
    }
   ],
   "source": [
    "for i in range(len(points)):\n",
    "    if outcomes[i] == 3:\n",
    "        points[i] = points[i-1]+1\n",
    "    elif outcomes[i] == 2:\n",
    "        points[i] = points[i-1]-6\n",
    "    else:\n",
    "        print(outcomes[i])\n",
    "        \n",
    "plt.plot(np.arange(len(points)),points)\n",
    "plt.show()"
   ]
  },
  {
   "cell_type": "markdown",
   "metadata": {},
   "source": [
    "## 6.21 连续分布\n",
    "连续分布可以用PDF（Probability Density Function，概率密度函数）来描述。随机变量落在某\n",
    "一区间内的概率等于概率密度函数在该区间的曲线下方的面积。 NumPy的random模块中有一系列\n",
    "连续分布的函数——beta、chisquare、exponential、f、gamma、gumbel、laplace、lognormal、\n",
    "logistic、 multivariate_normal、 noncentral_chisquare、 noncentral_f、 normal等。"
   ]
  },
  {
   "cell_type": "markdown",
   "metadata": {},
   "source": [
    "## 6.22 动手实践：绘制正态分布\n",
    "随机数可以从正态分布中产生，它们的直方图能够直观地刻画正态分布。按照如下步骤绘制\n",
    "正态分布。\n",
    "(1) 使用NumPy random模块中的normal函数产生指定数量的随机数。"
   ]
  },
  {
   "cell_type": "code",
   "execution_count": 719,
   "metadata": {
    "collapsed": true
   },
   "outputs": [],
   "source": [
    "N=10000\n",
    "normal_values=np.random.normal(size=N)"
   ]
  },
  {
   "cell_type": "markdown",
   "metadata": {},
   "source": [
    "(2) 绘制分布直方图和理论上的概率密度函数（均值为0、方差为1的正态分布）曲线。我们\n",
    "将使用Matplotlib进行绘图。"
   ]
  },
  {
   "cell_type": "markdown",
   "metadata": {},
   "source": [
    "dummy, bins, dummy=plt.hist(normal_values,np.sqrt(N),normed=True,lw=1)\n",
    "\n",
    "sigma=1\n",
    "\n",
    "mu=0\n",
    "\n",
    "plt.plot(bins,1/(sigma*np.sqrt(2*np.pi))*np.exp(-(bins-mu)/(2*sigma**2)),lw=2)\n",
    "\n",
    "plt.show()"
   ]
  },
  {
   "cell_type": "markdown",
   "metadata": {},
   "source": [
    "## 6.23 对数正态分布\n",
    "对数正态分布（lognormal distribution） 是自然对数服从正态分布的任意随机变量的概率分\n",
    "布。 NumPy random模块中的lognormal函数模拟了这个分布。"
   ]
  },
  {
   "cell_type": "markdown",
   "metadata": {},
   "source": [
    "## 6.24 动手实践：绘制对数正态分布\n",
    "我们绘制出对数正态分布的概率密度函数以及对应的分布直方图，步骤如下。\n",
    "(1) 使用NumPy random模块中的normal函数产生随机数。"
   ]
  },
  {
   "cell_type": "code",
   "execution_count": 720,
   "metadata": {
    "collapsed": true
   },
   "outputs": [],
   "source": [
    "N=1000\n",
    "lognormal_values=np.random.lognormal(size=N)"
   ]
  },
  {
   "cell_type": "markdown",
   "metadata": {},
   "source": [
    "dummy, bins, dummy = plt.hist(lognormal_values,np.sqrt(N), normed=True, lw=1)\n",
    "\n",
    "sigma = 1\n",
    "\n",
    "mu = 0\n",
    "\n",
    "x = np.linspace(min(bins), max(bins), len(bins))\n",
    "\n",
    "pdf = np.exp(-(numpy.log(x) - mu)**2 / (2 * sigma**2))/ (x *sigma * np.sqrt(2 * np.pi))\n",
    "\n",
    "plt.plot(x, pdf,lw=3)\n",
    "\n",
    "plt.show()"
   ]
  },
  {
   "cell_type": "markdown",
   "metadata": {},
   "source": [
    "# 第七章 专用函数"
   ]
  },
  {
   "cell_type": "markdown",
   "metadata": {},
   "source": [
    "## 7.1 排序\n",
    "NumPy提供了多种排序函数，如下所示：\n",
    "- sort函数返回排序后的数组；\n",
    "- lexsort函数根据键值的字典序进行排序；\n",
    "- argsort函数返回输入数组排序后的下标；\n",
    "- ndarray类的sort方法可对数组进行原地排序；\n",
    "- msort函数沿着第一个轴排序；\n",
    "- sort_complex函数对复数按照先实部后虚部的顺序进行排序。\n",
    "\n",
    "在上面的列表中， argsort和sort函数可用来对NumPy数组类型进行排序。"
   ]
  },
  {
   "cell_type": "markdown",
   "metadata": {},
   "source": [
    "## 7.2 动手实践：按字典序排序\n",
    "NumPy中的lexsort函数返回输入数组按字典序排序后的下标。我们需要给lexsort函数提供排序所依据的键值数组或元组。步骤如下。\n",
    "\n",
    "(1) 回顾一下第3章中我们使用的AAPL股价数据，现在我们要将这些很久以前的数据用在完\n",
    "全不同的地方。我们将载入收盘价和日期数据。是的，处理日期总是很复杂，我们为其准备了专\n",
    "门的转换函数。"
   ]
  },
  {
   "cell_type": "code",
   "execution_count": 722,
   "metadata": {},
   "outputs": [],
   "source": [
    "def datestr2num(s):\n",
    "    return datetime.datetime.strptime(s.decode('ascii'),\"%d-%m-%Y\").toordinal()\n",
    "\n",
    "dates,close=np.loadtxt('data.csv',delimiter=',',usecols=(1,6),\n",
    "                       converters={1:datestr2num},unpack=True)"
   ]
  },
  {
   "cell_type": "markdown",
   "metadata": {},
   "source": [
    "(2) 使用lexsort函数排序。数据本身已经按照日期排序，不过我们现在优先按照收盘价\n",
    "排序："
   ]
  },
  {
   "cell_type": "code",
   "execution_count": 734,
   "metadata": {},
   "outputs": [
    {
     "name": "stdout",
     "output_type": "stream",
     "text": [
      "Indices [ 0  2  1 22  8  5  7  4 17  6 18 25 13 23 15 21 11 16  3 12 20  9 14 24 10\n",
      " 19]\n",
      "['2011-01-28 336.1', '2011-02-01 338.5', '2011-01-31 339.4', '2011-03-01 340.2', '2011-02-09 340.5', '2011-02-04 340.6', '2011-02-08 340.6', '2011-02-03 341.2', '2011-02-22 341.4', '2011-02-07 341.8', '2011-02-23 341.9', '2011-03-04 342.2', '2011-02-16 342.7', '2011-03-02 343.2', '2011-02-18 343.4', '2011-02-28 344.5', '2011-02-14 345.3', '2011-02-21 345.5', '2011-02-02 345.6', '2011-02-15 345.7', '2011-02-25 346.6', '2011-02-10 346.7', '2011-02-17 348.2', '2011-03-03 348.2', '2011-02-11 349.2', '2011-02-24 349.9']\n"
     ]
    }
   ],
   "source": [
    "indices = np.lexsort((dates,close))\n",
    "\n",
    "print(\"Indices\",indices)\n",
    "print([\"%s %s\" %(datetime.date.fromordinal(int(dates[i])),close[i]) for i in indices])"
   ]
  },
  {
   "cell_type": "markdown",
   "metadata": {},
   "source": [
    "## 7.3 复数\n",
    "复数包含实数部分和虚数部分。如同在前面的章节中提到的， NumPy中有专门的复数类型，\n",
    "使用两个浮点数来表示复数。这些复数可以使用NumPy的sort_complex函数进行排序。该函数\n",
    "按照先实部后虚部的顺序排序。\n",
    "\n"
   ]
  },
  {
   "cell_type": "markdown",
   "metadata": {},
   "source": [
    "## 7.4 动手实践：对复数进行排序\n",
    "我们将创建一个复数数组并进行排序，步骤如下。\n",
    "\n",
    "(1) 生成5个随机数作为实部， 5个随机数作为虚部。设置随机数种子为42："
   ]
  },
  {
   "cell_type": "code",
   "execution_count": 742,
   "metadata": {},
   "outputs": [
    {
     "name": "stdout",
     "output_type": "stream",
     "text": [
      "Complex numbers\n",
      " [ 0.37454012+0.15599452j  0.95071431+0.05808361j  0.73199394+0.86617615j\n",
      "  0.59865848+0.60111501j  0.15601864+0.70807258j]\n"
     ]
    }
   ],
   "source": [
    "np.random.seed(42)\n",
    "complex_numbers=np.random.random(5) + 1j * np.random.random(5)\n",
    "print (\"Complex numbers\\n\", complex_numbers)"
   ]
  },
  {
   "cell_type": "code",
   "execution_count": 743,
   "metadata": {},
   "outputs": [
    {
     "name": "stdout",
     "output_type": "stream",
     "text": [
      "Sorted\n",
      " [ 0.15601864+0.70807258j  0.37454012+0.15599452j  0.59865848+0.60111501j\n",
      "  0.73199394+0.86617615j  0.95071431+0.05808361j]\n"
     ]
    }
   ],
   "source": [
    "print(\"Sorted\\n\",np.sort_complex(complex_numbers))"
   ]
  },
  {
   "cell_type": "markdown",
   "metadata": {},
   "source": [
    "## 7.5 搜索\n",
    "NumPy中有多个函数可以在数组中进行搜索，如下所示。\n",
    "\n",
    "- argmax函数返回数组中最大值对应的下标"
   ]
  },
  {
   "cell_type": "code",
   "execution_count": 744,
   "metadata": {},
   "outputs": [
    {
     "data": {
      "text/plain": [
       "2"
      ]
     },
     "execution_count": 744,
     "metadata": {},
     "output_type": "execute_result"
    }
   ],
   "source": [
    "a=np.array([2,4,6])\n",
    "np.argmax(a)"
   ]
  },
  {
   "cell_type": "markdown",
   "metadata": {},
   "source": [
    "- nanargmax函数提供相同的功能，但忽略NaN值。"
   ]
  },
  {
   "cell_type": "code",
   "execution_count": 746,
   "metadata": {},
   "outputs": [
    {
     "data": {
      "text/plain": [
       "2"
      ]
     },
     "execution_count": 746,
     "metadata": {},
     "output_type": "execute_result"
    }
   ],
   "source": [
    "b=np.array([np.nan,2,4])\n",
    "np.nanargmax(b)"
   ]
  },
  {
   "cell_type": "markdown",
   "metadata": {},
   "source": [
    "- argmin和nanargmin函数的功能类似，只不过换成了最小值。"
   ]
  },
  {
   "cell_type": "markdown",
   "metadata": {},
   "source": [
    "- argwhere函数根据条件搜索非零的元素，并分组返回对应的下标。"
   ]
  },
  {
   "cell_type": "code",
   "execution_count": 747,
   "metadata": {},
   "outputs": [
    {
     "data": {
      "text/plain": [
       "array([[0],\n",
       "       [1]], dtype=int64)"
      ]
     },
     "execution_count": 747,
     "metadata": {},
     "output_type": "execute_result"
    }
   ],
   "source": [
    "a=np.array([2,4,8])\n",
    "np.argwhere(a<=4)"
   ]
  },
  {
   "cell_type": "markdown",
   "metadata": {},
   "source": [
    "- earchsorted函数可以为指定的插入值寻找维持数组排序的索引位置。该函数使用二分\n",
    "搜索算法，计算复杂度为O(log(n))。我们随后将具体学习这个函数。"
   ]
  },
  {
   "cell_type": "markdown",
   "metadata": {},
   "source": [
    "- extract函数返回满足指定条件的数组元素。"
   ]
  },
  {
   "cell_type": "markdown",
   "metadata": {},
   "source": [
    "## 7.6 动手实践：使用 searchsorted 函数\n",
    "searchsorted函数为指定的插入值返回一个在有序数组中的索引位置，从这个位置插入可\n",
    "以保持数组的有序性。下面的例子可以解释得更清楚。请完成如下步骤。\n",
    "\n",
    "(1) 我们需要一个排序后的数组。使用arange函数创建一个升序排列的数组："
   ]
  },
  {
   "cell_type": "code",
   "execution_count": 749,
   "metadata": {},
   "outputs": [
    {
     "name": "stdout",
     "output_type": "stream",
     "text": [
      "Indices [0 5]\n"
     ]
    }
   ],
   "source": [
    "a = np.arange(5)\n",
    "\n",
    "indices = np.searchsorted(a,[-2,7])\n",
    "print(\"Indices\",indices)"
   ]
  },
  {
   "cell_type": "code",
   "execution_count": 750,
   "metadata": {},
   "outputs": [
    {
     "name": "stdout",
     "output_type": "stream",
     "text": [
      "The full array [-2  0  1  2  3  4  7]\n"
     ]
    }
   ],
   "source": [
    "print(\"The full array\",np.insert(a,indices,[[-2,7]]))"
   ]
  },
  {
   "cell_type": "markdown",
   "metadata": {},
   "source": [
    "## 7.7 数组元素抽取\n",
    "NumPy的extract函数可以根据某个条件从数组中抽取元素。该函数和我们在第3章中遇到\n",
    "过的where函数相似。 nonzero函数专门用来抽取非零的数组元素。\n",
    "## 7.8 动手实践：从数组中抽取元素\n",
    "我们要从一个数组中抽取偶数元素，步骤如下。\n",
    "\n",
    "(1) 使用arange函数创建数组："
   ]
  },
  {
   "cell_type": "code",
   "execution_count": 751,
   "metadata": {
    "collapsed": true
   },
   "outputs": [],
   "source": [
    "a = np.arange(7)\n",
    "\n",
    "condition = (a%2) == 0"
   ]
  },
  {
   "cell_type": "code",
   "execution_count": 752,
   "metadata": {},
   "outputs": [
    {
     "name": "stdout",
     "output_type": "stream",
     "text": [
      "Even numbers [0 2 4 6]\n"
     ]
    }
   ],
   "source": [
    "print(\"Even numbers\",np.extract(condition,a))"
   ]
  },
  {
   "cell_type": "code",
   "execution_count": 753,
   "metadata": {},
   "outputs": [
    {
     "name": "stdout",
     "output_type": "stream",
     "text": [
      "Non zero (array([1, 2, 3, 4, 5, 6], dtype=int64),)\n"
     ]
    }
   ],
   "source": [
    "print(\"Non zero\",np.nonzero(a))"
   ]
  },
  {
   "cell_type": "markdown",
   "metadata": {},
   "source": [
    "## 7.9 金融函数\n",
    "NumPy中有很多金融函数，如下所示。\n",
    "- fv函数计算所谓的终值（future value），即基于一些假设给出的某个金融资产在未来某一\n",
    "时间点的价值。\n",
    "- pv函数计算现值（present value），即金融资产当前的价值。\n",
    "- npv函数返回的是净现值（net present value），即按折现率计算的净现金流之和。\n",
    "- pmt函数根据本金和利率计算每期需支付的金额。\n",
    "- irr函数计算内部收益率（internal rate of return）。内部收益率是是净现值为0时的有效利\n",
    "率，不考虑通胀因素。\n",
    "- mirr函数计算修正后内部收益率（modified internal rate of return），是内部收益率的改进\n",
    "版本。\n",
    "- nper函数计算定期付款的期数。\n",
    "- rate函数计算利率（rate of interest）。"
   ]
  },
  {
   "cell_type": "markdown",
   "metadata": {},
   "source": [
    "## 7.10 动手实践：计算终值\n",
    "终值是基于一些假设给出的某个金融资产在未来某一时间点的价值。终值决定于4个参\n",
    "数——利率、期数、每期支付金额以及现值。在本节的教程中，我们以利率3%、每季度支付金\n",
    "额10、存款周期5年以及现值1 000为参数计算终值。\n",
    "使用正确的参数调用fv函数，计算终值："
   ]
  },
  {
   "cell_type": "code",
   "execution_count": 758,
   "metadata": {},
   "outputs": [
    {
     "name": "stdout",
     "output_type": "stream",
     "text": [
      "Future value 1376.09633204\n"
     ]
    }
   ],
   "source": [
    "print(\"Future value\",np.fv(0.03/4,5*4,-10,-1000))\n",
    "# 时间点取第四年"
   ]
  },
  {
   "cell_type": "code",
   "execution_count": 757,
   "metadata": {},
   "outputs": [
    {
     "data": {
      "image/png": "[encoded data removed]",
      "text/plain": [
       "<matplotlib.figure.Figure at 0x912a630>"
      ]
     },
     "metadata": {},
     "output_type": "display_data"
    }
   ],
   "source": [
    "fvals = []\n",
    "\n",
    "for i in range(1,10):\n",
    "    fvals.append(np.fv(.03/4,i*4,-10,-1000))\n",
    "plt.plot(fvals,'bo')\n",
    "plt.show()"
   ]
  },
  {
   "cell_type": "markdown",
   "metadata": {},
   "source": [
    "## 7.11 现值\n",
    "现值（present value）是指资产在当前时刻的价值。 NumPy中的pv函数可以计算现值。该函\n",
    "数和fv函数是镜像对称的，同样需要利率、期数、每期支付金额这些参数，不过这里输入为终值，\n",
    "输出为现值。\n",
    "## 7.12 动手实践：计算现值\n",
    "我们来进行逆向计算——使用前一节教程中的数值计算现值。\n",
    "使用7.10节使用的数值来计算现值。"
   ]
  },
  {
   "cell_type": "code",
   "execution_count": 759,
   "metadata": {},
   "outputs": [
    {
     "name": "stdout",
     "output_type": "stream",
     "text": [
      "Present value -999.999999999\n"
     ]
    }
   ],
   "source": [
    "print(\"Present value\",np.pv(0.03/4,5*4,-10,1376.09633204))"
   ]
  },
  {
   "cell_type": "markdown",
   "metadata": {},
   "source": [
    "## 7.13 净现值\n",
    "净现值（net present value）定义为按折现率计算的净现金流之和。 NumPy中的npv函数返回\n",
    "净现值。该函数需要两个参数，即利率和一个表示现金流的数组。"
   ]
  },
  {
   "cell_type": "markdown",
   "metadata": {},
   "source": [
    "## 7.14 动手实践：计算净现值\n",
    "我们将为一组随机生成的现金流计算净现值。步骤如下。\n",
    "(1)生成5个随机数作为现金流的取值。插入-100作为初始值"
   ]
  },
  {
   "cell_type": "code",
   "execution_count": 760,
   "metadata": {},
   "outputs": [
    {
     "name": "stdout",
     "output_type": "stream",
     "text": [
      "Cashflows [-100   21   52    1   87   29]\n"
     ]
    }
   ],
   "source": [
    "cashflows=np.random.randint(100,size=5)\n",
    "cashflows=np.insert(cashflows,0,-100)\n",
    "print(\"Cashflows\",cashflows)"
   ]
  },
  {
   "cell_type": "code",
   "execution_count": 761,
   "metadata": {},
   "outputs": [
    {
     "name": "stdout",
     "output_type": "stream",
     "text": [
      "Net present value 72.6325063647\n"
     ]
    }
   ],
   "source": [
    "print(\"Net present value\",np.npv(0.03,cashflows))"
   ]
  },
  {
   "cell_type": "markdown",
   "metadata": {},
   "source": [
    "## 7.15 内部收益率\n",
    "内部收益率（internal rate of return）是净现值为0时的有效利率，不考虑通胀因素。 NumPy\n",
    "中的irr函数根据给定的现金流数据返回对应的内部收益率。\n",
    "## 7.16 动手实践：计算内部收益率\n",
    "这里我们复用7.14节中的现金流数据"
   ]
  },
  {
   "cell_type": "code",
   "execution_count": 762,
   "metadata": {},
   "outputs": [
    {
     "name": "stdout",
     "output_type": "stream",
     "text": [
      "Internal rate of return 0.23123947848800985\n"
     ]
    }
   ],
   "source": [
    "print(\"Internal rate of return\",np.irr([-100,21  , 52  ,  1 ,  87  , 29]))"
   ]
  },
  {
   "cell_type": "markdown",
   "metadata": {},
   "source": [
    "## 7.17 分期付款\n",
    "NumPy中的pmt函数可以根据利率和期数计算贷款每期所需支付的资金。\n",
    "## 7.18 动手实践：计算分期付款\n",
    "假设你贷款100万，年利率为10%，要用30年时间还完贷款，那么每月你必须支付多少资金\n",
    "呢？我们来计算一下。\n",
    "使用刚才提到的参数值，调用pmt函数。"
   ]
  },
  {
   "cell_type": "code",
   "execution_count": 765,
   "metadata": {},
   "outputs": [
    {
     "name": "stdout",
     "output_type": "stream",
     "text": [
      "Payment -8775.71570089\n"
     ]
    }
   ],
   "source": [
    "print(\"Payment\",np.pmt(0.10/12,12*30,1000000))"
   ]
  },
  {
   "cell_type": "markdown",
   "metadata": {},
   "source": [
    "## 7.19 付款期数\n",
    "NumPy中的nper函数可以计算分期付款所需的期数。所需的参数为贷款利率、固定的月供\n",
    "以及贷款额"
   ]
  },
  {
   "cell_type": "markdown",
   "metadata": {},
   "source": [
    "## 7.20 动手实践：计算付款期数\n",
    "考虑贷款9 000，年利率10%，每月固定还款为100的情形。\n",
    "通过nper函数计算出付款期数。"
   ]
  },
  {
   "cell_type": "code",
   "execution_count": 766,
   "metadata": {},
   "outputs": [
    {
     "name": "stdout",
     "output_type": "stream",
     "text": [
      "Number of payments 167.047511801\n"
     ]
    }
   ],
   "source": [
    "print(\"Number of payments\",np.nper(0.10/12,-100,9000))"
   ]
  },
  {
   "cell_type": "markdown",
   "metadata": {},
   "source": [
    "## 7.21 利率\n",
    "NumPy中的rate函数根据给定的付款期数、每期付款资金、现值和终值计算利率。\n",
    "## 7.22 动手实践：计算利率\n",
    "我们使用7.20节中的数值进行逆向计算，由其他参数得出利率。\n",
    "填入之前教程中的数值作为参数。"
   ]
  },
  {
   "cell_type": "code",
   "execution_count": 767,
   "metadata": {},
   "outputs": [
    {
     "name": "stdout",
     "output_type": "stream",
     "text": [
      "Interset rate 0.0999756420664\n"
     ]
    }
   ],
   "source": [
    "print(\"Interset rate\",12*np.rate(167,-100,9000,0))"
   ]
  },
  {
   "cell_type": "markdown",
   "metadata": {},
   "source": [
    "## 7.23 窗函数\n",
    "窗函数（window function）是信号处理领域常用的数学函数，相关应用包括谱分析和滤波器设计等。这些窗函数除在给定区间之外取值均为0。NumPy中有很多窗函数，如bartlett、blackman、\n",
    "hamming、 hanning和kaiser。关于hanning函数的例子可以在第4章和第3章中找到。"
   ]
  },
  {
   "cell_type": "markdown",
   "metadata": {},
   "source": [
    "## 7.24 动手实践：绘制巴特利特窗\n",
    "巴特利特窗（Bartlett window）是一种三角形平滑窗。按如下步骤绘制巴特利特窗。\n",
    "\n",
    "(1) 调用NumPy中的bartlett函数，以计算巴特利特窗。"
   ]
  },
  {
   "cell_type": "code",
   "execution_count": 768,
   "metadata": {},
   "outputs": [
    {
     "data": {
      "image/png": "[encoded data removed]",
      "text/plain": [
       "<matplotlib.figure.Figure at 0x921e128>"
      ]
     },
     "metadata": {},
     "output_type": "display_data"
    }
   ],
   "source": [
    "window=np.bartlett(42)\n",
    "plt.plot(window)\n",
    "plt.show()"
   ]
  },
  {
   "cell_type": "markdown",
   "metadata": {},
   "source": [
    "## 7.25 布莱克曼窗\n",
    "\n",
    "布莱克曼窗（Blackman window）形式上为三项余弦值的加和，如下所示：\n",
    "\n",
    "NumPy中的blackman函数返回布莱克曼窗。该函数唯一的参数为输出点的数量。如果数量\n",
    "为0或小于0，则返回一个空数组。"
   ]
  },
  {
   "attachments": {
    "_auto_0": {
     "image/png": "[encoded data removed]"
    }
   },
   "cell_type": "markdown",
   "metadata": {},
   "source": [
    "## 7.26 动手实践：使用布莱克曼窗平滑股价数据\n",
    "我们对AAPL股价的小数据文件中的收盘价数据进行平滑处理。完成如下步骤。\n",
    "(1) 将数据载入NumPy数组。调用blackman函数生成一个平滑窗并用它来平滑股价数据。\n",
    "\n",
    "![_auto_0](attachment:_auto_0)"
   ]
  },
  {
   "cell_type": "code",
   "execution_count": 774,
   "metadata": {},
   "outputs": [],
   "source": [
    "closes = np.loadtxt(\"data.csv\",delimiter=\",\",usecols=(6,)\n",
    "                    ,converters={1:datestr2num},unpack=True)"
   ]
  },
  {
   "cell_type": "code",
   "execution_count": 775,
   "metadata": {},
   "outputs": [
    {
     "data": {
      "image/png": "[encoded data removed]",
      "text/plain": [
       "<matplotlib.figure.Figure at 0x908dd30>"
      ]
     },
     "metadata": {},
     "output_type": "display_data"
    }
   ],
   "source": [
    "N=int(5)\n",
    "window=np.blackman(N)\n",
    "smoothed=np.convolve(window/window.sum(),closes,mode='same')\n",
    "plt.plot(smoothed[N:-N],lw=2,label=\"smoothed\")\n",
    "plt.plot(closes[N:-N],label=\"closes\")\n",
    "plt.legend(loc=\"best\")\n",
    "plt.show()"
   ]
  },
  {
   "attachments": {
    "_auto_0": {
     "image/png": "[encoded data removed]"
    }
   },
   "cell_type": "markdown",
   "metadata": {},
   "source": [
    "## 7.27 汉明窗\n",
    "汉明窗（Hamming window）形式上是一个加权的余弦函数。公式如下所示\n",
    "\n",
    "![_auto_0](attachment:_auto_0)\n",
    "\n",
    "NumPy中的hamming函数返回汉明窗。该函数唯一的参数为输出点的数量。如果数量为0或\n",
    "小于0，则返回一个空数组。"
   ]
  },
  {
   "cell_type": "markdown",
   "metadata": {},
   "source": [
    "## 7.28 动手实践：绘制汉明窗\n",
    "我们来绘制汉明窗。完成如下步骤。\n",
    "\n",
    "(1) 调用hamming函数，以计算汉明窗："
   ]
  },
  {
   "cell_type": "code",
   "execution_count": 776,
   "metadata": {},
   "outputs": [
    {
     "data": {
      "image/png": "[encoded data removed]",
      "text/plain": [
       "<matplotlib.figure.Figure at 0x9157f60>"
      ]
     },
     "metadata": {},
     "output_type": "display_data"
    }
   ],
   "source": [
    "window=np.hamming(42)\n",
    "plt.plot(window)\n",
    "plt.show()"
   ]
  },
  {
   "attachments": {
    "_auto_0": {
     "image/png": "[encoded data removed]"
    }
   },
   "cell_type": "markdown",
   "metadata": {},
   "source": [
    "## 7.29 凯泽窗\n",
    "凯泽窗（Kaiser window）是以贝塞尔函数（Bessel function）定义的，公式如下所示。\n",
    "\n",
    "![_auto_0](attachment:_auto_0)\n",
    "\n",
    "这里的I0即为零阶的贝塞尔函数。 NumPy中的kaiser函数返回凯泽窗。该函数的第一个参\n",
    "数为输出点的数量。如果数量为0或小于0，则返回一个空数组。第二个参数为β值。"
   ]
  },
  {
   "cell_type": "markdown",
   "metadata": {},
   "source": [
    "## 7.30 动手实践：绘制凯泽窗\n",
    "我们来绘制凯泽窗。完成如下步骤。\n",
    "\n",
    "(1) 调用kaiser函数，以计算凯泽窗：\n"
   ]
  },
  {
   "cell_type": "code",
   "execution_count": 777,
   "metadata": {},
   "outputs": [
    {
     "data": {
      "image/png": "[encoded data removed]",
      "text/plain": [
       "<matplotlib.figure.Figure at 0x9c86be0>"
      ]
     },
     "metadata": {},
     "output_type": "display_data"
    }
   ],
   "source": [
    "window=np.kaiser(42,14)\n",
    "plt.plot(window)\n",
    "plt.show()"
   ]
  },
  {
   "cell_type": "markdown",
   "metadata": {},
   "source": [
    "## 7.31 专用数学函数\n",
    "我们将以一些专用数学函数结束本章的内容。贝塞尔函数（Bessel function）是贝塞尔微分\n",
    "方程的标准解函数（详见http://en.wikipedia.org/wiki/Bessel_function）。在NumPy中，以i0 表示第\n",
    "一类修正的零阶贝塞尔函数。 sinc函数在NumPy中有同名函数sinc，并且该函数也有一个二维\n",
    "版本。 sinc是一个三角函数，更多详细内容请访问http://en.wikipedia.org/wiki/Sinc_function。\n",
    "## 7.32 动手实践：绘制修正的贝塞尔函数\n",
    "我们来看看第一类修正的零阶贝塞尔函数绘制出来是什么形状。\n",
    "\n",
    "(1) 使用NumPy的linspace函数生成一组均匀分布的数值。"
   ]
  },
  {
   "cell_type": "code",
   "execution_count": 778,
   "metadata": {
    "collapsed": true
   },
   "outputs": [],
   "source": [
    "x=np.linspace(0,4,100)"
   ]
  },
  {
   "cell_type": "code",
   "execution_count": 779,
   "metadata": {},
   "outputs": [
    {
     "data": {
      "image/png": "[encoded data removed]",
      "text/plain": [
       "<matplotlib.figure.Figure at 0xa5804a8>"
      ]
     },
     "metadata": {},
     "output_type": "display_data"
    }
   ],
   "source": [
    "vals=np.i0(x)\n",
    "plt.plot(x,vals)\n",
    "plt.show()"
   ]
  },
  {
   "cell_type": "markdown",
   "metadata": {},
   "source": [
    "## 7.33 sinc 函数\n",
    "sinc函数在数学和信号处理领域被广泛应用。 NumPy中有同名函数sinc，并且也存在一个\n",
    "二维版本。\n",
    "## 7.34 动手实践：绘制 sinc 函数\n",
    "我们将绘制sinc函数。完成如下步骤。"
   ]
  },
  {
   "cell_type": "markdown",
   "metadata": {},
   "source": [
    "(1) 使用NumPy的linspace函数生成一组均匀分布的数值。"
   ]
  },
  {
   "cell_type": "code",
   "execution_count": 780,
   "metadata": {},
   "outputs": [
    {
     "data": {
      "image/png": "[encoded data removed]",
      "text/plain": [
       "<matplotlib.figure.Figure at 0x97ddba8>"
      ]
     },
     "metadata": {},
     "output_type": "display_data"
    }
   ],
   "source": [
    "x=np.linspace(0,4,100)\n",
    "vals=np.sinc(x)\n",
    "plt.plot(x,vals)\n",
    "plt.show()"
   ]
  },
  {
   "cell_type": "code",
   "execution_count": 781,
   "metadata": {},
   "outputs": [
    {
     "data": {
      "image/png": "[encoded data removed]",
      "text/plain": [
       "<matplotlib.figure.Figure at 0xa55b4a8>"
      ]
     },
     "metadata": {},
     "output_type": "display_data"
    }
   ],
   "source": [
    "x=np.linspace(0,4,100)\n",
    "xx=np.outer(x,x)\n",
    "vals=np.sinc(xx)\n",
    "plt.imshow(vals)\n",
    "plt.show()"
   ]
  },
  {
   "cell_type": "markdown",
   "metadata": {},
   "source": [
    "## 第八章 质量控制"
   ]
  },
  {
   "cell_type": "markdown",
   "metadata": {},
   "source": [
    "TDD（Test Driven Development，测试驱动的开发）是软件开发史上最重要的里程碑之一。\n",
    "TDD主要专注于自动单元测试，它的目标是尽最大限度自动化测试代码。如果代码被改动，我们\n",
    "仍可以运行测试并捕捉可能存在的问题。换言之，测试对于已经存在的功能模块依然有效。"
   ]
  },
  {
   "cell_type": "markdown",
   "metadata": {},
   "source": [
    "## 8.1 断言函数\n",
    "单元测试通常使用断言函数作为测试的组成部分。在进行数值计算时，我们经常遇到比较两\n",
    "个近似相等的浮点数这样的基本问题。整数之间的比较很简单，但浮点数却非如此，这是由于计\n",
    "算机对浮点数的表示本身就是不精确的。 numpy.testing包中有很多实用的工具函数考虑了浮\n",
    "点数比较的问题，可以测试前提是否成立。"
   ]
  },
  {
   "cell_type": "markdown",
   "metadata": {},
   "source": [
    "函数|描述\n",
    ":-------|:--------\n",
    "  assert_almost_equal |如果两个数字的近似程度没有达到指定精度，就抛出异常 \n",
    "  assert_approx_equal| 如果两个数字的近似程度没有达到指定有效数字，就抛出异常\n",
    "assert_array_almost_equal| 如果两个数组中元素的近似程度没有达到指定精度，就抛出异常\n",
    "assert_array_equal |如果两个数组对象不相同，就抛出异常\n",
    "assert_array_less |两个数组必须形状一致，并且第一个数组的元素严格小于第二个数组的元素，否则就抛出异常\n",
    "assert_equal |如果两个对象不相同，就抛出异常\n",
    "assert_raises| 若用填写的参数调用函数没有抛出指定的异常，则测试不通过\n",
    "assert_warns |若没有抛出指定的警告，则测试不通过\n",
    "assert_string_equal |断言两个字符串变量完全相同\n",
    "assert_allclose |如果两个对象的近似程度超出了指定的容差限，就抛出异常"
   ]
  },
  {
   "cell_type": "markdown",
   "metadata": {},
   "source": [
    "## 8.2 动手实践：使用 assert_almost_equal 断言近似相等\n",
    "假设你有两个很接近的数字。我们用assert_almost_equal函数来检查它们是否近似\n",
    "相等。\n",
    "\n",
    "(1) 调用函数，指定较低的精度（小数点后7位）："
   ]
  },
  {
   "cell_type": "code",
   "execution_count": 785,
   "metadata": {},
   "outputs": [
    {
     "name": "stdout",
     "output_type": "stream",
     "text": [
      "Decimal 7 None\n"
     ]
    }
   ],
   "source": [
    "print(\"Decimal 7\",np.testing.assert_almost_equal(0.123456789,0.123456780,decimal=7))"
   ]
  },
  {
   "cell_type": "code",
   "execution_count": 786,
   "metadata": {},
   "outputs": [
    {
     "name": "stdout",
     "output_type": "stream",
     "text": [
      "Decimal 8 None\n"
     ]
    }
   ],
   "source": [
    "print(\"Decimal 8\",np.testing.assert_almost_equal(0.123456789,0.123456780,decimal=8))"
   ]
  },
  {
   "cell_type": "code",
   "execution_count": 792,
   "metadata": {},
   "outputs": [
    {
     "ename": "AssertionError",
     "evalue": "\nArrays are not almost equal to 9 decimals\n ACTUAL: 0.123456789\n DESIRED: 0.12345678",
     "output_type": "error",
     "traceback": [
      "\u001b[1;31m---------------------------------------------------------------------------\u001b[0m",
      "\u001b[1;31mAssertionError\u001b[0m                            Traceback (most recent call last)",
      "\u001b[1;32m<ipython-input-792-a12cbc768000>\u001b[0m in \u001b[0;36m<module>\u001b[1;34m()\u001b[0m\n\u001b[1;32m----> 1\u001b[1;33m \u001b[0mprint\u001b[0m\u001b[1;33m(\u001b[0m\u001b[1;34m\"Decimal 9\"\u001b[0m\u001b[1;33m,\u001b[0m\u001b[0mnp\u001b[0m\u001b[1;33m.\u001b[0m\u001b[0mtesting\u001b[0m\u001b[1;33m.\u001b[0m\u001b[0massert_almost_equal\u001b[0m\u001b[1;33m(\u001b[0m\u001b[1;36m0.123456789\u001b[0m\u001b[1;33m,\u001b[0m\u001b[1;36m0.123456780\u001b[0m\u001b[1;33m,\u001b[0m\u001b[0mdecimal\u001b[0m\u001b[1;33m=\u001b[0m\u001b[1;36m9\u001b[0m\u001b[1;33m)\u001b[0m\u001b[1;33m)\u001b[0m\u001b[1;33m\u001b[0m\u001b[0m\n\u001b[0m",
      "\u001b[1;32mD:\\Anaconda3\\lib\\site-packages\\numpy\\testing\\utils.py\u001b[0m in \u001b[0;36massert_almost_equal\u001b[1;34m(actual, desired, decimal, err_msg, verbose)\u001b[0m\n\u001b[0;32m    577\u001b[0m         \u001b[1;32mpass\u001b[0m\u001b[1;33m\u001b[0m\u001b[0m\n\u001b[0;32m    578\u001b[0m     \u001b[1;32mif\u001b[0m \u001b[0mabs\u001b[0m\u001b[1;33m(\u001b[0m\u001b[0mdesired\u001b[0m \u001b[1;33m-\u001b[0m \u001b[0mactual\u001b[0m\u001b[1;33m)\u001b[0m \u001b[1;33m>=\u001b[0m \u001b[1;36m1.5\u001b[0m \u001b[1;33m*\u001b[0m \u001b[1;36m10.0\u001b[0m\u001b[1;33m**\u001b[0m\u001b[1;33m(\u001b[0m\u001b[1;33m-\u001b[0m\u001b[0mdecimal\u001b[0m\u001b[1;33m)\u001b[0m\u001b[1;33m:\u001b[0m\u001b[1;33m\u001b[0m\u001b[0m\n\u001b[1;32m--> 579\u001b[1;33m         \u001b[1;32mraise\u001b[0m \u001b[0mAssertionError\u001b[0m\u001b[1;33m(\u001b[0m\u001b[0m_build_err_msg\u001b[0m\u001b[1;33m(\u001b[0m\u001b[1;33m)\u001b[0m\u001b[1;33m)\u001b[0m\u001b[1;33m\u001b[0m\u001b[0m\n\u001b[0m\u001b[0;32m    580\u001b[0m \u001b[1;33m\u001b[0m\u001b[0m\n\u001b[0;32m    581\u001b[0m \u001b[1;33m\u001b[0m\u001b[0m\n",
      "\u001b[1;31mAssertionError\u001b[0m: \nArrays are not almost equal to 9 decimals\n ACTUAL: 0.123456789\n DESIRED: 0.12345678"
     ]
    }
   ],
   "source": [
    "print(\"Decimal 9\",np.testing.assert_almost_equal(0.123456789,0.123456780,decimal=9))"
   ]
  },
  {
   "cell_type": "markdown",
   "metadata": {},
   "source": [
    "## 8.3 近似相等\n",
    "如果两个数字的近似程度没有达到指定的有效数字要求， assert_approx_equal函数将抛\n",
    "出异常。该函数触发异常的条件如下：\n",
    "\n",
    "abs(actual - expected) >= 10**-(significant - 1)\n",
    "\n",
    "## 8.4 动手实践：使用 assert_approx_equal 断言近似相等\n",
    "我们仍使用前面“动手实践”教程中的数字，并使用assert_approx_equal函数对它们进\n",
    "行比较。\n",
    "\n",
    "(1) 调用函数，指定较低的有效数字位："
   ]
  },
  {
   "cell_type": "code",
   "execution_count": 788,
   "metadata": {},
   "outputs": [
    {
     "name": "stdout",
     "output_type": "stream",
     "text": [
      "Significance 8 None\n"
     ]
    }
   ],
   "source": [
    "print(\"Significance 8\",np.testing.assert_approx_equal(0.123456789,0.123456780,\n",
    "                                                      significant=8))"
   ]
  },
  {
   "cell_type": "code",
   "execution_count": 789,
   "metadata": {},
   "outputs": [
    {
     "ename": "AssertionError",
     "evalue": "\nItems are not equal to 9 significant digits:\n ACTUAL: 0.123456789\n DESIRED: 0.12345678",
     "output_type": "error",
     "traceback": [
      "\u001b[1;31m---------------------------------------------------------------------------\u001b[0m",
      "\u001b[1;31mAssertionError\u001b[0m                            Traceback (most recent call last)",
      "\u001b[1;32m<ipython-input-789-03ecea287334>\u001b[0m in \u001b[0;36m<module>\u001b[1;34m()\u001b[0m\n\u001b[0;32m      1\u001b[0m print(\"Significance 9\",np.testing.assert_approx_equal(0.123456789,0.123456780,\n\u001b[1;32m----> 2\u001b[1;33m                                                       significant=9))\n\u001b[0m",
      "\u001b[1;32mD:\\Anaconda3\\lib\\site-packages\\numpy\\testing\\utils.py\u001b[0m in \u001b[0;36massert_approx_equal\u001b[1;34m(actual, desired, significant, err_msg, verbose)\u001b[0m\n\u001b[0;32m    675\u001b[0m         \u001b[1;32mpass\u001b[0m\u001b[1;33m\u001b[0m\u001b[0m\n\u001b[0;32m    676\u001b[0m     \u001b[1;32mif\u001b[0m \u001b[0mnp\u001b[0m\u001b[1;33m.\u001b[0m\u001b[0mabs\u001b[0m\u001b[1;33m(\u001b[0m\u001b[0msc_desired\u001b[0m \u001b[1;33m-\u001b[0m \u001b[0msc_actual\u001b[0m\u001b[1;33m)\u001b[0m \u001b[1;33m>=\u001b[0m \u001b[0mnp\u001b[0m\u001b[1;33m.\u001b[0m\u001b[0mpower\u001b[0m\u001b[1;33m(\u001b[0m\u001b[1;36m10.\u001b[0m\u001b[1;33m,\u001b[0m \u001b[1;33m-\u001b[0m\u001b[1;33m(\u001b[0m\u001b[0msignificant\u001b[0m\u001b[1;33m-\u001b[0m\u001b[1;36m1\u001b[0m\u001b[1;33m)\u001b[0m\u001b[1;33m)\u001b[0m\u001b[1;33m:\u001b[0m\u001b[1;33m\u001b[0m\u001b[0m\n\u001b[1;32m--> 677\u001b[1;33m         \u001b[1;32mraise\u001b[0m \u001b[0mAssertionError\u001b[0m\u001b[1;33m(\u001b[0m\u001b[0mmsg\u001b[0m\u001b[1;33m)\u001b[0m\u001b[1;33m\u001b[0m\u001b[0m\n\u001b[0m\u001b[0;32m    678\u001b[0m \u001b[1;33m\u001b[0m\u001b[0m\n\u001b[0;32m    679\u001b[0m \u001b[1;33m\u001b[0m\u001b[0m\n",
      "\u001b[1;31mAssertionError\u001b[0m: \nItems are not equal to 9 significant digits:\n ACTUAL: 0.123456789\n DESIRED: 0.12345678"
     ]
    }
   ],
   "source": [
    "print(\"Significance 9\",np.testing.assert_approx_equal(0.123456789,0.123456780,\n",
    "                                                      significant=9))"
   ]
  },
  {
   "cell_type": "markdown",
   "metadata": {},
   "source": [
    "## 8.5 数组近似相等\n",
    "如 果 两 个 数 组 中 元 素 的 近 似 程 度 没 有 达 到 指 定 的 精 度 要 求 ， assert_array_\n",
    "almost_equal函数将抛出异常。该函数首先检查两个数组的形状是否一致，然后逐一比较两个\n",
    "数组中的元素：\n",
    "|expected - actual| < 0.5 10-decimal\n",
    "\n",
    "## 8.6 动手实践：断言数组近似相等\n",
    "我们使用前面“动手实践”教程中的数字，并各加上一个0来构造两个数组。\n",
    "\n",
    "(1) 调用函数，指定较低的精度："
   ]
  },
  {
   "cell_type": "code",
   "execution_count": 790,
   "metadata": {},
   "outputs": [
    {
     "name": "stdout",
     "output_type": "stream",
     "text": [
      "Decimal 8 None\n"
     ]
    }
   ],
   "source": [
    "print(\"Decimal 8\",np.testing.assert_array_almost_equal([0,0.123456789],[0,0.123456780]\n",
    "                                                      ,decimal=8))"
   ]
  },
  {
   "cell_type": "code",
   "execution_count": 791,
   "metadata": {},
   "outputs": [
    {
     "ename": "AssertionError",
     "evalue": "\nArrays are not almost equal to 9 decimals\n\n(mismatch 50.0%)\n x: array([ 0.         ,  0.123456789])\n y: array([ 0.        ,  0.12345678])",
     "output_type": "error",
     "traceback": [
      "\u001b[1;31m---------------------------------------------------------------------------\u001b[0m",
      "\u001b[1;31mAssertionError\u001b[0m                            Traceback (most recent call last)",
      "\u001b[1;32m<ipython-input-791-265939b9ea11>\u001b[0m in \u001b[0;36m<module>\u001b[1;34m()\u001b[0m\n\u001b[0;32m      1\u001b[0m print(\"Decimal 9\",np.testing.assert_array_almost_equal([0,0.123456789],[0,0.123456780]\n\u001b[1;32m----> 2\u001b[1;33m                                                       ,decimal=9))\n\u001b[0m",
      "\u001b[1;32mD:\\Anaconda3\\lib\\site-packages\\numpy\\testing\\utils.py\u001b[0m in \u001b[0;36massert_array_almost_equal\u001b[1;34m(x, y, decimal, err_msg, verbose)\u001b[0m\n\u001b[0;32m    960\u001b[0m     assert_array_compare(compare, x, y, err_msg=err_msg, verbose=verbose,\n\u001b[0;32m    961\u001b[0m              \u001b[0mheader\u001b[0m\u001b[1;33m=\u001b[0m\u001b[1;33m(\u001b[0m\u001b[1;34m'Arrays are not almost equal to %d decimals'\u001b[0m \u001b[1;33m%\u001b[0m \u001b[0mdecimal\u001b[0m\u001b[1;33m)\u001b[0m\u001b[1;33m,\u001b[0m\u001b[1;33m\u001b[0m\u001b[0m\n\u001b[1;32m--> 962\u001b[1;33m              precision=decimal)\n\u001b[0m\u001b[0;32m    963\u001b[0m \u001b[1;33m\u001b[0m\u001b[0m\n\u001b[0;32m    964\u001b[0m \u001b[1;33m\u001b[0m\u001b[0m\n",
      "\u001b[1;32mD:\\Anaconda3\\lib\\site-packages\\numpy\\testing\\utils.py\u001b[0m in \u001b[0;36massert_array_compare\u001b[1;34m(comparison, x, y, err_msg, verbose, header, precision, equal_nan, equal_inf)\u001b[0m\n\u001b[0;32m    776\u001b[0m                                 names=('x', 'y'), precision=precision)\n\u001b[0;32m    777\u001b[0m             \u001b[1;32mif\u001b[0m \u001b[1;32mnot\u001b[0m \u001b[0mcond\u001b[0m\u001b[1;33m:\u001b[0m\u001b[1;33m\u001b[0m\u001b[0m\n\u001b[1;32m--> 778\u001b[1;33m                 \u001b[1;32mraise\u001b[0m \u001b[0mAssertionError\u001b[0m\u001b[1;33m(\u001b[0m\u001b[0mmsg\u001b[0m\u001b[1;33m)\u001b[0m\u001b[1;33m\u001b[0m\u001b[0m\n\u001b[0m\u001b[0;32m    779\u001b[0m     \u001b[1;32mexcept\u001b[0m \u001b[0mValueError\u001b[0m\u001b[1;33m:\u001b[0m\u001b[1;33m\u001b[0m\u001b[0m\n\u001b[0;32m    780\u001b[0m         \u001b[1;32mimport\u001b[0m \u001b[0mtraceback\u001b[0m\u001b[1;33m\u001b[0m\u001b[0m\n",
      "\u001b[1;31mAssertionError\u001b[0m: \nArrays are not almost equal to 9 decimals\n\n(mismatch 50.0%)\n x: array([ 0.         ,  0.123456789])\n y: array([ 0.        ,  0.12345678])"
     ]
    }
   ],
   "source": [
    "print(\"Decimal 9\",np.testing.assert_array_almost_equal([0,0.123456789],[0,0.123456780]\n",
    "                                                      ,decimal=9))"
   ]
  },
  {
   "cell_type": "markdown",
   "metadata": {},
   "source": [
    "## 8.7 数组相等\n",
    "如果两个数组对象不相同， assert_array_equal函数将抛出异常。两个数组相等必须形\n",
    "状一致且元素也严格相等，允许数组中存在NaN元素。\n",
    "此外，比较数组也可以使用assert_allclose函数。该函数有参数atol（absolute tolerance，\n",
    "绝对容差限）和rtol（relative tolerance，相对容差限）。对于两个数组a和b，将测试是否满足以\n",
    "下等式：\n",
    "\n",
    "|a - b| <= (atol + rtol * |b|)"
   ]
  },
  {
   "cell_type": "markdown",
   "metadata": {},
   "source": [
    "## 8.8 动手实践：比较数组\n",
    "我们使用刚刚提到的函数来比较两个数组。我们仍使用前面“动手实践”教程中的数组，并\n",
    "增加一个NaN元素。\n",
    "\n",
    "(1) 调用assert_allclose函数"
   ]
  },
  {
   "cell_type": "code",
   "execution_count": null,
   "metadata": {
    "collapsed": true
   },
   "outputs": [],
   "source": []
  }
 ],
 "metadata": {
  "kernelspec": {
   "display_name": "Python 3",
   "language": "python",
   "name": "python3"
  },
  "language_info": {
   "codemirror_mode": {
    "name": "ipython",
    "version": 3
   },
   "file_extension": ".py",
   "mimetype": "text/x-python",
   "name": "python",
   "nbconvert_exporter": "python",
   "pygments_lexer": "ipython3",
   "version": "3.6.3"
  }
 },
 "nbformat": 4,
 "nbformat_minor": 2
}
