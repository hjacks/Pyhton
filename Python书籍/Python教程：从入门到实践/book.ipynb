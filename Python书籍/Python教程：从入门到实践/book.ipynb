{
 "cells": [
  {
   "cell_type": "markdown",
   "metadata": {},
   "source": [
    "# 第9章 类"
   ]
  },
  {
   "cell_type": "markdown",
   "metadata": {},
   "source": [
    "面向对象编程是最有效的软件编写方法之一。在面向对象编程中，\n",
    "你编写表示现实世界中的事物和情景的类，并基于这些类来创建对象。\n",
    "编写类时，你定义一大类对象都有的通用行为。基于类创建对象时，\n",
    "每个对象都自动具备这种通用行为，然后可根据需要赋予每个对象独\n",
    "特的个性。使用面向对象编程可模拟现实情景，其逼真程度达到了令\n",
    "你惊讶的地步。\n",
    "\n",
    "根据类来创建对象被称为实例化，这让你能够使用类的实例。在\n",
    "本章中，你将编写一些类并创建其实例。你将指定可在实例中存储什\n",
    "么信息，定义可对这些实例执行哪些操作。你还将编写一些类来扩展\n",
    "既有类的功能，让相似的类能够高效地共享代码。你将把自己编写的类存储在模块中，并在\n",
    "自己的程序文件中导入其他程序员编写的类。\n",
    "\n",
    "理解面向对象编程有助于你像程序员那样看世界，还可以帮助你真正明白自己编写的代\n",
    "码：不仅是各行代码的作用，还有代码背后更宏大的概念。了解类背后的概念可培养逻辑思\n",
    "维，让你能够通过编写程序来解决遇到的几乎任何问题。\n",
    "\n",
    "随着面临的挑战日益严峻，类还能让你以及与你合作的其他程序员的生活更轻松。如果\n",
    "你与其他程序员基于同样的逻辑来编写代码，你们就能明白对方所做的工作；你编写的程序\n",
    "将能被众多合作者所理解，每个人都能事半功倍。"
   ]
  },
  {
   "cell_type": "markdown",
   "metadata": {},
   "source": [
    "## 9.1 创建和使用类"
   ]
  },
  {
   "cell_type": "markdown",
   "metadata": {},
   "source": [
    "### 9.1.1 创建 Dog 类"
   ]
  },
  {
   "cell_type": "code",
   "execution_count": 1,
   "metadata": {
    "collapsed": true
   },
   "outputs": [],
   "source": [
    "class Dog():\n",
    "    \"\"\" 一次模拟小狗的简单测试\"\"\"\n",
    "    \n",
    "    def __init__(self,name,age):\n",
    "        self.name=name\n",
    "        self.age=age\n",
    "    \n",
    "    def sit(self):\n",
    "        print(self.name.title()+\" is now sitting.\")\n",
    "        \n",
    "    def roll_over(self):\n",
    "        print(self.name.title()+' rolled over!')"
   ]
  },
  {
   "cell_type": "code",
   "execution_count": 2,
   "metadata": {},
   "outputs": [
    {
     "name": "stdout",
     "output_type": "stream",
     "text": [
      "My dog's name is Whille.\n",
      "My dog is 6 years old.\n"
     ]
    }
   ],
   "source": [
    "my_dog=Dog('whille',6)\n",
    "print(\"My dog's name is \"+my_dog.name.title()+'.')\n",
    "print(\"My dog is \"+str(my_dog.age)+\" years old.\")"
   ]
  },
  {
   "cell_type": "code",
   "execution_count": 3,
   "metadata": {},
   "outputs": [
    {
     "data": {
      "text/plain": [
       "'whille'"
      ]
     },
     "execution_count": 3,
     "metadata": {},
     "output_type": "execute_result"
    }
   ],
   "source": [
    "my_dog.name"
   ]
  },
  {
   "cell_type": "code",
   "execution_count": 4,
   "metadata": {},
   "outputs": [
    {
     "name": "stdout",
     "output_type": "stream",
     "text": [
      "Whille is now sitting.\n"
     ]
    }
   ],
   "source": [
    "my_dog.sit()"
   ]
  },
  {
   "cell_type": "code",
   "execution_count": 5,
   "metadata": {},
   "outputs": [
    {
     "name": "stdout",
     "output_type": "stream",
     "text": [
      "Whille rolled over!\n"
     ]
    }
   ],
   "source": [
    "my_dog.roll_over()"
   ]
  },
  {
   "cell_type": "code",
   "execution_count": 6,
   "metadata": {
    "collapsed": true
   },
   "outputs": [],
   "source": [
    "my_dog=Dog('willie',6)\n",
    "your_dog=Dog('lucy',3)"
   ]
  },
  {
   "cell_type": "code",
   "execution_count": 7,
   "metadata": {},
   "outputs": [
    {
     "name": "stdout",
     "output_type": "stream",
     "text": [
      "My dog's name is Willie.\n",
      "My dog is 6 years old.\n",
      "Willie is now sitting.\n",
      "\n",
      "Your dog's name is Lucy.\n",
      "Your dog is 3 years old.\n",
      "Lucy is now sitting.\n"
     ]
    }
   ],
   "source": [
    "print(\"My dog's name is \" + my_dog.name.title() + \".\")\n",
    "print(\"My dog is \" + str(my_dog.age) + \" years old.\")\n",
    "my_dog.sit()\n",
    "\n",
    "print(\"\\nYour dog's name is \" + your_dog.name.title() + \".\")\n",
    "print(\"Your dog is \" + str(your_dog.age) + \" years old.\")\n",
    "your_dog.sit()"
   ]
  },
  {
   "cell_type": "markdown",
   "metadata": {},
   "source": [
    "## 9.2 使用类和实例"
   ]
  },
  {
   "cell_type": "markdown",
   "metadata": {},
   "source": [
    "### 9.2.1 Car 类"
   ]
  },
  {
   "cell_type": "code",
   "execution_count": 8,
   "metadata": {},
   "outputs": [
    {
     "name": "stdout",
     "output_type": "stream",
     "text": [
      "2016 Audi A4\n"
     ]
    }
   ],
   "source": [
    "class Car():\n",
    "    def __init__(self,make,model, year):\n",
    "        self.make=make\n",
    "        self.model=model\n",
    "        self.year=year\n",
    "        \n",
    "    def get_descriptive_name(self):\n",
    "        long_name=str(self.year)+' '+self.make + ' ' + self.model\n",
    "        return long_name.title()\n",
    "\n",
    "my_new_car=Car('audi','a4',2016)\n",
    "print(my_new_car.get_descriptive_name())"
   ]
  },
  {
   "cell_type": "markdown",
   "metadata": {},
   "source": [
    "### 9.2.2 给属性指定默认值"
   ]
  },
  {
   "cell_type": "code",
   "execution_count": 9,
   "metadata": {},
   "outputs": [
    {
     "name": "stdout",
     "output_type": "stream",
     "text": [
      "2016 Audi A4\n",
      "This car has 0 miles on it.\n"
     ]
    }
   ],
   "source": [
    "class Car():\n",
    "    def __init__(self,make,model, year):\n",
    "        self.make=make\n",
    "        self.model=model\n",
    "        self.year=year\n",
    "        self.odometer_reading = 0\n",
    "        \n",
    "    def get_descriptive_name(self):\n",
    "        long_name=str(self.year)+' '+self.make + ' ' + self.model\n",
    "        return long_name.title()\n",
    "    \n",
    "    def read_odometer(self):\n",
    "        print(\"This car has \" + str(self.odometer_reading) + \" miles on it.\")\n",
    "        \n",
    "my_new_car=Car('audi','a4',2016)\n",
    "print(my_new_car.get_descriptive_name())\n",
    "my_new_car.read_odometer()"
   ]
  },
  {
   "cell_type": "markdown",
   "metadata": {},
   "source": [
    "### 9.2.3 修改属性的值"
   ]
  },
  {
   "cell_type": "markdown",
   "metadata": {},
   "source": [
    "可以以三种不同的方式修改属性的值：直接通过实例进行修改；通过方法进行设置；通过方\n",
    "法进行递增（增加特定的值）。下面依次介绍这些方法。"
   ]
  },
  {
   "cell_type": "markdown",
   "metadata": {},
   "source": [
    "#### 1. 直接修改属性的值\n",
    "要修改属性的值，最简单的方式是通过实例直接访问它。"
   ]
  },
  {
   "cell_type": "code",
   "execution_count": 10,
   "metadata": {},
   "outputs": [
    {
     "name": "stdout",
     "output_type": "stream",
     "text": [
      "2016 Audi A4\n",
      "This car has 23 miles on it.\n"
     ]
    }
   ],
   "source": [
    "class Car():\n",
    "    def __init__(self,make,model, year):\n",
    "        self.make=make\n",
    "        self.model=model\n",
    "        self.year=year\n",
    "        self.odometer_reading = 0\n",
    "        \n",
    "    def get_descriptive_name(self):\n",
    "        long_name=str(self.year)+' '+self.make + ' ' + self.model\n",
    "        return long_name.title()\n",
    "    \n",
    "    def read_odometer(self):\n",
    "        print(\"This car has \" + str(self.odometer_reading) + \" miles on it.\")\n",
    "        \n",
    "my_new_car=Car('audi','a4',2016)\n",
    "print(my_new_car.get_descriptive_name())\n",
    "my_new_car.odometer_reading = 23\n",
    "my_new_car.read_odometer()"
   ]
  },
  {
   "cell_type": "markdown",
   "metadata": {},
   "source": [
    "#### 2. 通过方法修改属性的值\n",
    "如果有替你更新属性的方法，将大有裨益。这样，你就无需直接访问属性，而可将值传递给\n",
    "一个方法，由它在内部进行更新。"
   ]
  },
  {
   "cell_type": "code",
   "execution_count": 11,
   "metadata": {},
   "outputs": [
    {
     "name": "stdout",
     "output_type": "stream",
     "text": [
      "2016 Audi A4\n",
      "This car has 23 miles on it.\n"
     ]
    }
   ],
   "source": [
    "class Car():\n",
    "    def __init__(self,make,model, year):\n",
    "        self.make=make\n",
    "        self.model=model\n",
    "        self.year=year\n",
    "        self.odometer_reading = 0\n",
    "        \n",
    "    def get_descriptive_name(self):\n",
    "        long_name=str(self.year)+' '+self.make + ' ' + self.model\n",
    "        return long_name.title()\n",
    "    \n",
    "    def read_odometer(self):\n",
    "        print(\"This car has \" + str(self.odometer_reading) + \" miles on it.\")\n",
    "        \n",
    "    def update_odometer(self,mileage):\n",
    "        if mileage >= self.odometer_reading:\n",
    "            self.odometer_reading = mileage\n",
    "        else:\n",
    "            print(\"You can't roll back an odometer!\")\n",
    "        \n",
    "my_new_car=Car('audi','a4',2016)\n",
    "print(my_new_car.get_descriptive_name())\n",
    "my_new_car.update_odometer(23)\n",
    "my_new_car.read_odometer()"
   ]
  },
  {
   "cell_type": "markdown",
   "metadata": {},
   "source": [
    "#### 3. 通过方法对属性的值进行递增\n",
    "有时候需要将属性值递增特定的量，而不是将其设置为全新的值。"
   ]
  },
  {
   "cell_type": "code",
   "execution_count": 12,
   "metadata": {},
   "outputs": [
    {
     "name": "stdout",
     "output_type": "stream",
     "text": [
      "2016 Audi A4\n",
      "This car has 23500 miles on it.\n",
      "This car has 23600 miles on it.\n"
     ]
    }
   ],
   "source": [
    "class Car():\n",
    "    def __init__(self,make,model, year):\n",
    "        self.make=make\n",
    "        self.model=model\n",
    "        self.year=year\n",
    "        self.odometer_reading = 0\n",
    "        \n",
    "    def get_descriptive_name(self):\n",
    "        long_name=str(self.year)+' '+self.make + ' ' + self.model\n",
    "        return long_name.title()\n",
    "    \n",
    "    def read_odometer(self):\n",
    "        print(\"This car has \" + str(self.odometer_reading) + \" miles on it.\")\n",
    "        \n",
    "    def update_odometer(self,mileage):\n",
    "        if mileage >= self.odometer_reading:\n",
    "            self.odometer_reading = mileage\n",
    "        else:\n",
    "            print(\"You can't roll back an odometer!\")\n",
    "            \n",
    "    def increment_odometer(self,miles):\n",
    "        self.odometer_reading += miles\n",
    "        \n",
    "my_used_car=Car('subaru','outback',2013)\n",
    "print(my_new_car.get_descriptive_name())\n",
    "\n",
    "my_used_car.update_odometer(23500)\n",
    "my_used_car.read_odometer()\n",
    "\n",
    "my_used_car.increment_odometer(100)\n",
    "my_used_car.read_odometer()"
   ]
  },
  {
   "cell_type": "markdown",
   "metadata": {},
   "source": [
    "## 9.3 继承\n",
    "编写类时，并非总是要从空白开始。如果你要编写的类是另一个现成类的特殊版本，可使用\n",
    "继承。一个类继承另一个类时，它将自动获得另一个类的所有属性和方法；原有的类称为父类，\n",
    "而新类称为子类。子类继承了其父类的所有属性和方法，同时还可以定义自己的属性和方法。"
   ]
  },
  {
   "cell_type": "markdown",
   "metadata": {},
   "source": [
    "### 9.3.1 子类的方法__init__()\n",
    "创建子类的实例时， Python首先需要完成的任务是给父类的所有属性赋值。为此，子类的方\n",
    "法__init__()需要父类施以援手。"
   ]
  },
  {
   "cell_type": "code",
   "execution_count": 13,
   "metadata": {},
   "outputs": [
    {
     "name": "stdout",
     "output_type": "stream",
     "text": [
      "2016 Tesla Model S\n"
     ]
    }
   ],
   "source": [
    "class Car():\n",
    "    def __init__(self,make,model, year):\n",
    "        self.make=make\n",
    "        self.model=model\n",
    "        self.year=year\n",
    "        self.odometer_reading = 0\n",
    "        \n",
    "    def get_descriptive_name(self):\n",
    "        long_name=str(self.year)+' '+self.make + ' ' + self.model\n",
    "        return long_name.title()\n",
    "    \n",
    "    def read_odometer(self):\n",
    "        print(\"This car has \" + str(self.odometer_reading) + \" miles on it.\")\n",
    "        \n",
    "    def update_odometer(self,mileage):\n",
    "        if mileage >= self.odometer_reading:\n",
    "            self.odometer_reading = mileage\n",
    "        else:\n",
    "            print(\"You can't roll back an odometer!\")\n",
    "            \n",
    "    def increment_odometer(self,miles):\n",
    "        self.odometer_reading += miles\n",
    "        \n",
    "class ElectricCar(Car):\n",
    "    def __init__(self, make, model, year):\n",
    "        super().__init__(make,model,year)\n",
    "        \n",
    "my_tesla = ElectricCar('tesla','model s',2016)\n",
    "print(my_tesla.get_descriptive_name())"
   ]
  },
  {
   "cell_type": "markdown",
   "metadata": {},
   "source": [
    "### 9.3.3 给子类定义属性和方法\n",
    "让一个类继承另一个类后，可添加区分子类和父类所需的新属性和方法。"
   ]
  },
  {
   "cell_type": "code",
   "execution_count": 14,
   "metadata": {},
   "outputs": [
    {
     "name": "stdout",
     "output_type": "stream",
     "text": [
      "2016 Tesla Model S\n",
      "This car has a 70-kWh battery.\n"
     ]
    }
   ],
   "source": [
    "class Car():\n",
    "    def __init__(self,make,model, year):\n",
    "        self.make=make\n",
    "        self.model=model\n",
    "        self.year=year\n",
    "        self.odometer_reading = 0\n",
    "        \n",
    "    def get_descriptive_name(self):\n",
    "        long_name=str(self.year)+' '+self.make + ' ' + self.model\n",
    "        return long_name.title()\n",
    "    \n",
    "    def read_odometer(self):\n",
    "        print(\"This car has \" + str(self.odometer_reading) + \" miles on it.\")\n",
    "        \n",
    "    def update_odometer(self,mileage):\n",
    "        if mileage >= self.odometer_reading:\n",
    "            self.odometer_reading = mileage\n",
    "        else:\n",
    "            print(\"You can't roll back an odometer!\")\n",
    "            \n",
    "    def increment_odometer(self,miles):\n",
    "        self.odometer_reading += miles\n",
    "        \n",
    "class ElectricCar(Car):\n",
    "    def __init__(self, make, model, year):\n",
    "        super().__init__(make,model,year)\n",
    "        self.battery_size = 70\n",
    "    def describe_battery(self):\n",
    "        print(\"This car has a \" + str(self.battery_size) + \"-kWh battery.\")\n",
    "        \n",
    "my_tesla = ElectricCar('tesla','model s',2016)\n",
    "print(my_tesla.get_descriptive_name())\n",
    "my_tesla.describe_battery()"
   ]
  },
  {
   "cell_type": "markdown",
   "metadata": {},
   "source": [
    "### 9.3.4 重写父类的方法\n",
    "对于父类的方法，只要它不符合子类模拟的实物的行为，都可对其进行重写。为此，可在子\n",
    "类中定义一个这样的方法，即它与要重写的父类方法同名。这样， Python将不会考虑这个父类方\n",
    "法，而只关注你在子类中定义的相应方法。"
   ]
  },
  {
   "cell_type": "markdown",
   "metadata": {},
   "source": [
    "### 9.3.5 将实例用作属性\n",
    "使用代码模拟实物时，你可能会发现自己给类添加的细节越来越多：属性和方法清单以及文\n",
    "件都越来越长。在这种情况下，可能需要将类的一部分作为一个独立的类提取出来。你可以将大\n",
    "型类拆分成多个协同工作的小类。"
   ]
  },
  {
   "cell_type": "code",
   "execution_count": 15,
   "metadata": {},
   "outputs": [
    {
     "name": "stdout",
     "output_type": "stream",
     "text": [
      "2016 Tesla Model S\n",
      "这辆车大约有 70千瓦时容量.\n",
      "这辆车充满电大约能行驶240里\n"
     ]
    }
   ],
   "source": [
    "class Car():\n",
    "    def __init__(self,make,model, year):\n",
    "        self.make=make\n",
    "        self.model=model\n",
    "        self.year=year\n",
    "        self.odometer_reading = 0\n",
    "        \n",
    "    def get_descriptive_name(self):\n",
    "        long_name=str(self.year)+' '+self.make + ' ' + self.model\n",
    "        return long_name.title()\n",
    "    \n",
    "    def read_odometer(self):\n",
    "        print(\"This car has \" + str(self.odometer_reading) + \" miles on it.\")\n",
    "        \n",
    "    def update_odometer(self,mileage):\n",
    "        if mileage >= self.odometer_reading:\n",
    "            self.odometer_reading = mileage\n",
    "        else:\n",
    "            print(\"You can't roll back an odometer!\")\n",
    "            \n",
    "    def increment_odometer(self,miles):\n",
    "        self.odometer_reading += miles\n",
    "        \n",
    "class Battery():\n",
    "    \"\"\" 一次模拟电动汽车的简单测试\"\"\"\n",
    "    \n",
    "    def __init__(self,battery_size=70):\n",
    "        \"\"\"初始化电瓶的属性\"\"\"\n",
    "        self.battery_size = battery_size\n",
    "        \n",
    "    def describe_battery(self):\n",
    "        \"\"\"打印一条描述电瓶容量的消息\"\"\"\n",
    "        print(\"这辆车大约有 \" + str(self.battery_size) + \"千瓦时容量.\")\n",
    "        \n",
    "    def get_range(self):\n",
    "        \"\"\"打印一条信息，指出电瓶的续航里程\"\"\"\n",
    "        if self.battery_size == 70:\n",
    "            range = 240\n",
    "        elif self.battery_size == 85:\n",
    "            range = 270\n",
    "        \n",
    "        message = \"这辆车充满电大约能行驶\" + str(range) + '里'\n",
    "        print(message)\n",
    "        \n",
    "class ElectricCar(Car):\n",
    "    def __init__(self, make, model, year):\n",
    "        super().__init__(make,model,year)\n",
    "        self.battery = Battery()\n",
    "        \n",
    "my_tesla = ElectricCar('tesla', 'model s', 2016)\n",
    "print(my_tesla.get_descriptive_name())\n",
    "my_tesla.battery.describe_battery() \n",
    "my_tesla.battery.get_range()"
   ]
  },
  {
   "cell_type": "markdown",
   "metadata": {},
   "source": [
    "### 9.3.6 模拟实物\n",
    "模拟较复杂的物件（如电动汽车）时，需要解决一些有趣的问题。续航里程是电瓶的属性还\n",
    "是汽车的属性呢？如果我们只需描述一辆汽车，那么将方法get_range()放在Battery类中也许是合\n",
    "适的；但如果要描述一家汽车制造商的整个产品线，也许应该将方法get_range()移到ElectricCar\n",
    "类中。在这种情况下， get_range()依然根据电瓶容量来确定续航里程，但报告的是一款汽车的续\n",
    "航里程。我们也可以这样做：将方法get_range()还留在Battery类中，但向它传递一个参数，如\n",
    "car_model；在这种情况下，方法get_range()将根据电瓶容量和汽车型号报告续航里程。\n",
    "\n",
    "这让你进入了程序员的另一个境界：解决上述问题时，你从较高的逻辑层面（而不是语法层\n",
    "面）考虑；你考虑的不是Python，而是如何使用代码来表示实物。到达这种境界后，你经常会发\n",
    "现，现实世界的建模方法并没有对错之分。有些方法的效率更高，但要找出效率最高的表示法，\n",
    "需要经过一定的实践。只要代码像你希望的那样运行，就说明你做得很好！即便你发现自己不得\n",
    "不多次尝试使用不同的方法来重写类，也不必气馁；要编写出高效、准确的代码，都得经过这样\n",
    "的过程。"
   ]
  },
  {
   "cell_type": "markdown",
   "metadata": {},
   "source": [
    "## 9.4 导入类\n",
    "随着你不断地给类添加功能，文件可能变得很长，即便你妥善地使用了继承亦如此。为遵循\n",
    "Python的总体理念，应让文件尽可能整洁。为在这方面提供帮助， Python允许你将类存储在模块\n",
    "中，然后在主程序中导入所需的模块。"
   ]
  },
  {
   "cell_type": "markdown",
   "metadata": {},
   "source": [
    "### 9.4.1 导入单个类\n",
    "下面来创建一个只包含Car类的模块。"
   ]
  },
  {
   "cell_type": "code",
   "execution_count": 16,
   "metadata": {
    "collapsed": true
   },
   "outputs": [],
   "source": [
    "from car import Car"
   ]
  },
  {
   "cell_type": "code",
   "execution_count": 17,
   "metadata": {},
   "outputs": [
    {
     "name": "stdout",
     "output_type": "stream",
     "text": [
      "2016 Audi A4\n",
      "This car has 23 miles on it.\n"
     ]
    }
   ],
   "source": [
    "my_new_car = Car('audi','a4',2016)\n",
    "print(my_new_car.get_descriptive_name())\n",
    "\n",
    "my_new_car.odometer_reading = 23\n",
    "my_new_car.read_odometer()"
   ]
  },
  {
   "cell_type": "markdown",
   "metadata": {},
   "source": [
    "导入类是一种有效的编程方式。如果在这个程序中包含了整个Car类，它该有多长呀！通过\n",
    "将这个类移到一个模块中，并导入该模块，你依然可以使用其所有功能，但主程序文件变得整洁\n",
    "而易于阅读了。这还能让你将大部分逻辑存储在独立的文件中；确定类像你希望的那样工作后，\n",
    "你就可以不管这些文件，而专注于主程序的高级逻辑了。"
   ]
  },
  {
   "cell_type": "markdown",
   "metadata": {},
   "source": [
    "### 9.4.2 在一个模块中存储多个类\n",
    "虽然同一个模块中的类之间应存在某种相关性，但可根据需要在一个模块中存储任意数量的\n",
    "类。"
   ]
  },
  {
   "cell_type": "code",
   "execution_count": 18,
   "metadata": {},
   "outputs": [
    {
     "name": "stdout",
     "output_type": "stream",
     "text": [
      "2016 Tesla Model S\n",
      "这辆车大约有 70千瓦时容量.\n",
      "这辆车充满电大约能行驶240里\n"
     ]
    }
   ],
   "source": [
    "from car import *\n",
    "\n",
    "my_tesla = ElectricCar('tesla','model s', 2016)\n",
    "\n",
    "print(my_tesla.get_descriptive_name())\n",
    "my_tesla.battery.describe_battery()\n",
    "my_tesla.battery.get_range()"
   ]
  },
  {
   "cell_type": "markdown",
   "metadata": {},
   "source": [
    "### 9.4.4 导入整个模块\n",
    "你还可以导入整个模块，再使用句点表示法访问需要的类。这种导入方法很简单，代码也易\n",
    "于阅读。由于创建类实例的代码都包含模块名，因此不会与当前文件使用的任何名称发生冲突。"
   ]
  },
  {
   "cell_type": "code",
   "execution_count": 19,
   "metadata": {
    "collapsed": true
   },
   "outputs": [],
   "source": [
    "import car"
   ]
  },
  {
   "cell_type": "code",
   "execution_count": 20,
   "metadata": {},
   "outputs": [
    {
     "name": "stdout",
     "output_type": "stream",
     "text": [
      "2016 Volkswagen Beetle\n"
     ]
    }
   ],
   "source": [
    "my_beetle = car.Car('volkswagen','beetle', 2016)\n",
    "print(my_beetle.get_descriptive_name())\n",
    "\n",
    "# my_tesla = car.ElectricCar('tesla','roadster', 2016)\n",
    "# print(my_tesla.get_descriptive_name())"
   ]
  },
  {
   "cell_type": "markdown",
   "metadata": {},
   "source": [
    "### 9.4.5 导入模块中的所有类\n",
    "要导入模块中的每个类，可使用下面的语法："
   ]
  },
  {
   "cell_type": "code",
   "execution_count": 21,
   "metadata": {
    "collapsed": true
   },
   "outputs": [],
   "source": [
    "from car import *"
   ]
  },
  {
   "cell_type": "markdown",
   "metadata": {},
   "source": [
    "不推荐使用这种导入方式，其原因有二。首先，如果只要看一下文件开头的import语句，就\n",
    "能清楚地知道程序使用了哪些类，将大有裨益；但这种导入方式没有明确地指出你使用了模块中\n",
    "的哪些类。这种导入方式还可能引发名称方面的困惑。如果你不小心导入了一个与程序文件中其\n",
    "他东西同名的类，将引发难以诊断的错误。这里之所以介绍这种导入方式，是因为虽然不推荐使\n",
    "用这种方式，但你可能会在别人编写的代码中见到它。\n",
    "\n",
    "需要从一个模块中导入很多类时，最好导入整个模块，并使用module_name.class_name语法\n",
    "来访问类。这样做时，虽然文件开头并没有列出用到的所有类，但你清楚地知道在程序的哪些地\n",
    "方使用了导入的模块；你还避免了导入模块中的每个类可能引发的名称冲突"
   ]
  },
  {
   "cell_type": "markdown",
   "metadata": {},
   "source": [
    "### 9.4.6 在一个模块中导入另一个模块\n",
    "有时候，需要将类分散到多个模块中，以免模块太大，或在同一个模块中存储不相关的类。\n",
    "将类存储在多个模块中时，你可能会发现一个模块中的类依赖于另一个模块中的类。在这种情况\n",
    "下，可在前一个模块中导入必要的类。"
   ]
  },
  {
   "cell_type": "markdown",
   "metadata": {},
   "source": [
    "### 9.4.7 自定义工作流程\n",
    "正如你看到的，在组织大型项目的代码方面， Python提供了很多选项。熟悉所有这些选项很\n",
    "重要，这样你才能确定哪种项目组织方式是最佳的，并能理解别人开发的项目。\n",
    "\n",
    "一开始应让代码结构尽可能简单。先尽可能在一个文件中完成所有的工作，确定一切都能正确运行后，再将类移到独立的模块中。如果你喜欢模块和文件的交互方式，可在项目开始时就尝\n",
    "试将类存储到模块中。先找出让你能够编写出可行代码的方式，再尝试让代码更为组织有序。"
   ]
  },
  {
   "cell_type": "markdown",
   "metadata": {},
   "source": [
    "## 9.5 Python 标准库\n",
    "Python标准库是一组模块，安装的Python都包含它。你现在对类的工作原理已有大致的了解，\n",
    "可以开始使用其他程序员编写好的模块了。可使用标准库中的任何函数和类，为此只需在程序开\n",
    "头包含一条简单的import语句。下面来看模块collections中的一个类——OrderedDict。\n",
    "\n",
    "字典让你能够将信息关联起来，但它们不记录你添加键—值对的顺序。要创建字典并记录其\n",
    "中的键—值对的添加顺序，可使用模块collections中的OrderedDict类。 OrderedDict实例的行为\n",
    "几乎与字典相同，区别只在于记录了键—值对的添加顺序。"
   ]
  },
  {
   "cell_type": "code",
   "execution_count": 22,
   "metadata": {},
   "outputs": [
    {
     "name": "stdout",
     "output_type": "stream",
     "text": [
      "Jen's favorite language is Python.\n",
      "Sarah's favorite language is C.\n",
      "Edward's favorite language is Ruby.\n",
      "Phil's favorite language is Python.\n"
     ]
    }
   ],
   "source": [
    "from collections import OrderedDict\n",
    "\n",
    "favorite_languages = OrderedDict()\n",
    "\n",
    "favorite_languages['jen'] = 'python'\n",
    "favorite_languages['sarah'] = 'c'\n",
    "favorite_languages['edward'] = 'ruby'\n",
    "favorite_languages['phil'] = 'python'\n",
    "\n",
    "for name,language in favorite_languages.items():\n",
    "    print(name.title() + \"'s favorite language is \"  + language.title() + '.')"
   ]
  },
  {
   "cell_type": "markdown",
   "metadata": {},
   "source": [
    "## 9.6 类编码风格\n",
    "你必须熟悉有些与类相关的编码风格问题，在你编写的程序较复杂时尤其如此。\n",
    "\n",
    "类名应采用驼峰命名法，即将类名中的每个单词的首字母都大写，而不使用下划线。实例名\n",
    "和模块名都采用小写格式，并在单词之间加上下划线。\n",
    "\n",
    "对于每个类，都应紧跟在类定义后面包含一个文档字符串。这种文档字符串简要地描述类的\n",
    "功能，并遵循编写函数的文档字符串时采用的格式约定。每个模块也都应包含一个文档字符串，\n",
    "对其中的类可用于做什么进行描述。\n",
    "\n",
    "可使用空行来组织代码，但不要滥用。在类中，可使用一个空行来分隔方法；而在模块中，\n",
    "可使用两个空行来分隔类。\n",
    "\n",
    "需要同时导入标准库中的模块和你编写的模块时，先编写导入标准库模块的import语句，再\n",
    "添加一个空行，然后编写导入你自己编写的模块的import语句。在包含多条import语句的程序中，\n",
    "这种做法让人更容易明白程序使用的各个模块都来自何方"
   ]
  },
  {
   "cell_type": "markdown",
   "metadata": {},
   "source": [
    "# 第10章 文件和异常"
   ]
  },
  {
   "cell_type": "markdown",
   "metadata": {},
   "source": [
    "## 10.1 从文件中读取数据\n",
    "文本文件可存储的数据量多得难以置信：天气数据、交通数据、社会经济数据、文学作品等。\n",
    "每当需要分析或修改存储在文件中的信息时，读取文件都很有用，对数据分析应用程序来说尤其\n",
    "如此。例如，你可以编写一个这样的程序：读取一个文本文件的内容，重新设置这些数据的格式\n",
    "并将其写入文件，让浏览器能够显示这些内容。\n",
    "\n",
    "要使用文本文件中的信息，首先需要将信息读取到内存中。为此，你可以一次性读取文件的\n",
    "全部内容，也可以以每次一行的方式逐步读取。"
   ]
  },
  {
   "cell_type": "markdown",
   "metadata": {},
   "source": [
    "### 10.1.1 读取整个文件\n",
    "要读取文件，需要一个包含几行文本的文件。下面首先来创建一个文件，它包含精确到小数\n",
    "点后30位的圆周率值，且在小数点后每10位处都换行"
   ]
  },
  {
   "cell_type": "code",
   "execution_count": 23,
   "metadata": {},
   "outputs": [
    {
     "name": "stdout",
     "output_type": "stream",
     "text": [
      "3.1415926535\n",
      "  8979323846\n",
      "  2643383279\n"
     ]
    }
   ],
   "source": [
    "with open('pi_digits.txt') as file_object:\n",
    "    contents = file_object.read()\n",
    "    print(contents)"
   ]
  },
  {
   "cell_type": "markdown",
   "metadata": {},
   "source": [
    "相比于原始文件，该输出唯一不同的地方是末尾多了一个空行。为何会多出这个空行呢？因\n",
    "为read()到达文件末尾时返回一个空字符串，而将这个空字符串显示出来时就是一个空行。要删\n",
    "除多出来的空行，可在print语句中使用rstrip()"
   ]
  },
  {
   "cell_type": "code",
   "execution_count": 24,
   "metadata": {},
   "outputs": [
    {
     "name": "stdout",
     "output_type": "stream",
     "text": [
      "3.1415926535\n",
      "  8979323846\n",
      "  2643383279\n"
     ]
    }
   ],
   "source": [
    "with open('pi_digits.txt') as file_object:\n",
    "    contents = file_object.read()\n",
    "    print(contents.rstrip())"
   ]
  },
  {
   "cell_type": "markdown",
   "metadata": {},
   "source": [
    "### 10.1.2 文件路径\n",
    "当你将类似pi_digits.txt这样的简单文件名传递给函数open()时， Python将在当前执行的文件\n",
    "（即.py程序文件）所在的目录中查找文件。\n",
    "\n",
    "根据你组织文件的方式，有时可能要打开不在程序文件所属目录中的文件。例如，你可能将\n",
    "程序文件存储在了文件夹python_work中，而在文件夹python_work中，有一个名为text_files的文\n",
    "件夹，用于存储程序文件操作的文本文件。虽然文件夹text_files包含在文件夹python_work中，但\n",
    "仅向open()传递位于该文件夹中的文件的名称也不可行，因为Python只在文件夹python_work中查\n",
    "找，而不会在其子文件夹text_files中查找。要让Python打开不与程序文件位于同一个目录中的文\n",
    "件，需要提供文件路径，它让Python到系统的特定位置去查找。\n",
    "\n",
    "由于文件夹text_files位于文件夹python_work中，因此可使用相对文件路径来打开该文件夹中\n",
    "的文件。相对文件路径让Python到指定的位置去查找，而该位置是相对于当前运行的程序所在目\n",
    "录的。\n",
    "\n",
    "你还可以将文件在计算机中的准确位置告诉Python，这样就不用关心当前运行的程序存储在\n",
    "什么地方了。这称为绝对文件路径。在相对路径行不通时，可使用绝对路径。例如，如果text_files\n",
    "并不在文件夹python_work中，而在文件夹other_files中，则向open()传递路径'text_files/\n",
    "filename.txt'行不通，因为Python只在文件夹python_work中查找该位置。为明确地指出你希望\n",
    "Python到哪里去查找，你需要提供完整的路径。\n",
    "\n",
    "绝对路径通常比相对路径更长，因此将其存储在一个变量中，再将该变量传递给open()会有\n",
    "所帮助。"
   ]
  },
  {
   "cell_type": "markdown",
   "metadata": {},
   "source": [
    "### 10.1.3 逐行读取\n",
    "读取文件时，常常需要检查其中的每一行：你可能要在文件中查找特定的信息，或者要以\n",
    "某种方式修改文件中的文本。\n",
    "\n",
    "要以每次一行的方式检查文件，可对文件对象使用for循环："
   ]
  },
  {
   "cell_type": "code",
   "execution_count": 25,
   "metadata": {},
   "outputs": [
    {
     "name": "stdout",
     "output_type": "stream",
     "text": [
      "3.1415926535\n",
      "\n",
      "  8979323846\n",
      "\n",
      "  2643383279\n"
     ]
    }
   ],
   "source": [
    "with open('pi_digits.txt') as file_object:\n",
    "    for line in file_object:\n",
    "        print(line)"
   ]
  },
  {
   "cell_type": "code",
   "execution_count": 26,
   "metadata": {},
   "outputs": [
    {
     "name": "stdout",
     "output_type": "stream",
     "text": [
      "3.1415926535\n",
      "  8979323846\n",
      "  2643383279\n"
     ]
    }
   ],
   "source": [
    "with open('pi_digits.txt') as file_object:\n",
    "    for line in file_object:\n",
    "        print(line.rstrip())"
   ]
  },
  {
   "cell_type": "markdown",
   "metadata": {},
   "source": [
    "### 10.1.4 创建一个包含文件各行内容的列表\n",
    "使用关键字with时， open()返回的文件对象只在with代码块内可用。如果要在with代码块外\n",
    "访问文件的内容，可在with代码块内将文件的各行存储在一个列表中，并在with代码块外使用该\n",
    "列表：你可以立即处理文件的各个部分，也可推迟到程序后面再处理。"
   ]
  },
  {
   "cell_type": "code",
   "execution_count": 27,
   "metadata": {},
   "outputs": [
    {
     "name": "stdout",
     "output_type": "stream",
     "text": [
      "3.1415926535\n",
      "  8979323846\n",
      "  2643383279\n"
     ]
    }
   ],
   "source": [
    "with open('pi_digits.txt') as file_object:\n",
    "    lines = file_object.readlines()\n",
    "    \n",
    "for line in lines:\n",
    "    print(line.rstrip())"
   ]
  },
  {
   "cell_type": "markdown",
   "metadata": {},
   "source": [
    "readlines()从文件中读取每一行，并将其存储在一个列表中"
   ]
  },
  {
   "cell_type": "markdown",
   "metadata": {},
   "source": [
    "### 10.1.5 使用文件的内容\n",
    "将文件读取到内存中后，就可以以任何方式使用这些数据了。下面以简单的方式使用圆周率\n",
    "的值。首先，我们将创建一个字符串，它包含文件中存储的所有数字，且没有任何空格"
   ]
  },
  {
   "cell_type": "code",
   "execution_count": 28,
   "metadata": {},
   "outputs": [
    {
     "name": "stdout",
     "output_type": "stream",
     "text": [
      "3.1415926535  8979323846  2643383279\n",
      "36\n"
     ]
    }
   ],
   "source": [
    "filename = 'pi_digits.txt'\n",
    "\n",
    "with open(filename) as file_object:\n",
    "    lines = file_object.readlines()\n",
    "\n",
    "pi_string = ''\n",
    "for line in lines:\n",
    "    pi_string += line.rstrip()\n",
    "    \n",
    "print(pi_string)\n",
    "print(len(pi_string))"
   ]
  },
  {
   "cell_type": "markdown",
   "metadata": {},
   "source": [
    "在变量pi_string存储的字符串中，包含原来位于每行左边的空格，为删除这些空格，可使\n",
    "用strip()而不是rstrip()"
   ]
  },
  {
   "cell_type": "code",
   "execution_count": 29,
   "metadata": {},
   "outputs": [
    {
     "name": "stdout",
     "output_type": "stream",
     "text": [
      "3.141592653589793238462643383279\n",
      "32\n"
     ]
    }
   ],
   "source": [
    "filename = 'pi_digits.txt'\n",
    "\n",
    "with open(filename) as file_object:\n",
    "    lines = file_object.readlines()\n",
    "\n",
    "pi_string = ''\n",
    "for line in lines:\n",
    "    pi_string += line.strip()\n",
    "    \n",
    "print(pi_string)\n",
    "print(len(pi_string))"
   ]
  },
  {
   "cell_type": "code",
   "execution_count": null,
   "metadata": {},
   "outputs": [],
   "source": [
    "filename = 'pi_w_digits.txt'\n",
    "\n",
    "with open(filename) as file_object:\n",
    "    lines = file_object.readlines()\n",
    "\n",
    "pi_string = ''\n",
    "for line in lines:\n",
    "    pi_string += line.strip()\n",
    "\n",
    "print(pi_string[:52] + \"...\")\n",
    "print(len(pi_string))"
   ]
  },
  {
   "cell_type": "markdown",
   "metadata": {
    "collapsed": true
   },
   "source": [
    "### 10.1.7 圆周率值中包含你的生日吗"
   ]
  },
  {
   "cell_type": "markdown",
   "metadata": {},
   "source": [
    "## 10.2 写入文件"
   ]
  },
  {
   "cell_type": "markdown",
   "metadata": {},
   "source": [
    "### 10.2.1 写入空文件"
   ]
  },
  {
   "cell_type": "markdown",
   "metadata": {},
   "source": [
    "要将文本写入文件，你在调用open()时需要提供另一个实参，告诉Python你要写入打开的文\n",
    "件。为明白其中的工作原理，我们来将一条简单的消息存储到文件中，而不是将其打印到屏幕上："
   ]
  },
  {
   "cell_type": "code",
   "execution_count": null,
   "metadata": {
    "collapsed": true
   },
   "outputs": [],
   "source": [
    "filename = 'programming.txt'\n",
    "\n",
    "with open(filename,'w') as file_object:\n",
    "    file_object.write('I love programming!')"
   ]
  },
  {
   "cell_type": "markdown",
   "metadata": {},
   "source": [
    "在这个示例中，调用open()时提供了两个实参（见Ø）。第一个实参也是要打开的文件的名称；\n",
    "第二个实参（'w'）告诉Python，我们要以写入模式打开这个文件。打开文件时，可指定读取模\n",
    "式（'r'）、 写入模式（'w'）、 附加模式（'a'）或让你能够读取和写入文件的模式（'r+'）。如果\n",
    "你省略了模式实参， Python将以默认的只读模式打开文件。\n",
    "如果你要写入的文件不存在，函数open()将自动创建它。然而，以写入（'w'）模式打开文\n",
    "件时千万要小心，因为如果指定的文件已经存在， Python将在返回文件对象前清空该文件。"
   ]
  },
  {
   "cell_type": "markdown",
   "metadata": {},
   "source": [
    "### 10.2.2 写入多行"
   ]
  },
  {
   "cell_type": "code",
   "execution_count": null,
   "metadata": {
    "collapsed": true
   },
   "outputs": [],
   "source": [
    "filename = 'programming.txt'\n",
    "\n",
    "with open(filename,'w') as file_object:\n",
    "    file_object.write('I love programming!\\n')\n",
    "    file_object.write('I love creating new games.\\n')"
   ]
  },
  {
   "cell_type": "markdown",
   "metadata": {},
   "source": [
    "### 10.2.3 附加到文件"
   ]
  },
  {
   "cell_type": "markdown",
   "metadata": {},
   "source": [
    "如果你要给文件添加内容，而不是覆盖原有的内容，可以附加模式打开文件。你以附加模式\n",
    "打开文件时， Python不会在返回文件对象前清空文件，而你写入到文件的行都将添加到文件末尾。\n",
    "如果指定的文件不存在， Python将为你创建一个空文件。"
   ]
  },
  {
   "cell_type": "code",
   "execution_count": null,
   "metadata": {
    "collapsed": true
   },
   "outputs": [],
   "source": [
    "filename = 'programming.txt'\n",
    "\n",
    "with open(filename,'a') as file_object:\n",
    "    file_object.write(\"I also love finding menaing in large datasets.\\n\")\n",
    "    file_object.write(\"I love creating apps that can run in a browser.\\n\")"
   ]
  },
  {
   "cell_type": "markdown",
   "metadata": {},
   "source": [
    "## 10.3 异常"
   ]
  },
  {
   "cell_type": "markdown",
   "metadata": {},
   "source": [
    "Python使用被称为异常的特殊对象来管理程序执行期间发生的错误。每当发生让Python不知\n",
    "所措的错误时，它都会创建一个异常对象。如果你编写了处理该异常的代码，程序将继续运行；\n",
    "如果你未对异常进行处理，程序将停止，并显示一个traceback，其中包含有关异常的报告。\n",
    "异常是使用try-except代码块处理的。 try-except代码块让Python执行指定的操作，同时告\n",
    "诉Python发生异常时怎么办。使用了try-except代码块时，即便出现异常，程序也将继续运行：\n",
    "显示你编写的友好的错误消息，而不是令用户迷惑的traceback。"
   ]
  },
  {
   "cell_type": "markdown",
   "metadata": {},
   "source": [
    "### 10.3.1 处理 ZeroDivisionError 异常"
   ]
  },
  {
   "cell_type": "markdown",
   "metadata": {},
   "source": [
    "### 10.3.2 使用 try-except 代码块"
   ]
  },
  {
   "cell_type": "markdown",
   "metadata": {},
   "source": [
    "当你认为可能发生了错误时，可编写一个try-except代码块来处理可能引发的异常。你让\n",
    "Python尝试运行一些代码，并告诉它如果这些代码引发了指定的异常，该怎么办。"
   ]
  },
  {
   "cell_type": "code",
   "execution_count": null,
   "metadata": {},
   "outputs": [],
   "source": [
    "try:\n",
    "    print(5/0)\n",
    "except ZeroDivisionError:\n",
    "    print(\"You can't divide by zero!\")"
   ]
  },
  {
   "cell_type": "markdown",
   "metadata": {},
   "source": [
    "### 10.3.3 使用异常避免崩溃\n",
    "发生错误时，如果程序还有工作没有完成，妥善地处理错误就尤其重要。这种情况经常会出\n",
    "现在要求用户提供输入的程序中；如果程序能够妥善地处理无效输入，就能再提示用户提供有效\n",
    "输入，而不至于崩溃。"
   ]
  },
  {
   "cell_type": "markdown",
   "metadata": {},
   "source": [
    "### 10.3.5 处理 FileNotFoundError 异常\n",
    "使用文件时，一种常见的问题是找不到文件：你要查找的文件可能在其他地方、文件名可能\n",
    "不正确或者这个文件根本就不存在。对于所有这些情形，都可使用try-except代码块以直观的方\n",
    "式进行处理。\n",
    "我们来尝试读取一个不存在的文件。下面的程序尝试读取文件alice.txt的内容，但我没有将\n",
    "这个文件存储在alice.py所在的目录中："
   ]
  },
  {
   "cell_type": "code",
   "execution_count": null,
   "metadata": {
    "collapsed": true
   },
   "outputs": [],
   "source": [
    "filename = 'alice.txt'\n",
    "with open(filename) as f_obj:\n",
    "    contents = f_obj.read()"
   ]
  },
  {
   "cell_type": "code",
   "execution_count": null,
   "metadata": {
    "collapsed": true
   },
   "outputs": [],
   "source": []
  }
 ],
 "metadata": {
  "kernelspec": {
   "display_name": "Python 3",
   "language": "python",
   "name": "python3"
  },
  "language_info": {
   "codemirror_mode": {
    "name": "ipython",
    "version": 3
   },
   "file_extension": ".py",
   "mimetype": "text/x-python",
   "name": "python",
   "nbconvert_exporter": "python",
   "pygments_lexer": "ipython3",
   "version": "3.6.3"
  }
 },
 "nbformat": 4,
 "nbformat_minor": 2
}
