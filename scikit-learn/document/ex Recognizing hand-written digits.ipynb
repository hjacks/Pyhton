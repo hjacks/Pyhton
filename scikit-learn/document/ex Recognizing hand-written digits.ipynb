{
 "cells": [
  {
   "cell_type": "code",
   "execution_count": null,
   "metadata": {},
   "outputs": [
    {
     "name": "stdout",
     "output_type": "stream",
     "text": [
      "Automatically created module for IPython interactive environment\n"
     ]
    }
   ],
   "source": [
    "print(__doc__)"
   ]
  },
  {
   "cell_type": "code",
   "execution_count": 2,
   "metadata": {
    "collapsed": true
   },
   "outputs": [],
   "source": [
    "# Standard scientific Python imports\n",
    "import matplotlib.pyplot as plt\n",
    "# Import datasets, classifiers and performance metrics\n",
    "from sklearn import datasets,metrics\n",
    "from sklearn import svm"
   ]
  },
  {
   "cell_type": "code",
   "execution_count": 3,
   "metadata": {
    "collapsed": true
   },
   "outputs": [],
   "source": [
    "# The digits dataset\n",
    "digits = datasets.load_digits()"
   ]
  },
  {
   "cell_type": "markdown",
   "metadata": {},
   "source": [
    "The data that we are interested in is made of 8x8 images of digits, let's\n",
    "have a look at the first 4 images, stored in the `images` attribute of the\n",
    "dataset.  \n",
    "\n",
    "If we were working from image files, we could load them using\n",
    " matplotlib.pyplot.imread.  Note that each image must have the same size. For these\n",
    "images, we know which digit they represent: it is given in the 'target' of\n",
    "the dataset."
   ]
  },
  {
   "cell_type": "code",
   "execution_count": 6,
   "metadata": {},
   "outputs": [
    {
     "ename": "SyntaxError",
     "evalue": "invalid syntax (<ipython-input-6-2448ac39296f>, line 14)",
     "traceback": [
      "\u001b[1;36m  File \u001b[1;32m\"<ipython-input-6-2448ac39296f>\"\u001b[1;36m, line \u001b[1;32m14\u001b[0m\n\u001b[1;33m    classifier=svm.SVC(gamma=0.001)\u001b[0m\n\u001b[1;37m             ^\u001b[0m\n\u001b[1;31mSyntaxError\u001b[0m\u001b[1;31m:\u001b[0m invalid syntax\n"
     ],
     "output_type": "error"
    }
   ],
   "source": [
    "images_and_labels = list(zip(digits.images,digits.target))\n",
    "for index,(image,label) in enumerate(images_and_labels[:4]):\n",
    "    plt.subplot(2,4,index+1)\n",
    "    plt.axis('off')\n",
    "    plt.imshow(image,cmap=plt.cm.gray_r,interpolation = 'nearest')\n",
    "    plt.title('Traning:%i' %label)\n",
    "\n",
    "# To apply a classifier on this data, we need to flatten the image, to\n",
    "# turn the data in a (samples, feature) matrix:\n",
    "n_samples = len(digits.images)\n",
    "data = digits.images.reshape((n_samples,-1)\n",
    "\n",
    "# Create a classifier: a support vector classifier\n",
    "classifier=svm.SVC(gamma=0.001)\n",
    "                                                       \n",
    "# We learn the digits on the first half of the digits\n",
    "classifier.fit(data[:n_samples//2],digits.target[:n_samples//2])  \n",
    "                             \n",
    "# Now predict the value of the digit on the second half:\n",
    "expected = digits.target[n_samples//2:]\n",
    "predicted = classifier.predict(data[n_samples//2:])\n",
    "\n",
    "print('Classification report for classifier %s:\\n%s\\n'\n",
    "      % (classifier,metrics.classification_report(expected,predicted)))\n",
    "\n",
    "print(\"Confusion matrix:\\n%s\" %metrics.confusion_matricx(expected,predicted))\n",
    "                             \n",
    "images_and_predictions = list(zip(digits.images[n_samples //2:],predicted))\n",
    "for index,(image,prediction) in enumerate(images_and_predictions[:4]):\n",
    "    plt.subplot(2,4,index+5)\n",
    "    plt.axis('off')\n",
    "    plt.imshow(image,cmap=plt.cm.gray_r,interpolation='nearest')\n",
    "    plt.title('Prediction:%i'%prediction)\n",
    "                             \n",
    "plt.show()"
   ]
  },
  {
   "cell_type": "code",
   "execution_count": null,
   "metadata": {
    "collapsed": true
   },
   "outputs": [],
   "source": []
  }
 ],
 "metadata": {
  "kernelspec": {
   "display_name": "Python 3",
   "language": "python",
   "name": "python3"
  },
  "language_info": {
   "codemirror_mode": {
    "name": "ipython",
    "version": 3
   },
   "file_extension": ".py",
   "mimetype": "text/x-python",
   "name": "python",
   "nbconvert_exporter": "python",
   "pygments_lexer": "ipython3",
   "version": "3.6.3"
  }
 },
 "nbformat": 4,
 "nbformat_minor": 2
}
