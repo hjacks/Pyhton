{
 "cells": [
  {
   "cell_type": "markdown",
   "metadata": {},
   "source": [
    "# 1 . 本节目标\n",
    "以知网的验证码为例，讲解利用 OCR 技术识别图形验证码的方法。"
   ]
  },
  {
   "cell_type": "markdown",
   "metadata": {},
   "source": [
    "# 2 . 准备工作\n",
    "识别图形验证码需要库 tesserocr。 安装此库可以参考第 l 章的安装说明 。\n",
    "# 3 . 获取验证码\n",
    "为了便于实验，我们先将验证码的图片保存到本地 。\n",
    "打开开发者士具，找到验证码元素 。 验证码元素是一张图片，它的 src 属性是 CheckCode.aspx。\n",
    "我们直接打开这个链接 http://my.cnki.net/elibregister/CheckCode.aspx ，就可以看到一个验证码，有键保\n",
    "存即可 ， 将其命名为 code.jpg，如图所示 。"
   ]
  },
  {
   "attachments": {
    "code.jpg": {
     "image/jpeg": "[encoded data removed]"
    }
   },
   "cell_type": "markdown",
   "metadata": {},
   "source": [
    "![code.jpg](attachment:code.jpg)"
   ]
  },
  {
   "attachments": {},
   "cell_type": "markdown",
   "metadata": {},
   "source": [
    "# 4. 识别测试\n",
    "接下来新建一个项目，将验证码图片放到项目根目录下，用 tesserocr 库识别该验证码，代码如下\n",
    "所示："
   ]
  },
  {
   "cell_type": "code",
   "execution_count": 3,
   "metadata": {},
   "outputs": [
    {
     "name": "stdout",
     "output_type": "stream",
     "text": [
      "865A\n",
      "\n"
     ]
    }
   ],
   "source": [
    "import tesserocr\n",
    "from PIL import Image\n",
    "\n",
    "image = Image.open('code.jpg')\n",
    "result = tesserocr.image_to_text(image)\n",
    "print(result)"
   ]
  },
  {
   "cell_type": "markdown",
   "metadata": {},
   "source": [
    "在这里我们新建了一个 Image 对象，调用了 tesserocr 的 image_to_text （）方法。 传入该 Image 对象\n",
    "即可完成识别，实现过程非常简单，结果如下所示："
   ]
  },
  {
   "cell_type": "markdown",
   "metadata": {},
   "source": [
    "另外， tesserocr 还有一个更加简单的方法，这个方法可直接将图片文件转为字符串 ，代码如下所示 ："
   ]
  },
  {
   "cell_type": "code",
   "execution_count": 5,
   "metadata": {},
   "outputs": [
    {
     "name": "stdout",
     "output_type": "stream",
     "text": [
      "365A\n",
      "\n"
     ]
    }
   ],
   "source": [
    "import tesserocr\n",
    "result = tesserocr.file_to_text('code.jpg')\n",
    "print(result)"
   ]
  },
  {
   "cell_type": "markdown",
   "metadata": {},
   "source": [
    "不过， 此种方法的识别效果不如上一种方法好。"
   ]
  },
  {
   "cell_type": "markdown",
   "metadata": {},
   "source": [
    "# 5. 验证码处理\n",
    "接下来我们换一个验证码，将其命名为 code2 .jpg"
   ]
  },
  {
   "attachments": {
    "image.png": {
     "image/png": "[encoded data removed]"
    }
   },
   "cell_type": "markdown",
   "metadata": {},
   "source": [
    "![image.png](attachment:image.png)"
   ]
  },
  {
   "cell_type": "code",
   "execution_count": 6,
   "metadata": {},
   "outputs": [
    {
     "name": "stdout",
     "output_type": "stream",
     "text": [
      "EDHT\n",
      "\n"
     ]
    }
   ],
   "source": [
    "import tesserocr\n",
    "from PIL import Image\n",
    "\n",
    "image = Image.open('code2.jpg')\n",
    "result = tesserocr.image_to_text(image)\n",
    "print(result)"
   ]
  },
  {
   "cell_type": "markdown",
   "metadata": {},
   "source": [
    "这次识别和实际结果有偏差，这是因为验证码内的多余线条干扰了图片的识别 。\n",
    "对于这种情况，我们还需要做一下额外的处理，如转灰度、二值化等操作。\n",
    "我们可以利用 Image 对象的 convert （）方法参数传人 L ，即可将图片转化为灰度图像，"
   ]
  },
  {
   "cell_type": "code",
   "execution_count": 11,
   "metadata": {},
   "outputs": [],
   "source": [
    "import tesserocr\n",
    "from PIL import Image\n",
    "\n",
    "image = Image.open('code.jpg')\n",
    "image = image.convert('L')\n",
    "image.show()"
   ]
  },
  {
   "cell_type": "markdown",
   "metadata": {},
   "source": [
    "传入 l 即可将图片进行二值化处理，如下所示 ："
   ]
  },
  {
   "cell_type": "code",
   "execution_count": 13,
   "metadata": {},
   "outputs": [],
   "source": [
    "import tesserocr\n",
    "from PIL import Image\n",
    "\n",
    "image = Image.open('code.jpg')\n",
    "image = image.convert('1')\n",
    "image.show()"
   ]
  },
  {
   "cell_type": "markdown",
   "metadata": {},
   "source": [
    "我们还可以指定二值化的阔值。 上面的方法采用的是默认阔值 127 。 不过我们不能直接转化原因，\n",
    "要将原图先转为灰度图像，然后再指定二值化阔值，代码如下所示 ："
   ]
  },
  {
   "cell_type": "code",
   "execution_count": 26,
   "metadata": {},
   "outputs": [],
   "source": [
    "import tesserocr\n",
    "from PIL import Image\n",
    "\n",
    "image = Image.open('code.jpg')\n",
    "image = image.convert('L')\n",
    "threshold = 160\n",
    "table = []\n",
    "for i in range(256):\n",
    "    if i<threshold:\n",
    "        table.append(0)\n",
    "    else:\n",
    "        table.append(1)\n",
    "image = image.point(table,'1')\n",
    "image.show()"
   ]
  },
  {
   "cell_type": "code",
   "execution_count": 29,
   "metadata": {},
   "outputs": [
    {
     "name": "stdout",
     "output_type": "stream",
     "text": [
      "365A\n",
      "\n"
     ]
    }
   ],
   "source": [
    "# B6SA\n",
    "import tesserocr\n",
    "from PIL import Image\n",
    "\n",
    "image = Image.open('code.jpg')\n",
    "image = image.convert('L')\n",
    "threshold = 155\n",
    "table = []\n",
    "for i in range(256):\n",
    "    if i<threshold:\n",
    "        table.append(0)\n",
    "    else:\n",
    "        table.append(1)\n",
    "image = image.point(table,'1')\n",
    "result = tesserocr.image_to_text(image)\n",
    "print(result)"
   ]
  },
  {
   "cell_type": "markdown",
   "metadata": {},
   "source": [
    "# 7 . 结语\n",
    "本节我们了解了利用 tesserocr 识别验证码的过程。 我们可以直接用简单的图形验证码得到结果，\n",
    "也可以对验证码图片做预处理来提高识别的准确度 。"
   ]
  },
  {
   "cell_type": "code",
   "execution_count": null,
   "metadata": {},
   "outputs": [],
   "source": []
  }
 ],
 "metadata": {
  "kernelspec": {
   "display_name": "Python 3",
   "language": "python",
   "name": "python3"
  },
  "language_info": {
   "codemirror_mode": {
    "name": "ipython",
    "version": 3
   },
   "file_extension": ".py",
   "mimetype": "text/x-python",
   "name": "python",
   "nbconvert_exporter": "python",
   "pygments_lexer": "ipython3",
   "version": "3.6.3"
  }
 },
 "nbformat": 4,
 "nbformat_minor": 2
}
