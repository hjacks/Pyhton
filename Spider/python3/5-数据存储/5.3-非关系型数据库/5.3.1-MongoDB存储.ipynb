{
 "cells": [
  {
   "cell_type": "markdown",
   "metadata": {},
   "source": [
    "MongoDB是由C++语言编写的非关系型数据库，是一个基于分布式文件存储的开源数据库系统，其内容存储形式类似JSON对象，它的字段值可以包含其他文档、数组及文档数组，非常灵活。在这一节中，我们就来看看Python 3下MongoDB的存储操作。\n",
    "\n",
    "# 1. 准备工作\n",
    "在开始之前，请确保已经安装好了MongoDB并启动了其服务，并且安装好了Python的PyMongo库。如果没有安装，可以参考第1章。\n",
    "\n",
    "# 2. 连接MongoDB\n",
    "连接MongoDB时，我们需要使用PyMongo库里面的MongoClient。一般来说，传入MongoDB的IP及端口即可，其中第一个参数为地址host，第二个参数为端口port（如果不给它传递参数，默认是27017）："
   ]
  },
  {
   "cell_type": "code",
   "execution_count": 1,
   "metadata": {},
   "outputs": [],
   "source": [
    "import pymongo\n",
    "client = pymongo.MongoClient(host='localhost',port=27017)"
   ]
  },
  {
   "cell_type": "markdown",
   "metadata": {},
   "source": [
    "这样就可以创建MongoDB的连接对象了。\n",
    "\n",
    "另外，MongoClient的第一个参数host还可以直接传入MongoDB的连接字符串，它以mongodb开头，例如：\n",
    "```\n",
    "client = MongoClient('mongodb://localhost:27017/')\n",
    "```"
   ]
  },
  {
   "cell_type": "markdown",
   "metadata": {},
   "source": [
    "# 3. 指定数据库\n",
    "MongoDB中可以建立多个数据库，接下来我们需要指定操作哪个数据库。这里我们以test数据库为例来说明，下一步需要在程序中指定要使用的数据库："
   ]
  },
  {
   "cell_type": "code",
   "execution_count": 2,
   "metadata": {},
   "outputs": [],
   "source": [
    "db = client.test1"
   ]
  },
  {
   "cell_type": "markdown",
   "metadata": {},
   "source": [
    "这里调用client的test属性即可返回test数据库。当然，我们也可以这样指定：\n",
    "`db = client['test']`"
   ]
  },
  {
   "cell_type": "markdown",
   "metadata": {},
   "source": [
    "# 4. 指定集合\n",
    "MongoDB的每个数据库又包含许多集合（collection），它们类似于关系型数据库中的表。\n",
    "\n",
    "下一步需要指定要操作的集合，这里指定一个集合名称为students。与指定数据库类似，指定集合也有两种方式："
   ]
  },
  {
   "cell_type": "code",
   "execution_count": 3,
   "metadata": {},
   "outputs": [],
   "source": [
    "collection = db.students"
   ]
  },
  {
   "cell_type": "markdown",
   "metadata": {},
   "source": [
    "`collection = db['students']`"
   ]
  },
  {
   "cell_type": "markdown",
   "metadata": {},
   "source": [
    "# 5. 插入数据\n",
    "接下来，便可以插入数据了。对于students这个集合，新建一条学生数据，这条数据以字典形式表示："
   ]
  },
  {
   "cell_type": "code",
   "execution_count": 4,
   "metadata": {},
   "outputs": [],
   "source": [
    "student = {\n",
    "    'id': '20170101',\n",
    "    'name': 'Jordan',\n",
    "    'age': 20,\n",
    "    'gender': 'male'\n",
    "}"
   ]
  },
  {
   "cell_type": "code",
   "execution_count": 5,
   "metadata": {},
   "outputs": [
    {
     "name": "stderr",
     "output_type": "stream",
     "text": [
      "D:\\Anaconda3\\lib\\site-packages\\ipykernel_launcher.py:1: DeprecationWarning: insert is deprecated. Use insert_one or insert_many instead.\n",
      "  \"\"\"Entry point for launching an IPython kernel.\n"
     ]
    },
    {
     "name": "stdout",
     "output_type": "stream",
     "text": [
      "5bc04113ddc6071abc1766ea\n"
     ]
    }
   ],
   "source": [
    "result = collection.insert(student)\n",
    "print(result)"
   ]
  },
  {
   "cell_type": "code",
   "execution_count": 6,
   "metadata": {},
   "outputs": [
    {
     "name": "stdout",
     "output_type": "stream",
     "text": [
      "<class 'bson.objectid.ObjectId'>\n"
     ]
    }
   ],
   "source": [
    "print(type(result))"
   ]
  },
  {
   "cell_type": "markdown",
   "metadata": {},
   "source": [
    "在MongoDB中，每条数据其实都有一个_id属性来唯一标识。如果没有显式指明该属性，MongoDB会自动产生一个ObjectId类型的_id属性。insert()方法会在执行后返回_id值。"
   ]
  },
  {
   "cell_type": "markdown",
   "metadata": {},
   "source": [
    "当然，我们也可以同时插入多条数据，只需要以列表形式传递即可，示例如下："
   ]
  },
  {
   "cell_type": "code",
   "execution_count": 7,
   "metadata": {},
   "outputs": [
    {
     "name": "stdout",
     "output_type": "stream",
     "text": [
      "[ObjectId('5bc0414fddc6071abc1766eb'), ObjectId('5bc0414fddc6071abc1766ec')]\n"
     ]
    },
    {
     "name": "stderr",
     "output_type": "stream",
     "text": [
      "D:\\Anaconda3\\lib\\site-packages\\ipykernel_launcher.py:14: DeprecationWarning: insert is deprecated. Use insert_one or insert_many instead.\n",
      "  \n"
     ]
    }
   ],
   "source": [
    "student1 = {\n",
    "    'id': '20170101',\n",
    "    'name': 'Jordan',\n",
    "    'age': 20,\n",
    "    'gender': 'male'\n",
    "}\n",
    " \n",
    "student2 = {\n",
    "    'id': '20170202',\n",
    "    'name': 'Mike',\n",
    "    'age': 21,\n",
    "    'gender': 'male'\n",
    "}\n",
    "result = collection.insert([student1,student2])\n",
    "print(result)"
   ]
  },
  {
   "cell_type": "markdown",
   "metadata": {},
   "source": [
    "实际上，在PyMongo 3.x版本中，官方已经不推荐使用insert()方法了。当然，继续使用也没有什么问题。官方推荐使用insert_one()和insert_many()方法来分别插入单条记录和多条记录，示例如下："
   ]
  },
  {
   "cell_type": "code",
   "execution_count": 8,
   "metadata": {},
   "outputs": [
    {
     "name": "stdout",
     "output_type": "stream",
     "text": [
      "<pymongo.results.InsertOneResult object at 0x0000000005A89D38>\n"
     ]
    }
   ],
   "source": [
    "student = {\n",
    "    'id': '20170101',\n",
    "    'name': 'Jordan',\n",
    "    'age': 20,\n",
    "    'gender': 'male'\n",
    "}\n",
    "result = collection.insert_one(student)\n",
    "print(result)"
   ]
  },
  {
   "cell_type": "code",
   "execution_count": 9,
   "metadata": {},
   "outputs": [
    {
     "name": "stdout",
     "output_type": "stream",
     "text": [
      "5bc04176ddc6071abc1766ed\n"
     ]
    }
   ],
   "source": [
    "print(result.inserted_id)"
   ]
  },
  {
   "cell_type": "markdown",
   "metadata": {},
   "source": [
    "与insert()方法不同，这次返回的是InsertOneResult对象，我们可以调用其inserted_id属性获取_id。\n",
    "\n",
    "对于insert_many()方法，我们可以将数据以列表形式传递，示例如下："
   ]
  },
  {
   "cell_type": "code",
   "execution_count": 10,
   "metadata": {},
   "outputs": [
    {
     "name": "stdout",
     "output_type": "stream",
     "text": [
      "<pymongo.results.InsertManyResult object at 0x000000000704C630>\n",
      "[ObjectId('5bc0419dddc6071abc1766ee'), ObjectId('5bc0419dddc6071abc1766ef')]\n"
     ]
    }
   ],
   "source": [
    "student1 = {\n",
    "    'id': '20170101',\n",
    "    'name': 'Jordan',\n",
    "    'age': 20,\n",
    "    'gender': 'male'\n",
    "}\n",
    " \n",
    "student2 = {\n",
    "    'id': '20170202',\n",
    "    'name': 'Mike',\n",
    "    'age': 21,\n",
    "    'gender': 'male'\n",
    "}\n",
    " \n",
    "result = collection.insert_many([student1, student2])\n",
    "print(result)\n",
    "print(result.inserted_ids)"
   ]
  },
  {
   "cell_type": "markdown",
   "metadata": {},
   "source": [
    "该方法返回的类型是InsertManyResult，调用inserted_ids属性可以获取插入数据的_id列表。"
   ]
  },
  {
   "cell_type": "markdown",
   "metadata": {},
   "source": [
    "# 6. 查询\n",
    "插入数据后，我们可以利用find_one()或find()方法进行查询，其中find_one()查询得到的是单个结果，find()则返回一个生成器对象。示例如下："
   ]
  },
  {
   "cell_type": "code",
   "execution_count": 12,
   "metadata": {},
   "outputs": [
    {
     "name": "stdout",
     "output_type": "stream",
     "text": [
      "<class 'dict'>\n",
      "{'_id': ObjectId('5bc0414fddc6071abc1766ec'), 'id': '20170202', 'name': 'Mike', 'age': 21, 'gender': 'male'}\n"
     ]
    }
   ],
   "source": [
    "result = collection.find_one({'name':'Mike'})\n",
    "print(type(result))\n",
    "print(result)"
   ]
  },
  {
   "cell_type": "markdown",
   "metadata": {},
   "source": [
    "可以发现，它多了_id属性，这就是MongoDB在插入过程中自动添加的。\n",
    "\n",
    "此外，我们也可以根据ObjectId来查询，此时需要使用bson库里面的objectid："
   ]
  },
  {
   "cell_type": "code",
   "execution_count": 14,
   "metadata": {},
   "outputs": [
    {
     "name": "stdout",
     "output_type": "stream",
     "text": [
      "{'_id': ObjectId('5bc0414fddc6071abc1766ec'), 'id': '20170202', 'name': 'Mike', 'age': 21, 'gender': 'male'}\n"
     ]
    }
   ],
   "source": [
    "from bson.objectid import ObjectId\n",
    "result = collection.find_one({'_id':ObjectId('5bc0414fddc6071abc1766ec')})\n",
    "print(result)"
   ]
  },
  {
   "cell_type": "markdown",
   "metadata": {},
   "source": [
    "当然，如果查询结果不存在，则会返回None。\n",
    "\n",
    "对于多条数据的查询，我们可以使用find()方法。例如，这里查找年龄为20的数据，示例如下"
   ]
  },
  {
   "cell_type": "code",
   "execution_count": 16,
   "metadata": {},
   "outputs": [
    {
     "name": "stdout",
     "output_type": "stream",
     "text": [
      "<pymongo.cursor.Cursor object at 0x0000000007306B70>\n",
      "{'_id': ObjectId('5bc04113ddc6071abc1766ea'), 'id': '20170101', 'name': 'Jordan', 'age': 20, 'gender': 'male'}\n",
      "{'_id': ObjectId('5bc0414fddc6071abc1766eb'), 'id': '20170101', 'name': 'Jordan', 'age': 20, 'gender': 'male'}\n",
      "{'_id': ObjectId('5bc04176ddc6071abc1766ed'), 'id': '20170101', 'name': 'Jordan', 'age': 20, 'gender': 'male'}\n",
      "{'_id': ObjectId('5bc0419dddc6071abc1766ee'), 'id': '20170101', 'name': 'Jordan', 'age': 20, 'gender': 'male'}\n"
     ]
    }
   ],
   "source": [
    "results = collection.find({'age':20})\n",
    "print(results)\n",
    "for result in results:\n",
    "    print(result)"
   ]
  },
  {
   "cell_type": "markdown",
   "metadata": {},
   "source": [
    "返回结果是Cursor类型，它相当于一个生成器，我们需要遍历取到所有的结果，其中每个结果都是字典类型。\n",
    "\n",
    "如果要查询年龄大于20的数据，则写法如下："
   ]
  },
  {
   "cell_type": "code",
   "execution_count": 17,
   "metadata": {},
   "outputs": [],
   "source": [
    "result = collection.find({'age':{'$gt':20}})"
   ]
  },
  {
   "cell_type": "code",
   "execution_count": 19,
   "metadata": {},
   "outputs": [
    {
     "name": "stdout",
     "output_type": "stream",
     "text": [
      "<pymongo.cursor.Cursor object at 0x0000000007310240>\n",
      "{'_id': ObjectId('5bc0414fddc6071abc1766ec'), 'id': '20170202', 'name': 'Mike', 'age': 21, 'gender': 'male'}\n",
      "{'_id': ObjectId('5bc0419dddc6071abc1766ef'), 'id': '20170202', 'name': 'Mike', 'age': 21, 'gender': 'male'}\n"
     ]
    }
   ],
   "source": [
    "print(result)\n",
    "for re in result:\n",
    "    print(re)"
   ]
  },
  {
   "attachments": {
    "image.png": {
     "image/png": "[encoded data removed]"
    }
   },
   "cell_type": "markdown",
   "metadata": {},
   "source": [
    "![image.png](attachment:image.png)"
   ]
  },
  {
   "cell_type": "markdown",
   "metadata": {},
   "source": [
    "另外，还可以进行正则匹配查询。例如，查询名字以M开头的学生数据，示例如下："
   ]
  },
  {
   "cell_type": "code",
   "execution_count": 20,
   "metadata": {},
   "outputs": [],
   "source": [
    "result = collection.find({'name':{'$regex':'^M.*'}})"
   ]
  },
  {
   "cell_type": "code",
   "execution_count": 21,
   "metadata": {},
   "outputs": [
    {
     "name": "stdout",
     "output_type": "stream",
     "text": [
      "<pymongo.cursor.Cursor object at 0x0000000007310908>\n"
     ]
    }
   ],
   "source": [
    "print(result)"
   ]
  },
  {
   "attachments": {
    "image.png": {
     "image/png": "[encoded data removed]"
    }
   },
   "cell_type": "markdown",
   "metadata": {},
   "source": [
    "![image.png](attachment:image.png)"
   ]
  },
  {
   "cell_type": "markdown",
   "metadata": {},
   "source": [
    "# 7. 计数\n",
    "要统计查询结果有多少条数据，可以调用count()方法。比如，统计所有数据条数："
   ]
  },
  {
   "cell_type": "code",
   "execution_count": 23,
   "metadata": {},
   "outputs": [],
   "source": [
    "count = collection.find().count()"
   ]
  },
  {
   "cell_type": "code",
   "execution_count": 24,
   "metadata": {},
   "outputs": [
    {
     "name": "stdout",
     "output_type": "stream",
     "text": [
      "6\n"
     ]
    }
   ],
   "source": [
    "print(count)"
   ]
  },
  {
   "cell_type": "code",
   "execution_count": 25,
   "metadata": {},
   "outputs": [],
   "source": [
    "count = collection.find({'age':20}).count()"
   ]
  },
  {
   "cell_type": "code",
   "execution_count": 26,
   "metadata": {},
   "outputs": [
    {
     "name": "stdout",
     "output_type": "stream",
     "text": [
      "4\n"
     ]
    }
   ],
   "source": [
    "print(count)"
   ]
  },
  {
   "cell_type": "markdown",
   "metadata": {},
   "source": [
    "# 8. 排序\n",
    "排序时，直接调用sort()方法，并在其中传入排序的字段及升降序标志即可。示例如下："
   ]
  },
  {
   "cell_type": "code",
   "execution_count": 29,
   "metadata": {},
   "outputs": [
    {
     "name": "stdout",
     "output_type": "stream",
     "text": [
      "['Jordan', 'Jordan', 'Jordan', 'Jordan', 'Mike', 'Mike']\n"
     ]
    }
   ],
   "source": [
    "results = collection.find().sort('name',pymongo.ASCENDING)\n",
    "print([result['name'] for result in results])"
   ]
  },
  {
   "cell_type": "markdown",
   "metadata": {},
   "source": [
    "这里我们调用pymongo.ASCENDING指定升序。如果要降序排列，可以传入pymongo.DESCENDING"
   ]
  },
  {
   "cell_type": "code",
   "execution_count": 30,
   "metadata": {},
   "outputs": [
    {
     "name": "stdout",
     "output_type": "stream",
     "text": [
      "['Mike', 'Mike', 'Jordan', 'Jordan', 'Jordan', 'Jordan']\n"
     ]
    }
   ],
   "source": [
    "results = collection.find().sort('name',-1)\n",
    "print([result['name'] for result in results])"
   ]
  },
  {
   "cell_type": "markdown",
   "metadata": {},
   "source": [
    "# 9. 偏移\n",
    "在某些情况下，我们可能想只取某几个元素，这时可以利用skip()方法偏移几个位置，比如偏移2，就忽略前两个元素，得到第三个及以后的元素"
   ]
  },
  {
   "cell_type": "code",
   "execution_count": 31,
   "metadata": {},
   "outputs": [
    {
     "name": "stdout",
     "output_type": "stream",
     "text": [
      "['Jordan', 'Jordan', 'Jordan', 'Jordan']\n"
     ]
    }
   ],
   "source": [
    "results =collection.find().sort('name',-1).skip(2)\n",
    "print([result['name'] for result in results])"
   ]
  },
  {
   "cell_type": "markdown",
   "metadata": {},
   "source": [
    "另外，还可以用limit()方法指定要取的结果个数，示例如下："
   ]
  },
  {
   "cell_type": "code",
   "execution_count": 32,
   "metadata": {},
   "outputs": [
    {
     "name": "stdout",
     "output_type": "stream",
     "text": [
      "['Jordan']\n"
     ]
    }
   ],
   "source": [
    "results =collection.find().sort('name',-1).skip(2).limit(1)\n",
    "print([result['name'] for result in results])"
   ]
  },
  {
   "cell_type": "markdown",
   "metadata": {},
   "source": [
    "值得注意的是，在数据库数量非常庞大的时候，如千万、亿级别，最好不要使用大的偏移量来查询数据，因为这样很可能导致内存溢出。此时可以使用类似如下操作来查询："
   ]
  },
  {
   "cell_type": "code",
   "execution_count": 34,
   "metadata": {},
   "outputs": [
    {
     "data": {
      "text/plain": [
       "<pymongo.cursor.Cursor at 0x7306a20>"
      ]
     },
     "execution_count": 34,
     "metadata": {},
     "output_type": "execute_result"
    }
   ],
   "source": [
    "from bson.objectid import ObjectId\n",
    "collection.find({'_id': {'$gt': ObjectId('593278c815c2602678bb2b8d')}})"
   ]
  },
  {
   "cell_type": "markdown",
   "metadata": {},
   "source": [
    "# 10. 更新\n",
    "对于数据更新，我们可以使用update()方法，指定更新的条件和更新后的数据即可。例如："
   ]
  },
  {
   "cell_type": "code",
   "execution_count": 36,
   "metadata": {},
   "outputs": [
    {
     "name": "stdout",
     "output_type": "stream",
     "text": [
      "{'_id': ObjectId('5bc04113ddc6071abc1766ea'), 'id': '20170101', 'name': 'Jordan', 'age': 20, 'gender': 'male'}\n"
     ]
    }
   ],
   "source": [
    "condition = {'name':'Jordan'}\n",
    "student = collection.find_one(condition)\n",
    "print(student)"
   ]
  },
  {
   "cell_type": "code",
   "execution_count": 38,
   "metadata": {},
   "outputs": [
    {
     "name": "stdout",
     "output_type": "stream",
     "text": [
      "{'n': 1, 'nModified': 1, 'ok': 1.0, 'updatedExisting': True}\n"
     ]
    },
    {
     "name": "stderr",
     "output_type": "stream",
     "text": [
      "D:\\Anaconda3\\lib\\site-packages\\ipykernel_launcher.py:2: DeprecationWarning: update is deprecated. Use replace_one, update_one or update_many instead.\n",
      "  \n"
     ]
    }
   ],
   "source": [
    "student['age'] = 25\n",
    "result = collection.update(condition,student)\n",
    "print(result)"
   ]
  },
  {
   "cell_type": "markdown",
   "metadata": {},
   "source": [
    "返回结果是字典形式，ok代表执行成功，nModified代表影响的数据条数。\n",
    "\n",
    "另外，我们也可以使用$set操作符对数据进行更新，代码如下"
   ]
  },
  {
   "cell_type": "code",
   "execution_count": 39,
   "metadata": {},
   "outputs": [
    {
     "name": "stderr",
     "output_type": "stream",
     "text": [
      "D:\\Anaconda3\\lib\\site-packages\\ipykernel_launcher.py:1: DeprecationWarning: update is deprecated. Use replace_one, update_one or update_many instead.\n",
      "  \"\"\"Entry point for launching an IPython kernel.\n"
     ]
    }
   ],
   "source": [
    "result = collection.update(condition, {'$set': {'name':'wangzhi'}})"
   ]
  },
  {
   "cell_type": "code",
   "execution_count": 40,
   "metadata": {},
   "outputs": [
    {
     "name": "stdout",
     "output_type": "stream",
     "text": [
      "{'n': 1, 'nModified': 1, 'ok': 1.0, 'updatedExisting': True}\n"
     ]
    }
   ],
   "source": [
    "print(result)"
   ]
  },
  {
   "cell_type": "markdown",
   "metadata": {},
   "source": [
    "这样可以只更新student字典内存在的字段。如果原先还有其他字段，则不会更新，也不会删除。而如果不用$set的话，则会把之前的数据全部用student字典替换；如果原本存在其他字段，则会被删除。\n",
    "\n",
    "另外，update()方法其实也是官方不推荐使用的方法。这里也分为update_one()方法和update_many()方法，用法更加严格，它们的第二个参数需要使用$类型操作符作为字典的键名，"
   ]
  },
  {
   "cell_type": "code",
   "execution_count": 42,
   "metadata": {},
   "outputs": [
    {
     "name": "stdout",
     "output_type": "stream",
     "text": [
      "<pymongo.results.UpdateResult object at 0x000000000732D798>\n",
      "1 1\n"
     ]
    }
   ],
   "source": [
    "condition = {'name': 'wangzhi'}\n",
    "student = collection.find_one(condition)\n",
    "student ={'age':26}\n",
    "result = collection.update_one(condition, {'$set': student})\n",
    "print(result)\n",
    "print(result.matched_count, result.modified_count)"
   ]
  },
  {
   "cell_type": "markdown",
   "metadata": {},
   "source": [
    "这里调用了update_one()方法，第二个参数不能再直接传入修改后的字典，而是需要使用{'$set': student}这样的形式，其返回结果是UpdateResult类型。然后分别调用matched_count和modified_count属性，可以获得匹配的数据条数和影响的数据条数。"
   ]
  },
  {
   "cell_type": "code",
   "execution_count": 43,
   "metadata": {},
   "outputs": [
    {
     "name": "stdout",
     "output_type": "stream",
     "text": [
      "<pymongo.results.UpdateResult object at 0x0000000007324240>\n",
      "1 1\n"
     ]
    }
   ],
   "source": [
    "condition = {'age': {'$gt': 20}}\n",
    "result = collection.update_one(condition, {'$inc': {'age': 1}})\n",
    "print(result)\n",
    "print(result.matched_count, result.modified_count)"
   ]
  },
  {
   "cell_type": "markdown",
   "metadata": {},
   "source": [
    "这里指定查询条件为年龄大于20，然后更新条件为{'$inc': {'age': 1}}，也就是年龄加1，执行之后会将第一条符合条件的数据年龄加1。"
   ]
  },
  {
   "cell_type": "markdown",
   "metadata": {},
   "source": [
    "可以看到匹配条数为1条，影响条数也为1条。\n",
    "\n",
    "如果调用update_many()方法，则会将所有符合条件的数据都更新，示例如下："
   ]
  },
  {
   "cell_type": "code",
   "execution_count": 44,
   "metadata": {},
   "outputs": [
    {
     "name": "stdout",
     "output_type": "stream",
     "text": [
      "<pymongo.results.UpdateResult object at 0x00000000073249D8>\n",
      "3 3\n"
     ]
    }
   ],
   "source": [
    "condition = {'age': {'$gt': 20}}\n",
    "result = collection.update_many(condition, {'$inc': {'age': 1}})\n",
    "print(result)\n",
    "print(result.matched_count, result.modified_count)"
   ]
  },
  {
   "cell_type": "markdown",
   "metadata": {},
   "source": [
    "# 11. 删除\n",
    "删除操作比较简单，直接调用remove()方法指定删除的条件即可，此时符合条件的所有数据均会被删除。示例如下： "
   ]
  },
  {
   "cell_type": "code",
   "execution_count": 45,
   "metadata": {},
   "outputs": [
    {
     "name": "stdout",
     "output_type": "stream",
     "text": [
      "{'n': 1, 'ok': 1.0}\n"
     ]
    },
    {
     "name": "stderr",
     "output_type": "stream",
     "text": [
      "D:\\Anaconda3\\lib\\site-packages\\ipykernel_launcher.py:1: DeprecationWarning: remove is deprecated. Use delete_one or delete_many instead.\n",
      "  \"\"\"Entry point for launching an IPython kernel.\n"
     ]
    }
   ],
   "source": [
    "result = collection.remove({'name':'wangzhi'})\n",
    "print(result)"
   ]
  },
  {
   "cell_type": "markdown",
   "metadata": {},
   "source": [
    "另外，这里依然存在两个新的推荐方法——delete_one()和delete_many()。示例如下："
   ]
  },
  {
   "cell_type": "code",
   "execution_count": 46,
   "metadata": {},
   "outputs": [
    {
     "name": "stdout",
     "output_type": "stream",
     "text": [
      "<pymongo.results.DeleteResult object at 0x000000000732DCF0>\n",
      "0\n",
      "5\n"
     ]
    }
   ],
   "source": [
    "result = collection.delete_one({'name': 'Kevin'})\n",
    "print(result)\n",
    "print(result.deleted_count)\n",
    "result = collection.delete_many({'age': {'$lt': 25}})\n",
    "print(result.deleted_count)"
   ]
  },
  {
   "cell_type": "markdown",
   "metadata": {},
   "source": [
    "delete_one()即删除第一条符合条件的数据，delete_many()即删除所有符合条件的数据。它们的返回结果都是DeleteResult类型，可以调用deleted_count属性获取删除的数据条数。"
   ]
  },
  {
   "cell_type": "markdown",
   "metadata": {},
   "source": [
    "# 12. 其他操作\n",
    "另外，PyMongo还提供了一些组合方法，如find_one_and_delete()、find_one_and_replace()和find_one_and_update()，它们是查找后删除、替换和更新操作，其用法与上述方法基本一致。\n",
    "\n",
    "另外，还可以对索引进行操作，相关方法有create_index()、create_indexes()和drop_index()等。"
   ]
  },
  {
   "cell_type": "code",
   "execution_count": null,
   "metadata": {},
   "outputs": [],
   "source": []
  }
 ],
 "metadata": {
  "kernelspec": {
   "display_name": "Python 3",
   "language": "python",
   "name": "python3"
  },
  "language_info": {
   "codemirror_mode": {
    "name": "ipython",
    "version": 3
   },
   "file_extension": ".py",
   "mimetype": "text/x-python",
   "name": "python",
   "nbconvert_exporter": "python",
   "pygments_lexer": "ipython3",
   "version": "3.6.3"
  }
 },
 "nbformat": 4,
 "nbformat_minor": 2
}
