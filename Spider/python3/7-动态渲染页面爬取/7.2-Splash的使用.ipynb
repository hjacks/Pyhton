{
 "cells": [
  {
   "cell_type": "markdown",
   "metadata": {},
   "source": [
    "Splash是一个JavaScript渲染服务，是一个带有HTTP API的轻量级浏览器，同时它对接了Python中的Twisted和QT库。利用它，我们同样可以实现动态渲染页面的抓取。"
   ]
  },
  {
   "cell_type": "markdown",
   "metadata": {},
   "source": [
    "# 1. 功能介绍\n",
    "利用Splash，我们可以实现如下功能：\n",
    "\n",
    "- 方式处理多个网页渲染过程；\n",
    "- 获取渲染后的页面的源代码或截图；\n",
    "- 通过关闭图片渲染或者使用Adblock规则来加快页面渲染速度；\n",
    "- 可执行特定的JavaScript脚本；\n",
    "- 可通过Lua脚本来控制页面渲染过程；\n",
    "- 获取渲染的详细过程并通过HAR（HTTP Archive）格式呈现。\n",
    "\n",
    "接下来，我们来了解一下它的具体用法。"
   ]
  },
  {
   "cell_type": "markdown",
   "metadata": {},
   "source": [
    "# 3. 实例引入\n",
    "首先，通过Splash提供的Web页面来测试其渲染过程。例如，我们在本机8050端口上运行了Splash服务，打开http://localhost:8050/ 即可看到其Web页面"
   ]
  },
  {
   "cell_type": "markdown",
   "metadata": {},
   "source": [
    "# 4. Splash Lua脚本\n",
    "Splash可以通过Lua脚本执行一系列渲染操作，这样我们就可以用Splash来模拟类似Chrome、PhantomJS的操作了。\n",
    "\n",
    "首先，我们来了解一下Splash Lua脚本的入口和执行方式。"
   ]
  },
  {
   "cell_type": "markdown",
   "metadata": {},
   "source": [
    "## 入口及返回值\n",
    "首先，来看一个基本实例："
   ]
  },
  {
   "cell_type": "code",
   "execution_count": null,
   "metadata": {},
   "outputs": [],
   "source": [
    "fun"
   ]
  }
 ],
 "metadata": {
  "kernelspec": {
   "display_name": "Python 3",
   "language": "python",
   "name": "python3"
  },
  "language_info": {
   "codemirror_mode": {
    "name": "ipython",
    "version": 3
   },
   "file_extension": ".py",
   "mimetype": "text/x-python",
   "name": "python",
   "nbconvert_exporter": "python",
   "pygments_lexer": "ipython3",
   "version": "3.6.3"
  }
 },
 "nbformat": 4,
 "nbformat_minor": 2
}
