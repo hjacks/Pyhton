{
 "cells": [
  {
   "cell_type": "markdown",
   "metadata": {},
   "source": [
    "# 简单用法"
   ]
  },
  {
   "cell_type": "code",
   "execution_count": 3,
   "metadata": {},
   "outputs": [],
   "source": [
    "from selenium import webdriver\n",
    "from selenium.webdriver.common.keys import Keys\n",
    "\n",
    "driver = webdriver.Firefox()\n",
    "driver.get('http://www.python.org')\n",
    "#assert 'python' in driver.title\n",
    "elem = driver.find_element_by_name('q')\n",
    "elem.clear()\n",
    "elem.send_keys('pycon')\n",
    "elem.send_keys(Keys.RETURN)\n",
    "#assert 'No result found' not in driver.page_source\n",
    "driver.close()"
   ]
  },
  {
   "cell_type": "markdown",
   "metadata": {},
   "source": [
    "# 使用Selenium编写测试"
   ]
  },
  {
   "cell_type": "markdown",
   "metadata": {},
   "source": [
    "Selenium主要用于编写测试用例。该硒 包本身不提供测试工具/框架。您可以使用Python的unittest模块编写测试用例。工具/框架的其他选项是py.test和nose。\n",
    "\n",
    "在本章中，我们使用unittest作为选择框架。这是使用unittest模块的修改示例。这是对python.org搜索功能的测试："
   ]
  },
  {
   "cell_type": "code",
   "execution_count": 4,
   "metadata": {},
   "outputs": [
    {
     "name": "stderr",
     "output_type": "stream",
     "text": [
      "E\n",
      "======================================================================\n",
      "ERROR: C:\\Users\\Administrator\\AppData\\Roaming\\jupyter\\runtime\\kernel-5154560d-7635-428b-b335-baa1610d833e (unittest.loader._FailedTest)\n",
      "----------------------------------------------------------------------\n",
      "AttributeError: module '__main__' has no attribute 'C:\\Users\\Administrator\\AppData\\Roaming\\jupyter\\runtime\\kernel-5154560d-7635-428b-b335-baa1610d833e'\n",
      "\n",
      "----------------------------------------------------------------------\n",
      "Ran 1 test in 0.018s\n",
      "\n",
      "FAILED (errors=1)\n"
     ]
    },
    {
     "ename": "SystemExit",
     "evalue": "True",
     "output_type": "error",
     "traceback": [
      "An exception has occurred, use %tb to see the full traceback.\n",
      "\u001b[1;31mSystemExit\u001b[0m\u001b[1;31m:\u001b[0m True\n"
     ]
    },
    {
     "name": "stderr",
     "output_type": "stream",
     "text": [
      "D:\\Anaconda3\\lib\\site-packages\\IPython\\core\\interactiveshell.py:2870: UserWarning: To exit: use 'exit', 'quit', or Ctrl-D.\n",
      "  warn(\"To exit: use 'exit', 'quit', or Ctrl-D.\", stacklevel=1)\n"
     ]
    }
   ],
   "source": [
    "import unittest\n",
    "from selenium import webdriver\n",
    "from selenium.webdriver.common.keys import Keys\n",
    "\n",
    "class PythonOrgSearch(unittest.TestCase):\n",
    "\n",
    "    def setUp(self):\n",
    "        self.driver = webdriver.Firefox()\n",
    "\n",
    "    def test_search_in_python_org(self):\n",
    "        driver = self.driver\n",
    "        driver.get(\"http://www.python.org\")\n",
    "        self.assertIn(\"Python\", driver.title)\n",
    "        elem = driver.find_element_by_name(\"q\")\n",
    "        elem.send_keys(\"pycon\")\n",
    "        elem.send_keys(Keys.RETURN)\n",
    "        assert \"No results found.\" not in driver.page_source\n",
    "\n",
    "\n",
    "    def tearDown(self):\n",
    "        self.driver.close()\n",
    "\n",
    "if __name__ == \"__main__\":\n",
    "    unittest.main()"
   ]
  },
  {
   "cell_type": "markdown",
   "metadata": {},
   "source": [
    "# 4.定位元素"
   ]
  },
  {
   "cell_type": "markdown",
   "metadata": {},
   "source": [
    "有各种策略来定位页面中的元素。您可以使用最适合您的情况。Selenium提供了以下方法来定位页面中的元素："
   ]
  },
  {
   "cell_type": "markdown",
   "metadata": {},
   "source": [
    "- find_element_by_id\n",
    "- find_element_by_name\n",
    "- find_element_by_xpath\n",
    "- find_element_by_link_text\n",
    "- find_element_by_partial_link_text\n",
    "- find_element_by_tag_name\n",
    "- find_element_by_class_name\n",
    "- find_element_by_css_selector"
   ]
  },
  {
   "cell_type": "markdown",
   "metadata": {},
   "source": [
    "要查找多个元素（这些方法将返回一个列表）："
   ]
  },
  {
   "cell_type": "markdown",
   "metadata": {},
   "source": [
    "- find_elements_by_name\n",
    "- find_elements_by_xpath\n",
    "- find_elements_by_link_text\n",
    "- find_elements_by_partial_link_text\n",
    "- find_elements_by_tag_name\n",
    "- find_elements_by_class_name\n",
    "- find_elements_by_css_selector"
   ]
  },
  {
   "cell_type": "markdown",
   "metadata": {},
   "source": [
    "除了上面给出的公共方法之外，还有两个私有方法可能对页面对象中的定位器有用。这是两个私有方法：find_element和find_elements。\n",
    "\n",
    "用法示例："
   ]
  },
  {
   "cell_type": "markdown",
   "metadata": {},
   "source": [
    "from selenium.webdriver.common.by import By\n",
    "\n",
    "driver.find_element(By.XPATH,'//button[text()=\"Some Text\"]')\n",
    "driver.find_elements(By.XPATH,'//button')"
   ]
  },
  {
   "cell_type": "markdown",
   "metadata": {},
   "source": [
    "这些是By类可用的属性："
   ]
  },
  {
   "cell_type": "markdown",
   "metadata": {},
   "source": [
    "- ID = \"id\"\n",
    "- XPATH = \"xpath\"\n",
    "- LINK_TEXT = \"link text\"\n",
    "- PARTIAL_LINK_TEXT = \"partial link text\"\n",
    "- NAME = \"name\"\n",
    "- TAG_NAME = \"tag name\"\n",
    "- CLASS_NAME = \"class name\"\n",
    "- CSS_SELECTOR = \"css selector\""
   ]
  },
  {
   "cell_type": "markdown",
   "metadata": {},
   "source": [
    "## 4.1。按ID定位\n",
    "当您知道元素的id属性时使用此选项。使用此策略，将返回id属性值与位置匹配的第一个元素。如果没有元素具有匹配的id 属性，NoSuchElementException则将引发a。\n",
    "\n",
    "例如，请考虑此页面来源："
   ]
  },
  {
   "cell_type": "markdown",
   "metadata": {},
   "source": [
    "```\n",
    "<html>\n",
    " <body>\n",
    "  <form id=\"loginForm\">\n",
    "   <input name=\"username\" type=\"text\" />\n",
    "   <input name=\"password\" type=\"password\" />\n",
    "   <input name=\"continue\" type=\"submit\" value=\"Login\" />\n",
    "  </form>\n",
    " </body>\n",
    "<html>\n",
    "```"
   ]
  },
  {
   "cell_type": "markdown",
   "metadata": {},
   "source": [
    "表单元素可以像这样定位："
   ]
  },
  {
   "cell_type": "markdown",
   "metadata": {},
   "source": [
    "login_form = driver.find_element_by_id('loginForm')"
   ]
  },
  {
   "cell_type": "markdown",
   "metadata": {},
   "source": [
    "## 4.2。按名称定位\n",
    "当您知道元素的name属性时，请使用此选项。使用此策略，将返回名称属性值与位置匹配的第一个元素。如果没有元素具有匹配的name 属性，NoSuchElementException则将引发a。"
   ]
  },
  {
   "cell_type": "markdown",
   "metadata": {},
   "source": [
    "username = driver.find_element_by_name('username')\n",
    "\n",
    "password = driver.find_element_by_name('password')"
   ]
  },
  {
   "cell_type": "markdown",
   "metadata": {},
   "source": [
    "## 4.3。通过XPath定位\n",
    "XPath是用于在XML文档中定位节点的语言。由于HTML可以是XML（XHTML）的实现，因此Selenium用户可以利用这种强大的语言来定位其Web应用程序中的元素。XPath扩展（以及支持）通过id或name属性定位的简单方法，并打开各种新的可能性，例如在页面上找到第三个复选框。\n",
    "\n",
    "使用XPath的主要原因之一是当您没有适合您要查找的元素的id或name属性时。您可以使用XPath以绝对术语（不建议）或相对于具有id或name属性的元素来定位元素。XPath定位器还可用于通过id和name以外的属性指定元素。\n",
    "\n",
    "绝对XPath包含来自根（html）的所有元素的位置，因此可能会失败，只需对应用程序进行最轻微的调整。通过查找具有id或name属性的附近元素（理想情况下是父元素），您可以根据关系找到目标元素。这不太可能改变，可以使您的测试更加健壮。"
   ]
  },
  {
   "cell_type": "markdown",
   "metadata": {},
   "source": [
    "login_form = driver.find_element_by_xpath(\"/html/body/form[1]\")\n",
    "\n",
    "login_form = driver.find_element_by_xpath(\"//form[1]\")\n",
    "\n",
    "login_form = driver.find_element_by_xpath(\"//form[@id='loginForm']\")\n"
   ]
  },
  {
   "cell_type": "markdown",
   "metadata": {},
   "source": [
    "- 绝对路径（如果HTML仅稍微更改，则会中断）\n",
    "- HTML中的第一个表单元素\n",
    "- 具有名为id的属性和值loginForm的表单元素\n",
    "\n",
    "username元素可以像这样定位：\n",
    "\n",
    "username = driver.find_element_by_xpath(\"//form[input/@name='username']\")\n",
    "\n",
    "username = driver.find_element_by_xpath(\"//form[@id='loginForm']/input[1]\")\n",
    "\n",
    "username = driver.find_element_by_xpath(\"//input[@name='username']\")"
   ]
  },
  {
   "cell_type": "markdown",
   "metadata": {},
   "source": [
    "1. 第一个表单元素，带有一个输入子元素，其属性名为 name，值为username\n",
    "2. 表单元素的第一个输入子元素，其属性名为 id，值为loginForm\n",
    "3. 第一个输入元素，其属性名为“name”，值为 username"
   ]
  },
  {
   "cell_type": "markdown",
   "metadata": {},
   "source": [
    "“清除”按钮元素可以像这样定位：\n",
    "```\n",
    "clear_button = driver.find_element_by_xpath(\"//input[@name='continue'][@type='button']\")\n",
    "clear_button = driver.find_element_by_xpath(\"//form[@id='loginForm']/input[4]\")\n",
    "```"
   ]
  },
  {
   "cell_type": "markdown",
   "metadata": {},
   "source": [
    "1. 输入名为name的属性，值为continue，属性名为type，值为button\n",
    "2. 表单元素的第四个输入子元素，其属性名为 id，值为loginForm"
   ]
  },
  {
   "cell_type": "markdown",
   "metadata": {},
   "source": [
    "## 4.4。通过链接文本定位超链接\n",
    "当您知道锚标记中使用的链接文本时，请使用此选项。使用此策略，将返回链接文本值与位置匹配的第一个元素。如果没有元素具有匹配的链接文本属性，NoSuchElementException则将引发a。\n",
    "\n",
    "例如，请考虑此页面来源："
   ]
  },
  {
   "cell_type": "markdown",
   "metadata": {},
   "source": [
    "```\n",
    "<html>\n",
    " <body>\n",
    "  <p>Are you sure you want to do this?</p>\n",
    "  <a href=\"continue.html\">Continue</a>\n",
    "  <a href=\"cancel.html\">Cancel</a>\n",
    "</body>\n",
    "<html>\n",
    "```"
   ]
  },
  {
   "cell_type": "markdown",
   "metadata": {},
   "source": [
    "continue_link = driver.find_element_by_link_text('Continue')\n",
    "\n",
    "continue_link = driver.find_element_by_partial_link_text('Conti')"
   ]
  },
  {
   "cell_type": "markdown",
   "metadata": {},
   "source": [
    "## 4.5。按标签名称定位元素\n",
    "如果要按标签名称查找元素，请使用此选项。使用此策略，将返回具有给定标记名称的第一个元素。如果没有元素具有匹配的标记名称，NoSuchElementException 则将引发a。\n",
    "\n",
    "例如，请考虑此页面来源：\n",
    "```\n",
    "<html>\n",
    " <body>\n",
    "  <h1>Welcome</h1>\n",
    "  <p>Site content goes here.</p>\n",
    "</body>\n",
    "<html>\n",
    "```"
   ]
  },
  {
   "cell_type": "markdown",
   "metadata": {},
   "source": [
    "heading1 = driver.find_element_by_tag_name('h1')\n",
    "\n"
   ]
  },
  {
   "cell_type": "markdown",
   "metadata": {},
   "source": [
    "## 4.6。按类名定位元素\n",
    "如果要按类属性名称定位元素，请使用此选项。使用此策略，将返回具有匹配类属性名称的第一个元素。如果没有元素具有匹配的类属性名称，NoSuchElementException则将引发a。\n",
    "\n",
    "例如，请考虑此页面来源：\n",
    "```\n",
    "<html>\n",
    " <body>\n",
    "  <p class=\"content\">Site content goes here.</p>\n",
    "</body>\n",
    "<html>\n",
    "```"
   ]
  },
  {
   "cell_type": "markdown",
   "metadata": {},
   "source": [
    "contetnt = driver.find_element_by_class_name('content')"
   ]
  },
  {
   "cell_type": "markdown",
   "metadata": {},
   "source": [
    "## 4.7。通过CSS选择器定位元素\n",
    "如果要通过CSS选择器语法查找元素，请使用此选项。使用此策略，将返回具有匹配的CSS选择器的第一个元素。如果没有元素具有匹配的CSS选择器，NoSuchElementException则将引发a。\n",
    "\n",
    "例如，请考虑此页面来源：\n",
    "```\n",
    "<html>\n",
    " <body>\n",
    "  <p class=\"content\">Site content goes here.</p>\n",
    "</body>\n",
    "<html>\n",
    "```"
   ]
  },
  {
   "cell_type": "markdown",
   "metadata": {},
   "source": [
    "content = driver.find_element_by_css_selector('p.content')"
   ]
  },
  {
   "cell_type": "markdown",
   "metadata": {},
   "source": [
    "# 5.等待"
   ]
  },
  {
   "cell_type": "markdown",
   "metadata": {},
   "source": [
    "目前，大多数Web应用程序都在使用AJAX技术。当浏览器加载页面时，该页面中的元素可能以不同的时间间隔加载。这使定位元素变得困难：如果DOM中尚未存在元素，则locate函数将引发ElementNotVisibleException异常。使用等待，我们可以解决这个问题。等待在执行的操作之间提供了一些松弛 - 主要是使用元素定位元素或任何其他操作。\n",
    "\n",
    "Selenium Webdriver提供两种类型的等待 - 隐式和显式。显式等待使WebDriver等待某个条件发生，然后再继续执行。在尝试查找元素时，隐式等待会使WebDriver轮询DOM一段时间。"
   ]
  },
  {
   "cell_type": "markdown",
   "metadata": {},
   "source": [
    "## 5.1。显式等待\n",
    "显式等待是您定义的代码，用于在进一步执行代码之前等待某个条件发生。这种情况的极端情况是time.sleep（），它将条件设置为等待的确切时间段。提供了一些便捷方法，可以帮助您编写仅在需要时等待的代码。WebDriverWait与ExpectedCondition相结合是一种可以实现的方法。"
   ]
  },
  {
   "cell_type": "code",
   "execution_count": null,
   "metadata": {},
   "outputs": [],
   "source": [
    "from selenium import webdriver\n",
    "from selenium"
   ]
  }
 ],
 "metadata": {
  "kernelspec": {
   "display_name": "Python 3",
   "language": "python",
   "name": "python3"
  },
  "language_info": {
   "codemirror_mode": {
    "name": "ipython",
    "version": 3
   },
   "file_extension": ".py",
   "mimetype": "text/x-python",
   "name": "python",
   "nbconvert_exporter": "python",
   "pygments_lexer": "ipython3",
   "version": "3.6.3"
  }
 },
 "nbformat": 4,
 "nbformat_minor": 2
}
