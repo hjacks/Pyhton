{
 "cells": [
  {
   "cell_type": "markdown",
   "metadata": {},
   "source": [
    "XPath，全称XML Path Language，即XML路径语言，它是一门在XML文档中查找信息的语言。它最初是用来搜寻XML文档的，但是它同样适用于HTML文档的搜索。\n",
    "\n",
    "所以在做爬虫时，我们完全可以使用XPath来做相应的信息抽取。本节中，我们就来介绍XPath的基本用法。"
   ]
  },
  {
   "cell_type": "markdown",
   "metadata": {},
   "source": [
    "# 1. XPath概览\n",
    "XPath的选择功能十分强大，它提供了非常简洁明了的路径选择表达式。另外，它还提供了超过100个内建函数，用于字符串、数值、时间的匹配以及节点、序列的处理等。几乎所有我们想要定位的节点，都可以用XPath来选择。\n",
    "\n",
    "XPath于1999年11月16日成为W3C标准，它被设计为供XSLT、XPointer以及其他XML解析软件使用，更多的文档可以访问其官方网站：https://www.w3.org/TR/xpath/"
   ]
  },
  {
   "cell_type": "markdown",
   "metadata": {},
   "source": [
    "# 2. XPath常用规则"
   ]
  },
  {
   "cell_type": "markdown",
   "metadata": {},
   "source": [
    "表达式 | 描述\n",
    ":---------|:---------------\n",
    "nodename | 选取此节点的所有子节点\n",
    "/|从当前节点选取直接子节点\n",
    "//|从当前节点选取子孙节点\n",
    ".|选取当前节点\n",
    "..|选取当前节点的父节点\n",
    "@|选取属性"
   ]
  },
  {
   "cell_type": "markdown",
   "metadata": {},
   "source": [
    "# 4. 实例引入\n",
    "现在通过实例来感受一下使用XPath来对网页进行解析的过程"
   ]
  },
  {
   "cell_type": "code",
   "execution_count": 1,
   "metadata": {},
   "outputs": [
    {
     "name": "stdout",
     "output_type": "stream",
     "text": [
      "<html><body><div>\n",
      "    <ul>\n",
      "         <li class=\"item-0\"><a href=\"link1.html\">first item</a></li>\n",
      "         <li class=\"item-1\"><a href=\"link2.html\">second item</a></li>\n",
      "         <li class=\"item-inactive\"><a href=\"link3.html\">third item</a></li>\n",
      "         <li class=\"item-1\"><a href=\"link4.html\">fourth item</a></li>\n",
      "         <li class=\"item-0\"><a href=\"link5.html\">fifth item</a>\n",
      "     </li></ul>\n",
      " </div>\n",
      "</body></html>\n"
     ]
    }
   ],
   "source": [
    "from lxml import etree\n",
    "text = '''\n",
    "<div>\n",
    "    <ul>\n",
    "         <li class=\"item-0\"><a href=\"link1.html\">first item</a></li>\n",
    "         <li class=\"item-1\"><a href=\"link2.html\">second item</a></li>\n",
    "         <li class=\"item-inactive\"><a href=\"link3.html\">third item</a></li>\n",
    "         <li class=\"item-1\"><a href=\"link4.html\">fourth item</a></li>\n",
    "         <li class=\"item-0\"><a href=\"link5.html\">fifth item</a>\n",
    "     </ul>\n",
    " </div>\n",
    "'''\n",
    "\n",
    "html = etree.HTML(text)\n",
    "result = etree.tostring(html)\n",
    "print(result.decode('utf-8'))"
   ]
  },
  {
   "cell_type": "markdown",
   "metadata": {},
   "source": [
    "这里首先导入lxml库的etree模块，然后声明了一段HTML文本，调用HTML类进行初始化，这样就成功构造了一个XPath解析对象。这里需要注意的是，HTML文本中的最后一个li节点是没有闭合的，但是etree模块可以自动修正HTML文本。\n",
    "\n",
    "这里我们调用tostring()方法即可输出修正后的HTML代码，但是结果是bytes类型。这里利用decode()方法将其转成str类型"
   ]
  },
  {
   "cell_type": "markdown",
   "metadata": {},
   "source": [
    "可以看到，经过处理之后，li节点标签被补全，并且还自动添加了body、html节点。\n",
    "\n",
    "另外，也可以直接读取文本文件进行解析"
   ]
  },
  {
   "cell_type": "code",
   "execution_count": 2,
   "metadata": {},
   "outputs": [
    {
     "name": "stdout",
     "output_type": "stream",
     "text": [
      "<!DOCTYPE html PUBLIC \"-//W3C//DTD HTML 4.0 Transitional//EN\" \"http://www.w3.org/TR/REC-html40/loose.dtd\">\n",
      "<html><body><div>&#13;\n",
      "    <ul>&#13;\n",
      "         <li class=\"item-0\"><a href=\"link1.html\">first item</a></li>&#13;\n",
      "         <li class=\"item-1\"><a href=\"link2.html\">second item</a></li>&#13;\n",
      "         <li class=\"item-inactive\"><a href=\"link3.html\">third item</a></li>&#13;\n",
      "         <li class=\"item-1\"><a href=\"link4.html\">fourth item</a></li>&#13;\n",
      "         <li class=\"item-0\"><a href=\"link5.html\">fifth item</a>&#13;\n",
      "     </li></ul>&#13;\n",
      " </div></body></html>\n"
     ]
    }
   ],
   "source": [
    "from lxml import etree\n",
    "\n",
    "html = etree.parse('./test.html',etree.HTMLParser())\n",
    "result = etree.tostring(html)\n",
    "print(result.decode('utf-8'))"
   ]
  },
  {
   "cell_type": "markdown",
   "metadata": {},
   "source": [
    "# 5. 所有节点\n",
    "我们一般会用//开头的XPath规则来选取所有符合要求的节点。这里以前面的HTML文本为例，如果要选取所有节点，可以这样实现："
   ]
  },
  {
   "cell_type": "code",
   "execution_count": 1,
   "metadata": {},
   "outputs": [
    {
     "name": "stdout",
     "output_type": "stream",
     "text": [
      "<class 'list'>\n",
      "[<Element html at 0x5e32248>, <Element body at 0x5e32288>, <Element div at 0x5e322c8>, <Element ul at 0x5e32308>, <Element li at 0x5e32348>, <Element a at 0x5e323c8>, <Element li at 0x5e32408>, <Element a at 0x5e32448>, <Element li at 0x5e32488>, <Element a at 0x5e32388>, <Element li at 0x5e324c8>, <Element a at 0x5e32508>, <Element li at 0x5e32548>, <Element a at 0x5e32588>]\n"
     ]
    }
   ],
   "source": [
    "from lxml import etree\n",
    "html = etree.parse('./test.html',etree.HTMLParser())\n",
    "result = html.xpath('//*')\n",
    "print(type(result))\n",
    "print(result)"
   ]
  },
  {
   "cell_type": "markdown",
   "metadata": {},
   "source": [
    "这里使用\\*代表匹配所有节点，也就是整个HTML文本中的所有节点都会被获取。可以看到，返回形式是一个列表，每个元素是Element类型，其后跟了节点的名称，如html、body、div、ul、li、a等，所有节点都包含在列表中了。\n",
    "\n",
    "当然，此处匹配也可以指定节点名称。如果想获取所有li节点，示例如下："
   ]
  },
  {
   "cell_type": "code",
   "execution_count": 2,
   "metadata": {},
   "outputs": [
    {
     "name": "stdout",
     "output_type": "stream",
     "text": [
      "[<Element li at 0x5e32348>, <Element li at 0x5e32408>, <Element li at 0x5e32488>, <Element li at 0x5e324c8>, <Element li at 0x5e32548>]\n",
      "<Element li at 0x5e32348>\n"
     ]
    }
   ],
   "source": [
    "result = html.xpath('//li')\n",
    "print(result)\n",
    "print(result[0])"
   ]
  },
  {
   "cell_type": "markdown",
   "metadata": {},
   "source": [
    "这里要选取所有li节点，可以使用//，然后直接加上节点名称即可，调用时直接使用xpath()方法即可。\n",
    "\n",
    "这里可以看到提取结果是一个列表形式，其中每个元素都是一个 Element对象。如果要取出其中一个对象，可以直接用中括号加索引，如[0]。"
   ]
  },
  {
   "cell_type": "markdown",
   "metadata": {},
   "source": [
    "# 6. 子节点\n",
    "我们通过/或//即可查找元素的子节点或子孙节点。假如现在想选择li节点的所有直接a子节点，可以这样实现："
   ]
  },
  {
   "cell_type": "code",
   "execution_count": 4,
   "metadata": {},
   "outputs": [
    {
     "name": "stdout",
     "output_type": "stream",
     "text": [
      "[<Element a at 0x5e32f48>, <Element a at 0x5e32fc8>, <Element a at 0x5e4a048>, <Element a at 0x5e4a088>, <Element a at 0x5e4a0c8>]\n"
     ]
    }
   ],
   "source": [
    "result = html.xpath('//li/a')\n",
    "print(result)"
   ]
  },
  {
   "cell_type": "markdown",
   "metadata": {},
   "source": [
    "这里通过追加/a即选择了所有li节点的所有直接a子节点。因为//li用于选中所有li节点，/a用于选中li节点的所有直接子节点a，二者组合在一起即获取所有li节点的所有直接a子节点。\n",
    "\n",
    "此处的/用于选取直接子节点，如果要获取所有子孙节点，就可以使用//。例如，要获取ul节点下的所有子孙a节点，可以这样实现："
   ]
  },
  {
   "cell_type": "code",
   "execution_count": 5,
   "metadata": {},
   "outputs": [
    {
     "name": "stdout",
     "output_type": "stream",
     "text": [
      "[<Element a at 0x5e32f48>, <Element a at 0x5e32fc8>, <Element a at 0x5e4a048>, <Element a at 0x5e4a088>, <Element a at 0x5e4a0c8>]\n"
     ]
    }
   ],
   "source": [
    "result = html.xpath('//ul//a')\n",
    "print(result)"
   ]
  },
  {
   "cell_type": "markdown",
   "metadata": {},
   "source": [
    "运行结果是相同的。\n",
    "\n",
    "但是如果这里用//ul/a，就无法获取任何结果了。因为/用于获取直接子节点，而在ul节点下没有直接的a子节点，只有li节点，所以无法获取任何匹配结果"
   ]
  },
  {
   "cell_type": "code",
   "execution_count": 6,
   "metadata": {},
   "outputs": [
    {
     "name": "stdout",
     "output_type": "stream",
     "text": [
      "[]\n"
     ]
    }
   ],
   "source": [
    "result = html.xpath('//ul/a')\n",
    "print(result)"
   ]
  },
  {
   "cell_type": "markdown",
   "metadata": {},
   "source": [
    "因此，这里我们要注意/和//的区别，其中/用于获取直接子节点，//用于获取子孙节点"
   ]
  },
  {
   "cell_type": "markdown",
   "metadata": {},
   "source": [
    "# 7. 父节点\n",
    "我们知道通过连续的/或//可以查找子节点或子孙节点，那么假如我们知道了子节点，怎样来查找父节点呢？这可以用..来实现。\n",
    "\n",
    "比如，现在首先选中href属性为link4.html的a节点，然后再获取其父节点，然后再获取其class属性，相关代码如下："
   ]
  },
  {
   "cell_type": "code",
   "execution_count": 7,
   "metadata": {},
   "outputs": [
    {
     "name": "stdout",
     "output_type": "stream",
     "text": [
      "['item-1']\n"
     ]
    }
   ],
   "source": [
    "result = html.xpath('//a[@href=\"link4.html\"]/../@class')\n",
    "print(result)"
   ]
  },
  {
   "cell_type": "markdown",
   "metadata": {},
   "source": [
    "检查一下结果发现，这正是我们获取的目标li节点的class。\n",
    "\n",
    "同时，我们也可以通过parent::来获取父节点，代码如下："
   ]
  },
  {
   "cell_type": "code",
   "execution_count": 17,
   "metadata": {},
   "outputs": [
    {
     "name": "stdout",
     "output_type": "stream",
     "text": [
      "['item-1']\n"
     ]
    }
   ],
   "source": [
    "result = html.xpath('//a[@href=\"link4.html\"]/parent::*/@class') # 获取属性节点的属性值\n",
    "print(result)"
   ]
  },
  {
   "cell_type": "markdown",
   "metadata": {},
   "source": [
    "# 8. 属性匹配\n",
    "在选取的时候，我们还可以用@符号进行属性过滤。比如，这里如果要选取class为item-1的li节点，可以这样实现:"
   ]
  },
  {
   "cell_type": "code",
   "execution_count": 18,
   "metadata": {},
   "outputs": [
    {
     "name": "stdout",
     "output_type": "stream",
     "text": [
      "[<Element li at 0x5e32b48>, <Element li at 0x60a79c8>]\n"
     ]
    }
   ],
   "source": [
    "result = html.xpath('//li[@class=\"item-0\"]') # 获取有该属性的节点\n",
    "print(result)"
   ]
  },
  {
   "cell_type": "markdown",
   "metadata": {},
   "source": [
    "这里我们通过加入[@class=\"item-0\"]，限制了节点的class属性为item-0，而HTML文本中符合条件的li节点有两个，所以结果应该返回两个匹配到的元素。"
   ]
  },
  {
   "cell_type": "markdown",
   "metadata": {},
   "source": [
    "# 9. 文本获取\n",
    "我们用XPath中的text()方法获取节点中的文本，接下来尝试获取前面li节点中的文本，相关代码如下："
   ]
  },
  {
   "cell_type": "code",
   "execution_count": 19,
   "metadata": {},
   "outputs": [
    {
     "name": "stdout",
     "output_type": "stream",
     "text": [
      "['\\r\\n     ']\n"
     ]
    }
   ],
   "source": [
    "result = html.xpath('//li[@class=\"item-0\"]/text()') # 获取值\n",
    "print(result)"
   ]
  },
  {
   "cell_type": "markdown",
   "metadata": {},
   "source": [
    "奇怪的是，我们并没有获取到任何文本，只获取到了一个换行符，这是为什么呢？因为XPath中text()前面是/，而此处/的含义是选取直接子节点，很明显li的直接子节点都是a节点，文本都是在a节点内部的，所以这里匹配到的结果就是被修正的li节点内部的换行符，因为自动修正的li节点的尾标签换行了。\n",
    "\n",
    "其中一个节点因为自动修正，li节点的尾标签添加的时候换行了，所以提取文本得到的唯一结果就是li节点的尾标签和a节点的尾标签之间的换行符。\n",
    "\n",
    "因此，如果想获取li节点内部的文本，就有两种方式，一种是先选取a节点再获取文本，另一种就是使用//。接下来，我们来看下二者的区别。\n",
    "\n",
    "首先，选取到a节点再获取文本，代码如下："
   ]
  },
  {
   "cell_type": "code",
   "execution_count": 21,
   "metadata": {},
   "outputs": [
    {
     "name": "stdout",
     "output_type": "stream",
     "text": [
      "['first item', 'fifth item']\n"
     ]
    }
   ],
   "source": [
    "result = html.xpath('//li[@class=\"item-0\"]/a/text()')\n",
    "print(result)"
   ]
  },
  {
   "cell_type": "markdown",
   "metadata": {},
   "source": [
    "可以看到，这里的返回值是两个，内容都是属性为item-0的li节点的文本，这也印证了前面属性匹配的结果是正确的。\n",
    "\n",
    "这里我们是逐层选取的，先选取了li节点，又利用/选取了其直接子节点a，然后再选取其文本，得到的结果恰好是符合我们预期的两个结果。\n",
    "\n",
    "再来看下用另一种方式（即使用//）选取的结果，代码如下："
   ]
  },
  {
   "cell_type": "code",
   "execution_count": 22,
   "metadata": {},
   "outputs": [
    {
     "name": "stdout",
     "output_type": "stream",
     "text": [
      "['first item', 'fifth item', '\\r\\n     ']\n"
     ]
    }
   ],
   "source": [
    "result = html.xpath('//li[@class=\"item-0\"]//text()')\n",
    "print(result)"
   ]
  },
  {
   "cell_type": "markdown",
   "metadata": {},
   "source": [
    "不出所料，这里的返回结果是3个。可想而知，这里是选取所有子孙节点的文本，其中前两个就是li的子节点a节点内部的文本，另外一个就是最后一个li节点内部的文本，即换行符。\n",
    "\n",
    "所以说，如果要想获取子孙节点内部的所有文本，可以直接用//加text()的方式，这样可以保证获取到最全面的文本信息，但是可能会夹杂一些换行符等特殊字符。如果想获取某些特定子孙节点下的所有文本，可以先选取到特定的子孙节点，然后再调用text()方法获取其内部文本，这样可以保证获取的结果是整洁的。"
   ]
  },
  {
   "cell_type": "markdown",
   "metadata": {},
   "source": [
    "# 10. 属性获取\n",
    "我们知道用text()可以获取节点内部文本，那么节点属性该怎样获取呢？其实还是用@符号就可以。例如，我们想获取所有li节点下所有a节点的href属性，代码如下：\n",
    "\n"
   ]
  },
  {
   "cell_type": "code",
   "execution_count": 23,
   "metadata": {},
   "outputs": [
    {
     "name": "stdout",
     "output_type": "stream",
     "text": [
      "['link1.html', 'link2.html', 'link3.html', 'link4.html', 'link5.html']\n"
     ]
    }
   ],
   "source": [
    "result = html.xpath('//li/a/@href')\n",
    "print(result)"
   ]
  },
  {
   "cell_type": "markdown",
   "metadata": {},
   "source": [
    "这里我们通过@href即可获取节点的href属性。注意，此处和属性匹配的方法不同，属性匹配是中括号加属性名和值来限定某个属性，如[@href=\"link1.html\"]，而此处的@href指的是获取节点的某个属性，二者需要做好区分。"
   ]
  },
  {
   "cell_type": "markdown",
   "metadata": {},
   "source": [
    "# 11. 属性多值匹配\n",
    "有时候，某些节点的某个属性可能有多个值，例如"
   ]
  },
  {
   "cell_type": "code",
   "execution_count": 27,
   "metadata": {},
   "outputs": [
    {
     "name": "stdout",
     "output_type": "stream",
     "text": [
      "[]\n"
     ]
    }
   ],
   "source": [
    "from lxml import etree\n",
    "text = '''\n",
    "<li class=\"li li-first\"><a href=\"link.html\">first item</a></li>\n",
    "'''\n",
    "html = etree.HTML(text)\n",
    "result = html.xpath('//li[@class=\"li\"]/a/text()')\n",
    "print(result)"
   ]
  },
  {
   "cell_type": "markdown",
   "metadata": {},
   "source": [
    "这里HTML文本中li节点的class属性有两个值li和li-first，此时如果还想用之前的属性匹配获取，就无法匹配了"
   ]
  },
  {
   "cell_type": "markdown",
   "metadata": {},
   "source": [
    "这时就需要用contains()函数了，代码可以改写如下："
   ]
  },
  {
   "cell_type": "code",
   "execution_count": 28,
   "metadata": {},
   "outputs": [
    {
     "name": "stdout",
     "output_type": "stream",
     "text": [
      "['first item']\n"
     ]
    }
   ],
   "source": [
    "result = html.xpath('//li[contains(@class,\"li\")]/a/text()')\n",
    "print(result)"
   ]
  },
  {
   "cell_type": "markdown",
   "metadata": {},
   "source": [
    "这样通过contains()方法，第一个参数传入属性名称，第二个参数传入属性值，只要此属性包含所传入的属性值，就可以完成匹配了。\n",
    "\n",
    "此种方式在某个节点的某个属性有多个值时经常用到，如某个节点的class属性通常有多个。"
   ]
  },
  {
   "cell_type": "markdown",
   "metadata": {},
   "source": [
    "# 12. 多属性匹配\n",
    "另外，我们可能还遇到一种情况，那就是根据多个属性确定一个节点，这时就需要同时匹配多个属性。此时可以使用运算符and来连接，示例如下："
   ]
  },
  {
   "cell_type": "code",
   "execution_count": 29,
   "metadata": {},
   "outputs": [
    {
     "name": "stdout",
     "output_type": "stream",
     "text": [
      "['first item']\n"
     ]
    }
   ],
   "source": [
    "from lxml import etree\n",
    "text = '''\n",
    "<li class=\"li li-first\" name=\"item\"><a href=\"link.html\">first item</a></li>\n",
    "'''\n",
    "html = etree.HTML(text)\n",
    "result = html.xpath('//li[contains(@class,\"li\") and @name = \"item\"]/a/text()')\n",
    "print(result)"
   ]
  },
  {
   "cell_type": "markdown",
   "metadata": {},
   "source": [
    "这里的li节点又增加了一个属性name。要确定这个节点，需要同时根据class和name属性来选择，一个条件是class属性里面包含li字符串，另一个条件是name属性为item字符串，二者需要同时满足，需要用and操作符相连，相连之后置于中括号内进行条件筛选。"
   ]
  },
  {
   "cell_type": "markdown",
   "metadata": {},
   "source": [
    "这里的and其实是XPath中的运算符。另外，还有很多运算符，如or、mod等，在此总结为表"
   ]
  },
  {
   "cell_type": "markdown",
   "metadata": {},
   "source": [
    "运算符 | 描述 | 实例 |返回值\n",
    ":-----|:----:|:-----:|:------\n",
    "or | 或 | age=19 or age=20 | 如果age是19，则返回true。如果age是21，则返回false\n",
    "and|与|age>19 and age<21|如果age是20，则返回true。如果age是18，则返回false\n",
    "mod|计算除法的余数|5 mod 2|1\n",
    "\\ |计算两个节点集 | //book \\ //cd | 返回所有拥有book和cd元素的节点集\n",
    "+|加法|6 + 4|10\n",
    "-|减法|6 - 4|2\n",
    "\\*|乘法|6 * 4|24\n",
    "div|除法|8 div 4|2\n",
    "=|等于|age=19|如果age是19，则返回true。如果age是20，则返回false\n",
    "!=|不等于|age!=19|如果age是18，则返回true。如果age是19，则返回false\n",
    "<|小于|age<19|如果age是18，则返回true。如果age是19，则返回false\n",
    "<=|小于或等于|age<=19|如果age是19，则返回true。如果age是20，则返回false\n",
    "\\>|大于|age>19|如果age是20，则返回true。如果age是19，则返回false\n",
    "\\>=|大于或等于|age>=19|如果age是19，则返回true。如果age是18，则返回false"
   ]
  },
  {
   "cell_type": "code",
   "execution_count": null,
   "metadata": {},
   "outputs": [],
   "source": []
  }
 ],
 "metadata": {
  "kernelspec": {
   "display_name": "Python 3",
   "language": "python",
   "name": "python3"
  },
  "language_info": {
   "codemirror_mode": {
    "name": "ipython",
    "version": 3
   },
   "file_extension": ".py",
   "mimetype": "text/x-python",
   "name": "python",
   "nbconvert_exporter": "python",
   "pygments_lexer": "ipython3",
   "version": "3.6.3"
  }
 },
 "nbformat": 4,
 "nbformat_minor": 2
}
