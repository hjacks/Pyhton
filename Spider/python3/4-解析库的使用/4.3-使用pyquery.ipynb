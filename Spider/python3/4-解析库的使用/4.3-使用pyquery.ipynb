{
 "cells": [
  {
   "cell_type": "markdown",
   "metadata": {},
   "source": [
    "在上一节中，我们介绍了Beautiful Soup的用法，它是一个非常强大的网页解析库，你是否觉得它的一些方法用起来有点不适应？有没有觉得它的CSS选择器的功能没有那么强大？\n",
    "\n",
    "如果你对Web有所涉及，如果你比较喜欢用CSS选择器，如果你对jQuery有所了解，那么这里有一个更适合你的解析库——pyquery。\n",
    "\n",
    "接下来，我们就来感受一下pyquery的强大之处。"
   ]
  },
  {
   "cell_type": "markdown",
   "metadata": {},
   "source": [
    "# 2. 初始化\n",
    "像Beautiful Soup一样，初始化pyquery的时候，也需要传入HTML文本来初始化一个PyQuery对象。它的初始化方式有多种，比如直接传入字符串，传入URL，传入文件名，等等。下面我们来详细介绍一下。\n",
    "\n",
    "字符串初始化\n",
    "首先，我们用一个实例来感受一下："
   ]
  },
  {
   "cell_type": "code",
   "execution_count": 2,
   "metadata": {},
   "outputs": [
    {
     "name": "stdout",
     "output_type": "stream",
     "text": [
      "<li class=\"item-0\">first item</li>\n",
      "         <li class=\"item-1\"><a href=\"link2.html\">second item</a></li>\n",
      "         <li class=\"item-0 active\"><a href=\"link3.html\"><span class=\"bold\">third item</span></a></li>\n",
      "         <li class=\"item-1 active\"><a href=\"link4.html\">fourth item</a></li>\n",
      "         <li class=\"item-0\"><a href=\"link5.html\">fifth item</a></li>\n",
      "     \n"
     ]
    }
   ],
   "source": [
    "html = '''\n",
    "<div>\n",
    "    <ul>\n",
    "         <li class=\"item-0\">first item</li>\n",
    "         <li class=\"item-1\"><a href=\"link2.html\">second item</a></li>\n",
    "         <li class=\"item-0 active\"><a href=\"link3.html\"><span class=\"bold\">third item</span></a></li>\n",
    "         <li class=\"item-1 active\"><a href=\"link4.html\">fourth item</a></li>\n",
    "         <li class=\"item-0\"><a href=\"link5.html\">fifth item</a></li>\n",
    "     </ul>\n",
    " </div>\n",
    "'''\n",
    "from pyquery import PyQuery as pq\n",
    "doc = pq(html)\n",
    "print(doc('li'))"
   ]
  },
  {
   "cell_type": "markdown",
   "metadata": {},
   "source": [
    "这里首先引入PyQuery这个对象，取别名为pq。然后声明了一个长HTML字符串，并将其当作参数传递给PyQuery类，这样就成功完成了初始化。接下来，将初始化的对象传入CSS选择器。在这个实例中，我们传入li节点，这样就可以选择所有的li节点"
   ]
  },
  {
   "cell_type": "markdown",
   "metadata": {},
   "source": [
    "## URL初始化\n",
    "初始化的参数不仅可以以字符串的形式传递，还可以传入网页的URL，此时只需要指定参数为url即可："
   ]
  },
  {
   "cell_type": "code",
   "execution_count": 3,
   "metadata": {},
   "outputs": [
    {
     "name": "stdout",
     "output_type": "stream",
     "text": [
      "<title>静觅丨崔庆才的个人博客</title>&#13;\n",
      "\n"
     ]
    }
   ],
   "source": [
    "from pyquery import PyQuery as pq\n",
    "doc = pq(url='http://cuiqingcai.com')\n",
    "print(doc('title'))"
   ]
  },
  {
   "cell_type": "markdown",
   "metadata": {},
   "source": [
    "这样的话，PyQuery对象会首先请求这个URL，然后用得到的HTML内容完成初始化，这其实就相当于用网页的源代码以字符串的形式传递给PyQuery类来初始化。\n",
    "\n",
    "它与下面的功能是相同的："
   ]
  },
  {
   "cell_type": "code",
   "execution_count": 4,
   "metadata": {},
   "outputs": [
    {
     "name": "stdout",
     "output_type": "stream",
     "text": [
      "<title>静觅丨崔庆才的个人博客</title>&#13;\n",
      "\n"
     ]
    }
   ],
   "source": [
    "from pyquery import PyQuery as pq\n",
    "import requests\n",
    "doc = pq(requests.get('http://cuiqingcai.com').text)\n",
    "print(doc('title'))"
   ]
  },
  {
   "cell_type": "markdown",
   "metadata": {},
   "source": [
    "## 文件初始化\n",
    "当然，除了传递URL，还可以传递本地的文件名，此时将参数指定为filename即可："
   ]
  },
  {
   "cell_type": "code",
   "execution_count": 5,
   "metadata": {},
   "outputs": [
    {
     "name": "stdout",
     "output_type": "stream",
     "text": [
      "<li class=\"item-0\">first item</li>\n",
      "         <li class=\"item-1\"><a href=\"link2.html\">second item</a></li>\n",
      "         <li class=\"item-0 active\"><a href=\"link3.html\"><span class=\"bold\">third item</span></a></li>\n",
      "         <li class=\"item-1 active\"><a href=\"link4.html\">fourth item</a></li>\n",
      "         <li class=\"item-0\"><a href=\"link5.html\">fifth item</a></li>\n",
      "     \n"
     ]
    }
   ],
   "source": [
    "doc = pq(filename = 'demo.html')\n",
    "print(doc('li'))"
   ]
  },
  {
   "cell_type": "markdown",
   "metadata": {},
   "source": [
    "当然，这里需要有一个本地HTML文件demo.html，其内容是待解析的HTML字符串。这样它会首先读取本地的文件内容，然后用文件内容以字符串的形式传递给PyQuery类来初始化。\n",
    "\n",
    "以上3种初始化方式均可，当然最常用的初始化方式还是以字符串形式传递。"
   ]
  },
  {
   "cell_type": "markdown",
   "metadata": {},
   "source": [
    "# 3. 基本CSS选择器\n",
    "首先，用一个实例来感受pyquery的CSS选择器的用法："
   ]
  },
  {
   "cell_type": "code",
   "execution_count": 6,
   "metadata": {},
   "outputs": [
    {
     "name": "stdout",
     "output_type": "stream",
     "text": [
      "<li class=\"item-0\">first item</li>\n",
      "         <li class=\"item-1\"><a href=\"link2.html\">second item</a></li>\n",
      "         <li class=\"item-0 active\"><a href=\"link3.html\"><span class=\"bold\">third item</span></a></li>\n",
      "         <li class=\"item-1 active\"><a href=\"link4.html\">fourth item</a></li>\n",
      "         <li class=\"item-0\"><a href=\"link5.html\">fifth item</a></li>\n",
      "     \n",
      "=============\n",
      "<class 'pyquery.pyquery.PyQuery'>\n"
     ]
    }
   ],
   "source": [
    "html = '''\n",
    "<div id=\"container\">\n",
    "    <ul class=\"list\">\n",
    "         <li class=\"item-0\">first item</li>\n",
    "         <li class=\"item-1\"><a href=\"link2.html\">second item</a></li>\n",
    "         <li class=\"item-0 active\"><a href=\"link3.html\"><span class=\"bold\">third item</span></a></li>\n",
    "         <li class=\"item-1 active\"><a href=\"link4.html\">fourth item</a></li>\n",
    "         <li class=\"item-0\"><a href=\"link5.html\">fifth item</a></li>\n",
    "     </ul>\n",
    " </div>\n",
    "'''\n",
    "from pyquery import PyQuery as pq\n",
    "doc = pq(html)\n",
    "print(doc('#container .list li'))\n",
    "print('=============')\n",
    "print(type(doc('#container .list li')))"
   ]
  },
  {
   "cell_type": "markdown",
   "metadata": {},
   "source": [
    "这里我们初始化PyQuery对象之后，传入了一个CSS选择器#container .list li，它的意思是先选取id为container的节点，然后再选取其内部的class为list的节点内部的所有li节点。然后，打印输出。可以看到，我们成功获取到了符合条件的节点。\n",
    "\n",
    "最后，将它的类型打印输出。可以看到，它的类型依然是PyQuery类型"
   ]
  },
  {
   "cell_type": "markdown",
   "metadata": {},
   "source": [
    "## 4. 查找节点\n",
    "下面我们介绍一些常用的查询函数，这些函数和jQuery中函数的用法完全相同。\n",
    "\n",
    "### 子节点\n",
    "查找子节点时，需要用到find()方法，此时传入的参数是CSS选择器。这里还是以前面的HTML为例："
   ]
  },
  {
   "cell_type": "code",
   "execution_count": 7,
   "metadata": {},
   "outputs": [
    {
     "name": "stdout",
     "output_type": "stream",
     "text": [
      "<class 'pyquery.pyquery.PyQuery'>\n"
     ]
    }
   ],
   "source": [
    "items = doc('.list')\n",
    "print(type(items))"
   ]
  },
  {
   "cell_type": "code",
   "execution_count": 8,
   "metadata": {},
   "outputs": [
    {
     "name": "stdout",
     "output_type": "stream",
     "text": [
      "<ul class=\"list\">\n",
      "         <li class=\"item-0\">first item</li>\n",
      "         <li class=\"item-1\"><a href=\"link2.html\">second item</a></li>\n",
      "         <li class=\"item-0 active\"><a href=\"link3.html\"><span class=\"bold\">third item</span></a></li>\n",
      "         <li class=\"item-1 active\"><a href=\"link4.html\">fourth item</a></li>\n",
      "         <li class=\"item-0\"><a href=\"link5.html\">fifth item</a></li>\n",
      "     </ul>\n",
      " \n"
     ]
    }
   ],
   "source": [
    "print(items)"
   ]
  },
  {
   "cell_type": "code",
   "execution_count": 10,
   "metadata": {},
   "outputs": [],
   "source": [
    "lis = items.find('li')"
   ]
  },
  {
   "cell_type": "code",
   "execution_count": 11,
   "metadata": {},
   "outputs": [
    {
     "name": "stdout",
     "output_type": "stream",
     "text": [
      "<class 'pyquery.pyquery.PyQuery'>\n"
     ]
    }
   ],
   "source": [
    "print(type(lis))"
   ]
  },
  {
   "cell_type": "code",
   "execution_count": 12,
   "metadata": {},
   "outputs": [
    {
     "name": "stdout",
     "output_type": "stream",
     "text": [
      "<li class=\"item-0\">first item</li>\n",
      "         <li class=\"item-1\"><a href=\"link2.html\">second item</a></li>\n",
      "         <li class=\"item-0 active\"><a href=\"link3.html\"><span class=\"bold\">third item</span></a></li>\n",
      "         <li class=\"item-1 active\"><a href=\"link4.html\">fourth item</a></li>\n",
      "         <li class=\"item-0\"><a href=\"link5.html\">fifth item</a></li>\n",
      "     \n"
     ]
    }
   ],
   "source": [
    "print(lis)"
   ]
  },
  {
   "cell_type": "markdown",
   "metadata": {},
   "source": [
    "首先，我们选取class为list的节点，然后调用了find()方法，传入CSS选择器，选取其内部的li节点，最后打印输出。可以发现，find()方法会将符合条件的所有节点选择出来，结果的类型是PyQuery类型。\n",
    "\n",
    "其实find()的查找范围是节点的所有子孙节点，而如果我们只想查找子节点，那么可以用children()方法：\n",
    "\n"
   ]
  },
  {
   "cell_type": "code",
   "execution_count": 13,
   "metadata": {},
   "outputs": [
    {
     "name": "stdout",
     "output_type": "stream",
     "text": [
      "<class 'pyquery.pyquery.PyQuery'>\n",
      "<li class=\"item-0\">first item</li>\n",
      "         <li class=\"item-1\"><a href=\"link2.html\">second item</a></li>\n",
      "         <li class=\"item-0 active\"><a href=\"link3.html\"><span class=\"bold\">third item</span></a></li>\n",
      "         <li class=\"item-1 active\"><a href=\"link4.html\">fourth item</a></li>\n",
      "         <li class=\"item-0\"><a href=\"link5.html\">fifth item</a></li>\n",
      "     \n"
     ]
    }
   ],
   "source": [
    "list = items.children()\n",
    "print(type(lis))\n",
    "print(lis)"
   ]
  },
  {
   "cell_type": "markdown",
   "metadata": {},
   "source": [
    "如果要筛选所有子节点中符合条件的节点，比如想筛选出子节点中class为active的节点，可以向children()方法传入CSS选择器.active："
   ]
  },
  {
   "cell_type": "code",
   "execution_count": 14,
   "metadata": {},
   "outputs": [],
   "source": [
    "lis = items.children('.active')"
   ]
  },
  {
   "cell_type": "code",
   "execution_count": 15,
   "metadata": {},
   "outputs": [
    {
     "name": "stdout",
     "output_type": "stream",
     "text": [
      "<li class=\"item-0 active\"><a href=\"link3.html\"><span class=\"bold\">third item</span></a></li>\n",
      "         <li class=\"item-1 active\"><a href=\"link4.html\">fourth item</a></li>\n",
      "         \n"
     ]
    }
   ],
   "source": [
    "print(lis)"
   ]
  },
  {
   "cell_type": "markdown",
   "metadata": {},
   "source": [
    "### 父节点\n",
    "我们可以用parent()方法来获取某个节点的父节点，示例如下："
   ]
  },
  {
   "cell_type": "code",
   "execution_count": 16,
   "metadata": {},
   "outputs": [],
   "source": [
    "html = '''\n",
    "<div class=\"wrap\">\n",
    "    <div id=\"container\">\n",
    "        <ul class=\"list\">\n",
    "             <li class=\"item-0\">first item</li>\n",
    "             <li class=\"item-1\"><a href=\"link2.html\">second item</a></li>\n",
    "             <li class=\"item-0 active\"><a href=\"link3.html\"><span class=\"bold\">third item</span></a></li>\n",
    "             <li class=\"item-1 active\"><a href=\"link4.html\">fourth item</a></li>\n",
    "             <li class=\"item-0\"><a href=\"link5.html\">fifth item</a></li>\n",
    "         </ul>\n",
    "     </div>\n",
    " </div>\n",
    "'''\n",
    "from pyquery import PyQuery as pq\n",
    "doc = pq(html)\n",
    "items = doc('.list')\n",
    "container = items.parent()"
   ]
  },
  {
   "cell_type": "code",
   "execution_count": 17,
   "metadata": {},
   "outputs": [
    {
     "name": "stdout",
     "output_type": "stream",
     "text": [
      "<class 'pyquery.pyquery.PyQuery'>\n"
     ]
    }
   ],
   "source": [
    "print(type(container))"
   ]
  },
  {
   "cell_type": "code",
   "execution_count": 18,
   "metadata": {},
   "outputs": [
    {
     "name": "stdout",
     "output_type": "stream",
     "text": [
      "<div id=\"container\">\n",
      "        <ul class=\"list\">\n",
      "             <li class=\"item-0\">first item</li>\n",
      "             <li class=\"item-1\"><a href=\"link2.html\">second item</a></li>\n",
      "             <li class=\"item-0 active\"><a href=\"link3.html\"><span class=\"bold\">third item</span></a></li>\n",
      "             <li class=\"item-1 active\"><a href=\"link4.html\">fourth item</a></li>\n",
      "             <li class=\"item-0\"><a href=\"link5.html\">fifth item</a></li>\n",
      "         </ul>\n",
      "     </div>\n",
      " \n"
     ]
    }
   ],
   "source": [
    "print(container)"
   ]
  },
  {
   "cell_type": "markdown",
   "metadata": {},
   "source": [
    "这里我们首先用.list选取class为list的节点，然后调用parent()方法得到其父节点，其类型依然是PyQuery类型。\n",
    "\n",
    "这里的父节点是该节点的直接父节点，也就是说，它不会再去查找父节点的父节点，即祖先节点。\n",
    "\n",
    "但是如果想获取某个祖先节点，该怎么办呢？这时可以用parents()方法："
   ]
  },
  {
   "cell_type": "code",
   "execution_count": 19,
   "metadata": {},
   "outputs": [
    {
     "name": "stdout",
     "output_type": "stream",
     "text": [
      "<class 'pyquery.pyquery.PyQuery'>\n"
     ]
    }
   ],
   "source": [
    "parents = items.parents()\n",
    "print(type(parents))"
   ]
  },
  {
   "cell_type": "code",
   "execution_count": 20,
   "metadata": {},
   "outputs": [
    {
     "name": "stdout",
     "output_type": "stream",
     "text": [
      "<div class=\"wrap\">\n",
      "    <div id=\"container\">\n",
      "        <ul class=\"list\">\n",
      "             <li class=\"item-0\">first item</li>\n",
      "             <li class=\"item-1\"><a href=\"link2.html\">second item</a></li>\n",
      "             <li class=\"item-0 active\"><a href=\"link3.html\"><span class=\"bold\">third item</span></a></li>\n",
      "             <li class=\"item-1 active\"><a href=\"link4.html\">fourth item</a></li>\n",
      "             <li class=\"item-0\"><a href=\"link5.html\">fifth item</a></li>\n",
      "         </ul>\n",
      "     </div>\n",
      " </div><div id=\"container\">\n",
      "        <ul class=\"list\">\n",
      "             <li class=\"item-0\">first item</li>\n",
      "             <li class=\"item-1\"><a href=\"link2.html\">second item</a></li>\n",
      "             <li class=\"item-0 active\"><a href=\"link3.html\"><span class=\"bold\">third item</span></a></li>\n",
      "             <li class=\"item-1 active\"><a href=\"link4.html\">fourth item</a></li>\n",
      "             <li class=\"item-0\"><a href=\"link5.html\">fifth item</a></li>\n",
      "         </ul>\n",
      "     </div>\n",
      " \n"
     ]
    }
   ],
   "source": [
    "print(parents)"
   ]
  },
  {
   "cell_type": "markdown",
   "metadata": {},
   "source": [
    "可以看到，输出结果有两个：一个是class为wrap的节点，一个是id为container的节点。也就是说，parents()方法会返回所有的祖先节点。\n",
    "\n",
    "如果想要筛选某个祖先节点的话，可以向parents()方法传入CSS选择器，这样就会返回祖先节点中符合CSS选择器的节点："
   ]
  },
  {
   "cell_type": "code",
   "execution_count": 21,
   "metadata": {},
   "outputs": [],
   "source": [
    "parent = items.parents('.wrap')"
   ]
  },
  {
   "cell_type": "code",
   "execution_count": 22,
   "metadata": {},
   "outputs": [
    {
     "name": "stdout",
     "output_type": "stream",
     "text": [
      "<div class=\"wrap\">\n",
      "    <div id=\"container\">\n",
      "        <ul class=\"list\">\n",
      "             <li class=\"item-0\">first item</li>\n",
      "             <li class=\"item-1\"><a href=\"link2.html\">second item</a></li>\n",
      "             <li class=\"item-0 active\"><a href=\"link3.html\"><span class=\"bold\">third item</span></a></li>\n",
      "             <li class=\"item-1 active\"><a href=\"link4.html\">fourth item</a></li>\n",
      "             <li class=\"item-0\"><a href=\"link5.html\">fifth item</a></li>\n",
      "         </ul>\n",
      "     </div>\n",
      " </div>\n"
     ]
    }
   ],
   "source": [
    "print(parent)"
   ]
  },
  {
   "cell_type": "markdown",
   "metadata": {},
   "source": [
    "### 兄弟节点\n",
    "前面我们说明了子节点和父节点的用法，还有一种节点，那就是兄弟节点。如果要获取兄弟节点，可以使用siblings()方法。这里还是以上面的HTML代码为例："
   ]
  },
  {
   "cell_type": "code",
   "execution_count": 23,
   "metadata": {},
   "outputs": [],
   "source": [
    "li = doc('.list .item-0.active')"
   ]
  },
  {
   "cell_type": "code",
   "execution_count": 24,
   "metadata": {},
   "outputs": [
    {
     "name": "stdout",
     "output_type": "stream",
     "text": [
      "<li class=\"item-1\"><a href=\"link2.html\">second item</a></li>\n",
      "             <li class=\"item-0\">first item</li>\n",
      "             <li class=\"item-1 active\"><a href=\"link4.html\">fourth item</a></li>\n",
      "             <li class=\"item-0\"><a href=\"link5.html\">fifth item</a></li>\n",
      "         \n"
     ]
    }
   ],
   "source": [
    "print(li.siblings())"
   ]
  },
  {
   "cell_type": "markdown",
   "metadata": {},
   "source": [
    "这里首先选择class为list的节点内部class为item-0和active的节点，也就是第三个li节点。那么，很明显，它的兄弟节点有4个，那就是第一、二、四、五个li节点。"
   ]
  },
  {
   "cell_type": "markdown",
   "metadata": {},
   "source": [
    "可以看到，这正是我们刚才所说的4个兄弟节点。\n",
    "\n",
    "如果要筛选某个兄弟节点，我们依然可以向siblings方法传入CSS选择器，这样就会从所有兄弟节点中挑选出符合条件的节点了："
   ]
  },
  {
   "cell_type": "code",
   "execution_count": 25,
   "metadata": {},
   "outputs": [
    {
     "name": "stdout",
     "output_type": "stream",
     "text": [
      "<li class=\"item-1 active\"><a href=\"link4.html\">fourth item</a></li>\n",
      "             \n"
     ]
    }
   ],
   "source": [
    "print(li.siblings('.active'))"
   ]
  },
  {
   "cell_type": "markdown",
   "metadata": {},
   "source": [
    "这里我们筛选了class为active的节点，通过刚才的结果可以观察到，class为active的兄弟节点只有第四个li节点，所以结果应该是一个。"
   ]
  },
  {
   "cell_type": "markdown",
   "metadata": {},
   "source": [
    "## 5. 遍历\n",
    "刚才可以观察到，pyquery的选择结果可能是多个节点，也可能是单个节点，类型都是PyQuery类型，并没有返回像Beautiful Soup那样的列表。\n",
    "\n",
    "对于单个节点来说，可以直接打印输出，也可以直接转成字符串："
   ]
  },
  {
   "cell_type": "code",
   "execution_count": 26,
   "metadata": {},
   "outputs": [],
   "source": [
    "li =doc('.item-0.active')"
   ]
  },
  {
   "cell_type": "code",
   "execution_count": 27,
   "metadata": {},
   "outputs": [
    {
     "name": "stdout",
     "output_type": "stream",
     "text": [
      "<li class=\"item-0 active\"><a href=\"link3.html\"><span class=\"bold\">third item</span></a></li>\n",
      "             \n"
     ]
    }
   ],
   "source": [
    "print(li)"
   ]
  },
  {
   "cell_type": "code",
   "execution_count": 28,
   "metadata": {},
   "outputs": [
    {
     "name": "stdout",
     "output_type": "stream",
     "text": [
      "<li class=\"item-0 active\"><a href=\"link3.html\"><span class=\"bold\">third item</span></a></li>\n",
      "             \n"
     ]
    }
   ],
   "source": [
    "print(str(li))"
   ]
  },
  {
   "cell_type": "markdown",
   "metadata": {},
   "source": [
    "对于多个节点的结果，我们就需要遍历来获取了。例如，这里把每一个li节点进行遍历，需要调用items()方法："
   ]
  },
  {
   "cell_type": "code",
   "execution_count": 30,
   "metadata": {},
   "outputs": [
    {
     "name": "stdout",
     "output_type": "stream",
     "text": [
      "<class 'generator'>\n"
     ]
    }
   ],
   "source": [
    "lis = doc('li').items()\n",
    "print(type(lis))"
   ]
  },
  {
   "cell_type": "code",
   "execution_count": 31,
   "metadata": {},
   "outputs": [
    {
     "name": "stdout",
     "output_type": "stream",
     "text": [
      "<li class=\"item-0\">first item</li>\n",
      "              <class 'pyquery.pyquery.PyQuery'>\n",
      "<li class=\"item-1\"><a href=\"link2.html\">second item</a></li>\n",
      "              <class 'pyquery.pyquery.PyQuery'>\n",
      "<li class=\"item-0 active\"><a href=\"link3.html\"><span class=\"bold\">third item</span></a></li>\n",
      "              <class 'pyquery.pyquery.PyQuery'>\n",
      "<li class=\"item-1 active\"><a href=\"link4.html\">fourth item</a></li>\n",
      "              <class 'pyquery.pyquery.PyQuery'>\n",
      "<li class=\"item-0\"><a href=\"link5.html\">fifth item</a></li>\n",
      "          <class 'pyquery.pyquery.PyQuery'>\n"
     ]
    }
   ],
   "source": [
    "for li in lis:\n",
    "    print(li,type(li))"
   ]
  },
  {
   "cell_type": "markdown",
   "metadata": {},
   "source": [
    "可以发现，调用items()方法后，会得到一个生成器，遍历一下，就可以逐个得到li节点对象了，它的类型也是PyQuery类型。每个li节点还可以调用前面所说的方法进行选择，比如继续查询子节点，寻找某个祖先节点等，非常灵活。"
   ]
  },
  {
   "cell_type": "markdown",
   "metadata": {},
   "source": [
    "## 6. 获取信息\n",
    "提取到节点之后，我们的最终目的当然是提取节点所包含的信息了。比较重要的信息有两类，一是获取属性，二是获取文本，下面分别进行说明。\n",
    "\n",
    "获取属性\n",
    "提取到某个PyQuery类型的节点后，就可以调用attr()方法来获取属性："
   ]
  },
  {
   "cell_type": "code",
   "execution_count": 32,
   "metadata": {},
   "outputs": [],
   "source": [
    "html = '''\n",
    "<div class=\"wrap\">\n",
    "    <div id=\"container\">\n",
    "        <ul class=\"list\">\n",
    "             <li class=\"item-0\">first item</li>\n",
    "             <li class=\"item-1\"><a href=\"link2.html\">second item</a></li>\n",
    "             <li class=\"item-0 active\"><a href=\"link3.html\"><span class=\"bold\">third item</span></a></li>\n",
    "             <li class=\"item-1 active\"><a href=\"link4.html\">fourth item</a></li>\n",
    "             <li class=\"item-0\"><a href=\"link5.html\">fifth item</a></li>\n",
    "         </ul>\n",
    "     </div>\n",
    " </div>\n",
    "'''\n",
    "from pyquery import PyQuery as pq\n",
    "doc = pq(html)"
   ]
  },
  {
   "cell_type": "code",
   "execution_count": 33,
   "metadata": {},
   "outputs": [],
   "source": [
    "a = doc('.item-0.active a')"
   ]
  },
  {
   "cell_type": "code",
   "execution_count": 34,
   "metadata": {},
   "outputs": [
    {
     "name": "stdout",
     "output_type": "stream",
     "text": [
      "<a href=\"link3.html\"><span class=\"bold\">third item</span></a> <class 'pyquery.pyquery.PyQuery'>\n"
     ]
    }
   ],
   "source": [
    "print(a,type(a))"
   ]
  },
  {
   "cell_type": "code",
   "execution_count": 35,
   "metadata": {},
   "outputs": [
    {
     "name": "stdout",
     "output_type": "stream",
     "text": [
      "link3.html\n"
     ]
    }
   ],
   "source": [
    "print(a.attr('href'))"
   ]
  },
  {
   "cell_type": "markdown",
   "metadata": {},
   "source": [
    "这里首先选中class为item-0和active的li节点内的a节点，它的类型是PyQuery类型。\n",
    "\n",
    "然后调用attr()方法。在这个方法中传入属性的名称，就可以得到这个属性值了。\n",
    "\n",
    "此外，也可以通过调用attr属性来获取属性，用法如下"
   ]
  },
  {
   "cell_type": "code",
   "execution_count": 38,
   "metadata": {},
   "outputs": [
    {
     "name": "stdout",
     "output_type": "stream",
     "text": [
      "link3.html\n"
     ]
    }
   ],
   "source": [
    "print(a.attr.href)"
   ]
  },
  {
   "cell_type": "markdown",
   "metadata": {},
   "source": [
    "这两种方法的结果完全一样。\n",
    "\n",
    "如果选中的是多个元素，然后调用attr()方法，会出现怎样的结果呢？我们用实例来测试一下："
   ]
  },
  {
   "cell_type": "code",
   "execution_count": 39,
   "metadata": {},
   "outputs": [
    {
     "name": "stdout",
     "output_type": "stream",
     "text": [
      "<a href=\"link2.html\">second item</a><a href=\"link3.html\"><span class=\"bold\">third item</span></a><a href=\"link4.html\">fourth item</a><a href=\"link5.html\">fifth item</a> <class 'pyquery.pyquery.PyQuery'>\n",
      "link2.html\n"
     ]
    }
   ],
   "source": [
    "a = doc('a')\n",
    "print(a,type(a))\n",
    "print(a.attr('href'))"
   ]
  },
  {
   "cell_type": "code",
   "execution_count": 40,
   "metadata": {},
   "outputs": [
    {
     "name": "stdout",
     "output_type": "stream",
     "text": [
      "link2.html\n"
     ]
    }
   ],
   "source": [
    "print(a.attr.href)"
   ]
  },
  {
   "cell_type": "markdown",
   "metadata": {},
   "source": [
    "照理来说，我们选中的a节点应该有4个，而且打印结果也应该是4个，但是当我们调用attr()方法时，返回结果却只是第一个。这是因为，当返回结果包含多个节点时，调用attr()方法，只会得到第一个节点的属性。\n",
    "\n",
    "那么，遇到这种情况时，如果想获取所有的a节点的属性，就要用到前面所说的遍历了："
   ]
  },
  {
   "cell_type": "code",
   "execution_count": 42,
   "metadata": {},
   "outputs": [
    {
     "name": "stdout",
     "output_type": "stream",
     "text": [
      "link2.html\n",
      "link3.html\n",
      "link4.html\n",
      "link5.html\n"
     ]
    }
   ],
   "source": [
    "from pyquery import PyQuery as pq\n",
    "doc = pq(html)\n",
    "a = doc('a')\n",
    "for item in a.items():\n",
    "    print(item.attr('href'))"
   ]
  },
  {
   "cell_type": "markdown",
   "metadata": {},
   "source": [
    "因此，在进行属性获取时，可以观察返回节点是一个还是多个，如果是多个，则需要遍历才能依次获取每个节点的属性。"
   ]
  },
  {
   "cell_type": "markdown",
   "metadata": {},
   "source": [
    "### 获取文本\n",
    "获取节点之后的另一个主要操作就是获取其内部的文本了，此时可以调用text()方法来实现：\n",
    "\n"
   ]
  },
  {
   "cell_type": "code",
   "execution_count": 43,
   "metadata": {},
   "outputs": [],
   "source": [
    "html = '''\n",
    "<div class=\"wrap\">\n",
    "    <div id=\"container\">\n",
    "        <ul class=\"list\">\n",
    "             <li class=\"item-0\">first item</li>\n",
    "             <li class=\"item-1\"><a href=\"link2.html\">second item</a></li>\n",
    "             <li class=\"item-0 active\"><a href=\"link3.html\"><span class=\"bold\">third item</span></a></li>\n",
    "             <li class=\"item-1 active\"><a href=\"link4.html\">fourth item</a></li>\n",
    "             <li class=\"item-0\"><a href=\"link5.html\">fifth item</a></li>\n",
    "         </ul>\n",
    "     </div>\n",
    " </div>\n",
    "'''"
   ]
  },
  {
   "cell_type": "code",
   "execution_count": 44,
   "metadata": {},
   "outputs": [],
   "source": [
    "from pyquery import PyQuery as pq\n",
    "doc = pq(html)\n",
    "a = doc('.item-0.active a')"
   ]
  },
  {
   "cell_type": "code",
   "execution_count": 45,
   "metadata": {},
   "outputs": [
    {
     "name": "stdout",
     "output_type": "stream",
     "text": [
      "<a href=\"link3.html\"><span class=\"bold\">third item</span></a>\n"
     ]
    }
   ],
   "source": [
    "print(a)"
   ]
  },
  {
   "cell_type": "code",
   "execution_count": 46,
   "metadata": {},
   "outputs": [
    {
     "name": "stdout",
     "output_type": "stream",
     "text": [
      "third item\n"
     ]
    }
   ],
   "source": [
    "print(a.text())"
   ]
  },
  {
   "cell_type": "markdown",
   "metadata": {},
   "source": [
    "这里首先选中一个a节点，然后调用text()方法，就可以获取其内部的文本信息。此时它会忽略掉节点内部包含的所有HTML，只返回纯文字内容。\n",
    "\n",
    "但如果想要获取这个节点内部的HTML文本，就要用html()方法了："
   ]
  },
  {
   "cell_type": "code",
   "execution_count": 47,
   "metadata": {},
   "outputs": [
    {
     "name": "stdout",
     "output_type": "stream",
     "text": [
      "<li class=\"item-0 active\"><a href=\"link3.html\"><span class=\"bold\">third item</span></a></li>\n",
      "             \n"
     ]
    }
   ],
   "source": [
    "li = doc('.item-0.active')\n",
    "print(li)"
   ]
  },
  {
   "cell_type": "code",
   "execution_count": 48,
   "metadata": {},
   "outputs": [
    {
     "name": "stdout",
     "output_type": "stream",
     "text": [
      "<a href=\"link3.html\"><span class=\"bold\">third item</span></a>\n"
     ]
    }
   ],
   "source": [
    "print(li.html())"
   ]
  },
  {
   "cell_type": "markdown",
   "metadata": {},
   "source": [
    "这里我们选中了第三个li节点，然后调用了html()方法，它返回的结果应该是li节点内的所有HTML文本。"
   ]
  },
  {
   "cell_type": "markdown",
   "metadata": {},
   "source": [
    "这里同样有一个问题，如果我们选中的结果是多个节点，text()或html()会返回什么内容？我们用实例来看一下："
   ]
  },
  {
   "cell_type": "code",
   "execution_count": 50,
   "metadata": {},
   "outputs": [
    {
     "name": "stdout",
     "output_type": "stream",
     "text": [
      "<a href=\"link2.html\">second item</a>\n",
      "second item third item fourth item fifth item\n",
      "<class 'str'>\n"
     ]
    }
   ],
   "source": [
    "html = '''\n",
    "<div class=\"wrap\">\n",
    "    <div id=\"container\">\n",
    "        <ul class=\"list\">\n",
    "             <li class=\"item-1\"><a href=\"link2.html\">second item</a></li>\n",
    "             <li class=\"item-0 active\"><a href=\"link3.html\"><span class=\"bold\">third item</span></a></li>\n",
    "             <li class=\"item-1 active\"><a href=\"link4.html\">fourth item</a></li>\n",
    "             <li class=\"item-0\"><a href=\"link5.html\">fifth item</a></li>\n",
    "         </ul>\n",
    "     </div>\n",
    " </div>\n",
    "'''\n",
    "from pyquery import PyQuery as pq\n",
    "doc = pq(html)\n",
    "li = doc('li')\n",
    "print(li.html())\n",
    "print(li.text())\n",
    "print(type(li.text()))"
   ]
  },
  {
   "cell_type": "markdown",
   "metadata": {},
   "source": [
    "结果可能比较出乎意料，html()方法返回的是第一个li节点的内部HTML文本，而text()则返回了所有的li节点内部的纯文本，中间用一个空格分割开，即返回结果是一个字符串。\n",
    "\n",
    "所以这个地方值得注意，如果得到的结果是多个节点，并且想要获取每个节点的内部HTML文本，则需要遍历每个节点。而text()方法不需要遍历就可以获取，它将所有节点取文本之后合并成一个字符串。"
   ]
  },
  {
   "cell_type": "markdown",
   "metadata": {},
   "source": [
    "## 7. 节点操作\n",
    "pyquery提供了一系列方法来对节点进行动态修改，比如为某个节点添加一个class，移除某个节点等，这些操作有时候会为提取信息带来极大的便利。\n",
    "\n",
    "由于节点操作的方法太多，下面举几个典型的例子来说明它的用法。\n",
    "\n",
    "### addClass和removeClass\n",
    "我们先用实例来感受一下："
   ]
  },
  {
   "cell_type": "code",
   "execution_count": 51,
   "metadata": {},
   "outputs": [],
   "source": [
    "html = '''\n",
    "<div class=\"wrap\">\n",
    "    <div id=\"container\">\n",
    "        <ul class=\"list\">\n",
    "             <li class=\"item-0\">first item</li>\n",
    "             <li class=\"item-1\"><a href=\"link2.html\">second item</a></li>\n",
    "             <li class=\"item-0 active\"><a href=\"link3.html\"><span class=\"bold\">third item</span></a></li>\n",
    "             <li class=\"item-1 active\"><a href=\"link4.html\">fourth item</a></li>\n",
    "             <li class=\"item-0\"><a href=\"link5.html\">fifth item</a></li>\n",
    "         </ul>\n",
    "     </div>\n",
    " </div>\n",
    "'''\n",
    "from pyquery import PyQuery as pq\n",
    "doc = pq(html)\n",
    "li = doc('.item-0.active')"
   ]
  },
  {
   "cell_type": "code",
   "execution_count": 52,
   "metadata": {},
   "outputs": [
    {
     "name": "stdout",
     "output_type": "stream",
     "text": [
      "<li class=\"item-0 active\"><a href=\"link3.html\"><span class=\"bold\">third item</span></a></li>\n",
      "             \n"
     ]
    }
   ],
   "source": [
    "print(li)"
   ]
  },
  {
   "cell_type": "code",
   "execution_count": 53,
   "metadata": {},
   "outputs": [
    {
     "data": {
      "text/plain": [
       "[<li.item-0>]"
      ]
     },
     "execution_count": 53,
     "metadata": {},
     "output_type": "execute_result"
    }
   ],
   "source": [
    "li.removeClass('active')"
   ]
  },
  {
   "cell_type": "code",
   "execution_count": 54,
   "metadata": {},
   "outputs": [
    {
     "name": "stdout",
     "output_type": "stream",
     "text": [
      "<li class=\"item-0\"><a href=\"link3.html\"><span class=\"bold\">third item</span></a></li>\n",
      "             \n"
     ]
    }
   ],
   "source": [
    "print(li)"
   ]
  },
  {
   "cell_type": "code",
   "execution_count": 55,
   "metadata": {},
   "outputs": [
    {
     "data": {
      "text/plain": [
       "[<li.item-0.active>]"
      ]
     },
     "execution_count": 55,
     "metadata": {},
     "output_type": "execute_result"
    }
   ],
   "source": [
    "li.addClass('active')"
   ]
  },
  {
   "cell_type": "code",
   "execution_count": 56,
   "metadata": {},
   "outputs": [
    {
     "name": "stdout",
     "output_type": "stream",
     "text": [
      "<li class=\"item-0 active\"><a href=\"link3.html\"><span class=\"bold\">third item</span></a></li>\n",
      "             \n"
     ]
    }
   ],
   "source": [
    "print(li)"
   ]
  },
  {
   "cell_type": "markdown",
   "metadata": {},
   "source": [
    "首先选中了第三个li节点，然后调用removeClass()方法，将li节点的active这个class移除，后来又调用addClass()方法，将class添加回来。每执行一次操作，就打印输出当前li节点的内容。"
   ]
  },
  {
   "cell_type": "markdown",
   "metadata": {},
   "source": [
    "可以看到，一共输出了3次。第二次输出时，li节点的active这个class被移除了，第三次class又添加回来了。\n",
    "\n",
    "所以说，addClass()和removeClass()这些方法可以动态改变节点的class属性。\n",
    "\n",
    "attr、text和html\n",
    "当然，除了操作class这个属性外，也可以用attr()方法对属性进行操作。此外，还可以用text()和html()方法来改变节点内部的内容。示例如下："
   ]
  },
  {
   "cell_type": "code",
   "execution_count": 60,
   "metadata": {},
   "outputs": [],
   "source": [
    "html = '''\n",
    "<ul class=\"list\">\n",
    "     <li class=\"item-0 active\"><a href=\"link3.html\"><span class=\"bold\">third item</span></a></li>\n",
    "</ul>\n",
    "'''\n",
    "from pyquery import PyQuery as pq"
   ]
  },
  {
   "cell_type": "code",
   "execution_count": 61,
   "metadata": {},
   "outputs": [],
   "source": [
    "doc = pq(html)"
   ]
  },
  {
   "cell_type": "code",
   "execution_count": 62,
   "metadata": {},
   "outputs": [
    {
     "name": "stdout",
     "output_type": "stream",
     "text": [
      "<li class=\"item-0 active\"><a href=\"link3.html\"><span class=\"bold\">third item</span></a></li>\n",
      "\n"
     ]
    }
   ],
   "source": [
    "li = doc('.item-0.active')\n",
    "print(li)"
   ]
  },
  {
   "cell_type": "code",
   "execution_count": 63,
   "metadata": {},
   "outputs": [
    {
     "data": {
      "text/plain": [
       "[<li.item-0.active>]"
      ]
     },
     "execution_count": 63,
     "metadata": {},
     "output_type": "execute_result"
    }
   ],
   "source": [
    "li.attr('name','link')"
   ]
  },
  {
   "cell_type": "code",
   "execution_count": 64,
   "metadata": {},
   "outputs": [
    {
     "name": "stdout",
     "output_type": "stream",
     "text": [
      "<li class=\"item-0 active\" name=\"link\"><a href=\"link3.html\"><span class=\"bold\">third item</span></a></li>\n",
      "\n"
     ]
    }
   ],
   "source": [
    "print(li)"
   ]
  },
  {
   "cell_type": "code",
   "execution_count": 65,
   "metadata": {},
   "outputs": [
    {
     "data": {
      "text/plain": [
       "[<li.item-0.active>]"
      ]
     },
     "execution_count": 65,
     "metadata": {},
     "output_type": "execute_result"
    }
   ],
   "source": [
    "li.text('changed item')"
   ]
  },
  {
   "cell_type": "code",
   "execution_count": 66,
   "metadata": {},
   "outputs": [
    {
     "name": "stdout",
     "output_type": "stream",
     "text": [
      "<li class=\"item-0 active\" name=\"link\">changed item</li>\n",
      "\n"
     ]
    }
   ],
   "source": [
    "print(li)"
   ]
  },
  {
   "cell_type": "code",
   "execution_count": 67,
   "metadata": {},
   "outputs": [
    {
     "name": "stdout",
     "output_type": "stream",
     "text": [
      "<li class=\"item-0 active\" name=\"link\"><span>changed item</span></li>\n"
     ]
    }
   ],
   "source": [
    "li.html('<span>changed item</span>')\n",
    "print(li)"
   ]
  },
  {
   "cell_type": "markdown",
   "metadata": {},
   "source": [
    "可以发现，调用attr()方法后，li节点多了一个原本不存在的属性name，其值为link。接着调用text()方法，传入文本之后，li节点内部的文本全被改为传入的字符串文本了。最后，调用html()方法传入HTML文本后，li节点内部又变为传入的HTML文本了。\n",
    "\n",
    "所以说，如果attr()方法只传入第一个参数的属性名，则是获取这个属性值；如果传入第二个参数，可以用来修改属性值。text()和html()方法如果不传参数，则是获取节点内纯文本和HTML文本；如果传入参数，则进行赋值。"
   ]
  },
  {
   "cell_type": "markdown",
   "metadata": {},
   "source": [
    "### remove()\n",
    "顾名思义，remove()方法就是移除，它有时会为信息的提取带来非常大的便利。下面有一段HTML文本："
   ]
  },
  {
   "cell_type": "code",
   "execution_count": 68,
   "metadata": {},
   "outputs": [],
   "source": [
    "html = '''\n",
    "<div class=\"wrap\">\n",
    "    Hello, World\n",
    "    <p>This is a paragraph.</p>\n",
    " </div>\n",
    "'''\n",
    "from pyquery import PyQuery as pq\n",
    "doc = pq(html)"
   ]
  },
  {
   "cell_type": "code",
   "execution_count": 69,
   "metadata": {},
   "outputs": [
    {
     "name": "stdout",
     "output_type": "stream",
     "text": [
      "Hello, World\n",
      "This is a paragraph.\n"
     ]
    }
   ],
   "source": [
    "wrap = doc('.wrap')\n",
    "print(wrap.text())"
   ]
  },
  {
   "cell_type": "markdown",
   "metadata": {},
   "source": [
    "现在想提取Hello, World这个字符串，而不要p节点内部的字符串，需要怎样操作呢？\n",
    "\n",
    "这里直接先尝试提取class为wrap的节点的内容，看看是不是我们想要的"
   ]
  },
  {
   "cell_type": "markdown",
   "metadata": {},
   "source": [
    "这个结果还包含了内部的p节点的内容，也就是说text()把所有的纯文本全提取出来了。如果我们想去掉p节点内部的文本，可以选择再把p节点内的文本提取一遍，然后从整个结果中移除这个子串，但这个做法明显比较烦琐。\n",
    "\n",
    "这时remove()方法就可以派上用场了，我们可以接着这么做:"
   ]
  },
  {
   "cell_type": "code",
   "execution_count": 70,
   "metadata": {},
   "outputs": [
    {
     "name": "stdout",
     "output_type": "stream",
     "text": [
      "Hello, World\n"
     ]
    }
   ],
   "source": [
    "wrap.find('p').remove()\n",
    "print(wrap.text())"
   ]
  },
  {
   "cell_type": "markdown",
   "metadata": {},
   "source": [
    "首先选中p节点，然后调用了remove()方法将其移除，然后这时wrap内部就只剩下Hello, World这句话了，然后再利用text()方法提取即可。\n",
    "\n",
    "另外，其实还有很多节点操作的方法，比如append()、empty()和prepend()等方法，它们和jQuery的用法完全一致，详细的用法可以参考官方文档：http://pyquery.readthedocs.io/en/latest/api.html。"
   ]
  },
  {
   "cell_type": "markdown",
   "metadata": {},
   "source": [
    "## 8. 伪类选择器\n",
    "CSS选择器之所以强大，还有一个很重要的原因，那就是它支持多种多样的伪类选择器，例如选择第一个节点、最后一个节点、奇偶数节点、包含某一文本的节点等。示例如下："
   ]
  },
  {
   "cell_type": "code",
   "execution_count": 71,
   "metadata": {},
   "outputs": [],
   "source": [
    "html = '''\n",
    "<div class=\"wrap\">\n",
    "    <div id=\"container\">\n",
    "        <ul class=\"list\">\n",
    "             <li class=\"item-0\">first item</li>\n",
    "             <li class=\"item-1\"><a href=\"link2.html\">second item</a></li>\n",
    "             <li class=\"item-0 active\"><a href=\"link3.html\"><span class=\"bold\">third item</span></a></li>\n",
    "             <li class=\"item-1 active\"><a href=\"link4.html\">fourth item</a></li>\n",
    "             <li class=\"item-0\"><a href=\"link5.html\">fifth item</a></li>\n",
    "         </ul>\n",
    "     </div>\n",
    " </div>\n",
    "'''\n",
    "from pyquery import PyQuery as pq\n",
    "doc = pq(html)"
   ]
  },
  {
   "cell_type": "code",
   "execution_count": 72,
   "metadata": {},
   "outputs": [
    {
     "name": "stdout",
     "output_type": "stream",
     "text": [
      "<li class=\"item-0\">first item</li>\n",
      "             \n"
     ]
    }
   ],
   "source": [
    "li = doc('li:first-child')\n",
    "print(li)"
   ]
  },
  {
   "cell_type": "code",
   "execution_count": 73,
   "metadata": {},
   "outputs": [
    {
     "name": "stdout",
     "output_type": "stream",
     "text": [
      "<li class=\"item-0\"><a href=\"link5.html\">fifth item</a></li>\n",
      "         \n"
     ]
    }
   ],
   "source": [
    "li = doc('li:last-child')\n",
    "print(li)"
   ]
  },
  {
   "cell_type": "code",
   "execution_count": 74,
   "metadata": {},
   "outputs": [
    {
     "name": "stdout",
     "output_type": "stream",
     "text": [
      "<li class=\"item-1\"><a href=\"link2.html\">second item</a></li>\n",
      "             \n"
     ]
    }
   ],
   "source": [
    "li = doc('li:nth-child(2)')\n",
    "print(li)"
   ]
  },
  {
   "cell_type": "code",
   "execution_count": 75,
   "metadata": {},
   "outputs": [
    {
     "name": "stdout",
     "output_type": "stream",
     "text": [
      "<li class=\"item-1 active\"><a href=\"link4.html\">fourth item</a></li>\n",
      "             <li class=\"item-0\"><a href=\"link5.html\">fifth item</a></li>\n",
      "         \n"
     ]
    }
   ],
   "source": [
    "li = doc('li:gt(2)')\n",
    "print(li)"
   ]
  },
  {
   "cell_type": "code",
   "execution_count": 76,
   "metadata": {},
   "outputs": [
    {
     "name": "stdout",
     "output_type": "stream",
     "text": [
      "<li class=\"item-1\"><a href=\"link2.html\">second item</a></li>\n",
      "             <li class=\"item-1 active\"><a href=\"link4.html\">fourth item</a></li>\n",
      "             \n"
     ]
    }
   ],
   "source": [
    "li = doc('li:nth-child(2n)')\n",
    "print(li)"
   ]
  },
  {
   "cell_type": "markdown",
   "metadata": {},
   "source": [
    "这里我们使用了CSS3的伪类选择器，依次选择了第一个li节点、最后一个li节点、第二个li节点、第三个li之后的li节点、偶数位置的li节点、包含second文本的li节点。\n",
    "\n",
    "关于CSS选择器的更多用法，可以参考http://www.w3school.com.cn/css/index.asp。\n",
    "\n",
    "到此为止，pyquery的常用用法就介绍完了。如果想查看更多的内容，可以参考pyquery的官方文档：http://pyquery.readthedocs.io。我们相信有了它，解析网页不再是难事。"
   ]
  }
 ],
 "metadata": {
  "kernelspec": {
   "display_name": "Python 3",
   "language": "python",
   "name": "python3"
  },
  "language_info": {
   "codemirror_mode": {
    "name": "ipython",
    "version": 3
   },
   "file_extension": ".py",
   "mimetype": "text/x-python",
   "name": "python",
   "nbconvert_exporter": "python",
   "pygments_lexer": "ipython3",
   "version": "3.6.3"
  }
 },
 "nbformat": 4,
 "nbformat_minor": 2
}
