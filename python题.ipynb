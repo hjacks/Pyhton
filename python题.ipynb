{
 "cells": [
  {
   "cell_type": "markdown",
   "metadata": {},
   "source": [
    "# 1\n",
    "有四个数字：1、2、3、4，能组成多少个互不相同且无重复数字的三位数？各是多少？"
   ]
  },
  {
   "cell_type": "code",
   "execution_count": 2,
   "metadata": {},
   "outputs": [
    {
     "name": "stdout",
     "output_type": "stream",
     "text": [
      "0 1 2\n",
      "0 1 3\n",
      "0 1 4\n",
      "0 2 1\n",
      "0 2 3\n",
      "0 2 4\n",
      "0 3 1\n",
      "0 3 2\n",
      "0 3 4\n",
      "0 4 1\n",
      "0 4 2\n",
      "0 4 3\n",
      "1 0 2\n",
      "1 0 3\n",
      "1 0 4\n",
      "1 2 0\n",
      "1 2 3\n",
      "1 2 4\n",
      "1 3 0\n",
      "1 3 2\n",
      "1 3 4\n",
      "1 4 0\n",
      "1 4 2\n",
      "1 4 3\n",
      "2 0 1\n",
      "2 0 3\n",
      "2 0 4\n",
      "2 1 0\n",
      "2 1 3\n",
      "2 1 4\n",
      "2 3 0\n",
      "2 3 1\n",
      "2 3 4\n",
      "2 4 0\n",
      "2 4 1\n",
      "2 4 3\n",
      "3 0 1\n",
      "3 0 2\n",
      "3 0 4\n",
      "3 1 0\n",
      "3 1 2\n",
      "3 1 4\n",
      "3 2 0\n",
      "3 2 1\n",
      "3 2 4\n",
      "3 4 0\n",
      "3 4 1\n",
      "3 4 2\n",
      "4 0 1\n",
      "4 0 2\n",
      "4 0 3\n",
      "4 1 0\n",
      "4 1 2\n",
      "4 1 3\n",
      "4 2 0\n",
      "4 2 1\n",
      "4 2 3\n",
      "4 3 0\n",
      "4 3 1\n",
      "4 3 2\n"
     ]
    }
   ],
   "source": [
    "for i in range(5):\n",
    "    for j in range(5):\n",
    "        for k in range(5):\n",
    "            if (i!=j) and (i!=k) and (j!=k):\n",
    "                print (i,j,k)"
   ]
  },
  {
   "cell_type": "markdown",
   "metadata": {},
   "source": [
    "# 2\n",
    "企业发放的奖金根据利润提成。利润(I)低于或等于10万元时，奖金可提10%；利润高于10万元，低于20万元时，低于10万元的部分按10%提成，高于10万元的部分，可提成7.5%；20万到40万之间时，高于20万元的部分，可提成5%；40万到60万之间时高于40万元的部分，可提成3%；60万到100万之间时，高于60万元的部分，可提成1.5%，高于100万元时，超过100万元的部分按1%提成，从键盘输入当月利润I，求应发放奖金总数？"
   ]
  },
  {
   "cell_type": "code",
   "execution_count": 4,
   "metadata": {},
   "outputs": [
    {
     "name": "stdout",
     "output_type": "stream",
     "text": [
      "净利润：1200000\n",
      "2000.0\n",
      "6000.0\n",
      "6000.0\n",
      "10000.0\n",
      "7500.0\n",
      "10000.0\n",
      "41500.0\n"
     ]
    }
   ],
   "source": [
    "i=int(input('净利润：'))\n",
    "arr=[1000000,600000,400000,200000,100000,0]\n",
    "rat=[0.01,0.015,0.03,0.05,0.075,0.1]\n",
    "r=0\n",
    "for idx in range(0,6):\n",
    "    if i>arr[idx]:\n",
    "        r+=(i-arr[idx])*rat[idx]\n",
    "        print((i-arr[idx])*rat[idx])\n",
    "        i=arr[idx]\n",
    "print(r)"
   ]
  },
  {
   "cell_type": "code",
   "execution_count": 7,
   "metadata": {},
   "outputs": [
    {
     "name": "stdout",
     "output_type": "stream",
     "text": [
      "净利润：800000\n",
      "奖金: 36500.0 元\n"
     ]
    }
   ],
   "source": [
    "x = int(input(\"净利润：\"))\n",
    "\n",
    "if x<=100000:\n",
    "    bonus=x*0.1\n",
    "    print (u\"奖金:\",bonus,u\"元\")\n",
    "elif 100001<x<=200000:\n",
    "    bonus=10000+(x-100000)*0.075\n",
    "    print (u\"奖金:\",bonus,u\"元\")\n",
    "elif 200001<x<=400000:\n",
    "    bonus=10000+7500+(x-200000)*0.05\n",
    "    print (u\"奖金:\",bonus,u\"元\")\n",
    "elif 400001<x<=600000:\n",
    "    bonus=10000+7500+10000+(x-400000)*0.03\n",
    "    print (u\"奖金:\",bonus,u\"元\")\n",
    "elif 600001<x<=1000000:\n",
    "    bonus=10000+7500+10000+6000+(x-600000)*0.015\n",
    "    print (u\"奖金:\",bonus,u\"元\")\n",
    "elif 600001<x<=1000000:\n",
    "    bonus=10000+7500+10000+6000+6000+(x-600000)*0.01\n",
    "    print (u\"奖金:\",bonus,u\"元\")"
   ]
  },
  {
   "cell_type": "markdown",
   "metadata": {},
   "source": [
    "# 3\n",
    "一个整数，它加上100后是一个完全平方数，再加上168又是一个完全平方数，请问该数是多少？"
   ]
  },
  {
   "cell_type": "code",
   "execution_count": 8,
   "metadata": {},
   "outputs": [
    {
     "name": "stdout",
     "output_type": "stream",
     "text": [
      "-99.0\n",
      "21.0\n",
      "261.0\n",
      "1581.0\n"
     ]
    }
   ],
   "source": [
    "for i in range(1,85):\n",
    "    if 168 %i==0:\n",
    "        j=168/i\n",
    "        if i>j and (i+j)%2==0 and (i-j)%2==0:\n",
    "            m=(i+j)/2\n",
    "            n=(i-j)/2\n",
    "            x=n*n-100\n",
    "            print(x)"
   ]
  },
  {
   "cell_type": "code",
   "execution_count": 9,
   "metadata": {},
   "outputs": [
    {
     "name": "stdout",
     "output_type": "stream",
     "text": [
      "1581.0\n",
      "261.0\n",
      "21.0\n",
      "-99.0\n"
     ]
    }
   ],
   "source": [
    "for x in range(1,13):\n",
    "    a=84/x-x/2\n",
    "    if int(a)==a:\n",
    "        n=a**2-100\n",
    "        print(n)"
   ]
  },
  {
   "cell_type": "code",
   "execution_count": null,
   "metadata": {
    "collapsed": true
   },
   "outputs": [],
   "source": []
  }
 ],
 "metadata": {
  "kernelspec": {
   "display_name": "Python 3",
   "language": "python",
   "name": "python3"
  },
  "language_info": {
   "codemirror_mode": {
    "name": "ipython",
    "version": 3
   },
   "file_extension": ".py",
   "mimetype": "text/x-python",
   "name": "python",
   "nbconvert_exporter": "python",
   "pygments_lexer": "ipython3",
   "version": "3.6.1"
  }
 },
 "nbformat": 4,
 "nbformat_minor": 2
}
