{
 "cells": [
  {
   "cell_type": "markdown",
   "metadata": {},
   "source": [
    "# 刷题"
   ]
  },
  {
   "cell_type": "markdown",
   "metadata": {},
   "source": [
    "题目：有四个数字：1、2、3、4，能组成多少个互不相同且无重复数字的三位数？各是多少？"
   ]
  },
  {
   "cell_type": "code",
   "execution_count": 2,
   "metadata": {},
   "outputs": [
    {
     "name": "stdout",
     "output_type": "stream",
     "text": [
      "0 1 2\n",
      "0 1 3\n",
      "0 1 4\n",
      "0 2 1\n",
      "0 2 3\n",
      "0 2 4\n",
      "0 3 1\n",
      "0 3 2\n",
      "0 3 4\n",
      "0 4 1\n",
      "0 4 2\n",
      "0 4 3\n",
      "1 0 2\n",
      "1 0 3\n",
      "1 0 4\n",
      "1 2 0\n",
      "1 2 3\n",
      "1 2 4\n",
      "1 3 0\n",
      "1 3 2\n",
      "1 3 4\n",
      "1 4 0\n",
      "1 4 2\n",
      "1 4 3\n",
      "2 0 1\n",
      "2 0 3\n",
      "2 0 4\n",
      "2 1 0\n",
      "2 1 3\n",
      "2 1 4\n",
      "2 3 0\n",
      "2 3 1\n",
      "2 3 4\n",
      "2 4 0\n",
      "2 4 1\n",
      "2 4 3\n",
      "3 0 1\n",
      "3 0 2\n",
      "3 0 4\n",
      "3 1 0\n",
      "3 1 2\n",
      "3 1 4\n",
      "3 2 0\n",
      "3 2 1\n",
      "3 2 4\n",
      "3 4 0\n",
      "3 4 1\n",
      "3 4 2\n",
      "4 0 1\n",
      "4 0 2\n",
      "4 0 3\n",
      "4 1 0\n",
      "4 1 2\n",
      "4 1 3\n",
      "4 2 0\n",
      "4 2 1\n",
      "4 2 3\n",
      "4 3 0\n",
      "4 3 1\n",
      "4 3 2\n"
     ]
    }
   ],
   "source": [
    "for i in range(5):\n",
    "    for j in range(5):\n",
    "        for k in range (5):\n",
    "            if j!=i and j!=k and k!=i:\n",
    "                print (i,j,k)"
   ]
  },
  {
   "cell_type": "markdown",
   "metadata": {},
   "source": [
    "题目：企业发放的奖金根据利润提成。利润(I)低于或等于10万元时，奖金可提10%；利润高于10万元，低于20万元时，低于10万元的部分按10%提成，高于10万元的部分，可提成7.5%；20万到40万之间时，高于20万元的部分，可提成5%；40万到60万之间时高于40万元的部分，可提成3%；60万到100万之间时，高于60万元的部分，可提成1.5%，高于100万元时，超过100万元的部分按1%提成，从键盘输入当月利润I，求应发放奖金总数？"
   ]
  },
  {
   "cell_type": "code",
   "execution_count": null,
   "metadata": {},
   "outputs": [],
   "source": [
    "I=input(\"输入当月利润：(单位：万元)\")\n",
    "if I <= 10:\n",
    "    bonus = I*0.1\n",
    "elif I <= 20:\n",
    "    bonus = 10*0.1 + (I-10)*0.075\n",
    "elif I <=40:\n",
    "    bonus = 10*0.1 + 10*0.075 + (I-20)*0.05\n",
    "elif I <= 60:\n",
    "    bonus = 10*0.1 + 10*0.075 + 20*0.05 + (I-40)*0.03\n",
    "elif I<=100:\n",
    "    bonus = 10*0.1 + 10*0.075 + 20*0.05 + 20*0.03+(I-60)*0.015\n",
    "else:\n",
    "    bonus = 10*0.1 + 10*0.075 + 20*0.05 + 20*0.03+40*0.015+(I-100)*0.01\n",
    "print(\"应发奖金：\",bonus,\"万元\")"
   ]
  },
  {
   "cell_type": "code",
   "execution_count": null,
   "metadata": {
    "collapsed": true
   },
   "outputs": [],
   "source": [
    "1+2"
   ]
  },
  {
   "cell_type": "code",
   "execution_count": null,
   "metadata": {
    "collapsed": true
   },
   "outputs": [],
   "source": []
  }
 ],
 "metadata": {
  "kernelspec": {
   "display_name": "Python 3",
   "language": "python",
   "name": "python3"
  },
  "language_info": {
   "codemirror_mode": {
    "name": "ipython",
    "version": 3
   },
   "file_extension": ".py",
   "mimetype": "text/x-python",
   "name": "python",
   "nbconvert_exporter": "python",
   "pygments_lexer": "ipython3",
   "version": "3.6.3"
  }
 },
 "nbformat": 4,
 "nbformat_minor": 2
}
