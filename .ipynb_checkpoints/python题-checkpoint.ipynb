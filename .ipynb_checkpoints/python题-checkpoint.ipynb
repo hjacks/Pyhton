{
 "cells": [
  {
   "cell_type": "markdown",
   "metadata": {},
   "source": [
    "# 1\n",
    "有四个数字：1、2、3、4，能组成多少个互不相同且无重复数字的三位数？各是多少？"
   ]
  },
  {
   "cell_type": "code",
   "execution_count": 2,
   "metadata": {},
   "outputs": [
    {
     "name": "stdout",
     "output_type": "stream",
     "text": [
      "0 1 2\n",
      "0 1 3\n",
      "0 1 4\n",
      "0 2 1\n",
      "0 2 3\n",
      "0 2 4\n",
      "0 3 1\n",
      "0 3 2\n",
      "0 3 4\n",
      "0 4 1\n",
      "0 4 2\n",
      "0 4 3\n",
      "1 0 2\n",
      "1 0 3\n",
      "1 0 4\n",
      "1 2 0\n",
      "1 2 3\n",
      "1 2 4\n",
      "1 3 0\n",
      "1 3 2\n",
      "1 3 4\n",
      "1 4 0\n",
      "1 4 2\n",
      "1 4 3\n",
      "2 0 1\n",
      "2 0 3\n",
      "2 0 4\n",
      "2 1 0\n",
      "2 1 3\n",
      "2 1 4\n",
      "2 3 0\n",
      "2 3 1\n",
      "2 3 4\n",
      "2 4 0\n",
      "2 4 1\n",
      "2 4 3\n",
      "3 0 1\n",
      "3 0 2\n",
      "3 0 4\n",
      "3 1 0\n",
      "3 1 2\n",
      "3 1 4\n",
      "3 2 0\n",
      "3 2 1\n",
      "3 2 4\n",
      "3 4 0\n",
      "3 4 1\n",
      "3 4 2\n",
      "4 0 1\n",
      "4 0 2\n",
      "4 0 3\n",
      "4 1 0\n",
      "4 1 2\n",
      "4 1 3\n",
      "4 2 0\n",
      "4 2 1\n",
      "4 2 3\n",
      "4 3 0\n",
      "4 3 1\n",
      "4 3 2\n"
     ]
    }
   ],
   "source": [
    "for i in range(5):\n",
    "    for j in range(5):\n",
    "        for k in range(5):\n",
    "            if (i!=j) and (i!=k) and (j!=k):\n",
    "                print (i,j,k)"
   ]
  },
  {
   "cell_type": "markdown",
   "metadata": {},
   "source": [
    "# 2\n",
    "企业发放的奖金根据利润提成。利润(I)低于或等于10万元时，奖金可提10%；利润高于10万元，低于20万元时，低于10万元的部分按10%提成，高于10万元的部分，可提成7.5%；20万到40万之间时，高于20万元的部分，可提成5%；40万到60万之间时高于40万元的部分，可提成3%；60万到100万之间时，高于60万元的部分，可提成1.5%，高于100万元时，超过100万元的部分按1%提成，从键盘输入当月利润I，求应发放奖金总数？"
   ]
  },
  {
   "cell_type": "code",
   "execution_count": 4,
   "metadata": {},
   "outputs": [
    {
     "name": "stdout",
     "output_type": "stream",
     "text": [
      "净利润：1200000\n",
      "2000.0\n",
      "6000.0\n",
      "6000.0\n",
      "10000.0\n",
      "7500.0\n",
      "10000.0\n",
      "41500.0\n"
     ]
    }
   ],
   "source": [
    "i=int(input('净利润：'))\n",
    "arr=[1000000,600000,400000,200000,100000,0]\n",
    "rat=[0.01,0.015,0.03,0.05,0.075,0.1]\n",
    "r=0\n",
    "for idx in range(0,6):\n",
    "    if i>arr[idx]:\n",
    "        r+=(i-arr[idx])*rat[idx]\n",
    "        print((i-arr[idx])*rat[idx])\n",
    "        i=arr[idx]\n",
    "print(r)"
   ]
  },
  {
   "cell_type": "code",
   "execution_count": 7,
   "metadata": {},
   "outputs": [
    {
     "name": "stdout",
     "output_type": "stream",
     "text": [
      "净利润：800000\n",
      "奖金: 36500.0 元\n"
     ]
    }
   ],
   "source": [
    "x = int(input(\"净利润：\"))\n",
    "\n",
    "if x<=100000:\n",
    "    bonus=x*0.1\n",
    "    print (u\"奖金:\",bonus,u\"元\")\n",
    "elif 100001<x<=200000:\n",
    "    bonus=10000+(x-100000)*0.075\n",
    "    print (u\"奖金:\",bonus,u\"元\")\n",
    "elif 200001<x<=400000:\n",
    "    bonus=10000+7500+(x-200000)*0.05\n",
    "    print (u\"奖金:\",bonus,u\"元\")\n",
    "elif 400001<x<=600000:\n",
    "    bonus=10000+7500+10000+(x-400000)*0.03\n",
    "    print (u\"奖金:\",bonus,u\"元\")\n",
    "elif 600001<x<=1000000:\n",
    "    bonus=10000+7500+10000+6000+(x-600000)*0.015\n",
    "    print (u\"奖金:\",bonus,u\"元\")\n",
    "elif 600001<x<=1000000:\n",
    "    bonus=10000+7500+10000+6000+6000+(x-600000)*0.01\n",
    "    print (u\"奖金:\",bonus,u\"元\")"
   ]
  },
  {
   "cell_type": "markdown",
   "metadata": {},
   "source": [
    "# 3\n",
    "一个整数，它加上100后是一个完全平方数，再加上168又是一个完全平方数，请问该数是多少？"
   ]
  },
  {
   "cell_type": "code",
   "execution_count": 8,
   "metadata": {},
   "outputs": [
    {
     "name": "stdout",
     "output_type": "stream",
     "text": [
      "-99.0\n",
      "21.0\n",
      "261.0\n",
      "1581.0\n"
     ]
    }
   ],
   "source": [
    "for i in range(1,85):\n",
    "    if 168 %i==0:\n",
    "        j=168/i\n",
    "        if i>j and (i+j)%2==0 and (i-j)%2==0:\n",
    "            m=(i+j)/2\n",
    "            n=(i-j)/2\n",
    "            x=n*n-100\n",
    "            print(x)"
   ]
  },
  {
   "cell_type": "code",
   "execution_count": 9,
   "metadata": {},
   "outputs": [
    {
     "name": "stdout",
     "output_type": "stream",
     "text": [
      "1581.0\n",
      "261.0\n",
      "21.0\n",
      "-99.0\n"
     ]
    }
   ],
   "source": [
    "for x in range(1,13):\n",
    "    a=84/x-x/2\n",
    "    if int(a)==a:\n",
    "        n=a**2-100\n",
    "        print(n)"
   ]
  },
  {
   "cell_type": "code",
   "execution_count": 1,
   "metadata": {},
   "outputs": [
    {
     "name": "stdout",
     "output_type": "stream",
     "text": [
      "21\n"
     ]
    }
   ],
   "source": [
    "import math\n",
    "num = 1\n",
    "while True:\n",
    "    if math.sqrt(num + 100)-int(math.sqrt(num + 100)) == 0 and math.sqrt(num + 268)-int(math.sqrt(num + 268)) == 0:\n",
    "        print(num)\n",
    "        break\n",
    "    num += 1"
   ]
  },
  {
   "cell_type": "markdown",
   "metadata": {
    "collapsed": true
   },
   "source": [
    "# 4\n",
    "汉诺塔问题"
   ]
  },
  {
   "cell_type": "code",
   "execution_count": 1,
   "metadata": {
    "collapsed": true
   },
   "outputs": [],
   "source": [
    "def move(n, a, b, c):\n",
    "    if n == 1:\n",
    "        print(a, '-->', c)\n",
    "    else:\n",
    "        move(n-1, a, c, b)    # 子目标1\n",
    "        move(1, a, b, c)    # 子目标2\n",
    "        move(n-1, b, a, c)    # 子目标3"
   ]
  },
  {
   "cell_type": "code",
   "execution_count": 2,
   "metadata": {},
   "outputs": [
    {
     "name": "stdout",
     "output_type": "stream",
     "text": [
      "A --> B\n",
      "A --> C\n",
      "B --> C\n",
      "A --> B\n",
      "C --> A\n",
      "C --> B\n",
      "A --> B\n",
      "A --> C\n",
      "B --> C\n",
      "B --> A\n",
      "C --> A\n",
      "B --> C\n",
      "A --> B\n",
      "A --> C\n",
      "B --> C\n"
     ]
    }
   ],
   "source": [
    "move(4,'A','B','C')"
   ]
  },
  {
   "cell_type": "markdown",
   "metadata": {
    "collapsed": true
   },
   "source": [
    "# 5\n",
    "输入三个整数x,y,z，请把这三个数由小到大输出。"
   ]
  },
  {
   "cell_type": "code",
   "execution_count": 3,
   "metadata": {},
   "outputs": [
    {
     "name": "stdout",
     "output_type": "stream",
     "text": [
      "输入整数:3\n",
      "输入整数:5\n",
      "输入整数:1\n",
      "['1', '3', '5']\n"
     ]
    }
   ],
   "source": [
    "L=[]\n",
    "for i in range(3):\n",
    "    x=input('输入整数:')\n",
    "    L.append(x)\n",
    "L.sort()\n",
    "print(L)"
   ]
  },
  {
   "cell_type": "markdown",
   "metadata": {},
   "source": [
    "# 6\n",
    "斐波那契数列（Fibonacci sequence），又称黄金分割数列，指的是这样一个数列：0、1、1、2、3、5、8、13、21、34、……。"
   ]
  },
  {
   "cell_type": "code",
   "execution_count": 6,
   "metadata": {
    "collapsed": true
   },
   "outputs": [],
   "source": [
    "def fib(n):\n",
    "    if n==0:\n",
    "        return 0\n",
    "    elif n==1:\n",
    "        return 1\n",
    "    else:\n",
    "        return fib(n-1)+fib(n-2)"
   ]
  },
  {
   "cell_type": "code",
   "execution_count": 7,
   "metadata": {},
   "outputs": [
    {
     "data": {
      "text/plain": [
       "55"
      ]
     },
     "execution_count": 7,
     "metadata": {},
     "output_type": "execute_result"
    }
   ],
   "source": [
    "fib(10)"
   ]
  },
  {
   "cell_type": "code",
   "execution_count": 8,
   "metadata": {
    "collapsed": true
   },
   "outputs": [],
   "source": [
    "def fib(n):\n",
    "    a,b=0,1\n",
    "    while n:\n",
    "        a,b,n=b,a+b,n-1\n",
    "    print(a)"
   ]
  },
  {
   "cell_type": "code",
   "execution_count": 9,
   "metadata": {},
   "outputs": [
    {
     "name": "stdout",
     "output_type": "stream",
     "text": [
      "55\n"
     ]
    }
   ],
   "source": [
    "fib(10)"
   ]
  },
  {
   "cell_type": "markdown",
   "metadata": {},
   "source": [
    "# 7\n",
    "输出 9*9 乘法口诀表。"
   ]
  },
  {
   "cell_type": "code",
   "execution_count": 15,
   "metadata": {},
   "outputs": [
    {
     "name": "stdout",
     "output_type": "stream",
     "text": [
      "1*1=1 \n",
      "2*1=2 2*2=4 \n",
      "3*1=3 3*2=6 3*3=9 \n",
      "4*1=4 4*2=8 4*3=12 4*4=16 \n",
      "5*1=5 5*2=10 5*3=15 5*4=20 5*5=25 \n",
      "6*1=6 6*2=12 6*3=18 6*4=24 6*5=30 6*6=36 \n",
      "7*1=7 7*2=14 7*3=21 7*4=28 7*5=35 7*6=42 7*7=49 \n",
      "8*1=8 8*2=16 8*3=24 8*4=32 8*5=40 8*6=48 8*7=56 8*8=64 \n",
      "9*1=9 9*2=18 9*3=27 9*4=36 9*5=45 9*6=54 9*7=63 9*8=72 9*9=81 \n"
     ]
    }
   ],
   "source": [
    "for i in range(1,10):\n",
    "    for j in range(1,i+1):\n",
    "        print(\"\"\"%d*%d=%d\"\"\" % (i,j,i*j),end=\" \")\n",
    "    print()"
   ]
  },
  {
   "cell_type": "code",
   "execution_count": 19,
   "metadata": {},
   "outputs": [
    {
     "name": "stdout",
     "output_type": "stream",
     "text": [
      "Help on built-in function print in module builtins:\n",
      "\n",
      "print(...)\n",
      "    print(value, ..., sep=' ', end='\\n', file=sys.stdout, flush=False)\n",
      "    \n",
      "    Prints the values to a stream, or to sys.stdout by default.\n",
      "    Optional keyword arguments:\n",
      "    file:  a file-like object (stream); defaults to the current sys.stdout.\n",
      "    sep:   string inserted between values, default a space.\n",
      "    end:   string appended after the last value, default a newline.\n",
      "    flush: whether to forcibly flush the stream.\n",
      "\n"
     ]
    }
   ],
   "source": [
    "help(print)"
   ]
  },
  {
   "cell_type": "markdown",
   "metadata": {},
   "source": [
    "# 8\n",
    "暂停一秒输出"
   ]
  },
  {
   "cell_type": "code",
   "execution_count": 20,
   "metadata": {},
   "outputs": [
    {
     "name": "stdout",
     "output_type": "stream",
     "text": [
      "A : 1\n",
      "B : 2\n"
     ]
    }
   ],
   "source": [
    "import time\n",
    "myD={'A':1,'B':2}\n",
    "for key,value in dict.items(myD):\n",
    "    print(key,':',value)\n",
    "    time.sleep(1)"
   ]
  },
  {
   "cell_type": "markdown",
   "metadata": {},
   "source": [
    "# 9\n",
    "古典问题：有一对兔子，从出生后第3个月起每个月都生一对兔子，小兔子长到第三个月后每个月又生一对兔子，假如兔子都不死，问每个月的兔子总数为多少？"
   ]
  },
  {
   "cell_type": "code",
   "execution_count": 22,
   "metadata": {},
   "outputs": [
    {
     "name": "stdout",
     "output_type": "stream",
     "text": [
      "14930352\n"
     ]
    }
   ],
   "source": [
    "def rabbit(n):\n",
    "    if n==1 or n==2:\n",
    "        return 1\n",
    "    else:\n",
    "        return rabbit(n-1)+rabbit(n-2)\n",
    "print (rabbit(36))"
   ]
  },
  {
   "cell_type": "markdown",
   "metadata": {},
   "source": [
    "# 10\n",
    "判断101-200之间有多少个素数，并输出所有素数。"
   ]
  },
  {
   "cell_type": "code",
   "execution_count": 31,
   "metadata": {},
   "outputs": [
    {
     "name": "stdout",
     "output_type": "stream",
     "text": [
      "101\n",
      "103\n",
      "107\n",
      "109\n",
      "113\n",
      "127\n",
      "131\n",
      "137\n",
      "139\n",
      "149\n",
      "151\n",
      "157\n",
      "163\n",
      "167\n",
      "173\n",
      "179\n",
      "181\n",
      "191\n",
      "193\n",
      "197\n",
      "199\n",
      "素数总数为：21\n"
     ]
    }
   ],
   "source": [
    "from math import sqrt\n",
    "\n",
    "count=0\n",
    "pn=1\n",
    "for i in range(101,201):\n",
    "    k=int(sqrt(i))\n",
    "    for j in range(2,k+1):\n",
    "        if i%j==0:\n",
    "            pn=0\n",
    "            break\n",
    "    if pn==1:\n",
    "        print(i)\n",
    "        count+=1\n",
    "    pn=1\n",
    "\n",
    "print(\"素数总数为：%d\" %count)"
   ]
  },
  {
   "cell_type": "markdown",
   "metadata": {},
   "source": [
    "# 11\n",
    "打印出所有的\"水仙花数\"，所谓\"水仙花数\"是指一个三位数，其各位数字立方和等于该数本身。例如：153是一个\"水仙花数\"，因为153=1的三次方＋5的三次方＋3的三次方。"
   ]
  },
  {
   "cell_type": "code",
   "execution_count": 33,
   "metadata": {},
   "outputs": [
    {
     "name": "stdout",
     "output_type": "stream",
     "text": [
      "153\n",
      "370\n",
      "371\n",
      "407\n"
     ]
    }
   ],
   "source": [
    "for i in range(1,10):\n",
    "    for j in range(0,10):\n",
    "        for k in range(0,10):\n",
    "            x=i*100+j*10+k\n",
    "            y=pow(i,3)+pow(j,3)+pow(k,3)\n",
    "            if x==y:\n",
    "                print(x)"
   ]
  },
  {
   "cell_type": "markdown",
   "metadata": {},
   "source": [
    "# 12\n",
    "将一个正整数分解质因数。例如：输入90,打印出90=2*3*3*5。"
   ]
  },
  {
   "cell_type": "code",
   "execution_count": 46,
   "metadata": {},
   "outputs": [
    {
     "name": "stdout",
     "output_type": "stream",
     "text": [
      "Please input a number:1000\n",
      "1000=2*2*2*5*5*5\n"
     ]
    }
   ],
   "source": [
    "n=int(input('Please input a number:'))\n",
    "n1=n\n",
    "l=[]\n",
    "while n>1:\n",
    "    for i in range(2,n+1):\n",
    "        if n%i==0:\n",
    "            n=int(n/i)\n",
    "            l.append(str(i))\n",
    "            break\n",
    "\n",
    "print ('%d=' %n1 + '*'.join(l))"
   ]
  },
  {
   "cell_type": "code",
   "execution_count": 53,
   "metadata": {},
   "outputs": [
    {
     "name": "stdout",
     "output_type": "stream",
     "text": [
      "请输入一个数:1000\n",
      "1000=2*2*2*5*5*5"
     ]
    }
   ],
   "source": [
    "n=int(input(\"请输入一个数:\"))\n",
    "print(\"%d=\" %n ,end='')\n",
    "while n not in [1]:  \n",
    "    for i in range(2,n+1):\n",
    "        if n%i==0:\n",
    "            n=int(n/i)\n",
    "            if n==1:\n",
    "                print(\"%d\" %i ,end='')\n",
    "            else:\n",
    "                print (\"%d*\" %i,end='')\n",
    "            break;     "
   ]
  },
  {
   "cell_type": "markdown",
   "metadata": {},
   "source": [
    "# 13\n",
    "输入一行字符，分别统计出其中英文字母、空格、数字和其它字符的个数。"
   ]
  },
  {
   "cell_type": "code",
   "execution_count": 55,
   "metadata": {},
   "outputs": [
    {
     "name": "stdout",
     "output_type": "stream",
     "text": [
      "请输入一个字符串:\n",
      "2134hdfhal   ...\n",
      "字母 = 6,空格 = 3,数字 = 4,其他 = 3\n"
     ]
    }
   ],
   "source": [
    "import string\n",
    "s = input('请输入一个字符串:\\n')\n",
    "letters = 0\n",
    "space = 0\n",
    "digit = 0\n",
    "others = 0\n",
    "i=0\n",
    "while i < len(s):\n",
    "    c = s[i]\n",
    "    i += 1\n",
    "    if c.isalpha():\n",
    "        letters += 1\n",
    "    elif c.isspace():\n",
    "        space += 1\n",
    "    elif c.isdigit():\n",
    "        digit += 1\n",
    "    else:\n",
    "        others += 1\n",
    "print( '字母 = %d,空格 = %d,数字 = %d,其他 = %d' % (letters,space,digit,others))"
   ]
  },
  {
   "cell_type": "markdown",
   "metadata": {},
   "source": [
    "# 14 \n",
    "求s=a+aa+aaa+aaaa+aa...a的值，其中a是一个数字。例如2+22+222+2222+22222(此时共有5个数相加)，几个数相加由键盘控制。"
   ]
  },
  {
   "cell_type": "code",
   "execution_count": 56,
   "metadata": {},
   "outputs": [
    {
     "name": "stdout",
     "output_type": "stream",
     "text": [
      "输入n:5\n",
      "输入a:3\n",
      "37035\n"
     ]
    }
   ],
   "source": [
    "n=int(input('输入n:'))\n",
    "a=int(input('输入a:'))\n",
    "sum=0\n",
    "total=0\n",
    "for i in range(n):\n",
    "    sum+=(10**i)\n",
    "    total+=a*sum\n",
    "print(total)"
   ]
  },
  {
   "cell_type": "code",
   "execution_count": 59,
   "metadata": {},
   "outputs": [
    {
     "name": "stdout",
     "output_type": "stream",
     "text": [
      "n=\n",
      "5\n",
      "a=\n",
      "3\n",
      "\n",
      "3\n",
      "33\n",
      "333\n",
      "3333\n",
      "33333\n",
      "sum= 37035\n"
     ]
    }
   ],
   "source": [
    "def f(n,a):\n",
    "    if(n==1):\n",
    "        return a\n",
    "    else:\n",
    "        r=f(n-1,a)*10+a\n",
    "        return r\n",
    "\n",
    "n=int(input(\"n=\\n\"))\n",
    "a=int(input(\"a=\\n\"))\n",
    "print(\"\")\n",
    "sum=0\n",
    "for i in range(1,n+1):\n",
    "    print(f(i,a))\n",
    "    sum=sum+f(i,a)\n",
    "\n",
    "print(\"sum=\",sum)"
   ]
  },
  {
   "cell_type": "markdown",
   "metadata": {},
   "source": [
    "# 15\n",
    "一个数如果恰好等于它的因子之和，这个数就称为\"完数\"。例如6=1＋2＋3.编程找出1000以内的所有完数。"
   ]
  },
  {
   "cell_type": "code",
   "execution_count": 64,
   "metadata": {},
   "outputs": [
    {
     "name": "stdout",
     "output_type": "stream",
     "text": [
      "6\n",
      "28\n",
      "496\n"
     ]
    }
   ],
   "source": [
    "for i in range(1,1001):\n",
    "    sum=0\n",
    "    for j in range(1,int(i/2+1)):\n",
    "        if i%j==0:\n",
    "            sum+=j\n",
    "    if sum==i:\n",
    "        print(i)"
   ]
  },
  {
   "cell_type": "markdown",
   "metadata": {},
   "source": [
    "# 16\n",
    "一球从100米高度自由落下，每次落地后反跳回原高度的一半；再落下，求它在第10次落地时，共经过多少米？第10次反弹多高？"
   ]
  },
  {
   "cell_type": "code",
   "execution_count": 77,
   "metadata": {},
   "outputs": [
    {
     "name": "stdout",
     "output_type": "stream",
     "text": [
      "9.5367431640625e-05\n",
      "299.609375\n"
     ]
    }
   ],
   "source": [
    "height=100\n",
    "times=10\n",
    "sum=0\n",
    "for i in range(1,times+1):\n",
    "    sum+=height*2\n",
    "    height/=2\n",
    "sum=sum-100 \n",
    "print(height/(2**10))\n",
    "print(sum)"
   ]
  },
  {
   "cell_type": "code",
   "execution_count": 69,
   "metadata": {},
   "outputs": [
    {
     "name": "stdout",
     "output_type": "stream",
     "text": [
      "0.09765625\n",
      "299.609375\n"
     ]
    }
   ],
   "source": [
    "l=[]\n",
    "r=10\n",
    "t=100             # 第一次落地经过距离\n",
    "sum=0\n",
    "while r>1:        # 计算第二次落地到第十次落地每次的高度\n",
    "    t=t/2\n",
    "    r=r-1\n",
    "    l.append(t)\n",
    "for k in range(0,9):       # 列表只有 9 条数据\n",
    "    if k==8:\n",
    "        print(l[k]/2)        # 第10次反弹高度\n",
    "    sum+=l[k]\n",
    "sum=sum*2\n",
    "sum=sum+100\n",
    "print(sum)"
   ]
  },
  {
   "cell_type": "code",
   "execution_count": 83,
   "metadata": {},
   "outputs": [
    {
     "name": "stdout",
     "output_type": "stream",
     "text": [
      "输入反弹次数：10\n",
      "第10次反弹的高度是：0.097656\n",
      "第10次落地共经过299.609375米\n"
     ]
    }
   ],
   "source": [
    "h=100\n",
    "n=int(input('输入反弹次数：'))\n",
    "total=0\n",
    "t=[]\n",
    "for i in range(1,n+1):\n",
    "    if i == 1:\n",
    "        total+=h\n",
    "    else:\n",
    "        total+=h*2\n",
    "    h=h/2\n",
    "    t.append(h)\n",
    "\n",
    "print (\"第%d次反弹的高度是：%f\"%(n,t[n-1]))\n",
    "print (\"第%d次落地共经过%f米\"%(n,total))"
   ]
  },
  {
   "cell_type": "markdown",
   "metadata": {},
   "source": [
    "# 17\n",
    "猴子吃桃问题：猴子第一天摘下若干个桃子，当即吃了一半，还不瘾，又多吃了一个第二天早上又将剩下的桃子吃掉一半，又多吃了一个。以后每天早上都吃了前一天剩下的一半零一个。到第10天早上想再吃时，见只剩下一个桃子了。求第一天共摘了多少。"
   ]
  },
  {
   "cell_type": "code",
   "execution_count": 87,
   "metadata": {},
   "outputs": [
    {
     "name": "stdout",
     "output_type": "stream",
     "text": [
      "第一天共摘了1534个\n"
     ]
    }
   ],
   "source": [
    "x=1\n",
    "\n",
    "for day in range(0,9):\n",
    "    x=(x+1)*2\n",
    "    \n",
    "print(\"第一天共摘了%d个\" %x)"
   ]
  },
  {
   "cell_type": "code",
   "execution_count": 90,
   "metadata": {},
   "outputs": [
    {
     "name": "stdout",
     "output_type": "stream",
     "text": [
      "1534\n"
     ]
    }
   ],
   "source": [
    "x2 = 1\n",
    "for day in range(9,0,-1):\n",
    "    x1 = (x2 + 1) * 2\n",
    "    x2 = x1\n",
    "print (x2)"
   ]
  },
  {
   "cell_type": "markdown",
   "metadata": {},
   "source": [
    "# 18\n",
    "两个乒乓球队进行比赛，各出三人。甲队为a,b,c三人，乙队为x,y,z三人。已抽签决定比赛名单。有人向队员打听比赛的名单。a说他不和x比，c说他不和x,z比，请编程序找出三队赛手的名单。"
   ]
  },
  {
   "cell_type": "code",
   "execution_count": 97,
   "metadata": {},
   "outputs": [
    {
     "name": "stdout",
     "output_type": "stream",
     "text": [
      "a VS y\n",
      "a VS z\n",
      "b VS x\n",
      "b VS y\n",
      "b VS z\n",
      "c VS y\n"
     ]
    }
   ],
   "source": [
    "T1=list('abc')\n",
    "T2=list('xyz')\n",
    "for i in T1:\n",
    "    for j in T2:\n",
    "        if i=='a' and j == 'x':\n",
    "            continue\n",
    "        if i=='c' and j =='z':\n",
    "            continue\n",
    "        if i=='c' and j =='x':\n",
    "            continue\n",
    "        print(i,'VS',j)"
   ]
  },
  {
   "attachments": {
    "_auto_0": {
     "image/png": "[encoded data removed]"
    }
   },
   "cell_type": "markdown",
   "metadata": {},
   "source": [
    "# 19\n",
    "打印出如下图案（菱形）\n",
    "![_auto_0](attachment:_auto_0)"
   ]
  },
  {
   "cell_type": "code",
   "execution_count": 2,
   "metadata": {},
   "outputs": [
    {
     "name": "stdout",
     "output_type": "stream",
     "text": [
      "   *\n",
      "  ***\n",
      " *****\n",
      "*******\n",
      " *****\n",
      "  ***\n",
      "   *\n"
     ]
    }
   ],
   "source": [
    "for i in range(4):\n",
    "    print((3-i)*' '+(2*i+1)*'*')\n",
    "for i in range(3):\n",
    "    print((i+1)*' '+(5-2*i)*'*')"
   ]
  },
  {
   "cell_type": "markdown",
   "metadata": {
    "collapsed": true
   },
   "source": [
    "# 20\n",
    "有一分数序列：2/1，3/2，5/3，8/5，13/8，21/13...求出这个数列的前20项之和。"
   ]
  },
  {
   "cell_type": "code",
   "execution_count": 3,
   "metadata": {},
   "outputs": [
    {
     "name": "stdout",
     "output_type": "stream",
     "text": [
      "32.66026079864164\n"
     ]
    }
   ],
   "source": [
    "n=20\n",
    "x1=1\n",
    "x2=2\n",
    "sum=0\n",
    "for i in range(n):\n",
    "    sum+=x2/x1\n",
    "    t=x2\n",
    "    x2=x1+t\n",
    "    x1=t\n",
    "print(sum)   "
   ]
  },
  {
   "cell_type": "code",
   "execution_count": 5,
   "metadata": {},
   "outputs": [
    {
     "name": "stdout",
     "output_type": "stream",
     "text": [
      "32.66026079864164\n"
     ]
    }
   ],
   "source": [
    "sum = 0\n",
    "a, b = 1, 2\n",
    "for i in range(1, 21):\n",
    "    sum += b / a\n",
    "    a, b = b, a + b\n",
    "print(sum)"
   ]
  },
  {
   "cell_type": "markdown",
   "metadata": {},
   "source": [
    "# 21\n",
    "求1+2!+3!+...+20!的和"
   ]
  },
  {
   "cell_type": "code",
   "execution_count": 6,
   "metadata": {},
   "outputs": [
    {
     "name": "stdout",
     "output_type": "stream",
     "text": [
      "2561327494111820313\n"
     ]
    }
   ],
   "source": [
    "x=1\n",
    "sum=0\n",
    "for i in range(1,21):\n",
    "    x*=i\n",
    "    sum+=x\n",
    "print(sum)"
   ]
  },
  {
   "cell_type": "code",
   "execution_count": 7,
   "metadata": {},
   "outputs": [
    {
     "name": "stdout",
     "output_type": "stream",
     "text": [
      "2561327494111820313\n"
     ]
    }
   ],
   "source": [
    "s=0\n",
    "def fact(n):\n",
    "    if n==1:\n",
    "        return 1\n",
    "    else:\n",
    "        return fact(n-1)*n\n",
    "\n",
    "for n in range(1,21):\n",
    "    a=fact(n)\n",
    "    s+=a\n",
    "    \n",
    "print(s)"
   ]
  },
  {
   "cell_type": "markdown",
   "metadata": {
    "collapsed": true
   },
   "source": [
    "# 22\n",
    "利用递归方法求5!"
   ]
  },
  {
   "cell_type": "code",
   "execution_count": 1,
   "metadata": {},
   "outputs": [
    {
     "name": "stdout",
     "output_type": "stream",
     "text": [
      "120\n"
     ]
    }
   ],
   "source": [
    "def fac(j):\n",
    "    if j==1:\n",
    "        return 1\n",
    "    else:\n",
    "        return j*fac(j-1)\n",
    "    \n",
    "print(fac(5))"
   ]
  },
  {
   "cell_type": "markdown",
   "metadata": {},
   "source": [
    "# 23\n",
    "利用递归函数调用方式，将所输入的5个字符，以相反顺序打印出来。"
   ]
  },
  {
   "cell_type": "code",
   "execution_count": 2,
   "metadata": {},
   "outputs": [
    {
     "name": "stdout",
     "output_type": "stream",
     "text": [
      "abdfg\n",
      "g\n",
      "f\n",
      "d\n",
      "b\n",
      "a\n"
     ]
    }
   ],
   "source": [
    "def output(s):\n",
    "    if len(s)>0:\n",
    "        print(s[-1])\n",
    "        output(s[:-1])\n",
    "        \n",
    "string=input()\n",
    "output(string)"
   ]
  },
  {
   "cell_type": "markdown",
   "metadata": {},
   "source": [
    "# 24\n",
    "有5个人坐在一起，问第五个人多少岁？他说比第4个人大2岁。问第4个人岁数，他说比第3个人大2岁。问第三个人，又说比第2人大两岁。问第2个人，说比第一个人大两岁。最后问第一个人，他说是10岁。请问第五个人多大？"
   ]
  },
  {
   "cell_type": "code",
   "execution_count": 4,
   "metadata": {},
   "outputs": [
    {
     "name": "stdout",
     "output_type": "stream",
     "text": [
      "18\n"
     ]
    }
   ],
   "source": [
    "def howold(n):\n",
    "    if n==1:\n",
    "        return 10\n",
    "    else:\n",
    "        return howold(n-1)+2\n",
    "\n",
    "print(howold(5))"
   ]
  },
  {
   "cell_type": "markdown",
   "metadata": {},
   "source": [
    "# 25\n",
    "给一个不多于5位的正整数，要求：一、求它是几位数，二、逆序打印出各位数字。"
   ]
  },
  {
   "cell_type": "code",
   "execution_count": 6,
   "metadata": {},
   "outputs": [
    {
     "name": "stdout",
     "output_type": "stream",
     "text": [
      "请输入一个不多于5位的正整数12345\n",
      "5 4 3 2 1 "
     ]
    }
   ],
   "source": [
    "num = list(input('请输入一个不多于5位的正整数'))\n",
    "n = len(num)\n",
    "num.reverse()\n",
    "for i in range(n):\n",
    "    print(num[i],end= ' ')"
   ]
  },
  {
   "cell_type": "markdown",
   "metadata": {},
   "source": [
    "# 26\n",
    "一个5位数，判断它是不是回文数。即12321是回文数，个位与万位相同，十位与千位相同。"
   ]
  },
  {
   "cell_type": "code",
   "execution_count": 7,
   "metadata": {},
   "outputs": [
    {
     "name": "stdout",
     "output_type": "stream",
     "text": [
      "请输入一个数：12321\n",
      "12321 是回文数\n"
     ]
    }
   ],
   "source": [
    "a = input('请输入一个数：')\n",
    "b=a[::-1]\n",
    "if a == b :\n",
    "    print('%s 是回文数' %a)\n",
    "else:\n",
    "    print('%s 不是回文数' %a)"
   ]
  },
  {
   "cell_type": "markdown",
   "metadata": {},
   "source": [
    "# 27\n",
    "请输入星期几的第一个字母来判断一下是星期几，如果第一个字母一样，则继续判断第二个字母。"
   ]
  },
  {
   "cell_type": "code",
   "execution_count": null,
   "metadata": {},
   "outputs": [],
   "source": [
    "weeklist = {'M': 'Monday','T': {'u': 'Tuesday','h':'Thursday'}, 'W': 'Wednesday', 'F':'Friday',\n",
    "            'S':{'a':'Saturday','u':'Sunday'}}\n",
    "word=input('请输入第一个字母：')\n",
    "word=word.upper()\n",
    "if word in ('T','S'):\n",
    "    word2=input('请输入第二个字母：')\n",
    "    print(weeklist[word][word2])\n",
    "else:\n",
    "    print(weeklist[word])"
   ]
  },
  {
   "cell_type": "code",
   "execution_count": null,
   "metadata": {
    "collapsed": true
   },
   "outputs": [],
   "source": []
  },
  {
   "cell_type": "code",
   "execution_count": null,
   "metadata": {
    "collapsed": true
   },
   "outputs": [],
   "source": []
  }
 ],
 "metadata": {
  "kernelspec": {
   "display_name": "Python 3",
   "language": "python",
   "name": "python3"
  },
  "language_info": {
   "codemirror_mode": {
    "name": "ipython",
    "version": 3
   },
   "file_extension": ".py",
   "mimetype": "text/x-python",
   "name": "python",
   "nbconvert_exporter": "python",
   "pygments_lexer": "ipython3",
   "version": "3.6.3"
  }
 },
 "nbformat": 4,
 "nbformat_minor": 2
}
